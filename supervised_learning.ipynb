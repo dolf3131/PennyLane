{
 "cells": [
  {
   "cell_type": "code",
   "execution_count": 5,
   "id": "125dc247",
   "metadata": {},
   "outputs": [
    {
     "name": "stdout",
     "output_type": "stream",
     "text": [
      "Hamiltonian:\n",
      "\n"
     ]
    },
    {
     "data": {
      "text/plain": [
       "(\n",
       "    -0.1 * (Y(0) @ Z(1) @ Y(2))\n",
       "  + -0.1 * (X(0) @ Z(1) @ X(2))\n",
       "  + 0.3 * I([0, 1, 2, 3, 4, 5, 6, 7])\n",
       "  + -0.1 * (Y(1) @ Z(2) @ Y(3))\n",
       "  + -0.1 * (X(1) @ Z(2) @ X(3))\n",
       "  + -0.1 * (Y(0) @ Z(1) @ Z(2) @ Z(3) @ Y(4))\n",
       "  + -0.1 * (X(0) @ Z(1) @ Z(2) @ Z(3) @ X(4))\n",
       "  + -0.1 * (Y(1) @ Z(2) @ Z(3) @ Z(4) @ Y(5))\n",
       "  + -0.1 * (X(1) @ Z(2) @ Z(3) @ Z(4) @ X(5))\n",
       "  + -0.1 * (Y(2) @ Z(3) @ Z(4) @ Z(5) @ Y(6))\n",
       "  + -0.1 * (X(2) @ Z(3) @ Z(4) @ Z(5) @ X(6))\n",
       "  + -0.1 * (Y(3) @ Z(4) @ Z(5) @ Z(6) @ Y(7))\n",
       "  + -0.1 * (X(3) @ Z(4) @ Z(5) @ Z(6) @ X(7))\n",
       "  + -0.1 * (Y(4) @ Z(5) @ Y(6))\n",
       "  + -0.1 * (X(4) @ Z(5) @ X(6))\n",
       "  + -0.1 * (Y(5) @ Z(6) @ Y(7))\n",
       "  + -0.1 * (X(5) @ Z(6) @ X(7))\n",
       "  + -0.075 * Z(1)\n",
       "  + -0.075 * Z(0)\n",
       "  + 0.075 * (Z(0) @ Z(1))\n",
       "  + -0.075 * Z(3)\n",
       "  + -0.075 * Z(2)\n",
       "  + 0.075 * (Z(2) @ Z(3))\n",
       "  + -0.075 * Z(5)\n",
       "  + -0.075 * Z(4)\n",
       "  + 0.075 * (Z(4) @ Z(5))\n",
       "  + -0.075 * Z(7)\n",
       "  + -0.075 * Z(6)\n",
       "  + 0.075 * (Z(6) @ Z(7))\n",
       ")"
      ]
     },
     "execution_count": 5,
     "metadata": {},
     "output_type": "execute_result"
    }
   ],
   "source": [
    "import pennylane as qml\n",
    "\n",
    "n_cells = [2, 2]\n",
    "hopping = 0.2\n",
    "onsite = 0.3\n",
    "\n",
    "hamiltonian = qml.spin.fermi_hubbard('square', n_cells, hopping, onsite)\n",
    "print('Hamiltonian:\\n')\n",
    "hamiltonian"
   ]
  },
  {
   "cell_type": "code",
   "execution_count": 6,
   "id": "056f9b91",
   "metadata": {},
   "outputs": [
    {
     "data": {
      "image/png": "[encoded data removed]",
      "text/plain": [
       "<Figure size 200x200 with 1 Axes>"
      ]
     },
     "metadata": {},
     "output_type": "display_data"
    }
   ],
   "source": [
    "import matplotlib.pyplot as plt\n",
    "\n",
    "def plot(lattice, figsize=None, showlabel=True):\n",
    "\n",
    "    # initialize the plot\n",
    "    if not figsize:\n",
    "        figsize = lattice.n_cells[::-1]\n",
    "\n",
    "    plt.figure(figsize=figsize)\n",
    "\n",
    "    # get lattice nodes and edges and plot them\n",
    "    nodes = lattice.lattice_points\n",
    "\n",
    "    for edge in lattice.edges:\n",
    "        start_index, end_index, color = edge\n",
    "        start_pos, end_pos = nodes[start_index], nodes[end_index]\n",
    "\n",
    "        x_axis = [start_pos[0], end_pos[0]]\n",
    "        y_axis = [start_pos[1], end_pos[1]]\n",
    "        plt.plot(x_axis, y_axis, color='gold')\n",
    "\n",
    "        plt.scatter(nodes[:,0], nodes[:,1], color='dodgerblue', s=100)\n",
    "\n",
    "        if showlabel:\n",
    "            for index, pos in enumerate(nodes):\n",
    "                plt.text(pos[0]-0.2, pos[1]+0.1, str(index), color='gray')\n",
    "\n",
    "    plt.axis(\"off\")\n",
    "    plt.show()\n",
    "\n",
    "lattice = qml.spin.generate_lattice('square', n_cells)\n",
    "plot(lattice)"
   ]
  },
  {
   "cell_type": "code",
   "execution_count": 7,
   "id": "c941eb33",
   "metadata": {},
   "outputs": [
    {
     "data": {
      "image/png": "[encoded data removed]",
      "text/plain": [
       "<Figure size 200x200 with 1 Axes>"
      ]
     },
     "metadata": {},
     "output_type": "display_data"
    }
   ],
   "source": [
    "coupling = [0.5, 0.5, 0.5]\n",
    "hamiltonian = qml.spin.heisenberg('triangle', n_cells, coupling)\n",
    "\n",
    "lattice = qml.spin.generate_lattice('triangle', n_cells)\n",
    "plot(lattice)"
   ]
  },
  {
   "cell_type": "code",
   "execution_count": null,
   "id": "fd027d77",
   "metadata": {},
   "outputs": [],
   "source": []
  }
 ],
 "metadata": {
  "kernelspec": {
   "display_name": "base",
   "language": "python",
   "name": "python3"
  },
  "language_info": {
   "codemirror_mode": {
    "name": "ipython",
    "version": 3
   },
   "file_extension": ".py",
   "mimetype": "text/x-python",
   "name": "python",
   "nbconvert_exporter": "python",
   "pygments_lexer": "ipython3",
   "version": "3.12.7"
  }
 },
 "nbformat": 4,
 "nbformat_minor": 5
}
