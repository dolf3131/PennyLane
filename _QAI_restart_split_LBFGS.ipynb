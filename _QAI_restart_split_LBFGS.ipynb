{
 "cells": [
  {
   "cell_type": "code",
   "execution_count": 1,
   "id": "ca0869db",
   "metadata": {},
   "outputs": [
    {
     "name": "stderr",
     "output_type": "stream",
     "text": [
      "d:\\miniconda3\\Lib\\site-packages\\pennylane\\__init__.py:196: RuntimeWarning: PennyLane is not yet compatible with JAX versions > 0.6.2. You have version 0.7.0 installed. Please downgrade JAX to 0.6.2 to avoid runtime errors using python -m pip install jax~=0.6.0 jaxlib~=0.6.0\n",
      "  warnings.warn(\n"
     ]
    }
   ],
   "source": [
    "import pennylane as qml\n",
    "from pennylane import numpy as np\n",
    "import torch\n",
    "from torch.optim import Adam, AdamW, RAdam, LBFGS\n",
    "from torch.nn.parameter import Parameter\n",
    "from torch.nn import NLLLoss, BCEWithLogitsLoss\n",
    "from torch.utils.data import Subset\n",
    "from torch.utils.data import DataLoader\n",
    "import torchvision\n",
    "from torch.nn import Module\n",
    "import torch.nn.functional as F\n",
    "from torch.nn import Conv2d, Dropout2d, Linear, Dropout\n",
    "from torch import cat\n",
    "from tqdm import tqdm\n",
    "from torch.optim.lr_scheduler import CosineAnnealingLR\n",
    "import matplotlib.pyplot as plt\n",
    "from datetime import datetime\n",
    "import pprint"
   ]
  },
  {
   "cell_type": "code",
   "execution_count": 2,
   "id": "142f9ee2",
   "metadata": {},
   "outputs": [],
   "source": [
    "device = torch.device(\"cuda\" if torch.cuda.is_available() else \"cpu\")\n",
    "\n",
    "\n",
    "transform = torchvision.transforms.Compose([\n",
    "        torchvision.transforms.ToTensor(),\n",
    "        torchvision.transforms.Normalize((0.5,), (0.5,)),\n",
    "        #torchvision.transforms.RandomAffine(degrees=10, translate=(0.1, 0.1), scale=(0.9, 1.1)),\n",
    "        ])\n",
    "\n",
    "\n",
    "train_ds = torchvision.datasets.FashionMNIST(\n",
    "    \"./\", train=True, download=True,\n",
    "    transform=transform)\n",
    "\n",
    "test_ds = torchvision.datasets.FashionMNIST(\n",
    "    \"./\", train=False, download=True,\n",
    "    transform=transform)\n",
    "\n",
    "\n",
    "train_mask = (train_ds.targets == 0) | (train_ds.targets == 6)\n",
    "train_idx = torch.where(train_mask)[0]\n",
    "train_ds.targets[train_ds.targets == 6] = 1\n",
    "\n",
    "batch_size = 40\n",
    "\n",
    "binary_train_ds = Subset(train_ds, train_idx)\n",
    "train_loader = DataLoader(binary_train_ds, batch_size = batch_size, shuffle =True)\n",
    "test_loader = DataLoader(test_ds, batch_size=batch_size, shuffle=False)"
   ]
  },
  {
   "cell_type": "code",
   "execution_count": 3,
   "id": "4b301e6d",
   "metadata": {},
   "outputs": [
    {
     "data": {
      "text/plain": [
       "BinaryClassifier(\n",
       "  (conv1): Conv2d(1, 8, kernel_size=(5, 5), stride=(1, 1), padding=(2, 2))\n",
       "  (conv2): Conv2d(8, 25, kernel_size=(5, 5), stride=(1, 1), padding=(2, 2))\n",
       "  (dropout): Dropout2d(p=0.5, inplace=False)\n",
       "  (fc1): Linear(in_features=1225, out_features=36, bias=True)\n",
       "  (fn_dropout): Dropout(p=0.05, inplace=False)\n",
       "  (fc2): Linear(in_features=36, out_features=2, bias=True)\n",
       "  (fc3): Linear(in_features=2, out_features=1, bias=True)\n",
       ")"
      ]
     },
     "execution_count": 3,
     "metadata": {},
     "output_type": "execute_result"
    }
   ],
   "source": [
    "torch.set_default_dtype(torch.float64)\n",
    "class BinaryClassifier(Module):\n",
    "    def __init__(self):\n",
    "        super().__init__()\n",
    "        self.conv1 = Conv2d(1, 8, kernel_size=5, padding=2)\n",
    "        self.conv2 = Conv2d(8, 25, kernel_size=5, padding=2)\n",
    "        self.dropout = Dropout2d()\n",
    "        self.fc1 = Linear(25 * 7 * 7, 36)\n",
    "        self.fn_dropout = Dropout(p=0.05)\n",
    "        self.fc2 = Linear(36, 2)\n",
    "        self.fc3 = Linear(2, 1)\n",
    "\n",
    "        # Quantum layer\n",
    "        self.num_q_wires = 2\n",
    "        self.q_device = qml.device(\"default.qubit\", wires=self.num_q_wires)\n",
    "        \n",
    "        self.num_q_layers = 2\n",
    "        qnn_params_size = (self.num_q_layers * 3 + 2) * self.num_q_wires\n",
    "        qnn_params_tensor = torch.empty(qnn_params_size, requires_grad=True)\n",
    "\n",
    "        # Kaiming 초기화의 gain 값 계산 (SiLU에 적합한 'leaky_relu'를 사용)\n",
    "        gain = torch.nn.init.calculate_gain('leaky_relu')\n",
    "        std = gain / qnn_params_size**0.5 # 텐서 크기를 이용한 표준 편차 계산\n",
    "        \n",
    "        # 균등 분포로 파라미터 초기화\n",
    "        torch.nn.init.uniform_(qnn_params_tensor, -std, std)\n",
    "\n",
    "        self.qnn_params = Parameter(qnn_params_tensor)\n",
    "\n",
    "        #@qml.qnode(self.q_device)\n",
    "        @qml.qnode(self.q_device, interface=\"torch\")\n",
    "        def circuit(x_batch):\n",
    "            param_idx = 0 \n",
    "            for layer in range(self.num_q_layers): # num_q_layers 만큼 반복\n",
    "                for i in range(self.num_q_wires):\n",
    "                    qml.H(wires=i)\n",
    "                    qml.RZ(2. * x_batch[:, i], wires=i)\n",
    "                    \n",
    "                for i in range(self.num_q_wires):\n",
    "                    qml.CRZ(2. * (torch.pi - x_batch[:, i]) * (torch.pi - x_batch[:, (i+1) % self.num_q_wires]), wires=[i, (i+1)%self.num_q_wires])\n",
    "\n",
    "                # EfficientSU2\n",
    "                for i in range(self.num_q_wires):\n",
    "                    qml.RY(self.qnn_params[param_idx], wires=i)\n",
    "                    param_idx += 1\n",
    "                    qml.RX(self.qnn_params[param_idx], wires=i)\n",
    "                    param_idx += 1\n",
    "                    #qml.Rot(self.qnn_params[param_idx], self.qnn_params[param_idx+1], torch.tensor(-torch.pi/2, dtype=torch.float64), wires=i)\n",
    "                    #param_idx += 2\n",
    "                    qml.Y(wires=i)\n",
    "\n",
    "                for i in range(self.num_q_wires):\n",
    "                    qml.CRX(self.qnn_params[param_idx], wires=[i, (i+1)%self.num_q_wires])\n",
    "                    param_idx += 1\n",
    "                    #qml.CNOT(wires=[i, (i+1)%self.num_q_wires])\n",
    "\n",
    "                \n",
    "                if layer == self.num_q_layers-1:\n",
    "                    for i in range(self.num_q_wires):\n",
    "                        qml.RY(self.qnn_params[param_idx], wires=i)\n",
    "                        param_idx += 1\n",
    "                        qml.RX(self.qnn_params[param_idx], wires=i)\n",
    "                        param_idx += 1\n",
    "                        #qml.Rot(self.qnn_params[param_idx], self.qnn_params[param_idx+1], torch.tensor(-torch.pi/2, dtype=torch.float64), wires=i)\n",
    "                        #param_idx += 2\n",
    "                        qml.Y(wires=i)\n",
    "            \n",
    "            #return qml.expval(self.obs) # qml.expval은 이제 (BATCH_SIZE,) 형태를 반환\n",
    "            return [qml.expval(qml.PauliZ(i)) for i in range(self.num_q_wires)]\n",
    "\n",
    "        self.qnn = circuit\n",
    "\n",
    "    def forward(self, x):\n",
    "        x = F.leaky_relu(self.conv1(x))\n",
    "        x = F.max_pool2d(x, 2)\n",
    "        \n",
    "        x = F.leaky_relu(self.conv2(x))\n",
    "        x = F.max_pool2d(x, 2)\n",
    "        \n",
    "        x = self.dropout(x)\n",
    "        \n",
    "        x = x.view(x.size(0), -1)\n",
    "        \n",
    "        x = F.leaky_relu(self.fc1(x))\n",
    "        #x = F.dropout(x, p=0.1)\n",
    "        x = self.fn_dropout(x)\n",
    "\n",
    "        x = self.fc2(x)\n",
    "        \n",
    "        #x = self.qnn(x).view(1,)  # apply QNN\n",
    "        qnn_out = self.qnn(x) \n",
    "        x = torch.stack(qnn_out, dim=-1).to(x.device)\n",
    "        \n",
    "        x = self.fc3(x)\n",
    "        return F.log_softmax(cat((x, 1 - x), -1), -1)\n",
    "\n",
    "\n",
    "    # BinaryClassifier 클래스 내부에 추가\n",
    "    def forward_classical(self, x):\n",
    "        x = F.leaky_relu(self.conv1(x))\n",
    "        x = F.max_pool2d(x, 2)\n",
    "        x = F.leaky_relu(self.conv2(x))\n",
    "        x = F.max_pool2d(x, 2)\n",
    "        x = self.dropout(x)\n",
    "        x = x.view(x.size(0), -1)\n",
    "        x = F.leaky_relu(self.fc1(x))\n",
    "        x = self.dropout(x, p=0.1)\n",
    "        x = self.fc2(x)\n",
    "        return x\n",
    "\n",
    "bc = BinaryClassifier()\n",
    "bc.to(device)"
   ]
  },
  {
   "cell_type": "code",
   "execution_count": 4,
   "id": "3bb34611",
   "metadata": {},
   "outputs": [
    {
     "data": {
      "image/png": "[encoded data removed]",
      "text/plain": [
       "<Figure size 2400x300 with 1 Axes>"
      ]
     },
     "metadata": {},
     "output_type": "display_data"
    }
   ],
   "source": [
    "dummy_x = torch.tensor([[0.0, 0.0, 0.0, 0.0, 0.0, 0.0]], dtype=torch.float64).to(device)\n",
    "specs = qml.specs(bc.qnn)(dummy_x)\n",
    "total_params = sum(p.numel() for p in bc.parameters() if p.requires_grad)\n",
    "\n",
    "# 양자 회로 그리기\n",
    "fig, ax = qml.draw_mpl(bc.qnn)(dummy_x)\n",
    "plt.title(\"Modified Quantum Circuit (Custom Ansatz)\")\n",
    "plt.show()"
   ]
  },
  {
   "cell_type": "code",
   "execution_count": 5,
   "id": "b25a57d6",
   "metadata": {},
   "outputs": [
    {
     "name": "stdout",
     "output_type": "stream",
     "text": [
      "{'device_name': 'default.qubit',\n",
      " 'diff_method': 'best',\n",
      " 'errors': {},\n",
      " 'gradient_fn': 'backprop',\n",
      " 'gradient_options': {},\n",
      " 'interface': 'torch',\n",
      " 'level': 'gradient',\n",
      " 'num_device_wires': 2,\n",
      " 'num_observables': 2,\n",
      " 'num_tape_wires': 2,\n",
      " 'num_trainable_params': 16,\n",
      " 'resources': Resources(num_wires=2,\n",
      "                        num_gates=34,\n",
      "                        gate_types=defaultdict(<class 'int'>,\n",
      "                                               {'CRX': 4,\n",
      "                                                'CRZ': 4,\n",
      "                                                'Hadamard': 4,\n",
      "                                                'PauliY': 6,\n",
      "                                                'RX': 6,\n",
      "                                                'RY': 6,\n",
      "                                                'RZ': 4}),\n",
      "                        gate_sizes=defaultdict(<class 'int'>,\n",
      "                                               {1: 26,\n",
      "                                                2: 8}),\n",
      "                        depth=21,\n",
      "                        shots=Shots(total_shots=None, shot_vector=()))}\n",
      "49462\n",
      "✅ 회로 제약 통과 — 학습을 계속합니다\n"
     ]
    }
   ],
   "source": [
    "pprint.pprint(specs, width=1)\n",
    "print(total_params)\n",
    "assert specs[\"num_tape_wires\"] <= 8,  \"❌ 큐빗 수 초과\"\n",
    "assert specs['resources'].depth <= 30, \"❌ 회로 깊이 초과\"\n",
    "assert specs[\"num_trainable_params\"]<= 60, \"❌ 학습 퀀텀 파라미터 수 초과\"\n",
    "assert total_params <= 50000, \"❌ 학습 전체 파라미터 수 초과\"\n",
    "\n",
    "print(\"✅ 회로 제약 통과 — 학습을 계속합니다\")"
   ]
  },
  {
   "cell_type": "code",
   "execution_count": 6,
   "id": "cb2af452",
   "metadata": {},
   "outputs": [],
   "source": [
    "def train_step(epochs, lr=0.0010, weight_decay=1e-6):\n",
    "    # 1. 고전 신경망 파라미터와 양자 신경망 파라미터 분리\n",
    "    classical_params = [\n",
    "        p for n, p in bc.named_parameters() if 'qnn_params' not in n\n",
    "    ]\n",
    "    qnn_params = [\n",
    "        p for n, p in bc.named_parameters() if 'qnn_params' in n\n",
    "    ]\n",
    "\n",
    "    # 2. 고전 신경망을 위한 옵티마이저\n",
    "    classical_optimizer = AdamW(classical_params, lr=lr, weight_decay=weight_decay)\n",
    "\n",
    "    # 3. 양자 신경망을 위한 옵티마이저 (학습률 감소)\n",
    "    qnn_optimizer = LBFGS(qnn_params, lr=lr)\n",
    "\n",
    "    # 스케줄러 (여기서는 고전 옵티마이저에만 적용)\n",
    "    scheduler = CosineAnnealingLR(classical_optimizer, T_max=epochs * len(train_loader), eta_min=1e-6)\n",
    "\n",
    "    loss_history = []\n",
    "    bc.train()\n",
    "\n",
    "    print(f\"Starting split training on {device}...\")\n",
    "    for epoch in range(epochs):\n",
    "        total_loss = []\n",
    "        \n",
    "        for data, target in tqdm(train_loader, desc=f\"Epoch {epoch+1}/{epochs}\"):\n",
    "            data = data.to(device)\n",
    "            target = target.to(device).flatten().long()\n",
    "\n",
    "\n",
    "            # 1. 고전 신경망 부분 학습\n",
    "            classical_optimizer.zero_grad(set_to_none=True)\n",
    "            output = bc(data)\n",
    "            loss = F.nll_loss(output, target)\n",
    "            loss.backward()\n",
    "            classical_optimizer.step()\n",
    "\n",
    "            # 2. 양자 신경망 부분 학습\n",
    "            def closure():\n",
    "            # LBFGS는 closure 함수 내에서 zero_grad를 호출해야 합니다.\n",
    "                qnn_optimizer.zero_grad()\n",
    "                \n",
    "                # 여기서 bc(data)를 다시 호출하여 새로운 순전파를 수행합니다.\n",
    "                output_qnn_step = bc(data.detach())\n",
    "                loss_qnn_step = F.nll_loss(output_qnn_step, target)\n",
    "                loss_qnn_step.backward()\n",
    "                \n",
    "                return loss_qnn_step\n",
    "\n",
    "            qnn_optimizer.step(closure)\n",
    "            #qnn_optimizer.zero_grad(set_to_none=True)\n",
    "            # 여기서는 손실을 다시 계산하여 qnn_params에 대한 기울기를 업데이트\n",
    "            #output_qnn_step = bc(data.detach())\n",
    "            #loss_qnn_step = F.nll_loss(output_qnn_step, target)\n",
    "            #loss_qnn_step.backward()\n",
    "            #qnn_optimizer.step()\n",
    "\n",
    "\n",
    "\n",
    "            scheduler.step()\n",
    "            total_loss.append(loss.item())\n",
    "        \n",
    "        avg_loss = sum(total_loss) / len(total_loss)\n",
    "        loss_history.append(avg_loss)\n",
    "        print(f\"Training [{100.0 * (epoch+1)/epochs:.0f}%] Loss: {avg_loss:.4f}\")\n",
    "\n",
    "    return loss_history"
   ]
  },
  {
   "cell_type": "code",
   "execution_count": 7,
   "id": "8bcd5af3",
   "metadata": {},
   "outputs": [],
   "source": [
    "def test():\n",
    "    print(f\"Starting inference on {device}...\")\n",
    "    bc.eval()\n",
    "\n",
    "    all_preds, all_targets = [], []\n",
    "\n",
    "    with torch.no_grad():\n",
    "        for data, target in tqdm(test_loader,\n",
    "                                desc=\"Inference\",\n",
    "                                total=len(test_loader),\n",
    "                                leave=False):\n",
    "            data, target = data.to(device), target.to(device).flatten().long() #target.to(device).float().unsqueeze(1)\n",
    "\n",
    "            logits = bc(data)\n",
    "\n",
    "            pred = logits.argmax(dim=-1)\n",
    "            #probabilities = torch.sigmoid(logits)\n",
    "            #pred = (probabilities >= 0.5).float().squeeze(1) \n",
    "\n",
    "            all_preds.append(pred.cpu())\n",
    "            all_targets.append(target.cpu())\n",
    "\n",
    "    y_pred = torch.cat(all_preds).numpy().astype(int)\n",
    "    y_true = torch.cat(all_targets).numpy().astype(int)\n",
    "\n",
    "    #y_pred = torch.cat(all_preds).numpy().flatten().astype(int) # .flatten() 추가\n",
    "    #y_true = torch.cat(all_targets).numpy().flatten().astype(int) # .flatten() 추가\n",
    "\n",
    "    # --- 8. 평가 및 결과 저장 ---\n",
    "    # 베이스라인 평가 로직을 따릅니다. y_true는 이제 10000개 길이를 가집니다.\n",
    "    test_mask = (y_true == 0) | (y_true == 6)\n",
    "\n",
    "    print(\"total samples:\", len(y_true))\n",
    "    print(\"target samples:\", test_mask.sum())\n",
    "\n",
    "    # 모델 결과가 1인 것을 6으로 변경 (제출 형식에 맞게)\n",
    "    y_pred_mapped = np.where(y_pred == 1, 6, y_pred)\n",
    "\n",
    "    # 정확도 계산은 0/6 라벨에 대해서만 수행\n",
    "    acc = (y_pred_mapped[test_mask] == y_true[test_mask]).mean()\n",
    "    print(f\"accuracy (labels 0/6 only): {acc:.4f}\")\n",
    "\n",
    "    now = datetime.now().strftime(\"%Y%m%d_%H%M%S\")\n",
    "\n",
    "    y_pred_filename = f\"y_pred_{now}.csv\"\n",
    "\n",
    "    return y_pred_mapped, y_pred_filename, acc\n",
    "\n"
   ]
  },
  {
   "cell_type": "code",
   "execution_count": 8,
   "id": "71bf30ba",
   "metadata": {},
   "outputs": [],
   "source": [
    "def plt_loss_history(loss_history, n_repeats, epochs_per_repeat):\n",
    "    \"\"\"\n",
    "    학습 손실 이력을 시각화합니다.\n",
    "    Args:\n",
    "        loss_history (list): 에포크별 평균 손실 값 리스트\n",
    "        n_repeats (int): train_step 함수의 총 반복 횟수 (n)\n",
    "        epochs_per_repeat (int): 한 번의 train_step에서 에포크 수 (epochs)\n",
    "    \"\"\"\n",
    "    total_epochs = n_repeats * epochs_per_repeat\n",
    "    x_axis = range(1, total_epochs + 1)\n",
    "\n",
    "    plt.figure(figsize=(10, 5))\n",
    "    plt.plot(x_axis, loss_history)\n",
    "    plt.title(\"Training Loss History\")\n",
    "    plt.xlabel(\"Total Epochs\")\n",
    "    plt.ylabel(\"Loss\")\n",
    "    plt.grid(True)\n",
    "    plt.show()\n",
    "\n",
    "# 사용 예시\n",
    "# loss_history는 모든 반복(n)과 에포크(epochs)의 손실이 담긴 리스트\n",
    "# loss_history = [ ... ]\n",
    "\n",
    "# plt_loss_history(loss_history, n_repeats=15, epochs_per_repeat=20)"
   ]
  },
  {
   "cell_type": "code",
   "execution_count": 9,
   "id": "977c8b3a",
   "metadata": {},
   "outputs": [
    {
     "name": "stdout",
     "output_type": "stream",
     "text": [
      "Starting split training on cuda...\n"
     ]
    },
    {
     "name": "stderr",
     "output_type": "stream",
     "text": [
      "Epoch 1/10: 100%|██████████| 300/300 [00:42<00:00,  7.14it/s]\n"
     ]
    },
    {
     "name": "stdout",
     "output_type": "stream",
     "text": [
      "Training [10%] Loss: 0.4744\n"
     ]
    },
    {
     "name": "stderr",
     "output_type": "stream",
     "text": [
      "Epoch 2/10: 100%|██████████| 300/300 [00:39<00:00,  7.50it/s]\n"
     ]
    },
    {
     "name": "stdout",
     "output_type": "stream",
     "text": [
      "Training [20%] Loss: 0.3748\n"
     ]
    },
    {
     "name": "stderr",
     "output_type": "stream",
     "text": [
      "Epoch 3/10: 100%|██████████| 300/300 [00:34<00:00,  8.61it/s]\n"
     ]
    },
    {
     "name": "stdout",
     "output_type": "stream",
     "text": [
      "Training [30%] Loss: 0.3305\n"
     ]
    },
    {
     "name": "stderr",
     "output_type": "stream",
     "text": [
      "Epoch 4/10: 100%|██████████| 300/300 [00:31<00:00,  9.61it/s]\n"
     ]
    },
    {
     "name": "stdout",
     "output_type": "stream",
     "text": [
      "Training [40%] Loss: 0.3061\n"
     ]
    },
    {
     "name": "stderr",
     "output_type": "stream",
     "text": [
      "Epoch 5/10: 100%|██████████| 300/300 [00:31<00:00,  9.65it/s]\n"
     ]
    },
    {
     "name": "stdout",
     "output_type": "stream",
     "text": [
      "Training [50%] Loss: 0.2899\n"
     ]
    },
    {
     "name": "stderr",
     "output_type": "stream",
     "text": [
      "Epoch 6/10: 100%|██████████| 300/300 [00:31<00:00,  9.51it/s]\n"
     ]
    },
    {
     "name": "stdout",
     "output_type": "stream",
     "text": [
      "Training [60%] Loss: 0.2724\n"
     ]
    },
    {
     "name": "stderr",
     "output_type": "stream",
     "text": [
      "Epoch 7/10: 100%|██████████| 300/300 [00:34<00:00,  8.64it/s]\n"
     ]
    },
    {
     "name": "stdout",
     "output_type": "stream",
     "text": [
      "Training [70%] Loss: 0.2554\n"
     ]
    },
    {
     "name": "stderr",
     "output_type": "stream",
     "text": [
      "Epoch 8/10: 100%|██████████| 300/300 [00:40<00:00,  7.38it/s]\n"
     ]
    },
    {
     "name": "stdout",
     "output_type": "stream",
     "text": [
      "Training [80%] Loss: 0.2435\n"
     ]
    },
    {
     "name": "stderr",
     "output_type": "stream",
     "text": [
      "Epoch 9/10: 100%|██████████| 300/300 [00:40<00:00,  7.39it/s]\n"
     ]
    },
    {
     "name": "stdout",
     "output_type": "stream",
     "text": [
      "Training [90%] Loss: 0.2417\n"
     ]
    },
    {
     "name": "stderr",
     "output_type": "stream",
     "text": [
      "Epoch 10/10: 100%|██████████| 300/300 [00:41<00:00,  7.23it/s]\n"
     ]
    },
    {
     "name": "stdout",
     "output_type": "stream",
     "text": [
      "Training [100%] Loss: 0.2357\n",
      "Starting inference on cuda...\n"
     ]
    },
    {
     "name": "stderr",
     "output_type": "stream",
     "text": [
      "                                                            \r"
     ]
    },
    {
     "name": "stdout",
     "output_type": "stream",
     "text": [
      "total samples: 10000\n",
      "target samples: 2000\n",
      "accuracy (labels 0/6 only): 0.8795\n",
      "Iteration 1: Result = 0.8795\n",
      "Starting split training on cuda...\n"
     ]
    },
    {
     "name": "stderr",
     "output_type": "stream",
     "text": [
      "Epoch 1/10: 100%|██████████| 300/300 [00:55<00:00,  5.38it/s]\n"
     ]
    },
    {
     "name": "stdout",
     "output_type": "stream",
     "text": [
      "Training [10%] Loss: 0.2620\n"
     ]
    },
    {
     "name": "stderr",
     "output_type": "stream",
     "text": [
      "Epoch 2/10: 100%|██████████| 300/300 [00:47<00:00,  6.26it/s]\n"
     ]
    },
    {
     "name": "stdout",
     "output_type": "stream",
     "text": [
      "Training [20%] Loss: 0.2529\n"
     ]
    },
    {
     "name": "stderr",
     "output_type": "stream",
     "text": [
      "Epoch 3/10: 100%|██████████| 300/300 [00:47<00:00,  6.27it/s]\n"
     ]
    },
    {
     "name": "stdout",
     "output_type": "stream",
     "text": [
      "Training [30%] Loss: 0.2421\n"
     ]
    },
    {
     "name": "stderr",
     "output_type": "stream",
     "text": [
      "Epoch 4/10: 100%|██████████| 300/300 [00:35<00:00,  8.41it/s]\n"
     ]
    },
    {
     "name": "stdout",
     "output_type": "stream",
     "text": [
      "Training [40%] Loss: 0.2339\n"
     ]
    },
    {
     "name": "stderr",
     "output_type": "stream",
     "text": [
      "Epoch 5/10: 100%|██████████| 300/300 [00:35<00:00,  8.46it/s]\n"
     ]
    },
    {
     "name": "stdout",
     "output_type": "stream",
     "text": [
      "Training [50%] Loss: 0.2244\n"
     ]
    },
    {
     "name": "stderr",
     "output_type": "stream",
     "text": [
      "Epoch 6/10: 100%|██████████| 300/300 [00:37<00:00,  7.90it/s]\n"
     ]
    },
    {
     "name": "stdout",
     "output_type": "stream",
     "text": [
      "Training [60%] Loss: 0.2045\n"
     ]
    },
    {
     "name": "stderr",
     "output_type": "stream",
     "text": [
      "Epoch 7/10: 100%|██████████| 300/300 [00:36<00:00,  8.17it/s]\n"
     ]
    },
    {
     "name": "stdout",
     "output_type": "stream",
     "text": [
      "Training [70%] Loss: 0.1990\n"
     ]
    },
    {
     "name": "stderr",
     "output_type": "stream",
     "text": [
      "Epoch 8/10: 100%|██████████| 300/300 [00:41<00:00,  7.29it/s]\n"
     ]
    },
    {
     "name": "stdout",
     "output_type": "stream",
     "text": [
      "Training [80%] Loss: 0.1895\n"
     ]
    },
    {
     "name": "stderr",
     "output_type": "stream",
     "text": [
      "Epoch 9/10: 100%|██████████| 300/300 [00:46<00:00,  6.50it/s]\n"
     ]
    },
    {
     "name": "stdout",
     "output_type": "stream",
     "text": [
      "Training [90%] Loss: 0.1835\n"
     ]
    },
    {
     "name": "stderr",
     "output_type": "stream",
     "text": [
      "Epoch 10/10: 100%|██████████| 300/300 [00:46<00:00,  6.42it/s]\n"
     ]
    },
    {
     "name": "stdout",
     "output_type": "stream",
     "text": [
      "Training [100%] Loss: 0.1819\n",
      "Starting inference on cuda...\n"
     ]
    },
    {
     "name": "stderr",
     "output_type": "stream",
     "text": [
      "                                                            \r"
     ]
    },
    {
     "name": "stdout",
     "output_type": "stream",
     "text": [
      "total samples: 10000\n",
      "target samples: 2000\n",
      "accuracy (labels 0/6 only): 0.8880\n",
      "Iteration 2: Result = 0.8880\n",
      "Starting split training on cuda...\n"
     ]
    },
    {
     "name": "stderr",
     "output_type": "stream",
     "text": [
      "Epoch 1/10: 100%|██████████| 300/300 [00:41<00:00,  7.20it/s]\n"
     ]
    },
    {
     "name": "stdout",
     "output_type": "stream",
     "text": [
      "Training [10%] Loss: 0.2123\n"
     ]
    },
    {
     "name": "stderr",
     "output_type": "stream",
     "text": [
      "Epoch 2/10: 100%|██████████| 300/300 [00:39<00:00,  7.52it/s]\n"
     ]
    },
    {
     "name": "stdout",
     "output_type": "stream",
     "text": [
      "Training [20%] Loss: 0.2065\n"
     ]
    },
    {
     "name": "stderr",
     "output_type": "stream",
     "text": [
      "Epoch 3/10: 100%|██████████| 300/300 [00:39<00:00,  7.57it/s]\n"
     ]
    },
    {
     "name": "stdout",
     "output_type": "stream",
     "text": [
      "Training [30%] Loss: 0.2002\n"
     ]
    },
    {
     "name": "stderr",
     "output_type": "stream",
     "text": [
      "Epoch 4/10: 100%|██████████| 300/300 [00:39<00:00,  7.63it/s]\n"
     ]
    },
    {
     "name": "stdout",
     "output_type": "stream",
     "text": [
      "Training [40%] Loss: 0.1894\n"
     ]
    },
    {
     "name": "stderr",
     "output_type": "stream",
     "text": [
      "Epoch 5/10: 100%|██████████| 300/300 [00:39<00:00,  7.63it/s]\n"
     ]
    },
    {
     "name": "stdout",
     "output_type": "stream",
     "text": [
      "Training [50%] Loss: 0.1844\n"
     ]
    },
    {
     "name": "stderr",
     "output_type": "stream",
     "text": [
      "Epoch 6/10: 100%|██████████| 300/300 [00:39<00:00,  7.51it/s]\n"
     ]
    },
    {
     "name": "stdout",
     "output_type": "stream",
     "text": [
      "Training [60%] Loss: 0.1662\n"
     ]
    },
    {
     "name": "stderr",
     "output_type": "stream",
     "text": [
      "Epoch 7/10: 100%|██████████| 300/300 [00:39<00:00,  7.51it/s]\n"
     ]
    },
    {
     "name": "stdout",
     "output_type": "stream",
     "text": [
      "Training [70%] Loss: 0.1577\n"
     ]
    },
    {
     "name": "stderr",
     "output_type": "stream",
     "text": [
      "Epoch 8/10: 100%|██████████| 300/300 [00:43<00:00,  6.91it/s]\n"
     ]
    },
    {
     "name": "stdout",
     "output_type": "stream",
     "text": [
      "Training [80%] Loss: 0.1556\n"
     ]
    },
    {
     "name": "stderr",
     "output_type": "stream",
     "text": [
      "Epoch 9/10: 100%|██████████| 300/300 [00:43<00:00,  6.97it/s]\n"
     ]
    },
    {
     "name": "stdout",
     "output_type": "stream",
     "text": [
      "Training [90%] Loss: 0.1526\n"
     ]
    },
    {
     "name": "stderr",
     "output_type": "stream",
     "text": [
      "Epoch 10/10: 100%|██████████| 300/300 [00:43<00:00,  6.92it/s]\n"
     ]
    },
    {
     "name": "stdout",
     "output_type": "stream",
     "text": [
      "Training [100%] Loss: 0.1478\n",
      "Starting inference on cuda...\n"
     ]
    },
    {
     "name": "stderr",
     "output_type": "stream",
     "text": [
      "                                                            \r"
     ]
    },
    {
     "name": "stdout",
     "output_type": "stream",
     "text": [
      "total samples: 10000\n",
      "target samples: 2000\n",
      "accuracy (labels 0/6 only): 0.8890\n",
      "Iteration 3: Result = 0.8890\n",
      "Starting split training on cuda...\n"
     ]
    },
    {
     "name": "stderr",
     "output_type": "stream",
     "text": [
      "Epoch 1/10: 100%|██████████| 300/300 [00:40<00:00,  7.46it/s]\n"
     ]
    },
    {
     "name": "stdout",
     "output_type": "stream",
     "text": [
      "Training [10%] Loss: 0.1734\n"
     ]
    },
    {
     "name": "stderr",
     "output_type": "stream",
     "text": [
      "Epoch 2/10: 100%|██████████| 300/300 [00:40<00:00,  7.36it/s]\n"
     ]
    },
    {
     "name": "stdout",
     "output_type": "stream",
     "text": [
      "Training [20%] Loss: 0.1719\n"
     ]
    },
    {
     "name": "stderr",
     "output_type": "stream",
     "text": [
      "Epoch 3/10: 100%|██████████| 300/300 [00:39<00:00,  7.52it/s]\n"
     ]
    },
    {
     "name": "stdout",
     "output_type": "stream",
     "text": [
      "Training [30%] Loss: 0.1659\n"
     ]
    },
    {
     "name": "stderr",
     "output_type": "stream",
     "text": [
      "Epoch 4/10: 100%|██████████| 300/300 [00:41<00:00,  7.25it/s]\n"
     ]
    },
    {
     "name": "stdout",
     "output_type": "stream",
     "text": [
      "Training [40%] Loss: 0.1565\n"
     ]
    },
    {
     "name": "stderr",
     "output_type": "stream",
     "text": [
      "Epoch 5/10: 100%|██████████| 300/300 [00:42<00:00,  7.03it/s]\n"
     ]
    },
    {
     "name": "stdout",
     "output_type": "stream",
     "text": [
      "Training [50%] Loss: 0.1476\n"
     ]
    },
    {
     "name": "stderr",
     "output_type": "stream",
     "text": [
      "Epoch 6/10:   8%|▊         | 25/300 [00:03<00:39,  7.01it/s]\n"
     ]
    },
    {
     "ename": "KeyboardInterrupt",
     "evalue": "",
     "output_type": "error",
     "traceback": [
      "\u001b[31m---------------------------------------------------------------------------\u001b[39m",
      "\u001b[31mKeyboardInterrupt\u001b[39m                         Traceback (most recent call last)",
      "\u001b[36mCell\u001b[39m\u001b[36m \u001b[39m\u001b[32mIn[9]\u001b[39m\u001b[32m, line 12\u001b[39m\n\u001b[32m     10\u001b[39m \u001b[38;5;28;01mwhile\u001b[39;00m result < \u001b[32m0.92\u001b[39m:\n\u001b[32m     11\u001b[39m     lr = \u001b[32m0.0015\u001b[39m * (\u001b[32m0.80\u001b[39m**n)\n\u001b[32m---> \u001b[39m\u001b[32m12\u001b[39m     loss_history.extend(\u001b[43mtrain_step\u001b[49m\u001b[43m(\u001b[49m\u001b[43mepochs\u001b[49m\u001b[43m=\u001b[49m\u001b[43mepochs\u001b[49m\u001b[43m,\u001b[49m\u001b[43m \u001b[49m\u001b[43mlr\u001b[49m\u001b[43m=\u001b[49m\u001b[43mlr\u001b[49m\u001b[43m,\u001b[49m\u001b[43m \u001b[49m\u001b[43mweight_decay\u001b[49m\u001b[43m=\u001b[49m\u001b[43mbatch_size\u001b[49m\u001b[43m \u001b[49m\u001b[43m*\u001b[49m\u001b[43m \u001b[49m\u001b[32;43m1e-6\u001b[39;49m\u001b[43m)\u001b[49m)\n\u001b[32m     13\u001b[39m     y_pred_mapped, y_pred_filename, result = test()\n\u001b[32m     14\u001b[39m     \u001b[38;5;28mprint\u001b[39m(\u001b[33mf\u001b[39m\u001b[33m\"\u001b[39m\u001b[33mIteration \u001b[39m\u001b[38;5;132;01m{\u001b[39;00mn+\u001b[32m1\u001b[39m\u001b[38;5;132;01m}\u001b[39;00m\u001b[33m: Result = \u001b[39m\u001b[38;5;132;01m{\u001b[39;00mresult\u001b[38;5;132;01m:\u001b[39;00m\u001b[33m.4f\u001b[39m\u001b[38;5;132;01m}\u001b[39;00m\u001b[33m\"\u001b[39m)\n",
      "\u001b[36mCell\u001b[39m\u001b[36m \u001b[39m\u001b[32mIn[6]\u001b[39m\u001b[32m, line 50\u001b[39m, in \u001b[36mtrain_step\u001b[39m\u001b[34m(epochs, lr, weight_decay)\u001b[39m\n\u001b[32m     46\u001b[39m     loss_qnn_step.backward()\n\u001b[32m     48\u001b[39m     \u001b[38;5;28;01mreturn\u001b[39;00m loss_qnn_step\n\u001b[32m---> \u001b[39m\u001b[32m50\u001b[39m \u001b[43mqnn_optimizer\u001b[49m\u001b[43m.\u001b[49m\u001b[43mstep\u001b[49m\u001b[43m(\u001b[49m\u001b[43mclosure\u001b[49m\u001b[43m)\u001b[49m\n\u001b[32m     51\u001b[39m \u001b[38;5;66;03m#qnn_optimizer.zero_grad(set_to_none=True)\u001b[39;00m\n\u001b[32m     52\u001b[39m \u001b[38;5;66;03m# 여기서는 손실을 다시 계산하여 qnn_params에 대한 기울기를 업데이트\u001b[39;00m\n\u001b[32m     53\u001b[39m \u001b[38;5;66;03m#output_qnn_step = bc(data.detach())\u001b[39;00m\n\u001b[32m     54\u001b[39m \u001b[38;5;66;03m#loss_qnn_step = F.nll_loss(output_qnn_step, target)\u001b[39;00m\n\u001b[32m     55\u001b[39m \u001b[38;5;66;03m#loss_qnn_step.backward()\u001b[39;00m\n\u001b[32m     56\u001b[39m \u001b[38;5;66;03m#qnn_optimizer.step()\u001b[39;00m\n\u001b[32m     60\u001b[39m scheduler.step()\n",
      "\u001b[36mFile \u001b[39m\u001b[32md:\\miniconda3\\Lib\\site-packages\\torch\\optim\\optimizer.py:487\u001b[39m, in \u001b[36mOptimizer.profile_hook_step.<locals>.wrapper\u001b[39m\u001b[34m(*args, **kwargs)\u001b[39m\n\u001b[32m    482\u001b[39m         \u001b[38;5;28;01melse\u001b[39;00m:\n\u001b[32m    483\u001b[39m             \u001b[38;5;28;01mraise\u001b[39;00m \u001b[38;5;167;01mRuntimeError\u001b[39;00m(\n\u001b[32m    484\u001b[39m                 \u001b[33mf\u001b[39m\u001b[33m\"\u001b[39m\u001b[38;5;132;01m{\u001b[39;00mfunc\u001b[38;5;132;01m}\u001b[39;00m\u001b[33m must return None or a tuple of (new_args, new_kwargs), but got \u001b[39m\u001b[38;5;132;01m{\u001b[39;00mresult\u001b[38;5;132;01m}\u001b[39;00m\u001b[33m.\u001b[39m\u001b[33m\"\u001b[39m\n\u001b[32m    485\u001b[39m             )\n\u001b[32m--> \u001b[39m\u001b[32m487\u001b[39m out = \u001b[43mfunc\u001b[49m\u001b[43m(\u001b[49m\u001b[43m*\u001b[49m\u001b[43margs\u001b[49m\u001b[43m,\u001b[49m\u001b[43m \u001b[49m\u001b[43m*\u001b[49m\u001b[43m*\u001b[49m\u001b[43mkwargs\u001b[49m\u001b[43m)\u001b[49m\n\u001b[32m    488\u001b[39m \u001b[38;5;28mself\u001b[39m._optimizer_step_code()\n\u001b[32m    490\u001b[39m \u001b[38;5;66;03m# call optimizer step post hooks\u001b[39;00m\n",
      "\u001b[36mFile \u001b[39m\u001b[32md:\\miniconda3\\Lib\\site-packages\\torch\\utils\\_contextlib.py:116\u001b[39m, in \u001b[36mcontext_decorator.<locals>.decorate_context\u001b[39m\u001b[34m(*args, **kwargs)\u001b[39m\n\u001b[32m    113\u001b[39m \u001b[38;5;129m@functools\u001b[39m.wraps(func)\n\u001b[32m    114\u001b[39m \u001b[38;5;28;01mdef\u001b[39;00m\u001b[38;5;250m \u001b[39m\u001b[34mdecorate_context\u001b[39m(*args, **kwargs):\n\u001b[32m    115\u001b[39m     \u001b[38;5;28;01mwith\u001b[39;00m ctx_factory():\n\u001b[32m--> \u001b[39m\u001b[32m116\u001b[39m         \u001b[38;5;28;01mreturn\u001b[39;00m \u001b[43mfunc\u001b[49m\u001b[43m(\u001b[49m\u001b[43m*\u001b[49m\u001b[43margs\u001b[49m\u001b[43m,\u001b[49m\u001b[43m \u001b[49m\u001b[43m*\u001b[49m\u001b[43m*\u001b[49m\u001b[43mkwargs\u001b[49m\u001b[43m)\u001b[49m\n",
      "\u001b[36mFile \u001b[39m\u001b[32md:\\miniconda3\\Lib\\site-packages\\torch\\optim\\lbfgs.py:457\u001b[39m, in \u001b[36mLBFGS.step\u001b[39m\u001b[34m(self, closure)\u001b[39m\n\u001b[32m    452\u001b[39m \u001b[38;5;28;01mif\u001b[39;00m n_iter != max_iter:\n\u001b[32m    453\u001b[39m     \u001b[38;5;66;03m# re-evaluate function only if not in last iteration\u001b[39;00m\n\u001b[32m    454\u001b[39m     \u001b[38;5;66;03m# the reason we do this: in a stochastic setting,\u001b[39;00m\n\u001b[32m    455\u001b[39m     \u001b[38;5;66;03m# no use to re-evaluate that function here\u001b[39;00m\n\u001b[32m    456\u001b[39m     \u001b[38;5;28;01mwith\u001b[39;00m torch.enable_grad():\n\u001b[32m--> \u001b[39m\u001b[32m457\u001b[39m         loss = \u001b[38;5;28mfloat\u001b[39m(\u001b[43mclosure\u001b[49m\u001b[43m(\u001b[49m\u001b[43m)\u001b[49m)\n\u001b[32m    458\u001b[39m     flat_grad = \u001b[38;5;28mself\u001b[39m._gather_flat_grad()\n\u001b[32m    459\u001b[39m     opt_cond = flat_grad.abs().max() <= tolerance_grad\n",
      "\u001b[36mFile \u001b[39m\u001b[32md:\\miniconda3\\Lib\\site-packages\\torch\\utils\\_contextlib.py:116\u001b[39m, in \u001b[36mcontext_decorator.<locals>.decorate_context\u001b[39m\u001b[34m(*args, **kwargs)\u001b[39m\n\u001b[32m    113\u001b[39m \u001b[38;5;129m@functools\u001b[39m.wraps(func)\n\u001b[32m    114\u001b[39m \u001b[38;5;28;01mdef\u001b[39;00m\u001b[38;5;250m \u001b[39m\u001b[34mdecorate_context\u001b[39m(*args, **kwargs):\n\u001b[32m    115\u001b[39m     \u001b[38;5;28;01mwith\u001b[39;00m ctx_factory():\n\u001b[32m--> \u001b[39m\u001b[32m116\u001b[39m         \u001b[38;5;28;01mreturn\u001b[39;00m \u001b[43mfunc\u001b[49m\u001b[43m(\u001b[49m\u001b[43m*\u001b[49m\u001b[43margs\u001b[49m\u001b[43m,\u001b[49m\u001b[43m \u001b[49m\u001b[43m*\u001b[49m\u001b[43m*\u001b[49m\u001b[43mkwargs\u001b[49m\u001b[43m)\u001b[49m\n",
      "\u001b[36mCell\u001b[39m\u001b[36m \u001b[39m\u001b[32mIn[6]\u001b[39m\u001b[32m, line 46\u001b[39m, in \u001b[36mtrain_step.<locals>.closure\u001b[39m\u001b[34m()\u001b[39m\n\u001b[32m     44\u001b[39m output_qnn_step = bc(data.detach())\n\u001b[32m     45\u001b[39m loss_qnn_step = F.nll_loss(output_qnn_step, target)\n\u001b[32m---> \u001b[39m\u001b[32m46\u001b[39m \u001b[43mloss_qnn_step\u001b[49m\u001b[43m.\u001b[49m\u001b[43mbackward\u001b[49m\u001b[43m(\u001b[49m\u001b[43m)\u001b[49m\n\u001b[32m     48\u001b[39m \u001b[38;5;28;01mreturn\u001b[39;00m loss_qnn_step\n",
      "\u001b[36mFile \u001b[39m\u001b[32md:\\miniconda3\\Lib\\site-packages\\torch\\_tensor.py:581\u001b[39m, in \u001b[36mTensor.backward\u001b[39m\u001b[34m(self, gradient, retain_graph, create_graph, inputs)\u001b[39m\n\u001b[32m    571\u001b[39m \u001b[38;5;28;01mif\u001b[39;00m has_torch_function_unary(\u001b[38;5;28mself\u001b[39m):\n\u001b[32m    572\u001b[39m     \u001b[38;5;28;01mreturn\u001b[39;00m handle_torch_function(\n\u001b[32m    573\u001b[39m         Tensor.backward,\n\u001b[32m    574\u001b[39m         (\u001b[38;5;28mself\u001b[39m,),\n\u001b[32m   (...)\u001b[39m\u001b[32m    579\u001b[39m         inputs=inputs,\n\u001b[32m    580\u001b[39m     )\n\u001b[32m--> \u001b[39m\u001b[32m581\u001b[39m \u001b[43mtorch\u001b[49m\u001b[43m.\u001b[49m\u001b[43mautograd\u001b[49m\u001b[43m.\u001b[49m\u001b[43mbackward\u001b[49m\u001b[43m(\u001b[49m\n\u001b[32m    582\u001b[39m \u001b[43m    \u001b[49m\u001b[38;5;28;43mself\u001b[39;49m\u001b[43m,\u001b[49m\u001b[43m \u001b[49m\u001b[43mgradient\u001b[49m\u001b[43m,\u001b[49m\u001b[43m \u001b[49m\u001b[43mretain_graph\u001b[49m\u001b[43m,\u001b[49m\u001b[43m \u001b[49m\u001b[43mcreate_graph\u001b[49m\u001b[43m,\u001b[49m\u001b[43m \u001b[49m\u001b[43minputs\u001b[49m\u001b[43m=\u001b[49m\u001b[43minputs\u001b[49m\n\u001b[32m    583\u001b[39m \u001b[43m\u001b[49m\u001b[43m)\u001b[49m\n",
      "\u001b[36mFile \u001b[39m\u001b[32md:\\miniconda3\\Lib\\site-packages\\torch\\autograd\\__init__.py:347\u001b[39m, in \u001b[36mbackward\u001b[39m\u001b[34m(tensors, grad_tensors, retain_graph, create_graph, grad_variables, inputs)\u001b[39m\n\u001b[32m    342\u001b[39m     retain_graph = create_graph\n\u001b[32m    344\u001b[39m \u001b[38;5;66;03m# The reason we repeat the same comment below is that\u001b[39;00m\n\u001b[32m    345\u001b[39m \u001b[38;5;66;03m# some Python versions print out the first line of a multi-line function\u001b[39;00m\n\u001b[32m    346\u001b[39m \u001b[38;5;66;03m# calls in the traceback and some print out the last line\u001b[39;00m\n\u001b[32m--> \u001b[39m\u001b[32m347\u001b[39m \u001b[43m_engine_run_backward\u001b[49m\u001b[43m(\u001b[49m\n\u001b[32m    348\u001b[39m \u001b[43m    \u001b[49m\u001b[43mtensors\u001b[49m\u001b[43m,\u001b[49m\n\u001b[32m    349\u001b[39m \u001b[43m    \u001b[49m\u001b[43mgrad_tensors_\u001b[49m\u001b[43m,\u001b[49m\n\u001b[32m    350\u001b[39m \u001b[43m    \u001b[49m\u001b[43mretain_graph\u001b[49m\u001b[43m,\u001b[49m\n\u001b[32m    351\u001b[39m \u001b[43m    \u001b[49m\u001b[43mcreate_graph\u001b[49m\u001b[43m,\u001b[49m\n\u001b[32m    352\u001b[39m \u001b[43m    \u001b[49m\u001b[43minputs\u001b[49m\u001b[43m,\u001b[49m\n\u001b[32m    353\u001b[39m \u001b[43m    \u001b[49m\u001b[43mallow_unreachable\u001b[49m\u001b[43m=\u001b[49m\u001b[38;5;28;43;01mTrue\u001b[39;49;00m\u001b[43m,\u001b[49m\n\u001b[32m    354\u001b[39m \u001b[43m    \u001b[49m\u001b[43maccumulate_grad\u001b[49m\u001b[43m=\u001b[49m\u001b[38;5;28;43;01mTrue\u001b[39;49;00m\u001b[43m,\u001b[49m\n\u001b[32m    355\u001b[39m \u001b[43m\u001b[49m\u001b[43m)\u001b[49m\n",
      "\u001b[36mFile \u001b[39m\u001b[32md:\\miniconda3\\Lib\\site-packages\\torch\\autograd\\graph.py:825\u001b[39m, in \u001b[36m_engine_run_backward\u001b[39m\u001b[34m(t_outputs, *args, **kwargs)\u001b[39m\n\u001b[32m    823\u001b[39m     unregister_hooks = _register_logging_hooks_on_whole_graph(t_outputs)\n\u001b[32m    824\u001b[39m \u001b[38;5;28;01mtry\u001b[39;00m:\n\u001b[32m--> \u001b[39m\u001b[32m825\u001b[39m     \u001b[38;5;28;01mreturn\u001b[39;00m \u001b[43mVariable\u001b[49m\u001b[43m.\u001b[49m\u001b[43m_execution_engine\u001b[49m\u001b[43m.\u001b[49m\u001b[43mrun_backward\u001b[49m\u001b[43m(\u001b[49m\u001b[43m  \u001b[49m\u001b[38;5;66;43;03m# Calls into the C++ engine to run the backward pass\u001b[39;49;00m\n\u001b[32m    826\u001b[39m \u001b[43m        \u001b[49m\u001b[43mt_outputs\u001b[49m\u001b[43m,\u001b[49m\u001b[43m \u001b[49m\u001b[43m*\u001b[49m\u001b[43margs\u001b[49m\u001b[43m,\u001b[49m\u001b[43m \u001b[49m\u001b[43m*\u001b[49m\u001b[43m*\u001b[49m\u001b[43mkwargs\u001b[49m\n\u001b[32m    827\u001b[39m \u001b[43m    \u001b[49m\u001b[43m)\u001b[49m  \u001b[38;5;66;03m# Calls into the C++ engine to run the backward pass\u001b[39;00m\n\u001b[32m    828\u001b[39m \u001b[38;5;28;01mfinally\u001b[39;00m:\n\u001b[32m    829\u001b[39m     \u001b[38;5;28;01mif\u001b[39;00m attach_logging_hooks:\n",
      "\u001b[31mKeyboardInterrupt\u001b[39m: "
     ]
    }
   ],
   "source": [
    "result = 0\n",
    "best_result = 0\n",
    "max_y_pred_filename = \"\"\n",
    "best_n = 0\n",
    "n = 0\n",
    "epochs = 10\n",
    "lr = 0.0015\n",
    "loss_history = []\n",
    "\n",
    "while result < 0.92:\n",
    "    lr = 0.0015 * (0.80**n)\n",
    "    loss_history.extend(train_step(epochs=epochs, lr=lr, weight_decay=batch_size * 1e-6))\n",
    "    y_pred_mapped, y_pred_filename, result = test()\n",
    "    print(f\"Iteration {n+1}: Result = {result:.4f}\")\n",
    "\n",
    "    if result > best_result:\n",
    "        best_result = result\n",
    "        best_n = n\n",
    "        max_y_pred_filename = y_pred_filename\n",
    "\n",
    "    n += 1"
   ]
  },
  {
   "cell_type": "code",
   "execution_count": 11,
   "id": "3873b2d8",
   "metadata": {},
   "outputs": [
    {
     "name": "stdout",
     "output_type": "stream",
     "text": [
      "Best result: 0.8930 at iteration 15\n",
      "Prediction saved to y_pred_20250805_032755.csv\n"
     ]
    }
   ],
   "source": [
    "#plt_loss_history(loss_history, n, epochs)\n",
    "print(f\"Best result: {best_result:.4f} at iteration {best_n}\")\n",
    "# 전체 10000개 샘플에 대한 예측을 저장 (대회 제출 형식)\n",
    "np.savetxt(y_pred_filename, y_pred_mapped, fmt=\"%d\")\n",
    "print(f\"Prediction saved to {max_y_pred_filename}\")"
   ]
  },
  {
   "cell_type": "code",
   "execution_count": null,
   "id": "87e2afe6",
   "metadata": {},
   "outputs": [],
   "source": []
  }
 ],
 "metadata": {
  "kernelspec": {
   "display_name": "base",
   "language": "python",
   "name": "python3"
  },
  "language_info": {
   "codemirror_mode": {
    "name": "ipython",
    "version": 3
   },
   "file_extension": ".py",
   "mimetype": "text/x-python",
   "name": "python",
   "nbconvert_exporter": "python",
   "pygments_lexer": "ipython3",
   "version": "3.12.7"
  }
 },
 "nbformat": 4,
 "nbformat_minor": 5
}
