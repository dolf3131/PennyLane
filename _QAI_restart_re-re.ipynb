{
 "cells": [
  {
   "cell_type": "code",
   "execution_count": 86,
   "id": "ca0869db",
   "metadata": {},
   "outputs": [],
   "source": [
    "import pennylane as qml\n",
    "from pennylane import numpy as np\n",
    "import torch\n",
    "from torch.optim import Adam, AdamW, RAdam\n",
    "from torch.nn.parameter import Parameter\n",
    "from torch.nn import NLLLoss, BCEWithLogitsLoss\n",
    "from torch.utils.data import Subset\n",
    "from torch.utils.data import DataLoader\n",
    "import torchvision\n",
    "from torch.nn import Module\n",
    "import torch.nn.functional as F\n",
    "from torch.nn import Conv2d, Dropout2d, Linear, Dropout\n",
    "from torch import cat\n",
    "from tqdm import tqdm\n",
    "from torch.optim.lr_scheduler import CosineAnnealingLR\n",
    "import matplotlib.pyplot as plt\n",
    "from datetime import datetime\n",
    "import pprint"
   ]
  },
  {
   "cell_type": "code",
   "execution_count": 87,
   "id": "142f9ee2",
   "metadata": {},
   "outputs": [],
   "source": [
    "device = torch.device(\"cuda\" if torch.cuda.is_available() else \"cpu\")\n",
    "\n",
    "\n",
    "transform = torchvision.transforms.Compose([\n",
    "        torchvision.transforms.ToTensor(),\n",
    "        torchvision.transforms.Normalize((0.5,), (0.5,)),\n",
    "        #torchvision.transforms.RandomAffine(degrees=10, translate=(0.1, 0.1), scale=(0.9, 1.1)),\n",
    "        ])\n",
    "\n",
    "\n",
    "train_ds = torchvision.datasets.FashionMNIST(\n",
    "    \"./\", train=True, download=True,\n",
    "    transform=transform)\n",
    "\n",
    "test_ds = torchvision.datasets.FashionMNIST(\n",
    "    \"./\", train=False, download=True,\n",
    "    transform=transform)\n",
    "\n",
    "\n",
    "train_mask = (train_ds.targets == 0) | (train_ds.targets == 6)\n",
    "train_idx = torch.where(train_mask)[0]\n",
    "train_ds.targets[train_ds.targets == 6] = 1\n",
    "\n",
    "batch_size = 50\n",
    "\n",
    "binary_train_ds = Subset(train_ds, train_idx)\n",
    "train_loader = DataLoader(binary_train_ds, batch_size = batch_size, shuffle =True)\n",
    "test_loader = DataLoader(test_ds, batch_size=batch_size, shuffle=False)"
   ]
  },
  {
   "cell_type": "code",
   "execution_count": 104,
   "id": "4b301e6d",
   "metadata": {},
   "outputs": [
    {
     "data": {
      "text/plain": [
       "BinaryClassifier(\n",
       "  (conv1): Conv2d(1, 8, kernel_size=(5, 5), stride=(1, 1), padding=(2, 2))\n",
       "  (conv2): Conv2d(8, 25, kernel_size=(5, 5), stride=(1, 1), padding=(2, 2))\n",
       "  (dropout): Dropout2d(p=0.5, inplace=False)\n",
       "  (fc1): Linear(in_features=1225, out_features=36, bias=True)\n",
       "  (fn_dropout): Dropout(p=0.1, inplace=False)\n",
       "  (fc2): Linear(in_features=36, out_features=4, bias=True)\n",
       "  (fc3): Linear(in_features=4, out_features=1, bias=True)\n",
       ")"
      ]
     },
     "execution_count": 104,
     "metadata": {},
     "output_type": "execute_result"
    }
   ],
   "source": [
    "torch.set_default_dtype(torch.float64)\n",
    "class BinaryClassifier(Module):\n",
    "    def __init__(self):\n",
    "        super().__init__()\n",
    "        self.conv1 = Conv2d(1, 8, kernel_size=5, padding=2)\n",
    "        self.conv2 = Conv2d(8, 25, kernel_size=5, padding=2)\n",
    "        self.dropout = Dropout2d()\n",
    "        self.fc1 = Linear(25 * 7 * 7, 36)\n",
    "        self.fn_dropout = Dropout(p=0.1)\n",
    "        self.fc2 = Linear(36, 4)\n",
    "        self.fc3 = Linear(4, 1)\n",
    "\n",
    "        # Quantum layer\n",
    "        self.num_q_wires = 4\n",
    "        self.q_device = qml.device(\"default.qubit\", wires=self.num_q_wires)\n",
    "        \n",
    "        self.num_q_layers = 2\n",
    "        qnn_params_size = (self.num_q_layers * 3 + 2) * self.num_q_wires\n",
    "        qnn_params_tensor = torch.empty(qnn_params_size, requires_grad=True)\n",
    "\n",
    "        # Kaiming 초기화의 gain 값 계산 (SiLU에 적합한 'leaky_relu'를 사용)\n",
    "        gain = torch.nn.init.calculate_gain('leaky_relu')\n",
    "        std = gain / qnn_params_size**0.5 # 텐서 크기를 이용한 표준 편차 계산\n",
    "        \n",
    "        # 균등 분포로 파라미터 초기화\n",
    "        torch.nn.init.uniform_(qnn_params_tensor, -std, std)\n",
    "\n",
    "        self.qnn_params = Parameter(qnn_params_tensor)\n",
    "\n",
    "        #@qml.qnode(self.q_device)\n",
    "        @qml.qnode(self.q_device, interface=\"torch\")\n",
    "        def circuit(x_batch):\n",
    "            param_idx = 0 \n",
    "            for layer in range(self.num_q_layers): # num_q_layers 만큼 반복\n",
    "                for i in range(self.num_q_wires):\n",
    "                    qml.H(wires=i)\n",
    "                    qml.RZ(2. * x_batch[:, i], wires=i)\n",
    "                    \n",
    "                for i in range(self.num_q_wires):\n",
    "                    qml.CRZ(2. * (torch.pi - x_batch[:, i]) * (torch.pi - x_batch[:, (i+1) % self.num_q_wires]), wires=[i, (i+1)%self.num_q_wires])\n",
    "\n",
    "                # EfficientSU2\n",
    "                for i in range(self.num_q_wires):\n",
    "                    qml.RY(self.qnn_params[param_idx], wires=i)\n",
    "                    param_idx += 1\n",
    "                    qml.RX(self.qnn_params[param_idx], wires=i)\n",
    "                    param_idx += 1\n",
    "                    #qml.Rot(self.qnn_params[param_idx], self.qnn_params[param_idx+1], torch.tensor(-torch.pi/2, dtype=torch.float64), wires=i)\n",
    "                    #param_idx += 2\n",
    "                    qml.Y(wires=i)\n",
    "\n",
    "                for i in range(self.num_q_wires//2):\n",
    "                    #qml.CRX(self.qnn_params[param_idx], wires=[i, (i+1)%self.num_q_wires])\n",
    "                    #param_idx += 1\n",
    "                    #qml.CNOT(wires=[i, (i+1)%self.num_q_wires])\n",
    "                    qml.CRX(self.qnn_params[param_idx], wires=[i, (i+1)%self.num_q_wires])\n",
    "                    param_idx += 1\n",
    "                    qml.CRX(self.qnn_params[param_idx], wires=[i+2, (i+3)%self.num_q_wires])\n",
    "                    param_idx += 1\n",
    "\n",
    "\n",
    "                #for i in range(self.num_q_wires):\n",
    "                #    qml.Z(wires=i)\n",
    "                \n",
    "                if layer == self.num_q_layers-1:\n",
    "                    for i in range(self.num_q_wires):\n",
    "                        qml.RY(self.qnn_params[param_idx], wires=i)\n",
    "                        param_idx += 1\n",
    "                        qml.RX(self.qnn_params[param_idx], wires=i)\n",
    "                        param_idx += 1\n",
    "                        #qml.Rot(self.qnn_params[param_idx], self.qnn_params[param_idx+1], torch.tensor(-torch.pi/2, dtype=torch.float64), wires=i)\n",
    "                        #param_idx += 2\n",
    "                        qml.Y(wires=i)\n",
    "            \n",
    "            #return qml.expval(self.obs) # qml.expval은 이제 (BATCH_SIZE,) 형태를 반환\n",
    "            return [qml.expval(qml.PauliZ(i)) for i in range(self.num_q_wires)]\n",
    "\n",
    "        self.qnn = circuit\n",
    "\n",
    "    def forward(self, x):\n",
    "        #x = F.silu(self.conv1(x))\n",
    "        x = F.leaky_relu(self.conv1(x))\n",
    "        x = F.max_pool2d(x, 2)\n",
    "        \n",
    "        #x = F.silu(self.conv2(x))\n",
    "        x = F.leaky_relu(self.conv2(x))\n",
    "        x = F.max_pool2d(x, 2)\n",
    "        \n",
    "        x = self.dropout(x)\n",
    "        \n",
    "        x = x.view(x.size(0), -1)\n",
    "        \n",
    "        #x = F.silu(self.fc1(x))\n",
    "        x = F.leaky_relu(self.fc1(x))\n",
    "        #x = F.dropout(x, p=0.1)\n",
    "        x = self.fn_dropout(x)\n",
    "\n",
    "        x = self.fc2(x)\n",
    "        \n",
    "        #x = self.qnn(x).view(1,)  # apply QNN\n",
    "        qnn_out = self.qnn(x) \n",
    "        x = torch.stack(qnn_out, dim=-1).to(x.device)\n",
    "        \n",
    "        x = self.fc3(x)\n",
    "        return F.log_softmax(cat((x, 1 - x), -1), -1)\n",
    "\n",
    "bc = BinaryClassifier()\n",
    "bc.to(device)"
   ]
  },
  {
   "cell_type": "code",
   "execution_count": 105,
   "id": "3bb34611",
   "metadata": {},
   "outputs": [
    {
     "data": {
      "image/png": "[encoded data removed]",
      "text/plain": [
       "<Figure size 3000x500 with 1 Axes>"
      ]
     },
     "metadata": {},
     "output_type": "display_data"
    }
   ],
   "source": [
    "dummy_x = torch.tensor([[0.0, 0.0, 0.0, 0.0, 0.0, 0.0]], dtype=torch.float64).to(device)\n",
    "specs = qml.specs(bc.qnn)(dummy_x)\n",
    "total_params = sum(p.numel() for p in bc.parameters() if p.requires_grad)\n",
    "\n",
    "# 양자 회로 그리기\n",
    "fig, ax = qml.draw_mpl(bc.qnn)(dummy_x)\n",
    "plt.title(\"Modified Quantum Circuit (Custom Ansatz)\")\n",
    "plt.show()"
   ]
  },
  {
   "cell_type": "code",
   "execution_count": 106,
   "id": "b25a57d6",
   "metadata": {},
   "outputs": [
    {
     "name": "stdout",
     "output_type": "stream",
     "text": [
      "{'device_name': 'default.qubit',\n",
      " 'diff_method': 'best',\n",
      " 'errors': {},\n",
      " 'gradient_fn': 'backprop',\n",
      " 'gradient_options': {},\n",
      " 'interface': 'torch',\n",
      " 'level': 'gradient',\n",
      " 'num_device_wires': 4,\n",
      " 'num_observables': 4,\n",
      " 'num_tape_wires': 4,\n",
      " 'num_trainable_params': 32,\n",
      " 'resources': Resources(num_wires=4,\n",
      "                        num_gates=68,\n",
      "                        gate_types=defaultdict(<class 'int'>,\n",
      "                                               {'CRX': 8,\n",
      "                                                'CRZ': 8,\n",
      "                                                'Hadamard': 8,\n",
      "                                                'PauliY': 12,\n",
      "                                                'RX': 12,\n",
      "                                                'RY': 12,\n",
      "                                                'RZ': 8}),\n",
      "                        gate_sizes=defaultdict(<class 'int'>,\n",
      "                                               {1: 52,\n",
      "                                                2: 16}),\n",
      "                        depth=25,\n",
      "                        shots=Shots(total_shots=None, shot_vector=()))}\n",
      "49554\n",
      "✅ 회로 제약 통과 — 학습을 계속합니다\n"
     ]
    }
   ],
   "source": [
    "pprint.pprint(specs, width=1)\n",
    "print(total_params)\n",
    "assert specs[\"num_tape_wires\"] <= 8,  \"❌ 큐빗 수 초과\"\n",
    "assert specs['resources'].depth <= 30, \"❌ 회로 깊이 초과\"\n",
    "assert specs[\"num_trainable_params\"]<= 60, \"❌ 학습 퀀텀 파라미터 수 초과\"\n",
    "assert total_params <= 50000, \"❌ 학습 전체 파라미터 수 초과\"\n",
    "\n",
    "print(\"✅ 회로 제약 통과 — 학습을 계속합니다\")"
   ]
  },
  {
   "cell_type": "code",
   "execution_count": 107,
   "id": "b3065daf",
   "metadata": {},
   "outputs": [],
   "source": [
    "def train_step(epochs=10, lr=0.0010, weight_decay=1e-6):\n",
    "    optimizer = AdamW(bc.parameters(), lr=lr, weight_decay=weight_decay)\n",
    "    #optimizer = RAdam(bc.parameters(), lr=lr, weight_decay=weight_decay)\n",
    "    # RAdam은 별로 성능 향상을 보이지 않음\n",
    "    loss_func  = NLLLoss()\n",
    "\n",
    "    scheduler = CosineAnnealingLR(optimizer, T_max=epochs * len(train_loader), eta_min=1e-6)\n",
    "\n",
    "    loss_history = []\n",
    "    bc.train()\n",
    "\n",
    "\n",
    "    print(f\"Starting training on {device}...\")\n",
    "    for epoch in range(epochs):\n",
    "        epoch_bar = tqdm(enumerate(train_loader),\n",
    "                        desc=f\"Epoch {epoch+1}/{epochs}\",\n",
    "                        total=len(train_loader),\n",
    "                        leave=True)\n",
    "\n",
    "        total_loss = []\n",
    "        for bidx, (data, target) in epoch_bar:\n",
    "            data = data.to(device)\n",
    "            target = target.to(device).flatten().long()\n",
    "            #target = target.to(device).float().unsqueeze(1)\n",
    "            \n",
    "            optimizer.zero_grad(set_to_none=True)\n",
    "\n",
    "            output = bc(data)\n",
    "            loss = loss_func(output, target)\n",
    "\n",
    "            total_loss.append(loss.item())\n",
    "            loss.backward()\n",
    "            optimizer.step()\n",
    "            scheduler.step()\n",
    "\n",
    "            if bidx % 100 == 0:\n",
    "                epoch_bar.set_postfix(batch=bidx,\n",
    "                                    loss=f\"{loss.item():.4f}\",\n",
    "                                    lr=f\"{optimizer.param_groups[0]['lr']:.6f}\")\n",
    "\n",
    "        avg_loss = sum(total_loss) / len(total_loss)\n",
    "        loss_history.append(avg_loss)\n",
    "\n",
    "        print(f\"Training [{100.0 * (epoch+1)/epochs:.0f}%] Loss: {avg_loss:.4f}\")\n",
    "        \n",
    "    return loss_history\n"
   ]
  },
  {
   "cell_type": "code",
   "execution_count": 108,
   "id": "8bcd5af3",
   "metadata": {},
   "outputs": [],
   "source": [
    "def test():\n",
    "    print(f\"Starting inference on {device}...\")\n",
    "    bc.eval()\n",
    "\n",
    "    all_preds, all_targets = [], []\n",
    "\n",
    "    with torch.no_grad():\n",
    "        for data, target in tqdm(test_loader,\n",
    "                                desc=\"Inference\",\n",
    "                                total=len(test_loader),\n",
    "                                leave=False):\n",
    "            data, target = data.to(device), target.to(device).flatten().long() #target.to(device).float().unsqueeze(1)\n",
    "\n",
    "            logits = bc(data)\n",
    "\n",
    "            pred = logits.argmax(dim=-1)\n",
    "            #probabilities = torch.sigmoid(logits)\n",
    "            #pred = (probabilities >= 0.5).float().squeeze(1) \n",
    "\n",
    "            all_preds.append(pred.cpu())\n",
    "            all_targets.append(target.cpu())\n",
    "\n",
    "    y_pred = torch.cat(all_preds).numpy().astype(int)\n",
    "    y_true = torch.cat(all_targets).numpy().astype(int)\n",
    "\n",
    "    #y_pred = torch.cat(all_preds).numpy().flatten().astype(int) # .flatten() 추가\n",
    "    #y_true = torch.cat(all_targets).numpy().flatten().astype(int) # .flatten() 추가\n",
    "\n",
    "    # --- 8. 평가 및 결과 저장 ---\n",
    "    # 베이스라인 평가 로직을 따릅니다. y_true는 이제 10000개 길이를 가집니다.\n",
    "    test_mask = (y_true == 0) | (y_true == 6)\n",
    "\n",
    "    print(\"total samples:\", len(y_true))\n",
    "    print(\"target samples:\", test_mask.sum())\n",
    "\n",
    "    # 모델 결과가 1인 것을 6으로 변경 (제출 형식에 맞게)\n",
    "    y_pred_mapped = np.where(y_pred == 1, 6, y_pred)\n",
    "\n",
    "    # 정확도 계산은 0/6 라벨에 대해서만 수행\n",
    "    acc = (y_pred_mapped[test_mask] == y_true[test_mask]).mean()\n",
    "    print(f\"accuracy (labels 0/6 only): {acc:.4f}\")\n",
    "\n",
    "    now = datetime.now().strftime(\"%Y%m%d_%H%M%S\")\n",
    "\n",
    "    y_pred_filename = f\"y_pred_{now}.csv\"\n",
    "\n",
    "    return y_pred_mapped, y_pred_filename, acc\n",
    "\n"
   ]
  },
  {
   "cell_type": "code",
   "execution_count": 109,
   "id": "71bf30ba",
   "metadata": {},
   "outputs": [],
   "source": [
    "def plt_loss_history(loss_history, n_repeats, epochs_per_repeat):\n",
    "    \"\"\"\n",
    "    학습 손실 이력을 시각화합니다.\n",
    "    Args:\n",
    "        loss_history (list): 에포크별 평균 손실 값 리스트\n",
    "        n_repeats (int): train_step 함수의 총 반복 횟수 (n)\n",
    "        epochs_per_repeat (int): 한 번의 train_step에서 에포크 수 (epochs)\n",
    "    \"\"\"\n",
    "    total_epochs = n_repeats * epochs_per_repeat\n",
    "    x_axis = range(1, total_epochs + 1)\n",
    "\n",
    "    plt.figure(figsize=(10, 5))\n",
    "    plt.plot(x_axis, loss_history)\n",
    "    plt.title(\"Training Loss History\")\n",
    "    plt.xlabel(\"Total Epochs\")\n",
    "    plt.ylabel(\"Loss\")\n",
    "    plt.grid(True)\n",
    "    plt.show()\n",
    "\n",
    "# 사용 예시\n",
    "# loss_history는 모든 반복(n)과 에포크(epochs)의 손실이 담긴 리스트\n",
    "# loss_history = [ ... ]\n",
    "\n",
    "# plt_loss_history(loss_history, n_repeats=15, epochs_per_repeat=20)"
   ]
  },
  {
   "cell_type": "code",
   "execution_count": 110,
   "id": "977c8b3a",
   "metadata": {},
   "outputs": [
    {
     "name": "stdout",
     "output_type": "stream",
     "text": [
      "Starting training on cuda...\n"
     ]
    },
    {
     "name": "stderr",
     "output_type": "stream",
     "text": [
      "Epoch 1/10: 100%|██████████| 240/240 [00:21<00:00, 11.34it/s, batch=200, loss=0.3623, lr=0.001474]\n"
     ]
    },
    {
     "name": "stdout",
     "output_type": "stream",
     "text": [
      "Training [10%] Loss: 0.4596\n"
     ]
    },
    {
     "name": "stderr",
     "output_type": "stream",
     "text": [
      "Epoch 2/10: 100%|██████████| 240/240 [00:21<00:00, 11.00it/s, batch=200, loss=0.2521, lr=0.001379]\n"
     ]
    },
    {
     "name": "stdout",
     "output_type": "stream",
     "text": [
      "Training [20%] Loss: 0.3544\n"
     ]
    },
    {
     "name": "stderr",
     "output_type": "stream",
     "text": [
      "Epoch 3/10: 100%|██████████| 240/240 [00:24<00:00,  9.79it/s, batch=200, loss=0.3438, lr=0.001221]\n"
     ]
    },
    {
     "name": "stdout",
     "output_type": "stream",
     "text": [
      "Training [30%] Loss: 0.3133\n"
     ]
    },
    {
     "name": "stderr",
     "output_type": "stream",
     "text": [
      "Epoch 4/10: 100%|██████████| 240/240 [00:23<00:00, 10.08it/s, batch=200, loss=0.3212, lr=0.001018]\n"
     ]
    },
    {
     "name": "stdout",
     "output_type": "stream",
     "text": [
      "Training [40%] Loss: 0.2949\n"
     ]
    },
    {
     "name": "stderr",
     "output_type": "stream",
     "text": [
      "Epoch 5/10: 100%|██████████| 240/240 [00:22<00:00, 10.90it/s, batch=200, loss=0.2745, lr=0.000789]\n"
     ]
    },
    {
     "name": "stdout",
     "output_type": "stream",
     "text": [
      "Training [50%] Loss: 0.2749\n"
     ]
    },
    {
     "name": "stderr",
     "output_type": "stream",
     "text": [
      "Epoch 6/10: 100%|██████████| 240/240 [00:21<00:00, 11.40it/s, batch=200, loss=0.2596, lr=0.000556]\n"
     ]
    },
    {
     "name": "stdout",
     "output_type": "stream",
     "text": [
      "Training [60%] Loss: 0.2542\n"
     ]
    },
    {
     "name": "stderr",
     "output_type": "stream",
     "text": [
      "Epoch 7/10: 100%|██████████| 240/240 [00:20<00:00, 11.80it/s, batch=200, loss=0.1432, lr=0.000341]\n"
     ]
    },
    {
     "name": "stdout",
     "output_type": "stream",
     "text": [
      "Training [70%] Loss: 0.2431\n"
     ]
    },
    {
     "name": "stderr",
     "output_type": "stream",
     "text": [
      "Epoch 8/10: 100%|██████████| 240/240 [00:20<00:00, 11.65it/s, batch=200, loss=0.1677, lr=0.000167]\n"
     ]
    },
    {
     "name": "stdout",
     "output_type": "stream",
     "text": [
      "Training [80%] Loss: 0.2303\n"
     ]
    },
    {
     "name": "stderr",
     "output_type": "stream",
     "text": [
      "Epoch 9/10: 100%|██████████| 240/240 [00:20<00:00, 11.67it/s, batch=200, loss=0.2905, lr=0.000050]\n"
     ]
    },
    {
     "name": "stdout",
     "output_type": "stream",
     "text": [
      "Training [90%] Loss: 0.2251\n"
     ]
    },
    {
     "name": "stderr",
     "output_type": "stream",
     "text": [
      "Epoch 10/10: 100%|██████████| 240/240 [00:20<00:00, 11.66it/s, batch=200, loss=0.2896, lr=0.000002]\n"
     ]
    },
    {
     "name": "stdout",
     "output_type": "stream",
     "text": [
      "Training [100%] Loss: 0.2225\n",
      "Starting inference on cuda...\n"
     ]
    },
    {
     "name": "stderr",
     "output_type": "stream",
     "text": [
      "                                                            \r"
     ]
    },
    {
     "name": "stdout",
     "output_type": "stream",
     "text": [
      "total samples: 10000\n",
      "target samples: 2000\n",
      "accuracy (labels 0/6 only): 0.8845\n",
      "Iteration 1: Result = 0.8845\n",
      "Starting training on cuda...\n"
     ]
    },
    {
     "name": "stderr",
     "output_type": "stream",
     "text": [
      "Epoch 1/10: 100%|██████████| 240/240 [00:20<00:00, 11.52it/s, batch=200, loss=0.3347, lr=0.001179]\n"
     ]
    },
    {
     "name": "stdout",
     "output_type": "stream",
     "text": [
      "Training [10%] Loss: 0.2505\n"
     ]
    },
    {
     "name": "stderr",
     "output_type": "stream",
     "text": [
      "Epoch 2/10: 100%|██████████| 240/240 [00:21<00:00, 11.21it/s, batch=200, loss=0.2383, lr=0.001103]\n"
     ]
    },
    {
     "name": "stdout",
     "output_type": "stream",
     "text": [
      "Training [20%] Loss: 0.2464\n"
     ]
    },
    {
     "name": "stderr",
     "output_type": "stream",
     "text": [
      "Epoch 3/10: 100%|██████████| 240/240 [00:20<00:00, 11.95it/s, batch=200, loss=0.2243, lr=0.000977]\n"
     ]
    },
    {
     "name": "stdout",
     "output_type": "stream",
     "text": [
      "Training [30%] Loss: 0.2365\n"
     ]
    },
    {
     "name": "stderr",
     "output_type": "stream",
     "text": [
      "Epoch 4/10: 100%|██████████| 240/240 [00:20<00:00, 11.83it/s, batch=200, loss=0.3278, lr=0.000815]\n"
     ]
    },
    {
     "name": "stdout",
     "output_type": "stream",
     "text": [
      "Training [40%] Loss: 0.2210\n"
     ]
    },
    {
     "name": "stderr",
     "output_type": "stream",
     "text": [
      "Epoch 5/10: 100%|██████████| 240/240 [00:19<00:00, 12.02it/s, batch=200, loss=0.1638, lr=0.000631]\n"
     ]
    },
    {
     "name": "stdout",
     "output_type": "stream",
     "text": [
      "Training [50%] Loss: 0.2175\n"
     ]
    },
    {
     "name": "stderr",
     "output_type": "stream",
     "text": [
      "Epoch 6/10: 100%|██████████| 240/240 [00:19<00:00, 12.19it/s, batch=200, loss=0.2348, lr=0.000445]\n"
     ]
    },
    {
     "name": "stdout",
     "output_type": "stream",
     "text": [
      "Training [60%] Loss: 0.2061\n"
     ]
    },
    {
     "name": "stderr",
     "output_type": "stream",
     "text": [
      "Epoch 7/10: 100%|██████████| 240/240 [00:20<00:00, 11.91it/s, batch=200, loss=0.3522, lr=0.000273]\n"
     ]
    },
    {
     "name": "stdout",
     "output_type": "stream",
     "text": [
      "Training [70%] Loss: 0.1872\n"
     ]
    },
    {
     "name": "stderr",
     "output_type": "stream",
     "text": [
      "Epoch 8/10: 100%|██████████| 240/240 [00:20<00:00, 11.97it/s, batch=200, loss=0.1186, lr=0.000134]\n"
     ]
    },
    {
     "name": "stdout",
     "output_type": "stream",
     "text": [
      "Training [80%] Loss: 0.1833\n"
     ]
    },
    {
     "name": "stderr",
     "output_type": "stream",
     "text": [
      "Epoch 9/10: 100%|██████████| 240/240 [00:20<00:00, 11.98it/s, batch=200, loss=0.1770, lr=0.000041]\n"
     ]
    },
    {
     "name": "stdout",
     "output_type": "stream",
     "text": [
      "Training [90%] Loss: 0.1800\n"
     ]
    },
    {
     "name": "stderr",
     "output_type": "stream",
     "text": [
      "Epoch 10/10: 100%|██████████| 240/240 [00:20<00:00, 11.93it/s, batch=200, loss=0.2071, lr=0.000002]\n"
     ]
    },
    {
     "name": "stdout",
     "output_type": "stream",
     "text": [
      "Training [100%] Loss: 0.1755\n",
      "Starting inference on cuda...\n"
     ]
    },
    {
     "name": "stderr",
     "output_type": "stream",
     "text": [
      "                                                            \r"
     ]
    },
    {
     "name": "stdout",
     "output_type": "stream",
     "text": [
      "total samples: 10000\n",
      "target samples: 2000\n",
      "accuracy (labels 0/6 only): 0.8890\n",
      "Iteration 2: Result = 0.8890\n",
      "Starting training on cuda...\n"
     ]
    },
    {
     "name": "stderr",
     "output_type": "stream",
     "text": [
      "Epoch 1/10: 100%|██████████| 240/240 [00:20<00:00, 11.80it/s, batch=200, loss=0.2002, lr=0.000943]\n"
     ]
    },
    {
     "name": "stdout",
     "output_type": "stream",
     "text": [
      "Training [10%] Loss: 0.2098\n"
     ]
    },
    {
     "name": "stderr",
     "output_type": "stream",
     "text": [
      "Epoch 2/10: 100%|██████████| 240/240 [00:20<00:00, 11.88it/s, batch=200, loss=0.1961, lr=0.000882]\n"
     ]
    },
    {
     "name": "stdout",
     "output_type": "stream",
     "text": [
      "Training [20%] Loss: 0.2033\n"
     ]
    },
    {
     "name": "stderr",
     "output_type": "stream",
     "text": [
      "Epoch 3/10: 100%|██████████| 240/240 [00:21<00:00, 11.06it/s, batch=200, loss=0.2180, lr=0.000782]\n"
     ]
    },
    {
     "name": "stdout",
     "output_type": "stream",
     "text": [
      "Training [30%] Loss: 0.1988\n"
     ]
    },
    {
     "name": "stderr",
     "output_type": "stream",
     "text": [
      "Epoch 4/10: 100%|██████████| 240/240 [00:23<00:00, 10.15it/s, batch=200, loss=0.2567, lr=0.000652]\n"
     ]
    },
    {
     "name": "stdout",
     "output_type": "stream",
     "text": [
      "Training [40%] Loss: 0.1931\n"
     ]
    },
    {
     "name": "stderr",
     "output_type": "stream",
     "text": [
      "Epoch 5/10: 100%|██████████| 240/240 [00:23<00:00, 10.32it/s, batch=200, loss=0.1156, lr=0.000505]\n"
     ]
    },
    {
     "name": "stdout",
     "output_type": "stream",
     "text": [
      "Training [50%] Loss: 0.1861\n"
     ]
    },
    {
     "name": "stderr",
     "output_type": "stream",
     "text": [
      "Epoch 6/10: 100%|██████████| 240/240 [00:23<00:00, 10.22it/s, batch=200, loss=0.1432, lr=0.000356]\n"
     ]
    },
    {
     "name": "stdout",
     "output_type": "stream",
     "text": [
      "Training [60%] Loss: 0.1745\n"
     ]
    },
    {
     "name": "stderr",
     "output_type": "stream",
     "text": [
      "Epoch 7/10: 100%|██████████| 240/240 [00:23<00:00, 10.20it/s, batch=200, loss=0.0673, lr=0.000219]\n"
     ]
    },
    {
     "name": "stdout",
     "output_type": "stream",
     "text": [
      "Training [70%] Loss: 0.1650\n"
     ]
    },
    {
     "name": "stderr",
     "output_type": "stream",
     "text": [
      "Epoch 8/10: 100%|██████████| 240/240 [00:21<00:00, 10.98it/s, batch=200, loss=0.1688, lr=0.000107]\n"
     ]
    },
    {
     "name": "stdout",
     "output_type": "stream",
     "text": [
      "Training [80%] Loss: 0.1563\n"
     ]
    },
    {
     "name": "stderr",
     "output_type": "stream",
     "text": [
      "Epoch 9/10: 100%|██████████| 240/240 [00:22<00:00, 10.78it/s, batch=200, loss=0.1786, lr=0.000033]\n"
     ]
    },
    {
     "name": "stdout",
     "output_type": "stream",
     "text": [
      "Training [90%] Loss: 0.1525\n"
     ]
    },
    {
     "name": "stderr",
     "output_type": "stream",
     "text": [
      "Epoch 10/10: 100%|██████████| 240/240 [00:18<00:00, 12.78it/s, batch=200, loss=0.1391, lr=0.000002]\n"
     ]
    },
    {
     "name": "stdout",
     "output_type": "stream",
     "text": [
      "Training [100%] Loss: 0.1498\n",
      "Starting inference on cuda...\n"
     ]
    },
    {
     "name": "stderr",
     "output_type": "stream",
     "text": [
      "                                                            \r"
     ]
    },
    {
     "name": "stdout",
     "output_type": "stream",
     "text": [
      "total samples: 10000\n",
      "target samples: 2000\n",
      "accuracy (labels 0/6 only): 0.8925\n",
      "Iteration 3: Result = 0.8925\n",
      "Starting training on cuda...\n"
     ]
    },
    {
     "name": "stderr",
     "output_type": "stream",
     "text": [
      "Epoch 1/10: 100%|██████████| 240/240 [00:18<00:00, 12.87it/s, batch=200, loss=0.1040, lr=0.000755]\n"
     ]
    },
    {
     "name": "stdout",
     "output_type": "stream",
     "text": [
      "Training [10%] Loss: 0.1806\n"
     ]
    },
    {
     "name": "stderr",
     "output_type": "stream",
     "text": [
      "Epoch 2/10: 100%|██████████| 240/240 [00:22<00:00, 10.77it/s, batch=200, loss=0.3491, lr=0.000706]\n"
     ]
    },
    {
     "name": "stdout",
     "output_type": "stream",
     "text": [
      "Training [20%] Loss: 0.1779\n"
     ]
    },
    {
     "name": "stderr",
     "output_type": "stream",
     "text": [
      "Epoch 3/10: 100%|██████████| 240/240 [00:18<00:00, 13.11it/s, batch=200, loss=0.2167, lr=0.000625]\n"
     ]
    },
    {
     "name": "stdout",
     "output_type": "stream",
     "text": [
      "Training [30%] Loss: 0.1733\n"
     ]
    },
    {
     "name": "stderr",
     "output_type": "stream",
     "text": [
      "Epoch 4/10: 100%|██████████| 240/240 [00:18<00:00, 12.74it/s, batch=200, loss=0.1484, lr=0.000521]\n"
     ]
    },
    {
     "name": "stdout",
     "output_type": "stream",
     "text": [
      "Training [40%] Loss: 0.1644\n"
     ]
    },
    {
     "name": "stderr",
     "output_type": "stream",
     "text": [
      "Epoch 5/10: 100%|██████████| 240/240 [00:18<00:00, 13.02it/s, batch=200, loss=0.0502, lr=0.000404]\n"
     ]
    },
    {
     "name": "stdout",
     "output_type": "stream",
     "text": [
      "Training [50%] Loss: 0.1528\n"
     ]
    },
    {
     "name": "stderr",
     "output_type": "stream",
     "text": [
      "Epoch 6/10: 100%|██████████| 240/240 [00:18<00:00, 13.27it/s, batch=200, loss=0.1833, lr=0.000285]\n"
     ]
    },
    {
     "name": "stdout",
     "output_type": "stream",
     "text": [
      "Training [60%] Loss: 0.1482\n"
     ]
    },
    {
     "name": "stderr",
     "output_type": "stream",
     "text": [
      "Epoch 7/10: 100%|██████████| 240/240 [00:17<00:00, 13.52it/s, batch=200, loss=0.0775, lr=0.000175]\n"
     ]
    },
    {
     "name": "stdout",
     "output_type": "stream",
     "text": [
      "Training [70%] Loss: 0.1399\n"
     ]
    },
    {
     "name": "stderr",
     "output_type": "stream",
     "text": [
      "Epoch 8/10: 100%|██████████| 240/240 [00:18<00:00, 13.27it/s, batch=200, loss=0.1975, lr=0.000086]\n"
     ]
    },
    {
     "name": "stdout",
     "output_type": "stream",
     "text": [
      "Training [80%] Loss: 0.1299\n"
     ]
    },
    {
     "name": "stderr",
     "output_type": "stream",
     "text": [
      "Epoch 9/10: 100%|██████████| 240/240 [00:17<00:00, 13.45it/s, batch=200, loss=0.1853, lr=0.000026]\n"
     ]
    },
    {
     "name": "stdout",
     "output_type": "stream",
     "text": [
      "Training [90%] Loss: 0.1277\n"
     ]
    },
    {
     "name": "stderr",
     "output_type": "stream",
     "text": [
      "Epoch 10/10: 100%|██████████| 240/240 [00:18<00:00, 13.11it/s, batch=200, loss=0.1250, lr=0.000001]\n"
     ]
    },
    {
     "name": "stdout",
     "output_type": "stream",
     "text": [
      "Training [100%] Loss: 0.1300\n",
      "Starting inference on cuda...\n"
     ]
    },
    {
     "name": "stderr",
     "output_type": "stream",
     "text": [
      "                                                            \r"
     ]
    },
    {
     "name": "stdout",
     "output_type": "stream",
     "text": [
      "total samples: 10000\n",
      "target samples: 2000\n",
      "accuracy (labels 0/6 only): 0.8890\n",
      "Iteration 4: Result = 0.8890\n",
      "Starting training on cuda...\n"
     ]
    },
    {
     "name": "stderr",
     "output_type": "stream",
     "text": [
      "Epoch 1/10: 100%|██████████| 240/240 [00:18<00:00, 12.98it/s, batch=200, loss=0.1256, lr=0.000604]\n"
     ]
    },
    {
     "name": "stdout",
     "output_type": "stream",
     "text": [
      "Training [10%] Loss: 0.1513\n"
     ]
    },
    {
     "name": "stderr",
     "output_type": "stream",
     "text": [
      "Epoch 2/10: 100%|██████████| 240/240 [00:18<00:00, 13.13it/s, batch=200, loss=0.1483, lr=0.000565]\n"
     ]
    },
    {
     "name": "stdout",
     "output_type": "stream",
     "text": [
      "Training [20%] Loss: 0.1509\n"
     ]
    },
    {
     "name": "stderr",
     "output_type": "stream",
     "text": [
      "Epoch 3/10: 100%|██████████| 240/240 [00:18<00:00, 13.23it/s, batch=200, loss=0.1150, lr=0.000500]\n"
     ]
    },
    {
     "name": "stdout",
     "output_type": "stream",
     "text": [
      "Training [30%] Loss: 0.1471\n"
     ]
    },
    {
     "name": "stderr",
     "output_type": "stream",
     "text": [
      "Epoch 4/10: 100%|██████████| 240/240 [00:18<00:00, 13.15it/s, batch=200, loss=0.1312, lr=0.000417]\n"
     ]
    },
    {
     "name": "stdout",
     "output_type": "stream",
     "text": [
      "Training [40%] Loss: 0.1438\n"
     ]
    },
    {
     "name": "stderr",
     "output_type": "stream",
     "text": [
      "Epoch 5/10: 100%|██████████| 240/240 [00:18<00:00, 13.21it/s, batch=200, loss=0.0575, lr=0.000323]\n"
     ]
    },
    {
     "name": "stdout",
     "output_type": "stream",
     "text": [
      "Training [50%] Loss: 0.1370\n"
     ]
    },
    {
     "name": "stderr",
     "output_type": "stream",
     "text": [
      "Epoch 6/10: 100%|██████████| 240/240 [00:18<00:00, 13.16it/s, batch=200, loss=0.1317, lr=0.000228]\n"
     ]
    },
    {
     "name": "stdout",
     "output_type": "stream",
     "text": [
      "Training [60%] Loss: 0.1314\n"
     ]
    },
    {
     "name": "stderr",
     "output_type": "stream",
     "text": [
      "Epoch 7/10: 100%|██████████| 240/240 [00:18<00:00, 13.14it/s, batch=200, loss=0.1118, lr=0.000140]\n"
     ]
    },
    {
     "name": "stdout",
     "output_type": "stream",
     "text": [
      "Training [70%] Loss: 0.1200\n"
     ]
    },
    {
     "name": "stderr",
     "output_type": "stream",
     "text": [
      "Epoch 8/10: 100%|██████████| 240/240 [00:18<00:00, 13.12it/s, batch=200, loss=0.0687, lr=0.000069]\n"
     ]
    },
    {
     "name": "stdout",
     "output_type": "stream",
     "text": [
      "Training [80%] Loss: 0.1164\n"
     ]
    },
    {
     "name": "stderr",
     "output_type": "stream",
     "text": [
      "Epoch 9/10: 100%|██████████| 240/240 [00:19<00:00, 12.40it/s, batch=200, loss=0.0697, lr=0.000021]\n"
     ]
    },
    {
     "name": "stdout",
     "output_type": "stream",
     "text": [
      "Training [90%] Loss: 0.1103\n"
     ]
    },
    {
     "name": "stderr",
     "output_type": "stream",
     "text": [
      "Epoch 10/10: 100%|██████████| 240/240 [00:18<00:00, 12.78it/s, batch=200, loss=0.1060, lr=0.000001]\n"
     ]
    },
    {
     "name": "stdout",
     "output_type": "stream",
     "text": [
      "Training [100%] Loss: 0.1147\n",
      "Starting inference on cuda...\n"
     ]
    },
    {
     "name": "stderr",
     "output_type": "stream",
     "text": [
      "                                                            \r"
     ]
    },
    {
     "name": "stdout",
     "output_type": "stream",
     "text": [
      "total samples: 10000\n",
      "target samples: 2000\n",
      "accuracy (labels 0/6 only): 0.8865\n",
      "Iteration 5: Result = 0.8865\n",
      "Starting training on cuda...\n"
     ]
    },
    {
     "name": "stderr",
     "output_type": "stream",
     "text": [
      "Epoch 1/10: 100%|██████████| 240/240 [00:18<00:00, 12.96it/s, batch=200, loss=0.0986, lr=0.000483]\n"
     ]
    },
    {
     "name": "stdout",
     "output_type": "stream",
     "text": [
      "Training [10%] Loss: 0.1350\n"
     ]
    },
    {
     "name": "stderr",
     "output_type": "stream",
     "text": [
      "Epoch 2/10: 100%|██████████| 240/240 [00:18<00:00, 13.17it/s, batch=200, loss=0.0591, lr=0.000452]\n"
     ]
    },
    {
     "name": "stdout",
     "output_type": "stream",
     "text": [
      "Training [20%] Loss: 0.1290\n"
     ]
    },
    {
     "name": "stderr",
     "output_type": "stream",
     "text": [
      "Epoch 3/10: 100%|██████████| 240/240 [00:18<00:00, 13.19it/s, batch=200, loss=0.1761, lr=0.000400]\n"
     ]
    },
    {
     "name": "stdout",
     "output_type": "stream",
     "text": [
      "Training [30%] Loss: 0.1233\n"
     ]
    },
    {
     "name": "stderr",
     "output_type": "stream",
     "text": [
      "Epoch 4/10: 100%|██████████| 240/240 [00:18<00:00, 13.14it/s, batch=200, loss=0.0589, lr=0.000334]\n"
     ]
    },
    {
     "name": "stdout",
     "output_type": "stream",
     "text": [
      "Training [40%] Loss: 0.1245\n"
     ]
    },
    {
     "name": "stderr",
     "output_type": "stream",
     "text": [
      "Epoch 5/10: 100%|██████████| 240/240 [00:18<00:00, 13.23it/s, batch=200, loss=0.0486, lr=0.000259]\n"
     ]
    },
    {
     "name": "stdout",
     "output_type": "stream",
     "text": [
      "Training [50%] Loss: 0.1224\n"
     ]
    },
    {
     "name": "stderr",
     "output_type": "stream",
     "text": [
      "Epoch 6/10: 100%|██████████| 240/240 [00:18<00:00, 13.09it/s, batch=200, loss=0.0801, lr=0.000182]\n"
     ]
    },
    {
     "name": "stdout",
     "output_type": "stream",
     "text": [
      "Training [60%] Loss: 0.1133\n"
     ]
    },
    {
     "name": "stderr",
     "output_type": "stream",
     "text": [
      "Epoch 7/10: 100%|██████████| 240/240 [00:18<00:00, 13.14it/s, batch=200, loss=0.0361, lr=0.000112]\n"
     ]
    },
    {
     "name": "stdout",
     "output_type": "stream",
     "text": [
      "Training [70%] Loss: 0.1095\n"
     ]
    },
    {
     "name": "stderr",
     "output_type": "stream",
     "text": [
      "Epoch 8/10: 100%|██████████| 240/240 [00:18<00:00, 13.05it/s, batch=200, loss=0.0410, lr=0.000055]\n"
     ]
    },
    {
     "name": "stdout",
     "output_type": "stream",
     "text": [
      "Training [80%] Loss: 0.1045\n"
     ]
    },
    {
     "name": "stderr",
     "output_type": "stream",
     "text": [
      "Epoch 9/10: 100%|██████████| 240/240 [00:18<00:00, 13.18it/s, batch=200, loss=0.1192, lr=0.000017]\n"
     ]
    },
    {
     "name": "stdout",
     "output_type": "stream",
     "text": [
      "Training [90%] Loss: 0.1072\n"
     ]
    },
    {
     "name": "stderr",
     "output_type": "stream",
     "text": [
      "Epoch 10/10: 100%|██████████| 240/240 [00:18<00:00, 13.19it/s, batch=200, loss=0.0946, lr=0.000001]\n"
     ]
    },
    {
     "name": "stdout",
     "output_type": "stream",
     "text": [
      "Training [100%] Loss: 0.1051\n",
      "Starting inference on cuda...\n"
     ]
    },
    {
     "name": "stderr",
     "output_type": "stream",
     "text": [
      "                                                            \r"
     ]
    },
    {
     "name": "stdout",
     "output_type": "stream",
     "text": [
      "total samples: 10000\n",
      "target samples: 2000\n",
      "accuracy (labels 0/6 only): 0.8875\n",
      "Iteration 6: Result = 0.8875\n",
      "Starting training on cuda...\n"
     ]
    },
    {
     "name": "stderr",
     "output_type": "stream",
     "text": [
      "Epoch 1/10: 100%|██████████| 240/240 [00:18<00:00, 13.15it/s, batch=200, loss=0.1369, lr=0.000386]\n"
     ]
    },
    {
     "name": "stdout",
     "output_type": "stream",
     "text": [
      "Training [10%] Loss: 0.1215\n"
     ]
    },
    {
     "name": "stderr",
     "output_type": "stream",
     "text": [
      "Epoch 2/10: 100%|██████████| 240/240 [00:18<00:00, 12.89it/s, batch=200, loss=0.0804, lr=0.000361]\n"
     ]
    },
    {
     "name": "stdout",
     "output_type": "stream",
     "text": [
      "Training [20%] Loss: 0.1183\n"
     ]
    },
    {
     "name": "stderr",
     "output_type": "stream",
     "text": [
      "Epoch 3/10: 100%|██████████| 240/240 [00:19<00:00, 12.53it/s, batch=200, loss=0.0477, lr=0.000320]\n"
     ]
    },
    {
     "name": "stdout",
     "output_type": "stream",
     "text": [
      "Training [30%] Loss: 0.1077\n"
     ]
    },
    {
     "name": "stderr",
     "output_type": "stream",
     "text": [
      "Epoch 4/10: 100%|██████████| 240/240 [00:18<00:00, 13.21it/s, batch=200, loss=0.1123, lr=0.000267]\n"
     ]
    },
    {
     "name": "stdout",
     "output_type": "stream",
     "text": [
      "Training [40%] Loss: 0.1087\n"
     ]
    },
    {
     "name": "stderr",
     "output_type": "stream",
     "text": [
      "Epoch 5/10: 100%|██████████| 240/240 [00:18<00:00, 13.22it/s, batch=200, loss=0.1472, lr=0.000207]\n"
     ]
    },
    {
     "name": "stdout",
     "output_type": "stream",
     "text": [
      "Training [50%] Loss: 0.1088\n"
     ]
    },
    {
     "name": "stderr",
     "output_type": "stream",
     "text": [
      "Epoch 6/10: 100%|██████████| 240/240 [00:18<00:00, 13.29it/s, batch=200, loss=0.0391, lr=0.000146]\n"
     ]
    },
    {
     "name": "stdout",
     "output_type": "stream",
     "text": [
      "Training [60%] Loss: 0.1049\n"
     ]
    },
    {
     "name": "stderr",
     "output_type": "stream",
     "text": [
      "Epoch 7/10: 100%|██████████| 240/240 [00:18<00:00, 13.21it/s, batch=200, loss=0.2275, lr=0.000090]\n"
     ]
    },
    {
     "name": "stdout",
     "output_type": "stream",
     "text": [
      "Training [70%] Loss: 0.0994\n"
     ]
    },
    {
     "name": "stderr",
     "output_type": "stream",
     "text": [
      "Epoch 8/10: 100%|██████████| 240/240 [00:18<00:00, 13.12it/s, batch=200, loss=0.1491, lr=0.000045]\n"
     ]
    },
    {
     "name": "stdout",
     "output_type": "stream",
     "text": [
      "Training [80%] Loss: 0.0937\n"
     ]
    },
    {
     "name": "stderr",
     "output_type": "stream",
     "text": [
      "Epoch 9/10: 100%|██████████| 240/240 [00:19<00:00, 12.17it/s, batch=200, loss=0.1164, lr=0.000014]\n"
     ]
    },
    {
     "name": "stdout",
     "output_type": "stream",
     "text": [
      "Training [90%] Loss: 0.0922\n"
     ]
    },
    {
     "name": "stderr",
     "output_type": "stream",
     "text": [
      "Epoch 10/10: 100%|██████████| 240/240 [00:19<00:00, 12.61it/s, batch=200, loss=0.1982, lr=0.000001]\n"
     ]
    },
    {
     "name": "stdout",
     "output_type": "stream",
     "text": [
      "Training [100%] Loss: 0.1010\n",
      "Starting inference on cuda...\n"
     ]
    },
    {
     "name": "stderr",
     "output_type": "stream",
     "text": [
      "                                                            \r"
     ]
    },
    {
     "name": "stdout",
     "output_type": "stream",
     "text": [
      "total samples: 10000\n",
      "target samples: 2000\n",
      "accuracy (labels 0/6 only): 0.8880\n",
      "Iteration 7: Result = 0.8880\n",
      "Starting training on cuda...\n"
     ]
    },
    {
     "name": "stderr",
     "output_type": "stream",
     "text": [
      "Epoch 1/10: 100%|██████████| 240/240 [00:19<00:00, 12.04it/s, batch=200, loss=0.0608, lr=0.000309]\n"
     ]
    },
    {
     "name": "stdout",
     "output_type": "stream",
     "text": [
      "Training [10%] Loss: 0.1072\n"
     ]
    },
    {
     "name": "stderr",
     "output_type": "stream",
     "text": [
      "Epoch 2/10: 100%|██████████| 240/240 [00:20<00:00, 12.00it/s, batch=200, loss=0.1360, lr=0.000289]\n"
     ]
    },
    {
     "name": "stdout",
     "output_type": "stream",
     "text": [
      "Training [20%] Loss: 0.1047\n"
     ]
    },
    {
     "name": "stderr",
     "output_type": "stream",
     "text": [
      "Epoch 3/10: 100%|██████████| 240/240 [00:18<00:00, 12.74it/s, batch=200, loss=0.1908, lr=0.000256]\n"
     ]
    },
    {
     "name": "stdout",
     "output_type": "stream",
     "text": [
      "Training [30%] Loss: 0.0985\n"
     ]
    },
    {
     "name": "stderr",
     "output_type": "stream",
     "text": [
      "Epoch 4/10: 100%|██████████| 240/240 [00:17<00:00, 13.39it/s, batch=200, loss=0.0822, lr=0.000214]\n"
     ]
    },
    {
     "name": "stdout",
     "output_type": "stream",
     "text": [
      "Training [40%] Loss: 0.1072\n"
     ]
    },
    {
     "name": "stderr",
     "output_type": "stream",
     "text": [
      "Epoch 5/10: 100%|██████████| 240/240 [00:18<00:00, 13.06it/s, batch=200, loss=0.0814, lr=0.000166]\n"
     ]
    },
    {
     "name": "stdout",
     "output_type": "stream",
     "text": [
      "Training [50%] Loss: 0.0907\n"
     ]
    },
    {
     "name": "stderr",
     "output_type": "stream",
     "text": [
      "Epoch 6/10: 100%|██████████| 240/240 [00:19<00:00, 12.09it/s, batch=200, loss=0.1598, lr=0.000117]\n"
     ]
    },
    {
     "name": "stdout",
     "output_type": "stream",
     "text": [
      "Training [60%] Loss: 0.0945\n"
     ]
    },
    {
     "name": "stderr",
     "output_type": "stream",
     "text": [
      "Epoch 7/10: 100%|██████████| 240/240 [00:26<00:00,  9.19it/s, batch=200, loss=0.0434, lr=0.000072]\n"
     ]
    },
    {
     "name": "stdout",
     "output_type": "stream",
     "text": [
      "Training [70%] Loss: 0.0969\n"
     ]
    },
    {
     "name": "stderr",
     "output_type": "stream",
     "text": [
      "Epoch 8/10: 100%|██████████| 240/240 [00:19<00:00, 12.61it/s, batch=200, loss=0.1080, lr=0.000036]\n"
     ]
    },
    {
     "name": "stdout",
     "output_type": "stream",
     "text": [
      "Training [80%] Loss: 0.0908\n"
     ]
    },
    {
     "name": "stderr",
     "output_type": "stream",
     "text": [
      "Epoch 9/10:  70%|██████▉   | 167/240 [00:13<00:06, 12.04it/s, batch=100, loss=0.1494, lr=0.000020]\n"
     ]
    },
    {
     "ename": "KeyboardInterrupt",
     "evalue": "",
     "output_type": "error",
     "traceback": [
      "\u001b[31m---------------------------------------------------------------------------\u001b[39m",
      "\u001b[31mKeyboardInterrupt\u001b[39m                         Traceback (most recent call last)",
      "\u001b[36mCell\u001b[39m\u001b[36m \u001b[39m\u001b[32mIn[110]\u001b[39m\u001b[32m, line 12\u001b[39m\n\u001b[32m     10\u001b[39m \u001b[38;5;28;01mwhile\u001b[39;00m result < \u001b[32m0.92\u001b[39m:\n\u001b[32m     11\u001b[39m     lr = \u001b[32m0.0015\u001b[39m * (\u001b[32m0.80\u001b[39m**n)\n\u001b[32m---> \u001b[39m\u001b[32m12\u001b[39m     loss_history.extend(\u001b[43mtrain_step\u001b[49m\u001b[43m(\u001b[49m\u001b[43mepochs\u001b[49m\u001b[43m=\u001b[49m\u001b[43mepochs\u001b[49m\u001b[43m,\u001b[49m\u001b[43m \u001b[49m\u001b[43mlr\u001b[49m\u001b[43m=\u001b[49m\u001b[43mlr\u001b[49m\u001b[43m,\u001b[49m\u001b[43m \u001b[49m\u001b[43mweight_decay\u001b[49m\u001b[43m=\u001b[49m\u001b[43mbatch_size\u001b[49m\u001b[43m \u001b[49m\u001b[43m*\u001b[49m\u001b[43m \u001b[49m\u001b[32;43m1e-6\u001b[39;49m\u001b[43m)\u001b[49m)\n\u001b[32m     13\u001b[39m     y_pred_mapped, y_pred_filename, result = test()\n\u001b[32m     14\u001b[39m     \u001b[38;5;28mprint\u001b[39m(\u001b[33mf\u001b[39m\u001b[33m\"\u001b[39m\u001b[33mIteration \u001b[39m\u001b[38;5;132;01m{\u001b[39;00mn+\u001b[32m1\u001b[39m\u001b[38;5;132;01m}\u001b[39;00m\u001b[33m: Result = \u001b[39m\u001b[38;5;132;01m{\u001b[39;00mresult\u001b[38;5;132;01m:\u001b[39;00m\u001b[33m.4f\u001b[39m\u001b[38;5;132;01m}\u001b[39;00m\u001b[33m\"\u001b[39m)\n",
      "\u001b[36mCell\u001b[39m\u001b[36m \u001b[39m\u001b[32mIn[107]\u001b[39m\u001b[32m, line 28\u001b[39m, in \u001b[36mtrain_step\u001b[39m\u001b[34m(epochs, lr, weight_decay)\u001b[39m\n\u001b[32m     24\u001b[39m \u001b[38;5;66;03m#target = target.to(device).float().unsqueeze(1)\u001b[39;00m\n\u001b[32m     26\u001b[39m optimizer.zero_grad(set_to_none=\u001b[38;5;28;01mTrue\u001b[39;00m)\n\u001b[32m---> \u001b[39m\u001b[32m28\u001b[39m output = \u001b[43mbc\u001b[49m\u001b[43m(\u001b[49m\u001b[43mdata\u001b[49m\u001b[43m)\u001b[49m\n\u001b[32m     29\u001b[39m loss = loss_func(output, target)\n\u001b[32m     31\u001b[39m total_loss.append(loss.item())\n",
      "\u001b[36mFile \u001b[39m\u001b[32md:\\miniconda3\\Lib\\site-packages\\torch\\nn\\modules\\module.py:1736\u001b[39m, in \u001b[36mModule._wrapped_call_impl\u001b[39m\u001b[34m(self, *args, **kwargs)\u001b[39m\n\u001b[32m   1734\u001b[39m     \u001b[38;5;28;01mreturn\u001b[39;00m \u001b[38;5;28mself\u001b[39m._compiled_call_impl(*args, **kwargs)  \u001b[38;5;66;03m# type: ignore[misc]\u001b[39;00m\n\u001b[32m   1735\u001b[39m \u001b[38;5;28;01melse\u001b[39;00m:\n\u001b[32m-> \u001b[39m\u001b[32m1736\u001b[39m     \u001b[38;5;28;01mreturn\u001b[39;00m \u001b[38;5;28;43mself\u001b[39;49m\u001b[43m.\u001b[49m\u001b[43m_call_impl\u001b[49m\u001b[43m(\u001b[49m\u001b[43m*\u001b[49m\u001b[43margs\u001b[49m\u001b[43m,\u001b[49m\u001b[43m \u001b[49m\u001b[43m*\u001b[49m\u001b[43m*\u001b[49m\u001b[43mkwargs\u001b[49m\u001b[43m)\u001b[49m\n",
      "\u001b[36mFile \u001b[39m\u001b[32md:\\miniconda3\\Lib\\site-packages\\torch\\nn\\modules\\module.py:1747\u001b[39m, in \u001b[36mModule._call_impl\u001b[39m\u001b[34m(self, *args, **kwargs)\u001b[39m\n\u001b[32m   1742\u001b[39m \u001b[38;5;66;03m# If we don't have any hooks, we want to skip the rest of the logic in\u001b[39;00m\n\u001b[32m   1743\u001b[39m \u001b[38;5;66;03m# this function, and just call forward.\u001b[39;00m\n\u001b[32m   1744\u001b[39m \u001b[38;5;28;01mif\u001b[39;00m \u001b[38;5;129;01mnot\u001b[39;00m (\u001b[38;5;28mself\u001b[39m._backward_hooks \u001b[38;5;129;01mor\u001b[39;00m \u001b[38;5;28mself\u001b[39m._backward_pre_hooks \u001b[38;5;129;01mor\u001b[39;00m \u001b[38;5;28mself\u001b[39m._forward_hooks \u001b[38;5;129;01mor\u001b[39;00m \u001b[38;5;28mself\u001b[39m._forward_pre_hooks\n\u001b[32m   1745\u001b[39m         \u001b[38;5;129;01mor\u001b[39;00m _global_backward_pre_hooks \u001b[38;5;129;01mor\u001b[39;00m _global_backward_hooks\n\u001b[32m   1746\u001b[39m         \u001b[38;5;129;01mor\u001b[39;00m _global_forward_hooks \u001b[38;5;129;01mor\u001b[39;00m _global_forward_pre_hooks):\n\u001b[32m-> \u001b[39m\u001b[32m1747\u001b[39m     \u001b[38;5;28;01mreturn\u001b[39;00m \u001b[43mforward_call\u001b[49m\u001b[43m(\u001b[49m\u001b[43m*\u001b[49m\u001b[43margs\u001b[49m\u001b[43m,\u001b[49m\u001b[43m \u001b[49m\u001b[43m*\u001b[49m\u001b[43m*\u001b[49m\u001b[43mkwargs\u001b[49m\u001b[43m)\u001b[49m\n\u001b[32m   1749\u001b[39m result = \u001b[38;5;28;01mNone\u001b[39;00m\n\u001b[32m   1750\u001b[39m called_always_called_hooks = \u001b[38;5;28mset\u001b[39m()\n",
      "\u001b[36mCell\u001b[39m\u001b[36m \u001b[39m\u001b[32mIn[104]\u001b[39m\u001b[32m, line 101\u001b[39m, in \u001b[36mBinaryClassifier.forward\u001b[39m\u001b[34m(self, x)\u001b[39m\n\u001b[32m     98\u001b[39m x = \u001b[38;5;28mself\u001b[39m.fc2(x)\n\u001b[32m    100\u001b[39m \u001b[38;5;66;03m#x = self.qnn(x).view(1,)  # apply QNN\u001b[39;00m\n\u001b[32m--> \u001b[39m\u001b[32m101\u001b[39m qnn_out = \u001b[38;5;28;43mself\u001b[39;49m\u001b[43m.\u001b[49m\u001b[43mqnn\u001b[49m\u001b[43m(\u001b[49m\u001b[43mx\u001b[49m\u001b[43m)\u001b[49m \n\u001b[32m    102\u001b[39m x = torch.stack(qnn_out, dim=-\u001b[32m1\u001b[39m).to(x.device)\n\u001b[32m    104\u001b[39m x = \u001b[38;5;28mself\u001b[39m.fc3(x)\n",
      "\u001b[36mFile \u001b[39m\u001b[32md:\\miniconda3\\Lib\\site-packages\\pennylane\\workflow\\qnode.py:922\u001b[39m, in \u001b[36mQNode.__call__\u001b[39m\u001b[34m(self, *args, **kwargs)\u001b[39m\n\u001b[32m    919\u001b[39m     \u001b[38;5;28;01mfrom\u001b[39;00m\u001b[38;5;250m \u001b[39m\u001b[34;01m.\u001b[39;00m\u001b[34;01m_capture_qnode\u001b[39;00m\u001b[38;5;250m \u001b[39m\u001b[38;5;28;01mimport\u001b[39;00m capture_qnode  \u001b[38;5;66;03m# pylint: disable=import-outside-toplevel\u001b[39;00m\n\u001b[32m    921\u001b[39m     \u001b[38;5;28;01mreturn\u001b[39;00m capture_qnode(\u001b[38;5;28mself\u001b[39m, *args, **kwargs)\n\u001b[32m--> \u001b[39m\u001b[32m922\u001b[39m \u001b[38;5;28;01mreturn\u001b[39;00m \u001b[38;5;28;43mself\u001b[39;49m\u001b[43m.\u001b[49m\u001b[43m_impl_call\u001b[49m\u001b[43m(\u001b[49m\u001b[43m*\u001b[49m\u001b[43margs\u001b[49m\u001b[43m,\u001b[49m\u001b[43m \u001b[49m\u001b[43m*\u001b[49m\u001b[43m*\u001b[49m\u001b[43mkwargs\u001b[49m\u001b[43m)\u001b[49m\n",
      "\u001b[36mFile \u001b[39m\u001b[32md:\\miniconda3\\Lib\\site-packages\\pennylane\\workflow\\qnode.py:895\u001b[39m, in \u001b[36mQNode._impl_call\u001b[39m\u001b[34m(self, *args, **kwargs)\u001b[39m\n\u001b[32m    892\u001b[39m \u001b[38;5;66;03m# Calculate the classical jacobians if necessary\u001b[39;00m\n\u001b[32m    893\u001b[39m \u001b[38;5;28mself\u001b[39m._transform_program.set_classical_component(\u001b[38;5;28mself\u001b[39m, args, kwargs)\n\u001b[32m--> \u001b[39m\u001b[32m895\u001b[39m res = \u001b[43mexecute\u001b[49m\u001b[43m(\u001b[49m\n\u001b[32m    896\u001b[39m \u001b[43m    \u001b[49m\u001b[43m(\u001b[49m\u001b[43mtape\u001b[49m\u001b[43m,\u001b[49m\u001b[43m)\u001b[49m\u001b[43m,\u001b[49m\n\u001b[32m    897\u001b[39m \u001b[43m    \u001b[49m\u001b[43mdevice\u001b[49m\u001b[43m=\u001b[49m\u001b[38;5;28;43mself\u001b[39;49m\u001b[43m.\u001b[49m\u001b[43mdevice\u001b[49m\u001b[43m,\u001b[49m\n\u001b[32m    898\u001b[39m \u001b[43m    \u001b[49m\u001b[43mdiff_method\u001b[49m\u001b[43m=\u001b[49m\u001b[38;5;28;43mself\u001b[39;49m\u001b[43m.\u001b[49m\u001b[43mdiff_method\u001b[49m\u001b[43m,\u001b[49m\n\u001b[32m    899\u001b[39m \u001b[43m    \u001b[49m\u001b[43minterface\u001b[49m\u001b[43m=\u001b[49m\u001b[38;5;28;43mself\u001b[39;49m\u001b[43m.\u001b[49m\u001b[43minterface\u001b[49m\u001b[43m,\u001b[49m\n\u001b[32m    900\u001b[39m \u001b[43m    \u001b[49m\u001b[43mtransform_program\u001b[49m\u001b[43m=\u001b[49m\u001b[38;5;28;43mself\u001b[39;49m\u001b[43m.\u001b[49m\u001b[43m_transform_program\u001b[49m\u001b[43m,\u001b[49m\n\u001b[32m    901\u001b[39m \u001b[43m    \u001b[49m\u001b[43mgradient_kwargs\u001b[49m\u001b[43m=\u001b[49m\u001b[38;5;28;43mself\u001b[39;49m\u001b[43m.\u001b[49m\u001b[43mgradient_kwargs\u001b[49m\u001b[43m,\u001b[49m\n\u001b[32m    902\u001b[39m \u001b[43m    \u001b[49m\u001b[43m*\u001b[49m\u001b[43m*\u001b[49m\u001b[38;5;28;43mself\u001b[39;49m\u001b[43m.\u001b[49m\u001b[43mexecute_kwargs\u001b[49m\u001b[43m,\u001b[49m\n\u001b[32m    903\u001b[39m \u001b[43m\u001b[49m\u001b[43m)\u001b[49m\n\u001b[32m    904\u001b[39m res = res[\u001b[32m0\u001b[39m]\n\u001b[32m    906\u001b[39m \u001b[38;5;66;03m# convert result to the interface in case the qfunc has no parameters\u001b[39;00m\n",
      "\u001b[36mFile \u001b[39m\u001b[32md:\\miniconda3\\Lib\\site-packages\\pennylane\\workflow\\execution.py:233\u001b[39m, in \u001b[36mexecute\u001b[39m\u001b[34m(tapes, device, diff_method, interface, grad_on_execution, cache, cachesize, max_diff, device_vjp, postselect_mode, mcm_method, gradient_kwargs, transform_program, executor_backend)\u001b[39m\n\u001b[32m    229\u001b[39m tapes, outer_post_processing = outer_transform(tapes)\n\u001b[32m    231\u001b[39m \u001b[38;5;28;01massert\u001b[39;00m \u001b[38;5;129;01mnot\u001b[39;00m outer_transform.is_informative, \u001b[33m\"\u001b[39m\u001b[33mshould only contain device preprocessing\u001b[39m\u001b[33m\"\u001b[39m\n\u001b[32m--> \u001b[39m\u001b[32m233\u001b[39m results = \u001b[43mrun\u001b[49m\u001b[43m(\u001b[49m\u001b[43mtapes\u001b[49m\u001b[43m,\u001b[49m\u001b[43m \u001b[49m\u001b[43mdevice\u001b[49m\u001b[43m,\u001b[49m\u001b[43m \u001b[49m\u001b[43mconfig\u001b[49m\u001b[43m,\u001b[49m\u001b[43m \u001b[49m\u001b[43minner_transform\u001b[49m\u001b[43m)\u001b[49m\n\u001b[32m    234\u001b[39m \u001b[38;5;28;01mreturn\u001b[39;00m user_post_processing(outer_post_processing(results))\n",
      "\u001b[36mFile \u001b[39m\u001b[32md:\\miniconda3\\Lib\\site-packages\\pennylane\\workflow\\run.py:291\u001b[39m, in \u001b[36mrun\u001b[39m\u001b[34m(tapes, device, config, inner_transform_program)\u001b[39m\n\u001b[32m    287\u001b[39m no_interface_boundary_required = (\n\u001b[32m    288\u001b[39m     config.interface == Interface.NUMPY \u001b[38;5;129;01mor\u001b[39;00m config.gradient_method == \u001b[33m\"\u001b[39m\u001b[33mbackprop\u001b[39m\u001b[33m\"\u001b[39m\n\u001b[32m    289\u001b[39m )\n\u001b[32m    290\u001b[39m \u001b[38;5;28;01mif\u001b[39;00m no_interface_boundary_required:\n\u001b[32m--> \u001b[39m\u001b[32m291\u001b[39m     results = \u001b[43minner_execute\u001b[49m\u001b[43m(\u001b[49m\u001b[43mtapes\u001b[49m\u001b[43m)\u001b[49m\n\u001b[32m    292\u001b[39m     \u001b[38;5;28;01mreturn\u001b[39;00m results\n\u001b[32m    294\u001b[39m \u001b[38;5;66;03m# TODO: Prune once support for tf-autograph is dropped\u001b[39;00m\n",
      "\u001b[36mFile \u001b[39m\u001b[32md:\\miniconda3\\Lib\\site-packages\\pennylane\\workflow\\run.py:256\u001b[39m, in \u001b[36m_make_inner_execute.<locals>.inner_execute\u001b[39m\u001b[34m(tapes)\u001b[39m\n\u001b[32m    253\u001b[39m transformed_tapes, transform_post_processing = inner_transform(tapes)\n\u001b[32m    255\u001b[39m \u001b[38;5;28;01mif\u001b[39;00m transformed_tapes:\n\u001b[32m--> \u001b[39m\u001b[32m256\u001b[39m     results = \u001b[43mdevice\u001b[49m\u001b[43m.\u001b[49m\u001b[43mexecute\u001b[49m\u001b[43m(\u001b[49m\u001b[43mtransformed_tapes\u001b[49m\u001b[43m,\u001b[49m\u001b[43m \u001b[49m\u001b[43mexecution_config\u001b[49m\u001b[43m=\u001b[49m\u001b[43mexecution_config\u001b[49m\u001b[43m)\u001b[49m\n\u001b[32m    257\u001b[39m \u001b[38;5;28;01melse\u001b[39;00m:\n\u001b[32m    258\u001b[39m     results = ()\n",
      "\u001b[36mFile \u001b[39m\u001b[32md:\\miniconda3\\Lib\\site-packages\\pennylane\\devices\\modifiers\\simulator_tracking.py:28\u001b[39m, in \u001b[36m_track_execute.<locals>.execute\u001b[39m\u001b[34m(self, circuits, execution_config)\u001b[39m\n\u001b[32m     26\u001b[39m \u001b[38;5;129m@wraps\u001b[39m(untracked_execute)\n\u001b[32m     27\u001b[39m \u001b[38;5;28;01mdef\u001b[39;00m\u001b[38;5;250m \u001b[39m\u001b[34mexecute\u001b[39m(\u001b[38;5;28mself\u001b[39m, circuits, execution_config=DefaultExecutionConfig):\n\u001b[32m---> \u001b[39m\u001b[32m28\u001b[39m     results = \u001b[43muntracked_execute\u001b[49m\u001b[43m(\u001b[49m\u001b[38;5;28;43mself\u001b[39;49m\u001b[43m,\u001b[49m\u001b[43m \u001b[49m\u001b[43mcircuits\u001b[49m\u001b[43m,\u001b[49m\u001b[43m \u001b[49m\u001b[43mexecution_config\u001b[49m\u001b[43m)\u001b[49m\n\u001b[32m     29\u001b[39m     \u001b[38;5;28;01mif\u001b[39;00m \u001b[38;5;28misinstance\u001b[39m(circuits, QuantumScript):\n\u001b[32m     30\u001b[39m         batch = (circuits,)\n",
      "\u001b[36mFile \u001b[39m\u001b[32md:\\miniconda3\\Lib\\site-packages\\pennylane\\devices\\modifiers\\single_tape_support.py:30\u001b[39m, in \u001b[36m_make_execute.<locals>.execute\u001b[39m\u001b[34m(self, circuits, execution_config)\u001b[39m\n\u001b[32m     28\u001b[39m     is_single_circuit = \u001b[38;5;28;01mTrue\u001b[39;00m\n\u001b[32m     29\u001b[39m     circuits = (circuits,)\n\u001b[32m---> \u001b[39m\u001b[32m30\u001b[39m results = \u001b[43mbatch_execute\u001b[49m\u001b[43m(\u001b[49m\u001b[38;5;28;43mself\u001b[39;49m\u001b[43m,\u001b[49m\u001b[43m \u001b[49m\u001b[43mcircuits\u001b[49m\u001b[43m,\u001b[49m\u001b[43m \u001b[49m\u001b[43mexecution_config\u001b[49m\u001b[43m)\u001b[49m\n\u001b[32m     31\u001b[39m \u001b[38;5;28;01mreturn\u001b[39;00m results[\u001b[32m0\u001b[39m] \u001b[38;5;28;01mif\u001b[39;00m is_single_circuit \u001b[38;5;28;01melse\u001b[39;00m results\n",
      "\u001b[36mFile \u001b[39m\u001b[32md:\\miniconda3\\Lib\\site-packages\\pennylane\\logging\\decorators.py:61\u001b[39m, in \u001b[36mlog_string_debug_func.<locals>.wrapper_entry\u001b[39m\u001b[34m(*args, **kwargs)\u001b[39m\n\u001b[32m     54\u001b[39m     s_caller = \u001b[33m\"\u001b[39m\u001b[33m::L\u001b[39m\u001b[33m\"\u001b[39m.join(\n\u001b[32m     55\u001b[39m         [\u001b[38;5;28mstr\u001b[39m(i) \u001b[38;5;28;01mfor\u001b[39;00m i \u001b[38;5;129;01min\u001b[39;00m inspect.getouterframes(inspect.currentframe(), \u001b[32m2\u001b[39m)[\u001b[32m1\u001b[39m][\u001b[32m1\u001b[39m:\u001b[32m3\u001b[39m]]\n\u001b[32m     56\u001b[39m     )\n\u001b[32m     57\u001b[39m     lgr.debug(\n\u001b[32m     58\u001b[39m         \u001b[33mf\u001b[39m\u001b[33m\"\u001b[39m\u001b[33mCalling \u001b[39m\u001b[38;5;132;01m{\u001b[39;00mf_string\u001b[38;5;132;01m}\u001b[39;00m\u001b[33m from \u001b[39m\u001b[38;5;132;01m{\u001b[39;00ms_caller\u001b[38;5;132;01m}\u001b[39;00m\u001b[33m\"\u001b[39m,\n\u001b[32m     59\u001b[39m         **_debug_log_kwargs,\n\u001b[32m     60\u001b[39m     )\n\u001b[32m---> \u001b[39m\u001b[32m61\u001b[39m \u001b[38;5;28;01mreturn\u001b[39;00m \u001b[43mfunc\u001b[49m\u001b[43m(\u001b[49m\u001b[43m*\u001b[49m\u001b[43margs\u001b[49m\u001b[43m,\u001b[49m\u001b[43m \u001b[49m\u001b[43m*\u001b[49m\u001b[43m*\u001b[49m\u001b[43mkwargs\u001b[49m\u001b[43m)\u001b[49m\n",
      "\u001b[36mFile \u001b[39m\u001b[32md:\\miniconda3\\Lib\\site-packages\\pennylane\\devices\\default_qubit.py:707\u001b[39m, in \u001b[36mDefaultQubit.execute\u001b[39m\u001b[34m(self, circuits, execution_config)\u001b[39m\n\u001b[32m    697\u001b[39m     warnings.warn(\n\u001b[32m    698\u001b[39m         (\n\u001b[32m    699\u001b[39m             \u001b[33m\"\u001b[39m\u001b[33mJitting executions with many circuits may have substantial classical overhead.\u001b[39m\u001b[33m\"\u001b[39m\n\u001b[32m   (...)\u001b[39m\u001b[32m    702\u001b[39m         \u001b[38;5;167;01mUserWarning\u001b[39;00m,\n\u001b[32m    703\u001b[39m     )\n\u001b[32m    705\u001b[39m \u001b[38;5;28;01mif\u001b[39;00m max_workers \u001b[38;5;129;01mis\u001b[39;00m \u001b[38;5;28;01mNone\u001b[39;00m:\n\u001b[32m--> \u001b[39m\u001b[32m707\u001b[39m     \u001b[38;5;28;01mreturn\u001b[39;00m \u001b[38;5;28;43mtuple\u001b[39;49m\u001b[43m(\u001b[49m\n\u001b[32m    708\u001b[39m \u001b[43m        \u001b[49m\u001b[43m_simulate_wrapper\u001b[49m\u001b[43m(\u001b[49m\n\u001b[32m    709\u001b[39m \u001b[43m            \u001b[49m\u001b[43mc\u001b[49m\u001b[43m,\u001b[49m\n\u001b[32m    710\u001b[39m \u001b[43m            \u001b[49m\u001b[43m{\u001b[49m\n\u001b[32m    711\u001b[39m \u001b[43m                \u001b[49m\u001b[33;43m\"\u001b[39;49m\u001b[33;43mrng\u001b[39;49m\u001b[33;43m\"\u001b[39;49m\u001b[43m:\u001b[49m\u001b[43m \u001b[49m\u001b[38;5;28;43mself\u001b[39;49m\u001b[43m.\u001b[49m\u001b[43m_rng\u001b[49m\u001b[43m,\u001b[49m\n\u001b[32m    712\u001b[39m \u001b[43m                \u001b[49m\u001b[33;43m\"\u001b[39;49m\u001b[33;43mdebugger\u001b[39;49m\u001b[33;43m\"\u001b[39;49m\u001b[43m:\u001b[49m\u001b[43m \u001b[49m\u001b[38;5;28;43mself\u001b[39;49m\u001b[43m.\u001b[49m\u001b[43m_debugger\u001b[49m\u001b[43m,\u001b[49m\n\u001b[32m    713\u001b[39m \u001b[43m                \u001b[49m\u001b[33;43m\"\u001b[39;49m\u001b[33;43minterface\u001b[39;49m\u001b[33;43m\"\u001b[39;49m\u001b[43m:\u001b[49m\u001b[43m \u001b[49m\u001b[43minterface\u001b[49m\u001b[43m,\u001b[49m\n\u001b[32m    714\u001b[39m \u001b[43m                \u001b[49m\u001b[33;43m\"\u001b[39;49m\u001b[33;43mstate_cache\u001b[39;49m\u001b[33;43m\"\u001b[39;49m\u001b[43m:\u001b[49m\u001b[43m \u001b[49m\u001b[38;5;28;43mself\u001b[39;49m\u001b[43m.\u001b[49m\u001b[43m_state_cache\u001b[49m\u001b[43m,\u001b[49m\n\u001b[32m    715\u001b[39m \u001b[43m                \u001b[49m\u001b[33;43m\"\u001b[39;49m\u001b[33;43mprng_key\u001b[39;49m\u001b[33;43m\"\u001b[39;49m\u001b[43m:\u001b[49m\u001b[43m \u001b[49m\u001b[43m_key\u001b[49m\u001b[43m,\u001b[49m\n\u001b[32m    716\u001b[39m \u001b[43m                \u001b[49m\u001b[33;43m\"\u001b[39;49m\u001b[33;43mmcm_method\u001b[39;49m\u001b[33;43m\"\u001b[39;49m\u001b[43m:\u001b[49m\u001b[43m \u001b[49m\u001b[43mexecution_config\u001b[49m\u001b[43m.\u001b[49m\u001b[43mmcm_config\u001b[49m\u001b[43m.\u001b[49m\u001b[43mmcm_method\u001b[49m\u001b[43m,\u001b[49m\n\u001b[32m    717\u001b[39m \u001b[43m                \u001b[49m\u001b[33;43m\"\u001b[39;49m\u001b[33;43mpostselect_mode\u001b[39;49m\u001b[33;43m\"\u001b[39;49m\u001b[43m:\u001b[49m\u001b[43m \u001b[49m\u001b[43mexecution_config\u001b[49m\u001b[43m.\u001b[49m\u001b[43mmcm_config\u001b[49m\u001b[43m.\u001b[49m\u001b[43mpostselect_mode\u001b[49m\u001b[43m,\u001b[49m\n\u001b[32m    718\u001b[39m \u001b[43m            \u001b[49m\u001b[43m}\u001b[49m\u001b[43m,\u001b[49m\n\u001b[32m    719\u001b[39m \u001b[43m        \u001b[49m\u001b[43m)\u001b[49m\n\u001b[32m    720\u001b[39m \u001b[43m        \u001b[49m\u001b[38;5;28;43;01mfor\u001b[39;49;00m\u001b[43m \u001b[49m\u001b[43mc\u001b[49m\u001b[43m,\u001b[49m\u001b[43m \u001b[49m\u001b[43m_key\u001b[49m\u001b[43m \u001b[49m\u001b[38;5;129;43;01min\u001b[39;49;00m\u001b[43m \u001b[49m\u001b[38;5;28;43mzip\u001b[39;49m\u001b[43m(\u001b[49m\u001b[43mcircuits\u001b[49m\u001b[43m,\u001b[49m\u001b[43m \u001b[49m\u001b[43mprng_keys\u001b[49m\u001b[43m)\u001b[49m\n\u001b[32m    721\u001b[39m \u001b[43m    \u001b[49m\u001b[43m)\u001b[49m\n\u001b[32m    723\u001b[39m vanilla_circuits = convert_to_numpy_parameters(circuits)[\u001b[32m0\u001b[39m]\n\u001b[32m    724\u001b[39m seeds = \u001b[38;5;28mself\u001b[39m._rng.integers(\u001b[32m2\u001b[39m**\u001b[32m31\u001b[39m - \u001b[32m1\u001b[39m, size=\u001b[38;5;28mlen\u001b[39m(vanilla_circuits))\n",
      "\u001b[36mFile \u001b[39m\u001b[32md:\\miniconda3\\Lib\\site-packages\\pennylane\\devices\\default_qubit.py:708\u001b[39m, in \u001b[36m<genexpr>\u001b[39m\u001b[34m(.0)\u001b[39m\n\u001b[32m    697\u001b[39m     warnings.warn(\n\u001b[32m    698\u001b[39m         (\n\u001b[32m    699\u001b[39m             \u001b[33m\"\u001b[39m\u001b[33mJitting executions with many circuits may have substantial classical overhead.\u001b[39m\u001b[33m\"\u001b[39m\n\u001b[32m   (...)\u001b[39m\u001b[32m    702\u001b[39m         \u001b[38;5;167;01mUserWarning\u001b[39;00m,\n\u001b[32m    703\u001b[39m     )\n\u001b[32m    705\u001b[39m \u001b[38;5;28;01mif\u001b[39;00m max_workers \u001b[38;5;129;01mis\u001b[39;00m \u001b[38;5;28;01mNone\u001b[39;00m:\n\u001b[32m    707\u001b[39m     \u001b[38;5;28;01mreturn\u001b[39;00m \u001b[38;5;28mtuple\u001b[39m(\n\u001b[32m--> \u001b[39m\u001b[32m708\u001b[39m         \u001b[43m_simulate_wrapper\u001b[49m\u001b[43m(\u001b[49m\n\u001b[32m    709\u001b[39m \u001b[43m            \u001b[49m\u001b[43mc\u001b[49m\u001b[43m,\u001b[49m\n\u001b[32m    710\u001b[39m \u001b[43m            \u001b[49m\u001b[43m{\u001b[49m\n\u001b[32m    711\u001b[39m \u001b[43m                \u001b[49m\u001b[33;43m\"\u001b[39;49m\u001b[33;43mrng\u001b[39;49m\u001b[33;43m\"\u001b[39;49m\u001b[43m:\u001b[49m\u001b[43m \u001b[49m\u001b[38;5;28;43mself\u001b[39;49m\u001b[43m.\u001b[49m\u001b[43m_rng\u001b[49m\u001b[43m,\u001b[49m\n\u001b[32m    712\u001b[39m \u001b[43m                \u001b[49m\u001b[33;43m\"\u001b[39;49m\u001b[33;43mdebugger\u001b[39;49m\u001b[33;43m\"\u001b[39;49m\u001b[43m:\u001b[49m\u001b[43m \u001b[49m\u001b[38;5;28;43mself\u001b[39;49m\u001b[43m.\u001b[49m\u001b[43m_debugger\u001b[49m\u001b[43m,\u001b[49m\n\u001b[32m    713\u001b[39m \u001b[43m                \u001b[49m\u001b[33;43m\"\u001b[39;49m\u001b[33;43minterface\u001b[39;49m\u001b[33;43m\"\u001b[39;49m\u001b[43m:\u001b[49m\u001b[43m \u001b[49m\u001b[43minterface\u001b[49m\u001b[43m,\u001b[49m\n\u001b[32m    714\u001b[39m \u001b[43m                \u001b[49m\u001b[33;43m\"\u001b[39;49m\u001b[33;43mstate_cache\u001b[39;49m\u001b[33;43m\"\u001b[39;49m\u001b[43m:\u001b[49m\u001b[43m \u001b[49m\u001b[38;5;28;43mself\u001b[39;49m\u001b[43m.\u001b[49m\u001b[43m_state_cache\u001b[49m\u001b[43m,\u001b[49m\n\u001b[32m    715\u001b[39m \u001b[43m                \u001b[49m\u001b[33;43m\"\u001b[39;49m\u001b[33;43mprng_key\u001b[39;49m\u001b[33;43m\"\u001b[39;49m\u001b[43m:\u001b[49m\u001b[43m \u001b[49m\u001b[43m_key\u001b[49m\u001b[43m,\u001b[49m\n\u001b[32m    716\u001b[39m \u001b[43m                \u001b[49m\u001b[33;43m\"\u001b[39;49m\u001b[33;43mmcm_method\u001b[39;49m\u001b[33;43m\"\u001b[39;49m\u001b[43m:\u001b[49m\u001b[43m \u001b[49m\u001b[43mexecution_config\u001b[49m\u001b[43m.\u001b[49m\u001b[43mmcm_config\u001b[49m\u001b[43m.\u001b[49m\u001b[43mmcm_method\u001b[49m\u001b[43m,\u001b[49m\n\u001b[32m    717\u001b[39m \u001b[43m                \u001b[49m\u001b[33;43m\"\u001b[39;49m\u001b[33;43mpostselect_mode\u001b[39;49m\u001b[33;43m\"\u001b[39;49m\u001b[43m:\u001b[49m\u001b[43m \u001b[49m\u001b[43mexecution_config\u001b[49m\u001b[43m.\u001b[49m\u001b[43mmcm_config\u001b[49m\u001b[43m.\u001b[49m\u001b[43mpostselect_mode\u001b[49m\u001b[43m,\u001b[49m\n\u001b[32m    718\u001b[39m \u001b[43m            \u001b[49m\u001b[43m}\u001b[49m\u001b[43m,\u001b[49m\n\u001b[32m    719\u001b[39m \u001b[43m        \u001b[49m\u001b[43m)\u001b[49m\n\u001b[32m    720\u001b[39m         \u001b[38;5;28;01mfor\u001b[39;00m c, _key \u001b[38;5;129;01min\u001b[39;00m \u001b[38;5;28mzip\u001b[39m(circuits, prng_keys)\n\u001b[32m    721\u001b[39m     )\n\u001b[32m    723\u001b[39m vanilla_circuits = convert_to_numpy_parameters(circuits)[\u001b[32m0\u001b[39m]\n\u001b[32m    724\u001b[39m seeds = \u001b[38;5;28mself\u001b[39m._rng.integers(\u001b[32m2\u001b[39m**\u001b[32m31\u001b[39m - \u001b[32m1\u001b[39m, size=\u001b[38;5;28mlen\u001b[39m(vanilla_circuits))\n",
      "\u001b[36mFile \u001b[39m\u001b[32md:\\miniconda3\\Lib\\site-packages\\pennylane\\devices\\default_qubit.py:1055\u001b[39m, in \u001b[36m_simulate_wrapper\u001b[39m\u001b[34m(circuit, kwargs)\u001b[39m\n\u001b[32m   1054\u001b[39m \u001b[38;5;28;01mdef\u001b[39;00m\u001b[38;5;250m \u001b[39m\u001b[34m_simulate_wrapper\u001b[39m(circuit, kwargs):\n\u001b[32m-> \u001b[39m\u001b[32m1055\u001b[39m     \u001b[38;5;28;01mreturn\u001b[39;00m \u001b[43msimulate\u001b[49m\u001b[43m(\u001b[49m\u001b[43mcircuit\u001b[49m\u001b[43m,\u001b[49m\u001b[43m \u001b[49m\u001b[43m*\u001b[49m\u001b[43m*\u001b[49m\u001b[43mkwargs\u001b[49m\u001b[43m)\u001b[49m\n",
      "\u001b[36mFile \u001b[39m\u001b[32md:\\miniconda3\\Lib\\site-packages\\pennylane\\logging\\decorators.py:61\u001b[39m, in \u001b[36mlog_string_debug_func.<locals>.wrapper_entry\u001b[39m\u001b[34m(*args, **kwargs)\u001b[39m\n\u001b[32m     54\u001b[39m     s_caller = \u001b[33m\"\u001b[39m\u001b[33m::L\u001b[39m\u001b[33m\"\u001b[39m.join(\n\u001b[32m     55\u001b[39m         [\u001b[38;5;28mstr\u001b[39m(i) \u001b[38;5;28;01mfor\u001b[39;00m i \u001b[38;5;129;01min\u001b[39;00m inspect.getouterframes(inspect.currentframe(), \u001b[32m2\u001b[39m)[\u001b[32m1\u001b[39m][\u001b[32m1\u001b[39m:\u001b[32m3\u001b[39m]]\n\u001b[32m     56\u001b[39m     )\n\u001b[32m     57\u001b[39m     lgr.debug(\n\u001b[32m     58\u001b[39m         \u001b[33mf\u001b[39m\u001b[33m\"\u001b[39m\u001b[33mCalling \u001b[39m\u001b[38;5;132;01m{\u001b[39;00mf_string\u001b[38;5;132;01m}\u001b[39;00m\u001b[33m from \u001b[39m\u001b[38;5;132;01m{\u001b[39;00ms_caller\u001b[38;5;132;01m}\u001b[39;00m\u001b[33m\"\u001b[39m,\n\u001b[32m     59\u001b[39m         **_debug_log_kwargs,\n\u001b[32m     60\u001b[39m     )\n\u001b[32m---> \u001b[39m\u001b[32m61\u001b[39m \u001b[38;5;28;01mreturn\u001b[39;00m \u001b[43mfunc\u001b[49m\u001b[43m(\u001b[49m\u001b[43m*\u001b[49m\u001b[43margs\u001b[49m\u001b[43m,\u001b[49m\u001b[43m \u001b[49m\u001b[43m*\u001b[49m\u001b[43m*\u001b[49m\u001b[43mkwargs\u001b[49m\u001b[43m)\u001b[49m\n",
      "\u001b[36mFile \u001b[39m\u001b[32md:\\miniconda3\\Lib\\site-packages\\pennylane\\devices\\qubit\\simulate.py:359\u001b[39m, in \u001b[36msimulate\u001b[39m\u001b[34m(circuit, debugger, state_cache, **execution_kwargs)\u001b[39m\n\u001b[32m    356\u001b[39m     \u001b[38;5;28;01mreturn\u001b[39;00m \u001b[38;5;28mtuple\u001b[39m(results)\n\u001b[32m    358\u001b[39m ops_key, meas_key = jax_random_split(prng_key)\n\u001b[32m--> \u001b[39m\u001b[32m359\u001b[39m state, is_state_batched = \u001b[43mget_final_state\u001b[49m\u001b[43m(\u001b[49m\n\u001b[32m    360\u001b[39m \u001b[43m    \u001b[49m\u001b[43mcircuit\u001b[49m\u001b[43m,\u001b[49m\u001b[43m \u001b[49m\u001b[43mdebugger\u001b[49m\u001b[43m=\u001b[49m\u001b[43mdebugger\u001b[49m\u001b[43m,\u001b[49m\u001b[43m \u001b[49m\u001b[43mprng_key\u001b[49m\u001b[43m=\u001b[49m\u001b[43mops_key\u001b[49m\u001b[43m,\u001b[49m\u001b[43m \u001b[49m\u001b[43m*\u001b[49m\u001b[43m*\u001b[49m\u001b[43mexecution_kwargs\u001b[49m\n\u001b[32m    361\u001b[39m \u001b[43m\u001b[49m\u001b[43m)\u001b[49m\n\u001b[32m    362\u001b[39m \u001b[38;5;28;01mif\u001b[39;00m state_cache \u001b[38;5;129;01mis\u001b[39;00m \u001b[38;5;129;01mnot\u001b[39;00m \u001b[38;5;28;01mNone\u001b[39;00m:\n\u001b[32m    363\u001b[39m     state_cache[circuit.hash] = state\n",
      "\u001b[36mFile \u001b[39m\u001b[32md:\\miniconda3\\Lib\\site-packages\\pennylane\\logging\\decorators.py:61\u001b[39m, in \u001b[36mlog_string_debug_func.<locals>.wrapper_entry\u001b[39m\u001b[34m(*args, **kwargs)\u001b[39m\n\u001b[32m     54\u001b[39m     s_caller = \u001b[33m\"\u001b[39m\u001b[33m::L\u001b[39m\u001b[33m\"\u001b[39m.join(\n\u001b[32m     55\u001b[39m         [\u001b[38;5;28mstr\u001b[39m(i) \u001b[38;5;28;01mfor\u001b[39;00m i \u001b[38;5;129;01min\u001b[39;00m inspect.getouterframes(inspect.currentframe(), \u001b[32m2\u001b[39m)[\u001b[32m1\u001b[39m][\u001b[32m1\u001b[39m:\u001b[32m3\u001b[39m]]\n\u001b[32m     56\u001b[39m     )\n\u001b[32m     57\u001b[39m     lgr.debug(\n\u001b[32m     58\u001b[39m         \u001b[33mf\u001b[39m\u001b[33m\"\u001b[39m\u001b[33mCalling \u001b[39m\u001b[38;5;132;01m{\u001b[39;00mf_string\u001b[38;5;132;01m}\u001b[39;00m\u001b[33m from \u001b[39m\u001b[38;5;132;01m{\u001b[39;00ms_caller\u001b[38;5;132;01m}\u001b[39;00m\u001b[33m\"\u001b[39m,\n\u001b[32m     59\u001b[39m         **_debug_log_kwargs,\n\u001b[32m     60\u001b[39m     )\n\u001b[32m---> \u001b[39m\u001b[32m61\u001b[39m \u001b[38;5;28;01mreturn\u001b[39;00m \u001b[43mfunc\u001b[49m\u001b[43m(\u001b[49m\u001b[43m*\u001b[49m\u001b[43margs\u001b[49m\u001b[43m,\u001b[49m\u001b[43m \u001b[49m\u001b[43m*\u001b[49m\u001b[43m*\u001b[49m\u001b[43mkwargs\u001b[49m\u001b[43m)\u001b[49m\n",
      "\u001b[36mFile \u001b[39m\u001b[32md:\\miniconda3\\Lib\\site-packages\\pennylane\\devices\\qubit\\simulate.py:192\u001b[39m, in \u001b[36mget_final_state\u001b[39m\u001b[34m(circuit, debugger, **execution_kwargs)\u001b[39m\n\u001b[32m    190\u001b[39m \u001b[38;5;28;01mif\u001b[39;00m \u001b[38;5;28misinstance\u001b[39m(op, MidMeasureMP):\n\u001b[32m    191\u001b[39m     prng_key, key = jax_random_split(prng_key)\n\u001b[32m--> \u001b[39m\u001b[32m192\u001b[39m state = \u001b[43mapply_operation\u001b[49m\u001b[43m(\u001b[49m\n\u001b[32m    193\u001b[39m \u001b[43m    \u001b[49m\u001b[43mop\u001b[49m\u001b[43m,\u001b[49m\n\u001b[32m    194\u001b[39m \u001b[43m    \u001b[49m\u001b[43mstate\u001b[49m\u001b[43m,\u001b[49m\n\u001b[32m    195\u001b[39m \u001b[43m    \u001b[49m\u001b[43mis_state_batched\u001b[49m\u001b[43m=\u001b[49m\u001b[43mis_state_batched\u001b[49m\u001b[43m,\u001b[49m\n\u001b[32m    196\u001b[39m \u001b[43m    \u001b[49m\u001b[43mdebugger\u001b[49m\u001b[43m=\u001b[49m\u001b[43mdebugger\u001b[49m\u001b[43m,\u001b[49m\n\u001b[32m    197\u001b[39m \u001b[43m    \u001b[49m\u001b[43mprng_key\u001b[49m\u001b[43m=\u001b[49m\u001b[43mkey\u001b[49m\u001b[43m,\u001b[49m\n\u001b[32m    198\u001b[39m \u001b[43m    \u001b[49m\u001b[43mtape_shots\u001b[49m\u001b[43m=\u001b[49m\u001b[43mcircuit\u001b[49m\u001b[43m.\u001b[49m\u001b[43mshots\u001b[49m\u001b[43m,\u001b[49m\n\u001b[32m    199\u001b[39m \u001b[43m    \u001b[49m\u001b[43m*\u001b[49m\u001b[43m*\u001b[49m\u001b[43mexecution_kwargs\u001b[49m\u001b[43m,\u001b[49m\n\u001b[32m    200\u001b[39m \u001b[43m\u001b[49m\u001b[43m)\u001b[49m\n\u001b[32m    201\u001b[39m \u001b[38;5;66;03m# Handle postselection on mid-circuit measurements\u001b[39;00m\n\u001b[32m    202\u001b[39m \u001b[38;5;28;01mif\u001b[39;00m \u001b[38;5;28misinstance\u001b[39m(op, qml.Projector):\n",
      "\u001b[36mFile \u001b[39m\u001b[32md:\\miniconda3\\Lib\\functools.py:907\u001b[39m, in \u001b[36msingledispatch.<locals>.wrapper\u001b[39m\u001b[34m(*args, **kw)\u001b[39m\n\u001b[32m    903\u001b[39m \u001b[38;5;28;01mif\u001b[39;00m \u001b[38;5;129;01mnot\u001b[39;00m args:\n\u001b[32m    904\u001b[39m     \u001b[38;5;28;01mraise\u001b[39;00m \u001b[38;5;167;01mTypeError\u001b[39;00m(\u001b[33mf\u001b[39m\u001b[33m'\u001b[39m\u001b[38;5;132;01m{\u001b[39;00mfuncname\u001b[38;5;132;01m}\u001b[39;00m\u001b[33m requires at least \u001b[39m\u001b[33m'\u001b[39m\n\u001b[32m    905\u001b[39m                     \u001b[33m'\u001b[39m\u001b[33m1 positional argument\u001b[39m\u001b[33m'\u001b[39m)\n\u001b[32m--> \u001b[39m\u001b[32m907\u001b[39m \u001b[38;5;28;01mreturn\u001b[39;00m \u001b[43mdispatch\u001b[49m\u001b[43m(\u001b[49m\u001b[43margs\u001b[49m\u001b[43m[\u001b[49m\u001b[32;43m0\u001b[39;49m\u001b[43m]\u001b[49m\u001b[43m.\u001b[49m\u001b[34;43m__class__\u001b[39;49m\u001b[43m)\u001b[49m\u001b[43m(\u001b[49m\u001b[43m*\u001b[49m\u001b[43margs\u001b[49m\u001b[43m,\u001b[49m\u001b[43m \u001b[49m\u001b[43m*\u001b[49m\u001b[43m*\u001b[49m\u001b[43mkw\u001b[49m\u001b[43m)\u001b[49m\n",
      "\u001b[36mFile \u001b[39m\u001b[32md:\\miniconda3\\Lib\\site-packages\\pennylane\\devices\\qubit\\apply_operation.py:232\u001b[39m, in \u001b[36mapply_operation\u001b[39m\u001b[34m(op, state, is_state_batched, debugger, **_)\u001b[39m\n\u001b[32m    166\u001b[39m \u001b[38;5;129m@singledispatch\u001b[39m\n\u001b[32m    167\u001b[39m \u001b[38;5;28;01mdef\u001b[39;00m\u001b[38;5;250m \u001b[39m\u001b[34mapply_operation\u001b[39m(\n\u001b[32m    168\u001b[39m     op: qml.operation.Operator,\n\u001b[32m   (...)\u001b[39m\u001b[32m    172\u001b[39m     **_,\n\u001b[32m    173\u001b[39m ):\n\u001b[32m    174\u001b[39m \u001b[38;5;250m    \u001b[39m\u001b[33;03m\"\"\"Apply and operator to a given state.\u001b[39;00m\n\u001b[32m    175\u001b[39m \n\u001b[32m    176\u001b[39m \u001b[33;03m    Args:\u001b[39;00m\n\u001b[32m   (...)\u001b[39m\u001b[32m    230\u001b[39m \n\u001b[32m    231\u001b[39m \u001b[33;03m    \"\"\"\u001b[39;00m\n\u001b[32m--> \u001b[39m\u001b[32m232\u001b[39m     \u001b[38;5;28;01mreturn\u001b[39;00m \u001b[43m_apply_operation_default\u001b[49m\u001b[43m(\u001b[49m\u001b[43mop\u001b[49m\u001b[43m,\u001b[49m\u001b[43m \u001b[49m\u001b[43mstate\u001b[49m\u001b[43m,\u001b[49m\u001b[43m \u001b[49m\u001b[43mis_state_batched\u001b[49m\u001b[43m,\u001b[49m\u001b[43m \u001b[49m\u001b[43mdebugger\u001b[49m\u001b[43m)\u001b[49m\n",
      "\u001b[36mFile \u001b[39m\u001b[32md:\\miniconda3\\Lib\\site-packages\\pennylane\\devices\\qubit\\apply_operation.py:258\u001b[39m, in \u001b[36m_apply_operation_default\u001b[39m\u001b[34m(op, state, is_state_batched, debugger)\u001b[39m\n\u001b[32m    253\u001b[39m     \u001b[38;5;28;01mreturn\u001b[39;00m apply_operation_csr_matrix(op, state, is_state_batched=is_state_batched)\n\u001b[32m    254\u001b[39m \u001b[38;5;28;01mif\u001b[39;00m (\n\u001b[32m    255\u001b[39m     \u001b[38;5;28mlen\u001b[39m(op.wires) < EINSUM_OP_WIRECOUNT_PERF_THRESHOLD\n\u001b[32m    256\u001b[39m     \u001b[38;5;129;01mand\u001b[39;00m math.ndim(state) < EINSUM_STATE_WIRECOUNT_PERF_THRESHOLD\n\u001b[32m    257\u001b[39m ) \u001b[38;5;129;01mor\u001b[39;00m (op.batch_size \u001b[38;5;129;01mand\u001b[39;00m is_state_batched):\n\u001b[32m--> \u001b[39m\u001b[32m258\u001b[39m     \u001b[38;5;28;01mreturn\u001b[39;00m \u001b[43mapply_operation_einsum\u001b[49m\u001b[43m(\u001b[49m\u001b[43mop\u001b[49m\u001b[43m,\u001b[49m\u001b[43m \u001b[49m\u001b[43mstate\u001b[49m\u001b[43m,\u001b[49m\u001b[43m \u001b[49m\u001b[43mis_state_batched\u001b[49m\u001b[43m=\u001b[49m\u001b[43mis_state_batched\u001b[49m\u001b[43m)\u001b[49m\n\u001b[32m    259\u001b[39m \u001b[38;5;28;01mreturn\u001b[39;00m apply_operation_tensordot(op, state, is_state_batched=is_state_batched)\n",
      "\u001b[36mFile \u001b[39m\u001b[32md:\\miniconda3\\Lib\\site-packages\\pennylane\\devices\\qubit\\apply_operation.py:81\u001b[39m, in \u001b[36mapply_operation_einsum\u001b[39m\u001b[34m(op, state, is_state_batched)\u001b[39m\n\u001b[32m     79\u001b[39m     mat = qml.math.cast_like(op.matrix(), state)\n\u001b[32m     80\u001b[39m \u001b[38;5;28;01melse\u001b[39;00m:\n\u001b[32m---> \u001b[39m\u001b[32m81\u001b[39m     mat = \u001b[43mop\u001b[49m\u001b[43m.\u001b[49m\u001b[43mmatrix\u001b[49m\u001b[43m(\u001b[49m\u001b[43m)\u001b[49m + \u001b[32m0\u001b[39mj\n\u001b[32m     83\u001b[39m total_indices = \u001b[38;5;28mlen\u001b[39m(state.shape) - is_state_batched\n\u001b[32m     84\u001b[39m num_indices = \u001b[38;5;28mlen\u001b[39m(op.wires)\n",
      "\u001b[36mFile \u001b[39m\u001b[32md:\\miniconda3\\Lib\\site-packages\\pennylane\\operation.py:945\u001b[39m, in \u001b[36mOperator.matrix\u001b[39m\u001b[34m(self, wire_order)\u001b[39m\n\u001b[32m    925\u001b[39m \u001b[38;5;28;01mdef\u001b[39;00m\u001b[38;5;250m \u001b[39m\u001b[34mmatrix\u001b[39m(\u001b[38;5;28mself\u001b[39m, wire_order: Optional[WiresLike] = \u001b[38;5;28;01mNone\u001b[39;00m) -> TensorLike:\n\u001b[32m    926\u001b[39m \u001b[38;5;250m    \u001b[39m\u001b[33mr\u001b[39m\u001b[33;03m\"\"\"Representation of the operator as a matrix in the computational basis.\u001b[39;00m\n\u001b[32m    927\u001b[39m \n\u001b[32m    928\u001b[39m \u001b[33;03m    If ``wire_order`` is provided, the numerical representation considers the position of the\u001b[39;00m\n\u001b[32m   (...)\u001b[39m\u001b[32m    943\u001b[39m \u001b[33;03m        tensor_like: matrix representation\u001b[39;00m\n\u001b[32m    944\u001b[39m \u001b[33;03m    \"\"\"\u001b[39;00m\n\u001b[32m--> \u001b[39m\u001b[32m945\u001b[39m     canonical_matrix = \u001b[38;5;28;43mself\u001b[39;49m\u001b[43m.\u001b[49m\u001b[43mcompute_matrix\u001b[49m\u001b[43m(\u001b[49m\u001b[43m*\u001b[49m\u001b[38;5;28;43mself\u001b[39;49m\u001b[43m.\u001b[49m\u001b[43mparameters\u001b[49m\u001b[43m,\u001b[49m\u001b[43m \u001b[49m\u001b[43m*\u001b[49m\u001b[43m*\u001b[49m\u001b[38;5;28;43mself\u001b[39;49m\u001b[43m.\u001b[49m\u001b[43mhyperparameters\u001b[49m\u001b[43m)\u001b[49m\n\u001b[32m    947\u001b[39m     \u001b[38;5;28;01mif\u001b[39;00m (\n\u001b[32m    948\u001b[39m         wire_order \u001b[38;5;129;01mis\u001b[39;00m \u001b[38;5;28;01mNone\u001b[39;00m\n\u001b[32m    949\u001b[39m         \u001b[38;5;129;01mor\u001b[39;00m \u001b[38;5;28mself\u001b[39m.wires == Wires(wire_order)\n\u001b[32m   (...)\u001b[39m\u001b[32m    953\u001b[39m         )\n\u001b[32m    954\u001b[39m     ):\n\u001b[32m    955\u001b[39m         \u001b[38;5;28;01mreturn\u001b[39;00m canonical_matrix\n",
      "\u001b[36mFile \u001b[39m\u001b[32md:\\miniconda3\\Lib\\site-packages\\pennylane\\ops\\qubit\\parametric_ops_single_qubit.py:133\u001b[39m, in \u001b[36mRX.compute_matrix\u001b[39m\u001b[34m(theta)\u001b[39m\n\u001b[32m    131\u001b[39m c = (\u001b[32m1\u001b[39m + \u001b[32m0\u001b[39mj) * c\n\u001b[32m    132\u001b[39m js = -\u001b[32m1\u001b[39mj * s\n\u001b[32m--> \u001b[39m\u001b[32m133\u001b[39m \u001b[38;5;28;01mreturn\u001b[39;00m qml.math.stack([\u001b[43mstack_last\u001b[49m\u001b[43m(\u001b[49m\u001b[43m[\u001b[49m\u001b[43mc\u001b[49m\u001b[43m,\u001b[49m\u001b[43m \u001b[49m\u001b[43mjs\u001b[49m\u001b[43m]\u001b[49m\u001b[43m)\u001b[49m, stack_last([js, c])], axis=-\u001b[32m2\u001b[39m)\n",
      "\u001b[36mFile \u001b[39m\u001b[32md:\\miniconda3\\Lib\\site-packages\\pennylane\\math\\multi_dispatch.py:153\u001b[39m, in \u001b[36mmulti_dispatch.<locals>.decorator.<locals>.wrapper\u001b[39m\u001b[34m(*args, **kwargs)\u001b[39m\n\u001b[32m    150\u001b[39m interface = interface \u001b[38;5;129;01mor\u001b[39;00m get_interface(*dispatch_args)\n\u001b[32m    151\u001b[39m kwargs[\u001b[33m\"\u001b[39m\u001b[33mlike\u001b[39m\u001b[33m\"\u001b[39m] = interface\n\u001b[32m--> \u001b[39m\u001b[32m153\u001b[39m \u001b[38;5;28;01mreturn\u001b[39;00m \u001b[43mfn\u001b[49m\u001b[43m(\u001b[49m\u001b[43m*\u001b[49m\u001b[43margs\u001b[49m\u001b[43m,\u001b[49m\u001b[43m \u001b[49m\u001b[43m*\u001b[49m\u001b[43m*\u001b[49m\u001b[43mkwargs\u001b[49m\u001b[43m)\u001b[49m\n",
      "\u001b[36mFile \u001b[39m\u001b[32md:\\miniconda3\\Lib\\site-packages\\pennylane\\math\\multi_dispatch.py:518\u001b[39m, in \u001b[36mstack\u001b[39m\u001b[34m(values, axis, like)\u001b[39m\n\u001b[32m    489\u001b[39m \u001b[38;5;250m\u001b[39m\u001b[33;03m\"\"\"Stack a sequence of tensors along the specified axis.\u001b[39;00m\n\u001b[32m    490\u001b[39m \n\u001b[32m    491\u001b[39m \u001b[33;03m.. warning::\u001b[39;00m\n\u001b[32m   (...)\u001b[39m\u001b[32m    515\u001b[39m \u001b[33;03m       [5.00e+00, 8.00e+00, 1.01e+02]], dtype=float32)>\u001b[39;00m\n\u001b[32m    516\u001b[39m \u001b[33;03m\"\"\"\u001b[39;00m\n\u001b[32m    517\u001b[39m values = np.coerce(values, like=like)\n\u001b[32m--> \u001b[39m\u001b[32m518\u001b[39m \u001b[38;5;28;01mreturn\u001b[39;00m \u001b[43mnp\u001b[49m\u001b[43m.\u001b[49m\u001b[43mstack\u001b[49m\u001b[43m(\u001b[49m\u001b[43mvalues\u001b[49m\u001b[43m,\u001b[49m\u001b[43m \u001b[49m\u001b[43maxis\u001b[49m\u001b[43m=\u001b[49m\u001b[43maxis\u001b[49m\u001b[43m,\u001b[49m\u001b[43m \u001b[49m\u001b[43mlike\u001b[49m\u001b[43m=\u001b[49m\u001b[43mlike\u001b[49m\u001b[43m)\u001b[49m\n",
      "\u001b[36mFile \u001b[39m\u001b[32md:\\miniconda3\\Lib\\site-packages\\autoray\\autoray.py:81\u001b[39m, in \u001b[36mdo\u001b[39m\u001b[34m(fn, like, *args, **kwargs)\u001b[39m\n\u001b[32m     79\u001b[39m backend = _choose_backend(fn, args, kwargs, like=like)\n\u001b[32m     80\u001b[39m func = get_lib_fn(backend, fn)\n\u001b[32m---> \u001b[39m\u001b[32m81\u001b[39m \u001b[38;5;28;01mreturn\u001b[39;00m \u001b[43mfunc\u001b[49m\u001b[43m(\u001b[49m\u001b[43m*\u001b[49m\u001b[43margs\u001b[49m\u001b[43m,\u001b[49m\u001b[43m \u001b[49m\u001b[43m*\u001b[49m\u001b[43m*\u001b[49m\u001b[43mkwargs\u001b[49m\u001b[43m)\u001b[49m\n",
      "\u001b[36mFile \u001b[39m\u001b[32md:\\miniconda3\\Lib\\site-packages\\autoray\\autoray.py:1336\u001b[39m, in \u001b[36mtranslate_wrapper.<locals>.translated_function\u001b[39m\u001b[34m(*args, **kwargs)\u001b[39m\n\u001b[32m   1333\u001b[39m         new_kwargs[opt[\u001b[32m0\u001b[39m]] = opt[\u001b[32m1\u001b[39m]\n\u001b[32m   1334\u001b[39m     \u001b[38;5;66;03m# else, no default value -> don't inject\u001b[39;00m\n\u001b[32m-> \u001b[39m\u001b[32m1336\u001b[39m \u001b[38;5;28;01mreturn\u001b[39;00m \u001b[43mfn\u001b[49m\u001b[43m(\u001b[49m\u001b[43m*\u001b[49m\u001b[43m*\u001b[49m\u001b[43mnew_kwargs\u001b[49m\u001b[43m)\u001b[49m\n",
      "\u001b[31mKeyboardInterrupt\u001b[39m: "
     ]
    }
   ],
   "source": [
    "result = 0\n",
    "best_result = 0\n",
    "max_y_pred_filename = \"\"\n",
    "best_n = 0\n",
    "n = 0\n",
    "epochs = 10\n",
    "lr = 0.0015\n",
    "loss_history = []\n",
    "\n",
    "while result < 0.92:\n",
    "    lr = 0.0015 * (0.80**n)\n",
    "    loss_history.extend(train_step(epochs=epochs, lr=lr, weight_decay=batch_size * 1e-6))\n",
    "    y_pred_mapped, y_pred_filename, result = test()\n",
    "    print(f\"Iteration {n+1}: Result = {result:.4f}\")\n",
    "\n",
    "    if result > best_result:\n",
    "        best_result = result\n",
    "        best_n = n\n",
    "        max_y_pred_filename = y_pred_filename\n",
    "\n",
    "    n += 1"
   ]
  },
  {
   "cell_type": "code",
   "execution_count": null,
   "id": "3873b2d8",
   "metadata": {},
   "outputs": [
    {
     "data": {
      "image/png": "[encoded data removed]",
      "text/plain": [
       "<Figure size 1000x500 with 1 Axes>"
      ]
     },
     "metadata": {},
     "output_type": "display_data"
    },
    {
     "name": "stdout",
     "output_type": "stream",
     "text": [
      "Best result: 0.8915 at iteration 7\n",
      "Prediction saved to y_pred_20250805_232256.csv\n"
     ]
    }
   ],
   "source": [
    "plt_loss_history(loss_history, n, epochs)\n",
    "print(f\"Best result: {best_result:.4f} at iteration {best_n}\")\n",
    "# 전체 10000개 샘플에 대한 예측을 저장 (대회 제출 형식)\n",
    "np.savetxt(y_pred_filename, y_pred_mapped, fmt=\"%d\")\n",
    "print(f\"Prediction saved to {max_y_pred_filename}\")"
   ]
  },
  {
   "cell_type": "code",
   "execution_count": null,
   "id": "87e2afe6",
   "metadata": {},
   "outputs": [],
   "source": []
  }
 ],
 "metadata": {
  "kernelspec": {
   "display_name": "base",
   "language": "python",
   "name": "python3"
  },
  "language_info": {
   "codemirror_mode": {
    "name": "ipython",
    "version": 3
   },
   "file_extension": ".py",
   "mimetype": "text/x-python",
   "name": "python",
   "nbconvert_exporter": "python",
   "pygments_lexer": "ipython3",
   "version": "3.12.7"
  }
 },
 "nbformat": 4,
 "nbformat_minor": 5
}
