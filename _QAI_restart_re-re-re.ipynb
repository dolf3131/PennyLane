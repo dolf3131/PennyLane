{
 "cells": [
  {
   "cell_type": "code",
   "execution_count": 31,
   "id": "ca0869db",
   "metadata": {},
   "outputs": [],
   "source": [
    "import pennylane as qml\n",
    "from pennylane import numpy as np\n",
    "import torch\n",
    "from torch.optim import Adam, AdamW, RAdam\n",
    "from torch.nn.parameter import Parameter\n",
    "from torch.nn import NLLLoss, BCEWithLogitsLoss\n",
    "from torch.utils.data import Subset\n",
    "from torch.utils.data import DataLoader\n",
    "import torchvision\n",
    "from torch.nn import Module\n",
    "import torch.nn.functional as F\n",
    "from torch.nn import Conv2d, Dropout2d, Linear, Dropout\n",
    "from torch import cat\n",
    "from tqdm import tqdm\n",
    "from torch.optim.lr_scheduler import CosineAnnealingLR\n",
    "import matplotlib.pyplot as plt\n",
    "from datetime import datetime\n",
    "import pprint"
   ]
  },
  {
   "cell_type": "code",
   "execution_count": 32,
   "id": "142f9ee2",
   "metadata": {},
   "outputs": [],
   "source": [
    "device = torch.device(\"cuda\" if torch.cuda.is_available() else \"cpu\")\n",
    "\n",
    "\n",
    "transform = torchvision.transforms.Compose([\n",
    "        torchvision.transforms.ToTensor(),\n",
    "        torchvision.transforms.Normalize((0.5,), (0.5,)),\n",
    "        #torchvision.transforms.RandomAffine(degrees=10, translate=(0.1, 0.1), scale=(0.9, 1.1)),\n",
    "        ])\n",
    "\n",
    "\n",
    "train_ds = torchvision.datasets.FashionMNIST(\n",
    "    \"./\", train=True, download=True,\n",
    "    transform=transform)\n",
    "\n",
    "test_ds = torchvision.datasets.FashionMNIST(\n",
    "    \"./\", train=False, download=True,\n",
    "    transform=transform)\n",
    "\n",
    "\n",
    "train_mask = (train_ds.targets == 0) | (train_ds.targets == 6)\n",
    "train_idx = torch.where(train_mask)[0]\n",
    "train_ds.targets[train_ds.targets == 6] = 1\n",
    "\n",
    "batch_size = 50\n",
    "\n",
    "binary_train_ds = Subset(train_ds, train_idx)\n",
    "train_loader = DataLoader(binary_train_ds, batch_size = batch_size, shuffle =True)\n",
    "test_loader = DataLoader(test_ds, batch_size=batch_size, shuffle=False)"
   ]
  },
  {
   "cell_type": "code",
   "execution_count": 40,
   "id": "4b301e6d",
   "metadata": {},
   "outputs": [
    {
     "data": {
      "text/plain": [
       "BinaryClassifier(\n",
       "  (conv1): Conv2d(1, 8, kernel_size=(5, 5), stride=(1, 1), padding=(2, 2))\n",
       "  (conv2): Conv2d(8, 25, kernel_size=(5, 5), stride=(1, 1), padding=(2, 2))\n",
       "  (dropout): Dropout2d(p=0.5, inplace=False)\n",
       "  (fc1): Linear(in_features=1225, out_features=36, bias=True)\n",
       "  (fn_dropout): Dropout(p=0.1, inplace=False)\n",
       "  (fc2): Linear(in_features=36, out_features=3, bias=True)\n",
       "  (fc3): Linear(in_features=3, out_features=1, bias=True)\n",
       ")"
      ]
     },
     "execution_count": 40,
     "metadata": {},
     "output_type": "execute_result"
    }
   ],
   "source": [
    "torch.set_default_dtype(torch.float64)\n",
    "class BinaryClassifier(Module):\n",
    "    def __init__(self):\n",
    "        super().__init__()\n",
    "        self.conv1 = Conv2d(1, 8, kernel_size=5, padding=2)\n",
    "        self.conv2 = Conv2d(8, 25, kernel_size=5, padding=2)\n",
    "        self.dropout = Dropout2d()\n",
    "        self.fc1 = Linear(25 * 7 * 7, 36)\n",
    "        self.fn_dropout = Dropout(p=0.1)\n",
    "        self.fc2 = Linear(36, 3)\n",
    "        self.fc3 = Linear(3, 1)\n",
    "\n",
    "        # Quantum layer\n",
    "        self.num_q_wires = 3\n",
    "        self.q_device = qml.device(\"default.qubit\", wires=self.num_q_wires)\n",
    "        \n",
    "        self.num_q_layers = 2\n",
    "        qnn_params_size = (self.num_q_layers * 3 + 2) * self.num_q_wires\n",
    "        qnn_params_tensor = torch.empty(qnn_params_size, requires_grad=True)\n",
    "\n",
    "        # Kaiming 초기화의 gain 값 계산 (SiLU에 적합한 'leaky_relu'를 사용)\n",
    "        gain = torch.nn.init.calculate_gain('leaky_relu')\n",
    "        std = gain / qnn_params_size**0.5 # 텐서 크기를 이용한 표준 편차 계산\n",
    "        \n",
    "        # 균등 분포로 파라미터 초기화\n",
    "        torch.nn.init.uniform_(qnn_params_tensor, -std, std)\n",
    "\n",
    "        self.qnn_params = Parameter(qnn_params_tensor)\n",
    "\n",
    "        #@qml.qnode(self.q_device)\n",
    "        @qml.qnode(self.q_device, interface=\"torch\")\n",
    "        def circuit(x_batch):\n",
    "            param_idx = 0 \n",
    "            for layer in range(self.num_q_layers): # num_q_layers 만큼 반복\n",
    "                for i in range(self.num_q_wires):\n",
    "                    qml.H(wires=i)\n",
    "                    qml.RZ(2. * x_batch[:, i], wires=i)\n",
    "                    \n",
    "                for i in range(self.num_q_wires):\n",
    "                    qml.CRZ(2. * (torch.pi - x_batch[:, i]) * (torch.pi - x_batch[:, (i+1) % self.num_q_wires]), wires=[i, (i+1)%self.num_q_wires])\n",
    "\n",
    "                # EfficientSU2\n",
    "                for i in range(self.num_q_wires):\n",
    "                    qml.RY(self.qnn_params[param_idx], wires=i)\n",
    "                    param_idx += 1\n",
    "                    qml.RX(self.qnn_params[param_idx], wires=i)\n",
    "                    param_idx += 1\n",
    "                    #qml.Rot(self.qnn_params[param_idx], self.qnn_params[param_idx+1], torch.tensor(-torch.pi/2, dtype=torch.float64), wires=i)\n",
    "                    #param_idx += 2\n",
    "                    qml.Y(wires=i)\n",
    "\n",
    "                for i in range(self.num_q_wires):\n",
    "                    qml.CRX(self.qnn_params[param_idx], wires=[i, (i+1)%self.num_q_wires])\n",
    "                    param_idx += 1\n",
    "                    #qml.CNOT(wires=[i, (i+1)%self.num_q_wires])\n",
    "\n",
    "                #for i in range(self.num_q_wires):\n",
    "                #    qml.Z(wires=i)\n",
    "                \n",
    "                if layer == self.num_q_layers-1:\n",
    "                    for i in range(self.num_q_wires):\n",
    "                        qml.RY(self.qnn_params[param_idx], wires=i)\n",
    "                        param_idx += 1\n",
    "                        qml.RX(self.qnn_params[param_idx], wires=i)\n",
    "                        param_idx += 1\n",
    "                        #qml.Rot(self.qnn_params[param_idx], self.qnn_params[param_idx+1], torch.tensor(-torch.pi/2, dtype=torch.float64), wires=i)\n",
    "                        #param_idx += 2\n",
    "                        qml.Y(wires=i)\n",
    "            \n",
    "            #return qml.expval(self.obs) # qml.expval은 이제 (BATCH_SIZE,) 형태를 반환\n",
    "            return [qml.expval(qml.PauliZ(i)) for i in range(self.num_q_wires)]\n",
    "\n",
    "        self.qnn = circuit\n",
    "\n",
    "    def forward(self, x):\n",
    "        #x = F.silu(self.conv1(x))\n",
    "        x = F.leaky_relu(self.conv1(x))\n",
    "        x = F.max_pool2d(x, 2)\n",
    "        \n",
    "        #x = F.silu(self.conv2(x))\n",
    "        x = F.leaky_relu(self.conv2(x))\n",
    "        x = F.max_pool2d(x, 2)\n",
    "        \n",
    "        x = self.dropout(x)\n",
    "        \n",
    "        x = x.view(x.size(0), -1)\n",
    "        \n",
    "        #x = F.silu(self.fc1(x))\n",
    "        x = F.leaky_relu(self.fc1(x))\n",
    "        #x = F.dropout(x, p=0.1)\n",
    "        x = self.fn_dropout(x)\n",
    "\n",
    "        x = self.fc2(x)\n",
    "        \n",
    "        #x = self.qnn(x).view(1,)  # apply QNN\n",
    "        qnn_out = self.qnn(x) \n",
    "        x = torch.stack(qnn_out, dim=-1).to(x.device)\n",
    "        \n",
    "        x = self.fc3(x)\n",
    "        return F.log_softmax(cat((x, 1 - x), -1), -1)\n",
    "\n",
    "bc = BinaryClassifier()\n",
    "bc.to(device)"
   ]
  },
  {
   "cell_type": "code",
   "execution_count": 41,
   "id": "3bb34611",
   "metadata": {},
   "outputs": [
    {
     "data": {
      "image/png": "[encoded data removed]",
      "text/plain": [
       "<Figure size 2800x400 with 1 Axes>"
      ]
     },
     "metadata": {},
     "output_type": "display_data"
    }
   ],
   "source": [
    "dummy_x = torch.tensor([[0.0, 0.0, 0.0, 0.0, 0.0, 0.0]], dtype=torch.float64).to(device)\n",
    "specs = qml.specs(bc.qnn)(dummy_x)\n",
    "total_params = sum(p.numel() for p in bc.parameters() if p.requires_grad)\n",
    "\n",
    "# 양자 회로 그리기\n",
    "fig, ax = qml.draw_mpl(bc.qnn)(dummy_x)\n",
    "plt.title(\"Modified Quantum Circuit (Custom Ansatz)\")\n",
    "plt.show()"
   ]
  },
  {
   "cell_type": "code",
   "execution_count": 42,
   "id": "b25a57d6",
   "metadata": {},
   "outputs": [
    {
     "name": "stdout",
     "output_type": "stream",
     "text": [
      "{'device_name': 'default.qubit',\n",
      " 'diff_method': 'best',\n",
      " 'errors': {},\n",
      " 'gradient_fn': 'backprop',\n",
      " 'gradient_options': {},\n",
      " 'interface': 'torch',\n",
      " 'level': 'gradient',\n",
      " 'num_device_wires': 3,\n",
      " 'num_observables': 3,\n",
      " 'num_tape_wires': 3,\n",
      " 'num_trainable_params': 24,\n",
      " 'resources': Resources(num_wires=3,\n",
      "                        num_gates=51,\n",
      "                        gate_types=defaultdict(<class 'int'>,\n",
      "                                               {'CRX': 6,\n",
      "                                                'CRZ': 6,\n",
      "                                                'Hadamard': 6,\n",
      "                                                'PauliY': 9,\n",
      "                                                'RX': 9,\n",
      "                                                'RY': 9,\n",
      "                                                'RZ': 6}),\n",
      "                        gate_sizes=defaultdict(<class 'int'>,\n",
      "                                               {1: 39,\n",
      "                                                2: 12}),\n",
      "                        depth=25,\n",
      "                        shots=Shots(total_shots=None, shot_vector=()))}\n",
      "49508\n",
      "✅ 회로 제약 통과 — 학습을 계속합니다\n"
     ]
    }
   ],
   "source": [
    "pprint.pprint(specs, width=1)\n",
    "print(total_params)\n",
    "assert specs[\"num_tape_wires\"] <= 8,  \"❌ 큐빗 수 초과\"\n",
    "assert specs['resources'].depth <= 30, \"❌ 회로 깊이 초과\"\n",
    "assert specs[\"num_trainable_params\"]<= 60, \"❌ 학습 퀀텀 파라미터 수 초과\"\n",
    "assert total_params <= 50000, \"❌ 학습 전체 파라미터 수 초과\"\n",
    "\n",
    "print(\"✅ 회로 제약 통과 — 학습을 계속합니다\")"
   ]
  },
  {
   "cell_type": "code",
   "execution_count": 43,
   "id": "b3065daf",
   "metadata": {},
   "outputs": [],
   "source": [
    "def train_step(epochs=10, lr=0.0010, weight_decay=1e-6):\n",
    "    optimizer = AdamW(bc.parameters(), lr=lr, weight_decay=weight_decay)\n",
    "    #optimizer = RAdam(bc.parameters(), lr=lr, weight_decay=weight_decay)\n",
    "    loss_func  = NLLLoss()\n",
    "\n",
    "    scheduler = CosineAnnealingLR(optimizer, T_max=epochs * len(train_loader), eta_min=1e-6)\n",
    "\n",
    "    loss_history = []\n",
    "    bc.train()\n",
    "\n",
    "\n",
    "    print(f\"Starting training on {device}...\")\n",
    "    for epoch in range(epochs):\n",
    "        epoch_bar = tqdm(enumerate(train_loader),\n",
    "                        desc=f\"Epoch {epoch+1}/{epochs}\",\n",
    "                        total=len(train_loader),\n",
    "                        leave=True)\n",
    "\n",
    "        total_loss = []\n",
    "        for bidx, (data, target) in epoch_bar:\n",
    "            data = data.to(device)\n",
    "            target = target.to(device).flatten().long()\n",
    "            #target = target.to(device).float().unsqueeze(1)\n",
    "            \n",
    "            optimizer.zero_grad(set_to_none=True)\n",
    "\n",
    "            output = bc(data)\n",
    "            loss = loss_func(output, target)\n",
    "\n",
    "            total_loss.append(loss.item())\n",
    "            loss.backward()\n",
    "            optimizer.step()\n",
    "            scheduler.step()\n",
    "\n",
    "            if bidx % 100 == 0:\n",
    "                epoch_bar.set_postfix(batch=bidx,\n",
    "                                    loss=f\"{loss.item():.4f}\",\n",
    "                                    lr=f\"{optimizer.param_groups[0]['lr']:.6f}\")\n",
    "\n",
    "        avg_loss = sum(total_loss) / len(total_loss)\n",
    "        loss_history.append(avg_loss)\n",
    "\n",
    "        print(f\"Training [{100.0 * (epoch+1)/epochs:.0f}%] Loss: {avg_loss:.4f}\")\n",
    "        \n",
    "    return loss_history\n"
   ]
  },
  {
   "cell_type": "code",
   "execution_count": 44,
   "id": "8bcd5af3",
   "metadata": {},
   "outputs": [],
   "source": [
    "def test():\n",
    "    print(f\"Starting inference on {device}...\")\n",
    "    bc.eval()\n",
    "\n",
    "    all_preds, all_targets = [], []\n",
    "\n",
    "    with torch.no_grad():\n",
    "        for data, target in tqdm(test_loader,\n",
    "                                desc=\"Inference\",\n",
    "                                total=len(test_loader),\n",
    "                                leave=False):\n",
    "            data, target = data.to(device), target.to(device).flatten().long() #target.to(device).float().unsqueeze(1)\n",
    "\n",
    "            logits = bc(data)\n",
    "\n",
    "            pred = logits.argmax(dim=-1)\n",
    "            #probabilities = torch.sigmoid(logits)\n",
    "            #pred = (probabilities >= 0.5).float().squeeze(1) \n",
    "\n",
    "            all_preds.append(pred.cpu())\n",
    "            all_targets.append(target.cpu())\n",
    "\n",
    "    y_pred = torch.cat(all_preds).numpy().astype(int)\n",
    "    y_true = torch.cat(all_targets).numpy().astype(int)\n",
    "\n",
    "    #y_pred = torch.cat(all_preds).numpy().flatten().astype(int) # .flatten() 추가\n",
    "    #y_true = torch.cat(all_targets).numpy().flatten().astype(int) # .flatten() 추가\n",
    "\n",
    "    # --- 8. 평가 및 결과 저장 ---\n",
    "    # 베이스라인 평가 로직을 따릅니다. y_true는 이제 10000개 길이를 가집니다.\n",
    "    test_mask = (y_true == 0) | (y_true == 6)\n",
    "\n",
    "    print(\"total samples:\", len(y_true))\n",
    "    print(\"target samples:\", test_mask.sum())\n",
    "\n",
    "    # 모델 결과가 1인 것을 6으로 변경 (제출 형식에 맞게)\n",
    "    y_pred_mapped = np.where(y_pred == 1, 6, y_pred)\n",
    "\n",
    "    # 정확도 계산은 0/6 라벨에 대해서만 수행\n",
    "    acc = (y_pred_mapped[test_mask] == y_true[test_mask]).mean()\n",
    "    print(f\"accuracy (labels 0/6 only): {acc:.4f}\")\n",
    "\n",
    "    now = datetime.now().strftime(\"%Y%m%d_%H%M%S\")\n",
    "\n",
    "    y_pred_filename = f\"y_pred_{now}.csv\"\n",
    "\n",
    "    return y_pred_mapped, y_pred_filename, acc\n",
    "\n"
   ]
  },
  {
   "cell_type": "code",
   "execution_count": 45,
   "id": "71bf30ba",
   "metadata": {},
   "outputs": [],
   "source": [
    "def plt_loss_history(loss_history, n_repeats, epochs_per_repeat):\n",
    "    \"\"\"\n",
    "    학습 손실 이력을 시각화합니다.\n",
    "    Args:\n",
    "        loss_history (list): 에포크별 평균 손실 값 리스트\n",
    "        n_repeats (int): train_step 함수의 총 반복 횟수 (n)\n",
    "        epochs_per_repeat (int): 한 번의 train_step에서 에포크 수 (epochs)\n",
    "    \"\"\"\n",
    "    total_epochs = n_repeats * epochs_per_repeat\n",
    "    x_axis = range(1, total_epochs + 1)\n",
    "\n",
    "    plt.figure(figsize=(10, 5))\n",
    "    plt.plot(x_axis, loss_history)\n",
    "    plt.title(\"Training Loss History\")\n",
    "    plt.xlabel(\"Total Epochs\")\n",
    "    plt.ylabel(\"Loss\")\n",
    "    plt.grid(True)\n",
    "    plt.show()\n",
    "\n",
    "# 사용 예시\n",
    "# loss_history는 모든 반복(n)과 에포크(epochs)의 손실이 담긴 리스트\n",
    "# loss_history = [ ... ]\n",
    "\n",
    "# plt_loss_history(loss_history, n_repeats=15, epochs_per_repeat=20)"
   ]
  },
  {
   "cell_type": "code",
   "execution_count": 46,
   "id": "977c8b3a",
   "metadata": {},
   "outputs": [
    {
     "name": "stdout",
     "output_type": "stream",
     "text": [
      "Starting training on cuda...\n"
     ]
    },
    {
     "name": "stderr",
     "output_type": "stream",
     "text": [
      "Epoch 1/100: 100%|██████████| 240/240 [00:15<00:00, 15.53it/s, batch=200, loss=0.6791, lr=0.001500]\n"
     ]
    },
    {
     "name": "stdout",
     "output_type": "stream",
     "text": [
      "Training [1%] Loss: 0.7121\n"
     ]
    },
    {
     "name": "stderr",
     "output_type": "stream",
     "text": [
      "Epoch 2/100: 100%|██████████| 240/240 [00:15<00:00, 15.88it/s, batch=200, loss=0.5170, lr=0.001499]\n"
     ]
    },
    {
     "name": "stdout",
     "output_type": "stream",
     "text": [
      "Training [2%] Loss: 0.5804\n"
     ]
    },
    {
     "name": "stderr",
     "output_type": "stream",
     "text": [
      "Epoch 3/100: 100%|██████████| 240/240 [00:15<00:00, 15.97it/s, batch=200, loss=0.4192, lr=0.001497]\n"
     ]
    },
    {
     "name": "stdout",
     "output_type": "stream",
     "text": [
      "Training [3%] Loss: 0.4603\n"
     ]
    },
    {
     "name": "stderr",
     "output_type": "stream",
     "text": [
      "Epoch 4/100: 100%|██████████| 240/240 [00:15<00:00, 15.98it/s, batch=200, loss=0.5160, lr=0.001495]\n"
     ]
    },
    {
     "name": "stdout",
     "output_type": "stream",
     "text": [
      "Training [4%] Loss: 0.3985\n"
     ]
    },
    {
     "name": "stderr",
     "output_type": "stream",
     "text": [
      "Epoch 5/100: 100%|██████████| 240/240 [00:15<00:00, 15.70it/s, batch=200, loss=0.3742, lr=0.001491]\n"
     ]
    },
    {
     "name": "stdout",
     "output_type": "stream",
     "text": [
      "Training [5%] Loss: 0.3606\n"
     ]
    },
    {
     "name": "stderr",
     "output_type": "stream",
     "text": [
      "Epoch 6/100: 100%|██████████| 240/240 [00:15<00:00, 15.50it/s, batch=200, loss=0.3922, lr=0.001487]\n"
     ]
    },
    {
     "name": "stdout",
     "output_type": "stream",
     "text": [
      "Training [6%] Loss: 0.3301\n"
     ]
    },
    {
     "name": "stderr",
     "output_type": "stream",
     "text": [
      "Epoch 7/100: 100%|██████████| 240/240 [00:15<00:00, 15.95it/s, batch=200, loss=0.1964, lr=0.001483]\n"
     ]
    },
    {
     "name": "stdout",
     "output_type": "stream",
     "text": [
      "Training [7%] Loss: 0.3122\n"
     ]
    },
    {
     "name": "stderr",
     "output_type": "stream",
     "text": [
      "Epoch 8/100: 100%|██████████| 240/240 [00:15<00:00, 15.93it/s, batch=200, loss=0.2657, lr=0.001477]\n"
     ]
    },
    {
     "name": "stdout",
     "output_type": "stream",
     "text": [
      "Training [8%] Loss: 0.3031\n"
     ]
    },
    {
     "name": "stderr",
     "output_type": "stream",
     "text": [
      "Epoch 9/100: 100%|██████████| 240/240 [00:15<00:00, 15.80it/s, batch=200, loss=0.2867, lr=0.001471]\n"
     ]
    },
    {
     "name": "stdout",
     "output_type": "stream",
     "text": [
      "Training [9%] Loss: 0.2957\n"
     ]
    },
    {
     "name": "stderr",
     "output_type": "stream",
     "text": [
      "Epoch 10/100: 100%|██████████| 240/240 [00:15<00:00, 15.94it/s, batch=200, loss=0.3032, lr=0.001464]\n"
     ]
    },
    {
     "name": "stdout",
     "output_type": "stream",
     "text": [
      "Training [10%] Loss: 0.2835\n"
     ]
    },
    {
     "name": "stderr",
     "output_type": "stream",
     "text": [
      "Epoch 11/100: 100%|██████████| 240/240 [00:15<00:00, 15.81it/s, batch=200, loss=0.1958, lr=0.001457]\n"
     ]
    },
    {
     "name": "stdout",
     "output_type": "stream",
     "text": [
      "Training [11%] Loss: 0.2723\n"
     ]
    },
    {
     "name": "stderr",
     "output_type": "stream",
     "text": [
      "Epoch 12/100: 100%|██████████| 240/240 [00:15<00:00, 15.75it/s, batch=200, loss=0.3059, lr=0.001449]\n"
     ]
    },
    {
     "name": "stdout",
     "output_type": "stream",
     "text": [
      "Training [12%] Loss: 0.2687\n"
     ]
    },
    {
     "name": "stderr",
     "output_type": "stream",
     "text": [
      "Epoch 13/100: 100%|██████████| 240/240 [00:15<00:00, 15.65it/s, batch=200, loss=0.1999, lr=0.001440]\n"
     ]
    },
    {
     "name": "stdout",
     "output_type": "stream",
     "text": [
      "Training [13%] Loss: 0.2680\n"
     ]
    },
    {
     "name": "stderr",
     "output_type": "stream",
     "text": [
      "Epoch 14/100: 100%|██████████| 240/240 [00:15<00:00, 15.68it/s, batch=200, loss=0.2772, lr=0.001430]\n"
     ]
    },
    {
     "name": "stdout",
     "output_type": "stream",
     "text": [
      "Training [14%] Loss: 0.2586\n"
     ]
    },
    {
     "name": "stderr",
     "output_type": "stream",
     "text": [
      "Epoch 15/100: 100%|██████████| 240/240 [00:15<00:00, 15.67it/s, batch=200, loss=0.1825, lr=0.001420]\n"
     ]
    },
    {
     "name": "stdout",
     "output_type": "stream",
     "text": [
      "Training [15%] Loss: 0.2610\n"
     ]
    },
    {
     "name": "stderr",
     "output_type": "stream",
     "text": [
      "Epoch 16/100: 100%|██████████| 240/240 [00:15<00:00, 15.70it/s, batch=200, loss=0.3253, lr=0.001409]\n"
     ]
    },
    {
     "name": "stdout",
     "output_type": "stream",
     "text": [
      "Training [16%] Loss: 0.2447\n"
     ]
    },
    {
     "name": "stderr",
     "output_type": "stream",
     "text": [
      "Epoch 17/100: 100%|██████████| 240/240 [00:15<00:00, 15.58it/s, batch=200, loss=0.2240, lr=0.001398]\n"
     ]
    },
    {
     "name": "stdout",
     "output_type": "stream",
     "text": [
      "Training [17%] Loss: 0.2398\n"
     ]
    },
    {
     "name": "stderr",
     "output_type": "stream",
     "text": [
      "Epoch 18/100: 100%|██████████| 240/240 [00:17<00:00, 13.92it/s, batch=200, loss=0.0982, lr=0.001385]\n"
     ]
    },
    {
     "name": "stdout",
     "output_type": "stream",
     "text": [
      "Training [18%] Loss: 0.2334\n"
     ]
    },
    {
     "name": "stderr",
     "output_type": "stream",
     "text": [
      "Epoch 19/100: 100%|██████████| 240/240 [00:17<00:00, 13.65it/s, batch=200, loss=0.3015, lr=0.001373]\n"
     ]
    },
    {
     "name": "stdout",
     "output_type": "stream",
     "text": [
      "Training [19%] Loss: 0.2291\n"
     ]
    },
    {
     "name": "stderr",
     "output_type": "stream",
     "text": [
      "Epoch 20/100: 100%|██████████| 240/240 [00:17<00:00, 13.83it/s, batch=200, loss=0.1962, lr=0.001359]\n"
     ]
    },
    {
     "name": "stdout",
     "output_type": "stream",
     "text": [
      "Training [20%] Loss: 0.2275\n"
     ]
    },
    {
     "name": "stderr",
     "output_type": "stream",
     "text": [
      "Epoch 21/100: 100%|██████████| 240/240 [00:16<00:00, 14.29it/s, batch=200, loss=0.1701, lr=0.001345]\n"
     ]
    },
    {
     "name": "stdout",
     "output_type": "stream",
     "text": [
      "Training [21%] Loss: 0.2229\n"
     ]
    },
    {
     "name": "stderr",
     "output_type": "stream",
     "text": [
      "Epoch 22/100: 100%|██████████| 240/240 [00:16<00:00, 14.83it/s, batch=200, loss=0.3925, lr=0.001330]\n"
     ]
    },
    {
     "name": "stdout",
     "output_type": "stream",
     "text": [
      "Training [22%] Loss: 0.2246\n"
     ]
    },
    {
     "name": "stderr",
     "output_type": "stream",
     "text": [
      "Epoch 23/100: 100%|██████████| 240/240 [00:17<00:00, 13.46it/s, batch=200, loss=0.1862, lr=0.001315]\n"
     ]
    },
    {
     "name": "stdout",
     "output_type": "stream",
     "text": [
      "Training [23%] Loss: 0.2136\n"
     ]
    },
    {
     "name": "stderr",
     "output_type": "stream",
     "text": [
      "Epoch 24/100: 100%|██████████| 240/240 [00:16<00:00, 14.64it/s, batch=200, loss=0.1954, lr=0.001299]\n"
     ]
    },
    {
     "name": "stdout",
     "output_type": "stream",
     "text": [
      "Training [24%] Loss: 0.2142\n"
     ]
    },
    {
     "name": "stderr",
     "output_type": "stream",
     "text": [
      "Epoch 25/100: 100%|██████████| 240/240 [00:16<00:00, 14.96it/s, batch=200, loss=0.2048, lr=0.001283]\n"
     ]
    },
    {
     "name": "stdout",
     "output_type": "stream",
     "text": [
      "Training [25%] Loss: 0.2083\n"
     ]
    },
    {
     "name": "stderr",
     "output_type": "stream",
     "text": [
      "Epoch 26/100: 100%|██████████| 240/240 [00:16<00:00, 14.91it/s, batch=200, loss=0.2830, lr=0.001266]\n"
     ]
    },
    {
     "name": "stdout",
     "output_type": "stream",
     "text": [
      "Training [26%] Loss: 0.2029\n"
     ]
    },
    {
     "name": "stderr",
     "output_type": "stream",
     "text": [
      "Epoch 27/100: 100%|██████████| 240/240 [00:15<00:00, 15.09it/s, batch=200, loss=0.2606, lr=0.001249]\n"
     ]
    },
    {
     "name": "stdout",
     "output_type": "stream",
     "text": [
      "Training [27%] Loss: 0.1983\n"
     ]
    },
    {
     "name": "stderr",
     "output_type": "stream",
     "text": [
      "Epoch 28/100: 100%|██████████| 240/240 [00:16<00:00, 14.56it/s, batch=200, loss=0.2003, lr=0.001231]\n"
     ]
    },
    {
     "name": "stdout",
     "output_type": "stream",
     "text": [
      "Training [28%] Loss: 0.2008\n"
     ]
    },
    {
     "name": "stderr",
     "output_type": "stream",
     "text": [
      "Epoch 29/100: 100%|██████████| 240/240 [00:16<00:00, 14.50it/s, batch=200, loss=0.2038, lr=0.001213]\n"
     ]
    },
    {
     "name": "stdout",
     "output_type": "stream",
     "text": [
      "Training [29%] Loss: 0.1975\n"
     ]
    },
    {
     "name": "stderr",
     "output_type": "stream",
     "text": [
      "Epoch 30/100: 100%|██████████| 240/240 [00:16<00:00, 14.30it/s, batch=200, loss=0.1300, lr=0.001194]\n"
     ]
    },
    {
     "name": "stdout",
     "output_type": "stream",
     "text": [
      "Training [30%] Loss: 0.1896\n"
     ]
    },
    {
     "name": "stderr",
     "output_type": "stream",
     "text": [
      "Epoch 31/100: 100%|██████████| 240/240 [00:16<00:00, 14.17it/s, batch=200, loss=0.1328, lr=0.001175]\n"
     ]
    },
    {
     "name": "stdout",
     "output_type": "stream",
     "text": [
      "Training [31%] Loss: 0.1844\n"
     ]
    },
    {
     "name": "stderr",
     "output_type": "stream",
     "text": [
      "Epoch 32/100: 100%|██████████| 240/240 [00:16<00:00, 14.57it/s, batch=200, loss=0.1288, lr=0.001155]\n"
     ]
    },
    {
     "name": "stdout",
     "output_type": "stream",
     "text": [
      "Training [32%] Loss: 0.1787\n"
     ]
    },
    {
     "name": "stderr",
     "output_type": "stream",
     "text": [
      "Epoch 33/100: 100%|██████████| 240/240 [00:16<00:00, 14.50it/s, batch=200, loss=0.2435, lr=0.001135]\n"
     ]
    },
    {
     "name": "stdout",
     "output_type": "stream",
     "text": [
      "Training [33%] Loss: 0.1795\n"
     ]
    },
    {
     "name": "stderr",
     "output_type": "stream",
     "text": [
      "Epoch 34/100: 100%|██████████| 240/240 [00:16<00:00, 14.92it/s, batch=200, loss=0.2240, lr=0.001115]\n"
     ]
    },
    {
     "name": "stdout",
     "output_type": "stream",
     "text": [
      "Training [34%] Loss: 0.1778\n"
     ]
    },
    {
     "name": "stderr",
     "output_type": "stream",
     "text": [
      "Epoch 35/100: 100%|██████████| 240/240 [00:15<00:00, 15.69it/s, batch=200, loss=0.1470, lr=0.001094]\n"
     ]
    },
    {
     "name": "stdout",
     "output_type": "stream",
     "text": [
      "Training [35%] Loss: 0.1758\n"
     ]
    },
    {
     "name": "stderr",
     "output_type": "stream",
     "text": [
      "Epoch 36/100: 100%|██████████| 240/240 [00:17<00:00, 14.07it/s, batch=200, loss=0.1839, lr=0.001073]\n"
     ]
    },
    {
     "name": "stdout",
     "output_type": "stream",
     "text": [
      "Training [36%] Loss: 0.1765\n"
     ]
    },
    {
     "name": "stderr",
     "output_type": "stream",
     "text": [
      "Epoch 37/100: 100%|██████████| 240/240 [00:17<00:00, 13.95it/s, batch=200, loss=0.2095, lr=0.001052]\n"
     ]
    },
    {
     "name": "stdout",
     "output_type": "stream",
     "text": [
      "Training [37%] Loss: 0.1712\n"
     ]
    },
    {
     "name": "stderr",
     "output_type": "stream",
     "text": [
      "Epoch 38/100: 100%|██████████| 240/240 [00:17<00:00, 14.09it/s, batch=200, loss=0.3412, lr=0.001030]\n"
     ]
    },
    {
     "name": "stdout",
     "output_type": "stream",
     "text": [
      "Training [38%] Loss: 0.1756\n"
     ]
    },
    {
     "name": "stderr",
     "output_type": "stream",
     "text": [
      "Epoch 39/100: 100%|██████████| 240/240 [00:17<00:00, 13.99it/s, batch=200, loss=0.0956, lr=0.001008]\n"
     ]
    },
    {
     "name": "stdout",
     "output_type": "stream",
     "text": [
      "Training [39%] Loss: 0.1705\n"
     ]
    },
    {
     "name": "stderr",
     "output_type": "stream",
     "text": [
      "Epoch 40/100: 100%|██████████| 240/240 [00:17<00:00, 14.10it/s, batch=200, loss=0.2038, lr=0.000986]\n"
     ]
    },
    {
     "name": "stdout",
     "output_type": "stream",
     "text": [
      "Training [40%] Loss: 0.1578\n"
     ]
    },
    {
     "name": "stderr",
     "output_type": "stream",
     "text": [
      "Epoch 41/100: 100%|██████████| 240/240 [00:17<00:00, 13.94it/s, batch=200, loss=0.1504, lr=0.000963]\n"
     ]
    },
    {
     "name": "stdout",
     "output_type": "stream",
     "text": [
      "Training [41%] Loss: 0.1571\n"
     ]
    },
    {
     "name": "stderr",
     "output_type": "stream",
     "text": [
      "Epoch 42/100: 100%|██████████| 240/240 [00:18<00:00, 13.16it/s, batch=200, loss=0.3152, lr=0.000941]\n"
     ]
    },
    {
     "name": "stdout",
     "output_type": "stream",
     "text": [
      "Training [42%] Loss: 0.1562\n"
     ]
    },
    {
     "name": "stderr",
     "output_type": "stream",
     "text": [
      "Epoch 43/100: 100%|██████████| 240/240 [00:17<00:00, 13.77it/s, batch=200, loss=0.1653, lr=0.000918]\n"
     ]
    },
    {
     "name": "stdout",
     "output_type": "stream",
     "text": [
      "Training [43%] Loss: 0.1522\n"
     ]
    },
    {
     "name": "stderr",
     "output_type": "stream",
     "text": [
      "Epoch 44/100: 100%|██████████| 240/240 [00:17<00:00, 13.87it/s, batch=200, loss=0.1723, lr=0.000895]\n"
     ]
    },
    {
     "name": "stdout",
     "output_type": "stream",
     "text": [
      "Training [44%] Loss: 0.1526\n"
     ]
    },
    {
     "name": "stderr",
     "output_type": "stream",
     "text": [
      "Epoch 45/100: 100%|██████████| 240/240 [00:17<00:00, 13.98it/s, batch=200, loss=0.1107, lr=0.000872]\n"
     ]
    },
    {
     "name": "stdout",
     "output_type": "stream",
     "text": [
      "Training [45%] Loss: 0.1547\n"
     ]
    },
    {
     "name": "stderr",
     "output_type": "stream",
     "text": [
      "Epoch 46/100: 100%|██████████| 240/240 [00:17<00:00, 14.01it/s, batch=200, loss=0.2193, lr=0.000848]\n"
     ]
    },
    {
     "name": "stdout",
     "output_type": "stream",
     "text": [
      "Training [46%] Loss: 0.1459\n"
     ]
    },
    {
     "name": "stderr",
     "output_type": "stream",
     "text": [
      "Epoch 47/100: 100%|██████████| 240/240 [00:17<00:00, 13.98it/s, batch=200, loss=0.2001, lr=0.000825]\n"
     ]
    },
    {
     "name": "stdout",
     "output_type": "stream",
     "text": [
      "Training [47%] Loss: 0.1467\n"
     ]
    },
    {
     "name": "stderr",
     "output_type": "stream",
     "text": [
      "Epoch 48/100: 100%|██████████| 240/240 [00:17<00:00, 13.98it/s, batch=200, loss=0.1415, lr=0.000801]\n"
     ]
    },
    {
     "name": "stdout",
     "output_type": "stream",
     "text": [
      "Training [48%] Loss: 0.1355\n"
     ]
    },
    {
     "name": "stderr",
     "output_type": "stream",
     "text": [
      "Epoch 49/100: 100%|██████████| 240/240 [00:17<00:00, 13.87it/s, batch=200, loss=0.1316, lr=0.000778]\n"
     ]
    },
    {
     "name": "stdout",
     "output_type": "stream",
     "text": [
      "Training [49%] Loss: 0.1407\n"
     ]
    },
    {
     "name": "stderr",
     "output_type": "stream",
     "text": [
      "Epoch 50/100: 100%|██████████| 240/240 [00:17<00:00, 13.91it/s, batch=200, loss=0.1043, lr=0.000754]\n"
     ]
    },
    {
     "name": "stdout",
     "output_type": "stream",
     "text": [
      "Training [50%] Loss: 0.1371\n"
     ]
    },
    {
     "name": "stderr",
     "output_type": "stream",
     "text": [
      "Epoch 51/100: 100%|██████████| 240/240 [00:17<00:00, 13.98it/s, batch=200, loss=0.0174, lr=0.000731]\n"
     ]
    },
    {
     "name": "stdout",
     "output_type": "stream",
     "text": [
      "Training [51%] Loss: 0.1392\n"
     ]
    },
    {
     "name": "stderr",
     "output_type": "stream",
     "text": [
      "Epoch 52/100: 100%|██████████| 240/240 [00:17<00:00, 13.92it/s, batch=200, loss=0.1800, lr=0.000707]\n"
     ]
    },
    {
     "name": "stdout",
     "output_type": "stream",
     "text": [
      "Training [52%] Loss: 0.1332\n"
     ]
    },
    {
     "name": "stderr",
     "output_type": "stream",
     "text": [
      "Epoch 53/100: 100%|██████████| 240/240 [00:17<00:00, 13.93it/s, batch=200, loss=0.1367, lr=0.000684]\n"
     ]
    },
    {
     "name": "stdout",
     "output_type": "stream",
     "text": [
      "Training [53%] Loss: 0.1297\n"
     ]
    },
    {
     "name": "stderr",
     "output_type": "stream",
     "text": [
      "Epoch 54/100: 100%|██████████| 240/240 [00:16<00:00, 14.17it/s, batch=200, loss=0.0839, lr=0.000660]\n"
     ]
    },
    {
     "name": "stdout",
     "output_type": "stream",
     "text": [
      "Training [54%] Loss: 0.1311\n"
     ]
    },
    {
     "name": "stderr",
     "output_type": "stream",
     "text": [
      "Epoch 55/100: 100%|██████████| 240/240 [00:17<00:00, 13.94it/s, batch=200, loss=0.1251, lr=0.000637]\n"
     ]
    },
    {
     "name": "stdout",
     "output_type": "stream",
     "text": [
      "Training [55%] Loss: 0.1257\n"
     ]
    },
    {
     "name": "stderr",
     "output_type": "stream",
     "text": [
      "Epoch 56/100: 100%|██████████| 240/240 [00:17<00:00, 13.90it/s, batch=200, loss=0.0368, lr=0.000614]\n"
     ]
    },
    {
     "name": "stdout",
     "output_type": "stream",
     "text": [
      "Training [56%] Loss: 0.1211\n"
     ]
    },
    {
     "name": "stderr",
     "output_type": "stream",
     "text": [
      "Epoch 57/100: 100%|██████████| 240/240 [00:16<00:00, 14.19it/s, batch=200, loss=0.1332, lr=0.000591]\n"
     ]
    },
    {
     "name": "stdout",
     "output_type": "stream",
     "text": [
      "Training [57%] Loss: 0.1205\n"
     ]
    },
    {
     "name": "stderr",
     "output_type": "stream",
     "text": [
      "Epoch 58/100: 100%|██████████| 240/240 [00:16<00:00, 14.32it/s, batch=200, loss=0.0892, lr=0.000568]\n"
     ]
    },
    {
     "name": "stdout",
     "output_type": "stream",
     "text": [
      "Training [58%] Loss: 0.1185\n"
     ]
    },
    {
     "name": "stderr",
     "output_type": "stream",
     "text": [
      "Epoch 59/100: 100%|██████████| 240/240 [00:17<00:00, 13.97it/s, batch=200, loss=0.0797, lr=0.000545]\n"
     ]
    },
    {
     "name": "stdout",
     "output_type": "stream",
     "text": [
      "Training [59%] Loss: 0.1171\n"
     ]
    },
    {
     "name": "stderr",
     "output_type": "stream",
     "text": [
      "Epoch 60/100: 100%|██████████| 240/240 [00:17<00:00, 13.99it/s, batch=200, loss=0.1318, lr=0.000523]\n"
     ]
    },
    {
     "name": "stdout",
     "output_type": "stream",
     "text": [
      "Training [60%] Loss: 0.1121\n"
     ]
    },
    {
     "name": "stderr",
     "output_type": "stream",
     "text": [
      "Epoch 61/100: 100%|██████████| 240/240 [00:17<00:00, 14.00it/s, batch=200, loss=0.0674, lr=0.000500]\n"
     ]
    },
    {
     "name": "stdout",
     "output_type": "stream",
     "text": [
      "Training [61%] Loss: 0.1129\n"
     ]
    },
    {
     "name": "stderr",
     "output_type": "stream",
     "text": [
      "Epoch 62/100: 100%|██████████| 240/240 [00:17<00:00, 13.93it/s, batch=200, loss=0.1314, lr=0.000478]\n"
     ]
    },
    {
     "name": "stdout",
     "output_type": "stream",
     "text": [
      "Training [62%] Loss: 0.1092\n"
     ]
    },
    {
     "name": "stderr",
     "output_type": "stream",
     "text": [
      "Epoch 63/100: 100%|██████████| 240/240 [00:17<00:00, 13.94it/s, batch=200, loss=0.0664, lr=0.000456]\n"
     ]
    },
    {
     "name": "stdout",
     "output_type": "stream",
     "text": [
      "Training [63%] Loss: 0.1149\n"
     ]
    },
    {
     "name": "stderr",
     "output_type": "stream",
     "text": [
      "Epoch 64/100: 100%|██████████| 240/240 [00:17<00:00, 13.83it/s, batch=200, loss=0.0683, lr=0.000435]\n"
     ]
    },
    {
     "name": "stdout",
     "output_type": "stream",
     "text": [
      "Training [64%] Loss: 0.1116\n"
     ]
    },
    {
     "name": "stderr",
     "output_type": "stream",
     "text": [
      "Epoch 65/100: 100%|██████████| 240/240 [00:17<00:00, 13.94it/s, batch=200, loss=0.1374, lr=0.000414]\n"
     ]
    },
    {
     "name": "stdout",
     "output_type": "stream",
     "text": [
      "Training [65%] Loss: 0.1077\n"
     ]
    },
    {
     "name": "stderr",
     "output_type": "stream",
     "text": [
      "Epoch 66/100: 100%|██████████| 240/240 [00:17<00:00, 14.02it/s, batch=200, loss=0.1113, lr=0.000393]\n"
     ]
    },
    {
     "name": "stdout",
     "output_type": "stream",
     "text": [
      "Training [66%] Loss: 0.1037\n"
     ]
    },
    {
     "name": "stderr",
     "output_type": "stream",
     "text": [
      "Epoch 67/100: 100%|██████████| 240/240 [00:16<00:00, 14.53it/s, batch=200, loss=0.1273, lr=0.000372]\n"
     ]
    },
    {
     "name": "stdout",
     "output_type": "stream",
     "text": [
      "Training [67%] Loss: 0.1006\n"
     ]
    },
    {
     "name": "stderr",
     "output_type": "stream",
     "text": [
      "Epoch 68/100: 100%|██████████| 240/240 [00:17<00:00, 13.91it/s, batch=200, loss=0.1193, lr=0.000352]\n"
     ]
    },
    {
     "name": "stdout",
     "output_type": "stream",
     "text": [
      "Training [68%] Loss: 0.1028\n"
     ]
    },
    {
     "name": "stderr",
     "output_type": "stream",
     "text": [
      "Epoch 69/100: 100%|██████████| 240/240 [00:16<00:00, 14.45it/s, batch=200, loss=0.1026, lr=0.000332]\n"
     ]
    },
    {
     "name": "stdout",
     "output_type": "stream",
     "text": [
      "Training [69%] Loss: 0.0995\n"
     ]
    },
    {
     "name": "stderr",
     "output_type": "stream",
     "text": [
      "Epoch 70/100: 100%|██████████| 240/240 [00:16<00:00, 14.61it/s, batch=200, loss=0.0460, lr=0.000313]\n"
     ]
    },
    {
     "name": "stdout",
     "output_type": "stream",
     "text": [
      "Training [70%] Loss: 0.0974\n"
     ]
    },
    {
     "name": "stderr",
     "output_type": "stream",
     "text": [
      "Epoch 71/100: 100%|██████████| 240/240 [00:16<00:00, 14.67it/s, batch=200, loss=0.2746, lr=0.000294]\n"
     ]
    },
    {
     "name": "stdout",
     "output_type": "stream",
     "text": [
      "Training [71%] Loss: 0.0954\n"
     ]
    },
    {
     "name": "stderr",
     "output_type": "stream",
     "text": [
      "Epoch 72/100: 100%|██████████| 240/240 [00:17<00:00, 14.07it/s, batch=200, loss=0.1214, lr=0.000276]\n"
     ]
    },
    {
     "name": "stdout",
     "output_type": "stream",
     "text": [
      "Training [72%] Loss: 0.0960\n"
     ]
    },
    {
     "name": "stderr",
     "output_type": "stream",
     "text": [
      "Epoch 73/100: 100%|██████████| 240/240 [00:17<00:00, 14.04it/s, batch=200, loss=0.3131, lr=0.000258]\n"
     ]
    },
    {
     "name": "stdout",
     "output_type": "stream",
     "text": [
      "Training [73%] Loss: 0.0979\n"
     ]
    },
    {
     "name": "stderr",
     "output_type": "stream",
     "text": [
      "Epoch 74/100: 100%|██████████| 240/240 [00:17<00:00, 13.90it/s, batch=200, loss=0.0536, lr=0.000240]\n"
     ]
    },
    {
     "name": "stdout",
     "output_type": "stream",
     "text": [
      "Training [74%] Loss: 0.0924\n"
     ]
    },
    {
     "name": "stderr",
     "output_type": "stream",
     "text": [
      "Epoch 75/100: 100%|██████████| 240/240 [00:17<00:00, 14.03it/s, batch=200, loss=0.1319, lr=0.000223]\n"
     ]
    },
    {
     "name": "stdout",
     "output_type": "stream",
     "text": [
      "Training [75%] Loss: 0.0948\n"
     ]
    },
    {
     "name": "stderr",
     "output_type": "stream",
     "text": [
      "Epoch 76/100: 100%|██████████| 240/240 [00:17<00:00, 13.97it/s, batch=200, loss=0.1214, lr=0.000207]\n"
     ]
    },
    {
     "name": "stdout",
     "output_type": "stream",
     "text": [
      "Training [76%] Loss: 0.0939\n"
     ]
    },
    {
     "name": "stderr",
     "output_type": "stream",
     "text": [
      "Epoch 77/100: 100%|██████████| 240/240 [00:16<00:00, 14.20it/s, batch=200, loss=0.0504, lr=0.000191]\n"
     ]
    },
    {
     "name": "stdout",
     "output_type": "stream",
     "text": [
      "Training [77%] Loss: 0.0949\n"
     ]
    },
    {
     "name": "stderr",
     "output_type": "stream",
     "text": [
      "Epoch 78/100: 100%|██████████| 240/240 [00:17<00:00, 13.92it/s, batch=200, loss=0.0867, lr=0.000175]\n"
     ]
    },
    {
     "name": "stdout",
     "output_type": "stream",
     "text": [
      "Training [78%] Loss: 0.0884\n"
     ]
    },
    {
     "name": "stderr",
     "output_type": "stream",
     "text": [
      "Epoch 79/100: 100%|██████████| 240/240 [00:16<00:00, 14.78it/s, batch=200, loss=0.1259, lr=0.000161]\n"
     ]
    },
    {
     "name": "stdout",
     "output_type": "stream",
     "text": [
      "Training [79%] Loss: 0.0881\n"
     ]
    },
    {
     "name": "stderr",
     "output_type": "stream",
     "text": [
      "Epoch 80/100: 100%|██████████| 240/240 [00:15<00:00, 15.03it/s, batch=200, loss=0.0375, lr=0.000146]\n"
     ]
    },
    {
     "name": "stdout",
     "output_type": "stream",
     "text": [
      "Training [80%] Loss: 0.0830\n"
     ]
    },
    {
     "name": "stderr",
     "output_type": "stream",
     "text": [
      "Epoch 81/100: 100%|██████████| 240/240 [00:16<00:00, 14.70it/s, batch=200, loss=0.2935, lr=0.000133]\n"
     ]
    },
    {
     "name": "stdout",
     "output_type": "stream",
     "text": [
      "Training [81%] Loss: 0.0926\n"
     ]
    },
    {
     "name": "stderr",
     "output_type": "stream",
     "text": [
      "Epoch 82/100: 100%|██████████| 240/240 [00:17<00:00, 14.02it/s, batch=200, loss=0.0806, lr=0.000120]\n"
     ]
    },
    {
     "name": "stdout",
     "output_type": "stream",
     "text": [
      "Training [82%] Loss: 0.0898\n"
     ]
    },
    {
     "name": "stderr",
     "output_type": "stream",
     "text": [
      "Epoch 83/100: 100%|██████████| 240/240 [00:17<00:00, 14.04it/s, batch=200, loss=0.1189, lr=0.000107]\n"
     ]
    },
    {
     "name": "stdout",
     "output_type": "stream",
     "text": [
      "Training [83%] Loss: 0.0906\n"
     ]
    },
    {
     "name": "stderr",
     "output_type": "stream",
     "text": [
      "Epoch 84/100: 100%|██████████| 240/240 [00:17<00:00, 14.05it/s, batch=200, loss=0.2238, lr=0.000096]\n"
     ]
    },
    {
     "name": "stdout",
     "output_type": "stream",
     "text": [
      "Training [84%] Loss: 0.0866\n"
     ]
    },
    {
     "name": "stderr",
     "output_type": "stream",
     "text": [
      "Epoch 85/100: 100%|██████████| 240/240 [00:17<00:00, 13.91it/s, batch=200, loss=0.0826, lr=0.000084]\n"
     ]
    },
    {
     "name": "stdout",
     "output_type": "stream",
     "text": [
      "Training [85%] Loss: 0.0813\n"
     ]
    },
    {
     "name": "stderr",
     "output_type": "stream",
     "text": [
      "Epoch 86/100: 100%|██████████| 240/240 [00:18<00:00, 13.16it/s, batch=200, loss=0.0679, lr=0.000074]\n"
     ]
    },
    {
     "name": "stdout",
     "output_type": "stream",
     "text": [
      "Training [86%] Loss: 0.0873\n"
     ]
    },
    {
     "name": "stderr",
     "output_type": "stream",
     "text": [
      "Epoch 87/100: 100%|██████████| 240/240 [00:15<00:00, 15.31it/s, batch=200, loss=0.0760, lr=0.000064]\n"
     ]
    },
    {
     "name": "stdout",
     "output_type": "stream",
     "text": [
      "Training [87%] Loss: 0.0841\n"
     ]
    },
    {
     "name": "stderr",
     "output_type": "stream",
     "text": [
      "Epoch 88/100: 100%|██████████| 240/240 [00:15<00:00, 15.16it/s, batch=200, loss=0.0997, lr=0.000055]\n"
     ]
    },
    {
     "name": "stdout",
     "output_type": "stream",
     "text": [
      "Training [88%] Loss: 0.0834\n"
     ]
    },
    {
     "name": "stderr",
     "output_type": "stream",
     "text": [
      "Epoch 89/100: 100%|██████████| 240/240 [00:15<00:00, 15.04it/s, batch=200, loss=0.0420, lr=0.000047]\n"
     ]
    },
    {
     "name": "stdout",
     "output_type": "stream",
     "text": [
      "Training [89%] Loss: 0.0798\n"
     ]
    },
    {
     "name": "stderr",
     "output_type": "stream",
     "text": [
      "Epoch 90/100: 100%|██████████| 240/240 [00:14<00:00, 17.01it/s, batch=200, loss=0.0456, lr=0.000039]\n"
     ]
    },
    {
     "name": "stdout",
     "output_type": "stream",
     "text": [
      "Training [90%] Loss: 0.0797\n"
     ]
    },
    {
     "name": "stderr",
     "output_type": "stream",
     "text": [
      "Epoch 91/100: 100%|██████████| 240/240 [00:14<00:00, 16.27it/s, batch=200, loss=0.1478, lr=0.000032]\n"
     ]
    },
    {
     "name": "stdout",
     "output_type": "stream",
     "text": [
      "Training [91%] Loss: 0.0818\n"
     ]
    },
    {
     "name": "stderr",
     "output_type": "stream",
     "text": [
      "Epoch 92/100: 100%|██████████| 240/240 [00:15<00:00, 15.85it/s, batch=200, loss=0.1293, lr=0.000026]\n"
     ]
    },
    {
     "name": "stdout",
     "output_type": "stream",
     "text": [
      "Training [92%] Loss: 0.0837\n"
     ]
    },
    {
     "name": "stderr",
     "output_type": "stream",
     "text": [
      "Epoch 93/100: 100%|██████████| 240/240 [00:14<00:00, 16.13it/s, batch=200, loss=0.0940, lr=0.000020]\n"
     ]
    },
    {
     "name": "stdout",
     "output_type": "stream",
     "text": [
      "Training [93%] Loss: 0.0778\n"
     ]
    },
    {
     "name": "stderr",
     "output_type": "stream",
     "text": [
      "Epoch 94/100: 100%|██████████| 240/240 [00:14<00:00, 16.77it/s, batch=200, loss=0.1160, lr=0.000015]\n"
     ]
    },
    {
     "name": "stdout",
     "output_type": "stream",
     "text": [
      "Training [94%] Loss: 0.0822\n"
     ]
    },
    {
     "name": "stderr",
     "output_type": "stream",
     "text": [
      "Epoch 95/100: 100%|██████████| 240/240 [00:14<00:00, 16.75it/s, batch=200, loss=0.0514, lr=0.000011]\n"
     ]
    },
    {
     "name": "stdout",
     "output_type": "stream",
     "text": [
      "Training [95%] Loss: 0.0819\n"
     ]
    },
    {
     "name": "stderr",
     "output_type": "stream",
     "text": [
      "Epoch 96/100: 100%|██████████| 240/240 [00:14<00:00, 16.76it/s, batch=200, loss=0.0817, lr=0.000007]\n"
     ]
    },
    {
     "name": "stdout",
     "output_type": "stream",
     "text": [
      "Training [96%] Loss: 0.0812\n"
     ]
    },
    {
     "name": "stderr",
     "output_type": "stream",
     "text": [
      "Epoch 97/100: 100%|██████████| 240/240 [00:14<00:00, 17.03it/s, batch=200, loss=0.0478, lr=0.000005]\n"
     ]
    },
    {
     "name": "stdout",
     "output_type": "stream",
     "text": [
      "Training [97%] Loss: 0.0773\n"
     ]
    },
    {
     "name": "stderr",
     "output_type": "stream",
     "text": [
      "Epoch 98/100: 100%|██████████| 240/240 [00:16<00:00, 14.85it/s, batch=200, loss=0.0767, lr=0.000003]\n"
     ]
    },
    {
     "name": "stdout",
     "output_type": "stream",
     "text": [
      "Training [98%] Loss: 0.0790\n"
     ]
    },
    {
     "name": "stderr",
     "output_type": "stream",
     "text": [
      "Epoch 99/100: 100%|██████████| 240/240 [00:15<00:00, 15.11it/s, batch=200, loss=0.0627, lr=0.000001]\n"
     ]
    },
    {
     "name": "stdout",
     "output_type": "stream",
     "text": [
      "Training [99%] Loss: 0.0797\n"
     ]
    },
    {
     "name": "stderr",
     "output_type": "stream",
     "text": [
      "Epoch 100/100: 100%|██████████| 240/240 [00:14<00:00, 16.18it/s, batch=200, loss=0.0088, lr=0.000001]\n"
     ]
    },
    {
     "name": "stdout",
     "output_type": "stream",
     "text": [
      "Training [100%] Loss: 0.0831\n",
      "Starting inference on cuda...\n"
     ]
    },
    {
     "name": "stderr",
     "output_type": "stream",
     "text": [
      "                                                            \r"
     ]
    },
    {
     "name": "stdout",
     "output_type": "stream",
     "text": [
      "total samples: 10000\n",
      "target samples: 2000\n",
      "accuracy (labels 0/6 only): 0.8715\n",
      "Iteration 1: Result = 0.8715\n",
      "Starting training on cuda...\n"
     ]
    },
    {
     "name": "stderr",
     "output_type": "stream",
     "text": [
      "Epoch 1/100: 100%|██████████| 240/240 [00:15<00:00, 15.86it/s, batch=200, loss=0.1384, lr=0.001200]\n"
     ]
    },
    {
     "name": "stdout",
     "output_type": "stream",
     "text": [
      "Training [1%] Loss: 0.1142\n"
     ]
    },
    {
     "name": "stderr",
     "output_type": "stream",
     "text": [
      "Epoch 2/100: 100%|██████████| 240/240 [00:15<00:00, 15.92it/s, batch=200, loss=0.0656, lr=0.001199]\n"
     ]
    },
    {
     "name": "stdout",
     "output_type": "stream",
     "text": [
      "Training [2%] Loss: 0.1299\n"
     ]
    },
    {
     "name": "stderr",
     "output_type": "stream",
     "text": [
      "Epoch 3/100: 100%|██████████| 240/240 [00:14<00:00, 16.03it/s, batch=200, loss=0.0828, lr=0.001198]\n"
     ]
    },
    {
     "name": "stdout",
     "output_type": "stream",
     "text": [
      "Training [3%] Loss: 0.1317\n"
     ]
    },
    {
     "name": "stderr",
     "output_type": "stream",
     "text": [
      "Epoch 4/100: 100%|██████████| 240/240 [00:14<00:00, 16.03it/s, batch=200, loss=0.1457, lr=0.001196]\n"
     ]
    },
    {
     "name": "stdout",
     "output_type": "stream",
     "text": [
      "Training [4%] Loss: 0.1294\n"
     ]
    },
    {
     "name": "stderr",
     "output_type": "stream",
     "text": [
      "Epoch 5/100: 100%|██████████| 240/240 [00:15<00:00, 15.86it/s, batch=200, loss=0.1642, lr=0.001193]\n"
     ]
    },
    {
     "name": "stdout",
     "output_type": "stream",
     "text": [
      "Training [5%] Loss: 0.1253\n"
     ]
    },
    {
     "name": "stderr",
     "output_type": "stream",
     "text": [
      "Epoch 6/100: 100%|██████████| 240/240 [00:15<00:00, 15.95it/s, batch=200, loss=0.0919, lr=0.001190]\n"
     ]
    },
    {
     "name": "stdout",
     "output_type": "stream",
     "text": [
      "Training [6%] Loss: 0.1224\n"
     ]
    },
    {
     "name": "stderr",
     "output_type": "stream",
     "text": [
      "Epoch 7/100: 100%|██████████| 240/240 [00:15<00:00, 15.75it/s, batch=200, loss=0.1716, lr=0.001186]\n"
     ]
    },
    {
     "name": "stdout",
     "output_type": "stream",
     "text": [
      "Training [7%] Loss: 0.1301\n"
     ]
    },
    {
     "name": "stderr",
     "output_type": "stream",
     "text": [
      "Epoch 8/100: 100%|██████████| 240/240 [00:14<00:00, 16.02it/s, batch=200, loss=0.0518, lr=0.001182]\n"
     ]
    },
    {
     "name": "stdout",
     "output_type": "stream",
     "text": [
      "Training [8%] Loss: 0.1242\n"
     ]
    },
    {
     "name": "stderr",
     "output_type": "stream",
     "text": [
      "Epoch 9/100: 100%|██████████| 240/240 [00:15<00:00, 15.64it/s, batch=200, loss=0.1297, lr=0.001177]\n"
     ]
    },
    {
     "name": "stdout",
     "output_type": "stream",
     "text": [
      "Training [9%] Loss: 0.1194\n"
     ]
    },
    {
     "name": "stderr",
     "output_type": "stream",
     "text": [
      "Epoch 10/100: 100%|██████████| 240/240 [00:15<00:00, 15.89it/s, batch=200, loss=0.1244, lr=0.001172]\n"
     ]
    },
    {
     "name": "stdout",
     "output_type": "stream",
     "text": [
      "Training [10%] Loss: 0.1262\n"
     ]
    },
    {
     "name": "stderr",
     "output_type": "stream",
     "text": [
      "Epoch 11/100: 100%|██████████| 240/240 [00:14<00:00, 16.27it/s, batch=200, loss=0.1171, lr=0.001166]\n"
     ]
    },
    {
     "name": "stdout",
     "output_type": "stream",
     "text": [
      "Training [11%] Loss: 0.1302\n"
     ]
    },
    {
     "name": "stderr",
     "output_type": "stream",
     "text": [
      "Epoch 12/100: 100%|██████████| 240/240 [00:15<00:00, 15.49it/s, batch=200, loss=0.1744, lr=0.001159]\n"
     ]
    },
    {
     "name": "stdout",
     "output_type": "stream",
     "text": [
      "Training [12%] Loss: 0.1233\n"
     ]
    },
    {
     "name": "stderr",
     "output_type": "stream",
     "text": [
      "Epoch 13/100: 100%|██████████| 240/240 [00:15<00:00, 15.66it/s, batch=200, loss=1.2360, lr=0.001152]\n"
     ]
    },
    {
     "name": "stdout",
     "output_type": "stream",
     "text": [
      "Training [13%] Loss: 0.7953\n"
     ]
    },
    {
     "name": "stderr",
     "output_type": "stream",
     "text": [
      "Epoch 14/100: 100%|██████████| 240/240 [00:15<00:00, 15.68it/s, batch=200, loss=1.0984, lr=0.001144]\n"
     ]
    },
    {
     "name": "stdout",
     "output_type": "stream",
     "text": [
      "Training [14%] Loss: 1.1312\n"
     ]
    },
    {
     "name": "stderr",
     "output_type": "stream",
     "text": [
      "Epoch 15/100: 100%|██████████| 240/240 [00:15<00:00, 15.76it/s, batch=200, loss=0.8065, lr=0.001136]\n"
     ]
    },
    {
     "name": "stdout",
     "output_type": "stream",
     "text": [
      "Training [15%] Loss: 0.9035\n"
     ]
    },
    {
     "name": "stderr",
     "output_type": "stream",
     "text": [
      "Epoch 16/100: 100%|██████████| 240/240 [00:15<00:00, 15.12it/s, batch=200, loss=0.8210, lr=0.001127]\n"
     ]
    },
    {
     "name": "stdout",
     "output_type": "stream",
     "text": [
      "Training [16%] Loss: 0.7897\n"
     ]
    },
    {
     "name": "stderr",
     "output_type": "stream",
     "text": [
      "Epoch 17/100: 100%|██████████| 240/240 [00:15<00:00, 15.39it/s, batch=200, loss=0.7187, lr=0.001118]\n"
     ]
    },
    {
     "name": "stdout",
     "output_type": "stream",
     "text": [
      "Training [17%] Loss: 0.7309\n"
     ]
    },
    {
     "name": "stderr",
     "output_type": "stream",
     "text": [
      "Epoch 18/100: 100%|██████████| 240/240 [00:17<00:00, 13.97it/s, batch=200, loss=0.7027, lr=0.001108]\n"
     ]
    },
    {
     "name": "stdout",
     "output_type": "stream",
     "text": [
      "Training [18%] Loss: 0.7111\n"
     ]
    },
    {
     "name": "stderr",
     "output_type": "stream",
     "text": [
      "Epoch 19/100: 100%|██████████| 240/240 [00:17<00:00, 13.89it/s, batch=200, loss=0.7134, lr=0.001098]\n"
     ]
    },
    {
     "name": "stdout",
     "output_type": "stream",
     "text": [
      "Training [19%] Loss: 0.7014\n"
     ]
    },
    {
     "name": "stderr",
     "output_type": "stream",
     "text": [
      "Epoch 20/100: 100%|██████████| 240/240 [00:16<00:00, 14.71it/s, batch=200, loss=0.7034, lr=0.001087]\n"
     ]
    },
    {
     "name": "stdout",
     "output_type": "stream",
     "text": [
      "Training [20%] Loss: 0.6968\n"
     ]
    },
    {
     "name": "stderr",
     "output_type": "stream",
     "text": [
      "Epoch 21/100: 100%|██████████| 240/240 [00:16<00:00, 14.72it/s, batch=200, loss=0.7300, lr=0.001076]\n"
     ]
    },
    {
     "name": "stdout",
     "output_type": "stream",
     "text": [
      "Training [21%] Loss: 0.6945\n"
     ]
    },
    {
     "name": "stderr",
     "output_type": "stream",
     "text": [
      "Epoch 22/100: 100%|██████████| 240/240 [00:17<00:00, 13.94it/s, batch=200, loss=0.6812, lr=0.001064]\n"
     ]
    },
    {
     "name": "stdout",
     "output_type": "stream",
     "text": [
      "Training [22%] Loss: 0.6944\n"
     ]
    },
    {
     "name": "stderr",
     "output_type": "stream",
     "text": [
      "Epoch 23/100: 100%|██████████| 240/240 [00:15<00:00, 15.28it/s, batch=200, loss=0.6863, lr=0.001052]\n"
     ]
    },
    {
     "name": "stdout",
     "output_type": "stream",
     "text": [
      "Training [23%] Loss: 0.6928\n"
     ]
    },
    {
     "name": "stderr",
     "output_type": "stream",
     "text": [
      "Epoch 24/100: 100%|██████████| 240/240 [00:19<00:00, 12.07it/s, batch=200, loss=0.6907, lr=0.001040]\n"
     ]
    },
    {
     "name": "stdout",
     "output_type": "stream",
     "text": [
      "Training [24%] Loss: 0.6939\n"
     ]
    },
    {
     "name": "stderr",
     "output_type": "stream",
     "text": [
      "Epoch 25/100: 100%|██████████| 240/240 [00:19<00:00, 12.61it/s, batch=200, loss=0.6896, lr=0.001027]\n"
     ]
    },
    {
     "name": "stdout",
     "output_type": "stream",
     "text": [
      "Training [25%] Loss: 0.6927\n"
     ]
    },
    {
     "name": "stderr",
     "output_type": "stream",
     "text": [
      "Epoch 26/100: 100%|██████████| 240/240 [00:20<00:00, 11.98it/s, batch=200, loss=0.6960, lr=0.001013]\n"
     ]
    },
    {
     "name": "stdout",
     "output_type": "stream",
     "text": [
      "Training [26%] Loss: 0.6930\n"
     ]
    },
    {
     "name": "stderr",
     "output_type": "stream",
     "text": [
      "Epoch 27/100: 100%|██████████| 240/240 [00:20<00:00, 11.88it/s, batch=200, loss=0.6861, lr=0.000999]\n"
     ]
    },
    {
     "name": "stdout",
     "output_type": "stream",
     "text": [
      "Training [27%] Loss: 0.6929\n"
     ]
    },
    {
     "name": "stderr",
     "output_type": "stream",
     "text": [
      "Epoch 28/100: 100%|██████████| 240/240 [00:20<00:00, 11.87it/s, batch=200, loss=0.7030, lr=0.000985]\n"
     ]
    },
    {
     "name": "stdout",
     "output_type": "stream",
     "text": [
      "Training [28%] Loss: 0.6929\n"
     ]
    },
    {
     "name": "stderr",
     "output_type": "stream",
     "text": [
      "Epoch 29/100: 100%|██████████| 240/240 [00:20<00:00, 11.48it/s, batch=200, loss=0.6863, lr=0.000970]\n"
     ]
    },
    {
     "name": "stdout",
     "output_type": "stream",
     "text": [
      "Training [29%] Loss: 0.6925\n"
     ]
    },
    {
     "name": "stderr",
     "output_type": "stream",
     "text": [
      "Epoch 30/100: 100%|██████████| 240/240 [00:21<00:00, 11.28it/s, batch=200, loss=0.6767, lr=0.000955]\n"
     ]
    },
    {
     "name": "stdout",
     "output_type": "stream",
     "text": [
      "Training [30%] Loss: 0.6917\n"
     ]
    },
    {
     "name": "stderr",
     "output_type": "stream",
     "text": [
      "Epoch 31/100: 100%|██████████| 240/240 [00:20<00:00, 11.43it/s, batch=200, loss=0.7035, lr=0.000940]\n"
     ]
    },
    {
     "name": "stdout",
     "output_type": "stream",
     "text": [
      "Training [31%] Loss: 0.6920\n"
     ]
    },
    {
     "name": "stderr",
     "output_type": "stream",
     "text": [
      "Epoch 32/100: 100%|██████████| 240/240 [00:23<00:00, 10.29it/s, batch=200, loss=0.6992, lr=0.000924]\n"
     ]
    },
    {
     "name": "stdout",
     "output_type": "stream",
     "text": [
      "Training [32%] Loss: 0.6922\n"
     ]
    },
    {
     "name": "stderr",
     "output_type": "stream",
     "text": [
      "Epoch 33/100: 100%|██████████| 240/240 [00:21<00:00, 11.23it/s, batch=200, loss=0.6945, lr=0.000908]\n"
     ]
    },
    {
     "name": "stdout",
     "output_type": "stream",
     "text": [
      "Training [33%] Loss: 0.6921\n"
     ]
    },
    {
     "name": "stderr",
     "output_type": "stream",
     "text": [
      "Epoch 34/100: 100%|██████████| 240/240 [00:22<00:00, 10.83it/s, batch=200, loss=0.6990, lr=0.000892]\n"
     ]
    },
    {
     "name": "stdout",
     "output_type": "stream",
     "text": [
      "Training [34%] Loss: 0.6938\n"
     ]
    },
    {
     "name": "stderr",
     "output_type": "stream",
     "text": [
      "Epoch 35/100: 100%|██████████| 240/240 [00:22<00:00, 10.53it/s, batch=200, loss=0.6807, lr=0.000875]\n"
     ]
    },
    {
     "name": "stdout",
     "output_type": "stream",
     "text": [
      "Training [35%] Loss: 0.6931\n"
     ]
    },
    {
     "name": "stderr",
     "output_type": "stream",
     "text": [
      "Epoch 36/100: 100%|██████████| 240/240 [00:21<00:00, 11.43it/s, batch=200, loss=0.6945, lr=0.000859]\n"
     ]
    },
    {
     "name": "stdout",
     "output_type": "stream",
     "text": [
      "Training [36%] Loss: 0.6932\n"
     ]
    },
    {
     "name": "stderr",
     "output_type": "stream",
     "text": [
      "Epoch 37/100: 100%|██████████| 240/240 [00:17<00:00, 13.43it/s, batch=200, loss=0.6955, lr=0.000841]\n"
     ]
    },
    {
     "name": "stdout",
     "output_type": "stream",
     "text": [
      "Training [37%] Loss: 0.6932\n"
     ]
    },
    {
     "name": "stderr",
     "output_type": "stream",
     "text": [
      "Epoch 38/100: 100%|██████████| 240/240 [00:19<00:00, 12.29it/s, batch=200, loss=0.6927, lr=0.000824]\n"
     ]
    },
    {
     "name": "stdout",
     "output_type": "stream",
     "text": [
      "Training [38%] Loss: 0.6929\n"
     ]
    },
    {
     "name": "stderr",
     "output_type": "stream",
     "text": [
      "Epoch 39/100: 100%|██████████| 240/240 [00:28<00:00,  8.49it/s, batch=200, loss=0.7008, lr=0.000806]\n"
     ]
    },
    {
     "name": "stdout",
     "output_type": "stream",
     "text": [
      "Training [39%] Loss: 0.6936\n"
     ]
    },
    {
     "name": "stderr",
     "output_type": "stream",
     "text": [
      "Epoch 40/100: 100%|██████████| 240/240 [00:31<00:00,  7.67it/s, batch=200, loss=0.7010, lr=0.000789]\n"
     ]
    },
    {
     "name": "stdout",
     "output_type": "stream",
     "text": [
      "Training [40%] Loss: 0.6937\n"
     ]
    },
    {
     "name": "stderr",
     "output_type": "stream",
     "text": [
      "Epoch 41/100: 100%|██████████| 240/240 [00:32<00:00,  7.48it/s, batch=200, loss=0.6940, lr=0.000771]\n"
     ]
    },
    {
     "name": "stdout",
     "output_type": "stream",
     "text": [
      "Training [41%] Loss: 0.6933\n"
     ]
    },
    {
     "name": "stderr",
     "output_type": "stream",
     "text": [
      "Epoch 42/100: 100%|██████████| 240/240 [00:29<00:00,  8.00it/s, batch=200, loss=0.6919, lr=0.000753]\n"
     ]
    },
    {
     "name": "stdout",
     "output_type": "stream",
     "text": [
      "Training [42%] Loss: 0.6932\n"
     ]
    },
    {
     "name": "stderr",
     "output_type": "stream",
     "text": [
      "Epoch 43/100: 100%|██████████| 240/240 [00:30<00:00,  7.92it/s, batch=200, loss=0.6966, lr=0.000734]\n"
     ]
    },
    {
     "name": "stdout",
     "output_type": "stream",
     "text": [
      "Training [43%] Loss: 0.6925\n"
     ]
    },
    {
     "name": "stderr",
     "output_type": "stream",
     "text": [
      "Epoch 44/100: 100%|██████████| 240/240 [00:31<00:00,  7.58it/s, batch=200, loss=0.6971, lr=0.000716]\n"
     ]
    },
    {
     "name": "stdout",
     "output_type": "stream",
     "text": [
      "Training [44%] Loss: 0.6923\n"
     ]
    },
    {
     "name": "stderr",
     "output_type": "stream",
     "text": [
      "Epoch 45/100: 100%|██████████| 240/240 [00:30<00:00,  7.79it/s, batch=200, loss=0.6983, lr=0.000697]\n"
     ]
    },
    {
     "name": "stdout",
     "output_type": "stream",
     "text": [
      "Training [45%] Loss: 0.6914\n"
     ]
    },
    {
     "name": "stderr",
     "output_type": "stream",
     "text": [
      "Epoch 46/100: 100%|██████████| 240/240 [00:29<00:00,  8.09it/s, batch=200, loss=0.6831, lr=0.000679]\n"
     ]
    },
    {
     "name": "stdout",
     "output_type": "stream",
     "text": [
      "Training [46%] Loss: 0.6914\n"
     ]
    },
    {
     "name": "stderr",
     "output_type": "stream",
     "text": [
      "Epoch 47/100: 100%|██████████| 240/240 [00:30<00:00,  7.84it/s, batch=200, loss=0.6900, lr=0.000660]\n"
     ]
    },
    {
     "name": "stdout",
     "output_type": "stream",
     "text": [
      "Training [47%] Loss: 0.6917\n"
     ]
    },
    {
     "name": "stderr",
     "output_type": "stream",
     "text": [
      "Epoch 48/100: 100%|██████████| 240/240 [00:32<00:00,  7.47it/s, batch=200, loss=0.6990, lr=0.000641]\n"
     ]
    },
    {
     "name": "stdout",
     "output_type": "stream",
     "text": [
      "Training [48%] Loss: 0.6923\n"
     ]
    },
    {
     "name": "stderr",
     "output_type": "stream",
     "text": [
      "Epoch 49/100: 100%|██████████| 240/240 [00:25<00:00,  9.31it/s, batch=200, loss=0.6937, lr=0.000622]\n"
     ]
    },
    {
     "name": "stdout",
     "output_type": "stream",
     "text": [
      "Training [49%] Loss: 0.6918\n"
     ]
    },
    {
     "name": "stderr",
     "output_type": "stream",
     "text": [
      "Epoch 50/100: 100%|██████████| 240/240 [00:29<00:00,  8.11it/s, batch=200, loss=0.6901, lr=0.000604]\n"
     ]
    },
    {
     "name": "stdout",
     "output_type": "stream",
     "text": [
      "Training [50%] Loss: 0.6923\n"
     ]
    },
    {
     "name": "stderr",
     "output_type": "stream",
     "text": [
      "Epoch 51/100: 100%|██████████| 240/240 [00:24<00:00,  9.69it/s, batch=200, loss=0.6908, lr=0.000585]\n"
     ]
    },
    {
     "name": "stdout",
     "output_type": "stream",
     "text": [
      "Training [51%] Loss: 0.6927\n"
     ]
    },
    {
     "name": "stderr",
     "output_type": "stream",
     "text": [
      "Epoch 52/100: 100%|██████████| 240/240 [00:21<00:00, 11.23it/s, batch=200, loss=0.6955, lr=0.000566]\n"
     ]
    },
    {
     "name": "stdout",
     "output_type": "stream",
     "text": [
      "Training [52%] Loss: 0.6936\n"
     ]
    },
    {
     "name": "stderr",
     "output_type": "stream",
     "text": [
      "Epoch 53/100: 100%|██████████| 240/240 [00:25<00:00,  9.41it/s, batch=200, loss=0.6982, lr=0.000547]\n"
     ]
    },
    {
     "name": "stdout",
     "output_type": "stream",
     "text": [
      "Training [53%] Loss: 0.6936\n"
     ]
    },
    {
     "name": "stderr",
     "output_type": "stream",
     "text": [
      "Epoch 54/100: 100%|██████████| 240/240 [00:27<00:00,  8.59it/s, batch=200, loss=0.6906, lr=0.000528]\n"
     ]
    },
    {
     "name": "stdout",
     "output_type": "stream",
     "text": [
      "Training [54%] Loss: 0.6933\n"
     ]
    },
    {
     "name": "stderr",
     "output_type": "stream",
     "text": [
      "Epoch 55/100: 100%|██████████| 240/240 [00:27<00:00,  8.68it/s, batch=200, loss=0.6912, lr=0.000510]\n"
     ]
    },
    {
     "name": "stdout",
     "output_type": "stream",
     "text": [
      "Training [55%] Loss: 0.6935\n"
     ]
    },
    {
     "name": "stderr",
     "output_type": "stream",
     "text": [
      "Epoch 56/100: 100%|██████████| 240/240 [00:31<00:00,  7.55it/s, batch=200, loss=0.6924, lr=0.000491]\n"
     ]
    },
    {
     "name": "stdout",
     "output_type": "stream",
     "text": [
      "Training [56%] Loss: 0.6936\n"
     ]
    },
    {
     "name": "stderr",
     "output_type": "stream",
     "text": [
      "Epoch 57/100: 100%|██████████| 240/240 [00:31<00:00,  7.56it/s, batch=200, loss=0.6846, lr=0.000473]\n"
     ]
    },
    {
     "name": "stdout",
     "output_type": "stream",
     "text": [
      "Training [57%] Loss: 0.6933\n"
     ]
    },
    {
     "name": "stderr",
     "output_type": "stream",
     "text": [
      "Epoch 58/100: 100%|██████████| 240/240 [00:30<00:00,  7.87it/s, batch=200, loss=0.6938, lr=0.000454]\n"
     ]
    },
    {
     "name": "stdout",
     "output_type": "stream",
     "text": [
      "Training [58%] Loss: 0.6937\n"
     ]
    },
    {
     "name": "stderr",
     "output_type": "stream",
     "text": [
      "Epoch 59/100: 100%|██████████| 240/240 [00:30<00:00,  7.82it/s, batch=200, loss=0.6931, lr=0.000436]\n"
     ]
    },
    {
     "name": "stdout",
     "output_type": "stream",
     "text": [
      "Training [59%] Loss: 0.6931\n"
     ]
    },
    {
     "name": "stderr",
     "output_type": "stream",
     "text": [
      "Epoch 60/100: 100%|██████████| 240/240 [00:29<00:00,  8.24it/s, batch=200, loss=0.6952, lr=0.000418]\n"
     ]
    },
    {
     "name": "stdout",
     "output_type": "stream",
     "text": [
      "Training [60%] Loss: 0.6934\n"
     ]
    },
    {
     "name": "stderr",
     "output_type": "stream",
     "text": [
      "Epoch 61/100: 100%|██████████| 240/240 [00:28<00:00,  8.40it/s, batch=200, loss=0.6961, lr=0.000400]\n"
     ]
    },
    {
     "name": "stdout",
     "output_type": "stream",
     "text": [
      "Training [61%] Loss: 0.6931\n"
     ]
    },
    {
     "name": "stderr",
     "output_type": "stream",
     "text": [
      "Epoch 62/100: 100%|██████████| 240/240 [00:28<00:00,  8.51it/s, batch=200, loss=0.6905, lr=0.000383]\n"
     ]
    },
    {
     "name": "stdout",
     "output_type": "stream",
     "text": [
      "Training [62%] Loss: 0.6928\n"
     ]
    },
    {
     "name": "stderr",
     "output_type": "stream",
     "text": [
      "Epoch 63/100: 100%|██████████| 240/240 [00:30<00:00,  7.81it/s, batch=200, loss=0.6896, lr=0.000365]\n"
     ]
    },
    {
     "name": "stdout",
     "output_type": "stream",
     "text": [
      "Training [63%] Loss: 0.6932\n"
     ]
    },
    {
     "name": "stderr",
     "output_type": "stream",
     "text": [
      "Epoch 64/100: 100%|██████████| 240/240 [00:29<00:00,  8.01it/s, batch=200, loss=0.6948, lr=0.000348]\n"
     ]
    },
    {
     "name": "stdout",
     "output_type": "stream",
     "text": [
      "Training [64%] Loss: 0.6931\n"
     ]
    },
    {
     "name": "stderr",
     "output_type": "stream",
     "text": [
      "Epoch 65/100: 100%|██████████| 240/240 [00:31<00:00,  7.72it/s, batch=200, loss=0.6848, lr=0.000331]\n"
     ]
    },
    {
     "name": "stdout",
     "output_type": "stream",
     "text": [
      "Training [65%] Loss: 0.6920\n"
     ]
    },
    {
     "name": "stderr",
     "output_type": "stream",
     "text": [
      "Epoch 66/100: 100%|██████████| 240/240 [00:30<00:00,  7.90it/s, batch=200, loss=0.6942, lr=0.000314]\n"
     ]
    },
    {
     "name": "stdout",
     "output_type": "stream",
     "text": [
      "Training [66%] Loss: 0.6927\n"
     ]
    },
    {
     "name": "stderr",
     "output_type": "stream",
     "text": [
      "Epoch 67/100: 100%|██████████| 240/240 [00:30<00:00,  7.87it/s, batch=200, loss=0.6976, lr=0.000298]\n"
     ]
    },
    {
     "name": "stdout",
     "output_type": "stream",
     "text": [
      "Training [67%] Loss: 0.6927\n"
     ]
    },
    {
     "name": "stderr",
     "output_type": "stream",
     "text": [
      "Epoch 68/100: 100%|██████████| 240/240 [00:30<00:00,  7.84it/s, batch=200, loss=0.6961, lr=0.000282]\n"
     ]
    },
    {
     "name": "stdout",
     "output_type": "stream",
     "text": [
      "Training [68%] Loss: 0.6929\n"
     ]
    },
    {
     "name": "stderr",
     "output_type": "stream",
     "text": [
      "Epoch 69/100: 100%|██████████| 240/240 [00:31<00:00,  7.58it/s, batch=200, loss=0.6932, lr=0.000266]\n"
     ]
    },
    {
     "name": "stdout",
     "output_type": "stream",
     "text": [
      "Training [69%] Loss: 0.6928\n"
     ]
    },
    {
     "name": "stderr",
     "output_type": "stream",
     "text": [
      "Epoch 70/100: 100%|██████████| 240/240 [00:31<00:00,  7.67it/s, batch=200, loss=0.6822, lr=0.000251]\n"
     ]
    },
    {
     "name": "stdout",
     "output_type": "stream",
     "text": [
      "Training [70%] Loss: 0.6924\n"
     ]
    },
    {
     "name": "stderr",
     "output_type": "stream",
     "text": [
      "Epoch 71/100: 100%|██████████| 240/240 [00:31<00:00,  7.55it/s, batch=200, loss=0.6886, lr=0.000235]\n"
     ]
    },
    {
     "name": "stdout",
     "output_type": "stream",
     "text": [
      "Training [71%] Loss: 0.6925\n"
     ]
    },
    {
     "name": "stderr",
     "output_type": "stream",
     "text": [
      "Epoch 72/100: 100%|██████████| 240/240 [00:29<00:00,  8.19it/s, batch=200, loss=0.6972, lr=0.000221]\n"
     ]
    },
    {
     "name": "stdout",
     "output_type": "stream",
     "text": [
      "Training [72%] Loss: 0.6923\n"
     ]
    },
    {
     "name": "stderr",
     "output_type": "stream",
     "text": [
      "Epoch 73/100: 100%|██████████| 240/240 [00:19<00:00, 12.56it/s, batch=200, loss=0.6860, lr=0.000206]\n"
     ]
    },
    {
     "name": "stdout",
     "output_type": "stream",
     "text": [
      "Training [73%] Loss: 0.6939\n"
     ]
    },
    {
     "name": "stderr",
     "output_type": "stream",
     "text": [
      "Epoch 74/100: 100%|██████████| 240/240 [00:19<00:00, 12.49it/s, batch=200, loss=0.6989, lr=0.000192]\n"
     ]
    },
    {
     "name": "stdout",
     "output_type": "stream",
     "text": [
      "Training [74%] Loss: 0.6930\n"
     ]
    },
    {
     "name": "stderr",
     "output_type": "stream",
     "text": [
      "Epoch 75/100: 100%|██████████| 240/240 [00:19<00:00, 12.48it/s, batch=200, loss=0.7010, lr=0.000179]\n"
     ]
    },
    {
     "name": "stdout",
     "output_type": "stream",
     "text": [
      "Training [75%] Loss: 0.6929\n"
     ]
    },
    {
     "name": "stderr",
     "output_type": "stream",
     "text": [
      "Epoch 76/100: 100%|██████████| 240/240 [00:19<00:00, 12.48it/s, batch=200, loss=0.6891, lr=0.000166]\n"
     ]
    },
    {
     "name": "stdout",
     "output_type": "stream",
     "text": [
      "Training [76%] Loss: 0.6926\n"
     ]
    },
    {
     "name": "stderr",
     "output_type": "stream",
     "text": [
      "Epoch 77/100: 100%|██████████| 240/240 [00:19<00:00, 12.36it/s, batch=200, loss=0.6988, lr=0.000153]\n"
     ]
    },
    {
     "name": "stdout",
     "output_type": "stream",
     "text": [
      "Training [77%] Loss: 0.6929\n"
     ]
    },
    {
     "name": "stderr",
     "output_type": "stream",
     "text": [
      "Epoch 78/100: 100%|██████████| 240/240 [00:18<00:00, 12.75it/s, batch=200, loss=0.6940, lr=0.000141]\n"
     ]
    },
    {
     "name": "stdout",
     "output_type": "stream",
     "text": [
      "Training [78%] Loss: 0.6927\n"
     ]
    },
    {
     "name": "stderr",
     "output_type": "stream",
     "text": [
      "Epoch 79/100: 100%|██████████| 240/240 [00:19<00:00, 12.51it/s, batch=200, loss=0.6881, lr=0.000129]\n"
     ]
    },
    {
     "name": "stdout",
     "output_type": "stream",
     "text": [
      "Training [79%] Loss: 0.6923\n"
     ]
    },
    {
     "name": "stderr",
     "output_type": "stream",
     "text": [
      "Epoch 80/100: 100%|██████████| 240/240 [00:18<00:00, 12.85it/s, batch=200, loss=0.6988, lr=0.000117]\n"
     ]
    },
    {
     "name": "stdout",
     "output_type": "stream",
     "text": [
      "Training [80%] Loss: 0.6926\n"
     ]
    },
    {
     "name": "stderr",
     "output_type": "stream",
     "text": [
      "Epoch 81/100: 100%|██████████| 240/240 [00:19<00:00, 12.58it/s, batch=200, loss=0.6923, lr=0.000106]\n"
     ]
    },
    {
     "name": "stdout",
     "output_type": "stream",
     "text": [
      "Training [81%] Loss: 0.6923\n"
     ]
    },
    {
     "name": "stderr",
     "output_type": "stream",
     "text": [
      "Epoch 82/100: 100%|██████████| 240/240 [00:18<00:00, 12.87it/s, batch=200, loss=0.6920, lr=0.000096]\n"
     ]
    },
    {
     "name": "stdout",
     "output_type": "stream",
     "text": [
      "Training [82%] Loss: 0.6924\n"
     ]
    },
    {
     "name": "stderr",
     "output_type": "stream",
     "text": [
      "Epoch 83/100: 100%|██████████| 240/240 [00:18<00:00, 13.05it/s, batch=200, loss=0.7080, lr=0.000086]\n"
     ]
    },
    {
     "name": "stdout",
     "output_type": "stream",
     "text": [
      "Training [83%] Loss: 0.6924\n"
     ]
    },
    {
     "name": "stderr",
     "output_type": "stream",
     "text": [
      "Epoch 84/100: 100%|██████████| 240/240 [00:18<00:00, 12.84it/s, batch=200, loss=0.6918, lr=0.000077]\n"
     ]
    },
    {
     "name": "stdout",
     "output_type": "stream",
     "text": [
      "Training [84%] Loss: 0.6927\n"
     ]
    },
    {
     "name": "stderr",
     "output_type": "stream",
     "text": [
      "Epoch 85/100: 100%|██████████| 240/240 [00:18<00:00, 12.90it/s, batch=200, loss=0.6878, lr=0.000068]\n"
     ]
    },
    {
     "name": "stdout",
     "output_type": "stream",
     "text": [
      "Training [85%] Loss: 0.6918\n"
     ]
    },
    {
     "name": "stderr",
     "output_type": "stream",
     "text": [
      "Epoch 86/100: 100%|██████████| 240/240 [00:18<00:00, 12.73it/s, batch=200, loss=0.6961, lr=0.000059]\n"
     ]
    },
    {
     "name": "stdout",
     "output_type": "stream",
     "text": [
      "Training [86%] Loss: 0.6925\n"
     ]
    },
    {
     "name": "stderr",
     "output_type": "stream",
     "text": [
      "Epoch 87/100: 100%|██████████| 240/240 [00:18<00:00, 13.09it/s, batch=200, loss=0.6859, lr=0.000052]\n"
     ]
    },
    {
     "name": "stdout",
     "output_type": "stream",
     "text": [
      "Training [87%] Loss: 0.6917\n"
     ]
    },
    {
     "name": "stderr",
     "output_type": "stream",
     "text": [
      "Epoch 88/100: 100%|██████████| 240/240 [00:18<00:00, 12.79it/s, batch=200, loss=0.6869, lr=0.000044]\n"
     ]
    },
    {
     "name": "stdout",
     "output_type": "stream",
     "text": [
      "Training [88%] Loss: 0.6924\n"
     ]
    },
    {
     "name": "stderr",
     "output_type": "stream",
     "text": [
      "Epoch 89/100: 100%|██████████| 240/240 [00:18<00:00, 12.96it/s, batch=200, loss=0.6797, lr=0.000037]\n"
     ]
    },
    {
     "name": "stdout",
     "output_type": "stream",
     "text": [
      "Training [89%] Loss: 0.6921\n"
     ]
    },
    {
     "name": "stderr",
     "output_type": "stream",
     "text": [
      "Epoch 90/100: 100%|██████████| 240/240 [00:18<00:00, 12.67it/s, batch=200, loss=0.6893, lr=0.000031]\n"
     ]
    },
    {
     "name": "stdout",
     "output_type": "stream",
     "text": [
      "Training [90%] Loss: 0.6926\n"
     ]
    },
    {
     "name": "stderr",
     "output_type": "stream",
     "text": [
      "Epoch 91/100: 100%|██████████| 240/240 [00:18<00:00, 12.90it/s, batch=200, loss=0.7011, lr=0.000026]\n"
     ]
    },
    {
     "name": "stdout",
     "output_type": "stream",
     "text": [
      "Training [91%] Loss: 0.6930\n"
     ]
    },
    {
     "name": "stderr",
     "output_type": "stream",
     "text": [
      "Epoch 92/100: 100%|██████████| 240/240 [00:18<00:00, 12.82it/s, batch=200, loss=0.6920, lr=0.000021]\n"
     ]
    },
    {
     "name": "stdout",
     "output_type": "stream",
     "text": [
      "Training [92%] Loss: 0.6929\n"
     ]
    },
    {
     "name": "stderr",
     "output_type": "stream",
     "text": [
      "Epoch 93/100: 100%|██████████| 240/240 [00:18<00:00, 12.88it/s, batch=200, loss=0.6914, lr=0.000016]\n"
     ]
    },
    {
     "name": "stdout",
     "output_type": "stream",
     "text": [
      "Training [93%] Loss: 0.6922\n"
     ]
    },
    {
     "name": "stderr",
     "output_type": "stream",
     "text": [
      "Epoch 94/100: 100%|██████████| 240/240 [00:18<00:00, 13.03it/s, batch=200, loss=0.6976, lr=0.000012]\n"
     ]
    },
    {
     "name": "stdout",
     "output_type": "stream",
     "text": [
      "Training [94%] Loss: 0.6927\n"
     ]
    },
    {
     "name": "stderr",
     "output_type": "stream",
     "text": [
      "Epoch 95/100: 100%|██████████| 240/240 [00:18<00:00, 12.68it/s, batch=200, loss=0.6911, lr=0.000009]\n"
     ]
    },
    {
     "name": "stdout",
     "output_type": "stream",
     "text": [
      "Training [95%] Loss: 0.6924\n"
     ]
    },
    {
     "name": "stderr",
     "output_type": "stream",
     "text": [
      "Epoch 96/100: 100%|██████████| 240/240 [00:18<00:00, 13.05it/s, batch=200, loss=0.6859, lr=0.000006]\n"
     ]
    },
    {
     "name": "stdout",
     "output_type": "stream",
     "text": [
      "Training [96%] Loss: 0.6922\n"
     ]
    },
    {
     "name": "stderr",
     "output_type": "stream",
     "text": [
      "Epoch 97/100: 100%|██████████| 240/240 [00:18<00:00, 12.97it/s, batch=200, loss=0.6988, lr=0.000004]\n"
     ]
    },
    {
     "name": "stdout",
     "output_type": "stream",
     "text": [
      "Training [97%] Loss: 0.6926\n"
     ]
    },
    {
     "name": "stderr",
     "output_type": "stream",
     "text": [
      "Epoch 98/100: 100%|██████████| 240/240 [00:18<00:00, 12.95it/s, batch=200, loss=0.6895, lr=0.000002]\n"
     ]
    },
    {
     "name": "stdout",
     "output_type": "stream",
     "text": [
      "Training [98%] Loss: 0.6925\n"
     ]
    },
    {
     "name": "stderr",
     "output_type": "stream",
     "text": [
      "Epoch 99/100: 100%|██████████| 240/240 [00:18<00:00, 13.00it/s, batch=200, loss=0.6900, lr=0.000001]\n"
     ]
    },
    {
     "name": "stdout",
     "output_type": "stream",
     "text": [
      "Training [99%] Loss: 0.6925\n"
     ]
    },
    {
     "name": "stderr",
     "output_type": "stream",
     "text": [
      "Epoch 100/100: 100%|██████████| 240/240 [00:18<00:00, 12.92it/s, batch=200, loss=0.6856, lr=0.000001]\n"
     ]
    },
    {
     "name": "stdout",
     "output_type": "stream",
     "text": [
      "Training [100%] Loss: 0.6923\n",
      "Starting inference on cuda...\n"
     ]
    },
    {
     "name": "stderr",
     "output_type": "stream",
     "text": [
      "                                                            \r"
     ]
    },
    {
     "name": "stdout",
     "output_type": "stream",
     "text": [
      "total samples: 10000\n",
      "target samples: 2000\n",
      "accuracy (labels 0/6 only): 0.4850\n",
      "Iteration 2: Result = 0.4850\n",
      "Starting training on cuda...\n"
     ]
    },
    {
     "name": "stderr",
     "output_type": "stream",
     "text": [
      "Epoch 1/100: 100%|██████████| 240/240 [00:18<00:00, 13.09it/s, batch=200, loss=0.6940, lr=0.000960]\n"
     ]
    },
    {
     "name": "stdout",
     "output_type": "stream",
     "text": [
      "Training [1%] Loss: 0.6933\n"
     ]
    },
    {
     "name": "stderr",
     "output_type": "stream",
     "text": [
      "Epoch 2/100: 100%|██████████| 240/240 [00:18<00:00, 12.96it/s, batch=200, loss=0.6964, lr=0.000959]\n"
     ]
    },
    {
     "name": "stdout",
     "output_type": "stream",
     "text": [
      "Training [2%] Loss: 0.6936\n"
     ]
    },
    {
     "name": "stderr",
     "output_type": "stream",
     "text": [
      "Epoch 3/100: 100%|██████████| 240/240 [00:18<00:00, 13.18it/s, batch=200, loss=0.6911, lr=0.000958]\n"
     ]
    },
    {
     "name": "stdout",
     "output_type": "stream",
     "text": [
      "Training [3%] Loss: 0.6938\n"
     ]
    },
    {
     "name": "stderr",
     "output_type": "stream",
     "text": [
      "Epoch 4/100: 100%|██████████| 240/240 [00:18<00:00, 12.72it/s, batch=200, loss=0.6896, lr=0.000957]\n"
     ]
    },
    {
     "name": "stdout",
     "output_type": "stream",
     "text": [
      "Training [4%] Loss: 0.6937\n"
     ]
    },
    {
     "name": "stderr",
     "output_type": "stream",
     "text": [
      "Epoch 5/100: 100%|██████████| 240/240 [00:18<00:00, 12.88it/s, batch=200, loss=0.6913, lr=0.000954]\n"
     ]
    },
    {
     "name": "stdout",
     "output_type": "stream",
     "text": [
      "Training [5%] Loss: 0.6935\n"
     ]
    },
    {
     "name": "stderr",
     "output_type": "stream",
     "text": [
      "Epoch 6/100: 100%|██████████| 240/240 [00:18<00:00, 12.95it/s, batch=200, loss=0.6858, lr=0.000952]\n"
     ]
    },
    {
     "name": "stdout",
     "output_type": "stream",
     "text": [
      "Training [6%] Loss: 0.6935\n"
     ]
    },
    {
     "name": "stderr",
     "output_type": "stream",
     "text": [
      "Epoch 7/100: 100%|██████████| 240/240 [00:18<00:00, 12.98it/s, batch=200, loss=0.6997, lr=0.000949]\n"
     ]
    },
    {
     "name": "stdout",
     "output_type": "stream",
     "text": [
      "Training [7%] Loss: 0.6932\n"
     ]
    },
    {
     "name": "stderr",
     "output_type": "stream",
     "text": [
      "Epoch 8/100: 100%|██████████| 240/240 [00:18<00:00, 12.94it/s, batch=200, loss=0.6928, lr=0.000946]\n"
     ]
    },
    {
     "name": "stdout",
     "output_type": "stream",
     "text": [
      "Training [8%] Loss: 0.6936\n"
     ]
    },
    {
     "name": "stderr",
     "output_type": "stream",
     "text": [
      "Epoch 9/100: 100%|██████████| 240/240 [00:18<00:00, 12.85it/s, batch=200, loss=0.6941, lr=0.000942]\n"
     ]
    },
    {
     "name": "stdout",
     "output_type": "stream",
     "text": [
      "Training [9%] Loss: 0.6935\n"
     ]
    },
    {
     "name": "stderr",
     "output_type": "stream",
     "text": [
      "Epoch 10/100: 100%|██████████| 240/240 [00:18<00:00, 12.97it/s, batch=200, loss=0.6901, lr=0.000937]\n"
     ]
    },
    {
     "name": "stdout",
     "output_type": "stream",
     "text": [
      "Training [10%] Loss: 0.6935\n"
     ]
    },
    {
     "name": "stderr",
     "output_type": "stream",
     "text": [
      "Epoch 11/100: 100%|██████████| 240/240 [00:18<00:00, 12.81it/s, batch=200, loss=0.6986, lr=0.000932]\n"
     ]
    },
    {
     "name": "stdout",
     "output_type": "stream",
     "text": [
      "Training [11%] Loss: 0.6934\n"
     ]
    },
    {
     "name": "stderr",
     "output_type": "stream",
     "text": [
      "Epoch 12/100: 100%|██████████| 240/240 [00:18<00:00, 13.17it/s, batch=200, loss=0.6877, lr=0.000927]\n"
     ]
    },
    {
     "name": "stdout",
     "output_type": "stream",
     "text": [
      "Training [12%] Loss: 0.6933\n"
     ]
    },
    {
     "name": "stderr",
     "output_type": "stream",
     "text": [
      "Epoch 13/100: 100%|██████████| 240/240 [00:18<00:00, 12.74it/s, batch=200, loss=0.6930, lr=0.000922]\n"
     ]
    },
    {
     "name": "stdout",
     "output_type": "stream",
     "text": [
      "Training [13%] Loss: 0.6938\n"
     ]
    },
    {
     "name": "stderr",
     "output_type": "stream",
     "text": [
      "Epoch 14/100: 100%|██████████| 240/240 [00:18<00:00, 12.91it/s, batch=200, loss=0.7036, lr=0.000915]\n"
     ]
    },
    {
     "name": "stdout",
     "output_type": "stream",
     "text": [
      "Training [14%] Loss: 0.6936\n"
     ]
    },
    {
     "name": "stderr",
     "output_type": "stream",
     "text": [
      "Epoch 15/100: 100%|██████████| 240/240 [00:18<00:00, 12.89it/s, batch=200, loss=0.6906, lr=0.000909]\n"
     ]
    },
    {
     "name": "stdout",
     "output_type": "stream",
     "text": [
      "Training [15%] Loss: 0.6932\n"
     ]
    },
    {
     "name": "stderr",
     "output_type": "stream",
     "text": [
      "Epoch 16/100: 100%|██████████| 240/240 [00:18<00:00, 12.98it/s, batch=200, loss=0.6951, lr=0.000902]\n"
     ]
    },
    {
     "name": "stdout",
     "output_type": "stream",
     "text": [
      "Training [16%] Loss: 0.6933\n"
     ]
    },
    {
     "name": "stderr",
     "output_type": "stream",
     "text": [
      "Epoch 17/100: 100%|██████████| 240/240 [00:18<00:00, 12.98it/s, batch=200, loss=0.6968, lr=0.000894]\n"
     ]
    },
    {
     "name": "stdout",
     "output_type": "stream",
     "text": [
      "Training [17%] Loss: 0.6933\n"
     ]
    },
    {
     "name": "stderr",
     "output_type": "stream",
     "text": [
      "Epoch 18/100: 100%|██████████| 240/240 [00:18<00:00, 12.80it/s, batch=200, loss=0.6870, lr=0.000887]\n"
     ]
    },
    {
     "name": "stdout",
     "output_type": "stream",
     "text": [
      "Training [18%] Loss: 0.6935\n"
     ]
    },
    {
     "name": "stderr",
     "output_type": "stream",
     "text": [
      "Epoch 19/100: 100%|██████████| 240/240 [00:18<00:00, 12.94it/s, batch=200, loss=0.6912, lr=0.000878]\n"
     ]
    },
    {
     "name": "stdout",
     "output_type": "stream",
     "text": [
      "Training [19%] Loss: 0.6936\n"
     ]
    },
    {
     "name": "stderr",
     "output_type": "stream",
     "text": [
      "Epoch 20/100: 100%|██████████| 240/240 [00:18<00:00, 12.75it/s, batch=200, loss=0.6918, lr=0.000870]\n"
     ]
    },
    {
     "name": "stdout",
     "output_type": "stream",
     "text": [
      "Training [20%] Loss: 0.6932\n"
     ]
    },
    {
     "name": "stderr",
     "output_type": "stream",
     "text": [
      "Epoch 21/100: 100%|██████████| 240/240 [00:18<00:00, 13.03it/s, batch=200, loss=0.6937, lr=0.000861]\n"
     ]
    },
    {
     "name": "stdout",
     "output_type": "stream",
     "text": [
      "Training [21%] Loss: 0.6935\n"
     ]
    },
    {
     "name": "stderr",
     "output_type": "stream",
     "text": [
      "Epoch 22/100: 100%|██████████| 240/240 [00:19<00:00, 12.54it/s, batch=200, loss=0.6928, lr=0.000852]\n"
     ]
    },
    {
     "name": "stdout",
     "output_type": "stream",
     "text": [
      "Training [22%] Loss: 0.6934\n"
     ]
    },
    {
     "name": "stderr",
     "output_type": "stream",
     "text": [
      "Epoch 23/100: 100%|██████████| 240/240 [00:18<00:00, 12.65it/s, batch=200, loss=0.6936, lr=0.000842]\n"
     ]
    },
    {
     "name": "stdout",
     "output_type": "stream",
     "text": [
      "Training [23%] Loss: 0.6937\n"
     ]
    },
    {
     "name": "stderr",
     "output_type": "stream",
     "text": [
      "Epoch 24/100: 100%|██████████| 240/240 [00:18<00:00, 12.97it/s, batch=200, loss=0.6836, lr=0.000832]\n"
     ]
    },
    {
     "name": "stdout",
     "output_type": "stream",
     "text": [
      "Training [24%] Loss: 0.6932\n"
     ]
    },
    {
     "name": "stderr",
     "output_type": "stream",
     "text": [
      "Epoch 25/100: 100%|██████████| 240/240 [00:18<00:00, 12.87it/s, batch=200, loss=0.6907, lr=0.000821]\n"
     ]
    },
    {
     "name": "stdout",
     "output_type": "stream",
     "text": [
      "Training [25%] Loss: 0.6932\n"
     ]
    },
    {
     "name": "stderr",
     "output_type": "stream",
     "text": [
      "Epoch 26/100: 100%|██████████| 240/240 [00:18<00:00, 13.10it/s, batch=200, loss=0.6944, lr=0.000811]\n"
     ]
    },
    {
     "name": "stdout",
     "output_type": "stream",
     "text": [
      "Training [26%] Loss: 0.6933\n"
     ]
    },
    {
     "name": "stderr",
     "output_type": "stream",
     "text": [
      "Epoch 27/100: 100%|██████████| 240/240 [00:18<00:00, 12.71it/s, batch=200, loss=0.6983, lr=0.000799]\n"
     ]
    },
    {
     "name": "stdout",
     "output_type": "stream",
     "text": [
      "Training [27%] Loss: 0.6938\n"
     ]
    },
    {
     "name": "stderr",
     "output_type": "stream",
     "text": [
      "Epoch 28/100: 100%|██████████| 240/240 [00:18<00:00, 13.06it/s, batch=200, loss=0.6927, lr=0.000788]\n"
     ]
    },
    {
     "name": "stdout",
     "output_type": "stream",
     "text": [
      "Training [28%] Loss: 0.6935\n"
     ]
    },
    {
     "name": "stderr",
     "output_type": "stream",
     "text": [
      "Epoch 29/100: 100%|██████████| 240/240 [00:18<00:00, 12.81it/s, batch=200, loss=0.6964, lr=0.000776]\n"
     ]
    },
    {
     "name": "stdout",
     "output_type": "stream",
     "text": [
      "Training [29%] Loss: 0.6935\n"
     ]
    },
    {
     "name": "stderr",
     "output_type": "stream",
     "text": [
      "Epoch 30/100: 100%|██████████| 240/240 [00:18<00:00, 12.91it/s, batch=200, loss=0.6992, lr=0.000764]\n"
     ]
    },
    {
     "name": "stdout",
     "output_type": "stream",
     "text": [
      "Training [30%] Loss: 0.6934\n"
     ]
    },
    {
     "name": "stderr",
     "output_type": "stream",
     "text": [
      "Epoch 31/100: 100%|██████████| 240/240 [00:18<00:00, 12.98it/s, batch=200, loss=0.6922, lr=0.000752]\n"
     ]
    },
    {
     "name": "stdout",
     "output_type": "stream",
     "text": [
      "Training [31%] Loss: 0.6933\n"
     ]
    },
    {
     "name": "stderr",
     "output_type": "stream",
     "text": [
      "Epoch 32/100: 100%|██████████| 240/240 [00:18<00:00, 13.00it/s, batch=200, loss=0.6918, lr=0.000739]\n"
     ]
    },
    {
     "name": "stdout",
     "output_type": "stream",
     "text": [
      "Training [32%] Loss: 0.6935\n"
     ]
    },
    {
     "name": "stderr",
     "output_type": "stream",
     "text": [
      "Epoch 33/100: 100%|██████████| 240/240 [00:18<00:00, 13.01it/s, batch=200, loss=0.6917, lr=0.000727]\n"
     ]
    },
    {
     "name": "stdout",
     "output_type": "stream",
     "text": [
      "Training [33%] Loss: 0.6934\n"
     ]
    },
    {
     "name": "stderr",
     "output_type": "stream",
     "text": [
      "Epoch 34/100: 100%|██████████| 240/240 [00:18<00:00, 12.84it/s, batch=200, loss=0.6913, lr=0.000714]\n"
     ]
    },
    {
     "name": "stdout",
     "output_type": "stream",
     "text": [
      "Training [34%] Loss: 0.6932\n"
     ]
    },
    {
     "name": "stderr",
     "output_type": "stream",
     "text": [
      "Epoch 35/100: 100%|██████████| 240/240 [00:18<00:00, 13.26it/s, batch=200, loss=0.6947, lr=0.000700]\n"
     ]
    },
    {
     "name": "stdout",
     "output_type": "stream",
     "text": [
      "Training [35%] Loss: 0.6933\n"
     ]
    },
    {
     "name": "stderr",
     "output_type": "stream",
     "text": [
      "Epoch 36/100: 100%|██████████| 240/240 [00:19<00:00, 12.62it/s, batch=200, loss=0.6886, lr=0.000687]\n"
     ]
    },
    {
     "name": "stdout",
     "output_type": "stream",
     "text": [
      "Training [36%] Loss: 0.6933\n"
     ]
    },
    {
     "name": "stderr",
     "output_type": "stream",
     "text": [
      "Epoch 37/100: 100%|██████████| 240/240 [00:18<00:00, 12.95it/s, batch=200, loss=0.6953, lr=0.000673]\n"
     ]
    },
    {
     "name": "stdout",
     "output_type": "stream",
     "text": [
      "Training [37%] Loss: 0.6936\n"
     ]
    },
    {
     "name": "stderr",
     "output_type": "stream",
     "text": [
      "Epoch 38/100: 100%|██████████| 240/240 [00:18<00:00, 12.83it/s, batch=200, loss=0.6888, lr=0.000659]\n"
     ]
    },
    {
     "name": "stdout",
     "output_type": "stream",
     "text": [
      "Training [38%] Loss: 0.6933\n"
     ]
    },
    {
     "name": "stderr",
     "output_type": "stream",
     "text": [
      "Epoch 39/100: 100%|██████████| 240/240 [00:18<00:00, 12.92it/s, batch=200, loss=0.6907, lr=0.000645]\n"
     ]
    },
    {
     "name": "stdout",
     "output_type": "stream",
     "text": [
      "Training [39%] Loss: 0.6936\n"
     ]
    },
    {
     "name": "stderr",
     "output_type": "stream",
     "text": [
      "Epoch 40/100: 100%|██████████| 240/240 [00:18<00:00, 12.80it/s, batch=200, loss=0.6943, lr=0.000631]\n"
     ]
    },
    {
     "name": "stdout",
     "output_type": "stream",
     "text": [
      "Training [40%] Loss: 0.6934\n"
     ]
    },
    {
     "name": "stderr",
     "output_type": "stream",
     "text": [
      "Epoch 41/100: 100%|██████████| 240/240 [00:18<00:00, 13.02it/s, batch=200, loss=0.6950, lr=0.000617]\n"
     ]
    },
    {
     "name": "stdout",
     "output_type": "stream",
     "text": [
      "Training [41%] Loss: 0.6936\n"
     ]
    },
    {
     "name": "stderr",
     "output_type": "stream",
     "text": [
      "Epoch 42/100: 100%|██████████| 240/240 [00:18<00:00, 12.93it/s, batch=200, loss=0.6959, lr=0.000602]\n"
     ]
    },
    {
     "name": "stdout",
     "output_type": "stream",
     "text": [
      "Training [42%] Loss: 0.6929\n"
     ]
    },
    {
     "name": "stderr",
     "output_type": "stream",
     "text": [
      "Epoch 43/100: 100%|██████████| 240/240 [00:18<00:00, 12.81it/s, batch=200, loss=0.6904, lr=0.000587]\n"
     ]
    },
    {
     "name": "stdout",
     "output_type": "stream",
     "text": [
      "Training [43%] Loss: 0.6933\n"
     ]
    },
    {
     "name": "stderr",
     "output_type": "stream",
     "text": [
      "Epoch 44/100: 100%|██████████| 240/240 [00:18<00:00, 13.10it/s, batch=200, loss=0.6836, lr=0.000573]\n"
     ]
    },
    {
     "name": "stdout",
     "output_type": "stream",
     "text": [
      "Training [44%] Loss: 0.6933\n"
     ]
    },
    {
     "name": "stderr",
     "output_type": "stream",
     "text": [
      "Epoch 45/100: 100%|██████████| 240/240 [00:18<00:00, 12.81it/s, batch=200, loss=0.6916, lr=0.000558]\n"
     ]
    },
    {
     "name": "stdout",
     "output_type": "stream",
     "text": [
      "Training [45%] Loss: 0.6931\n"
     ]
    },
    {
     "name": "stderr",
     "output_type": "stream",
     "text": [
      "Epoch 46/100: 100%|██████████| 240/240 [00:18<00:00, 12.82it/s, batch=200, loss=0.6900, lr=0.000543]\n"
     ]
    },
    {
     "name": "stdout",
     "output_type": "stream",
     "text": [
      "Training [46%] Loss: 0.6930\n"
     ]
    },
    {
     "name": "stderr",
     "output_type": "stream",
     "text": [
      "Epoch 47/100: 100%|██████████| 240/240 [00:18<00:00, 12.78it/s, batch=200, loss=0.6987, lr=0.000528]\n"
     ]
    },
    {
     "name": "stdout",
     "output_type": "stream",
     "text": [
      "Training [47%] Loss: 0.6934\n"
     ]
    },
    {
     "name": "stderr",
     "output_type": "stream",
     "text": [
      "Epoch 48/100: 100%|██████████| 240/240 [00:18<00:00, 13.11it/s, batch=200, loss=0.6940, lr=0.000513]\n"
     ]
    },
    {
     "name": "stdout",
     "output_type": "stream",
     "text": [
      "Training [48%] Loss: 0.6932\n"
     ]
    },
    {
     "name": "stderr",
     "output_type": "stream",
     "text": [
      "Epoch 49/100: 100%|██████████| 240/240 [00:18<00:00, 13.04it/s, batch=200, loss=0.6928, lr=0.000498]\n"
     ]
    },
    {
     "name": "stdout",
     "output_type": "stream",
     "text": [
      "Training [49%] Loss: 0.6932\n"
     ]
    },
    {
     "name": "stderr",
     "output_type": "stream",
     "text": [
      "Epoch 50/100: 100%|██████████| 240/240 [00:18<00:00, 12.85it/s, batch=200, loss=0.6940, lr=0.000483]\n"
     ]
    },
    {
     "name": "stdout",
     "output_type": "stream",
     "text": [
      "Training [50%] Loss: 0.6933\n"
     ]
    },
    {
     "name": "stderr",
     "output_type": "stream",
     "text": [
      "Epoch 51/100: 100%|██████████| 240/240 [00:18<00:00, 12.95it/s, batch=200, loss=0.6918, lr=0.000468]\n"
     ]
    },
    {
     "name": "stdout",
     "output_type": "stream",
     "text": [
      "Training [51%] Loss: 0.6934\n"
     ]
    },
    {
     "name": "stderr",
     "output_type": "stream",
     "text": [
      "Epoch 52/100: 100%|██████████| 240/240 [00:18<00:00, 12.84it/s, batch=200, loss=0.6939, lr=0.000453]\n"
     ]
    },
    {
     "name": "stdout",
     "output_type": "stream",
     "text": [
      "Training [52%] Loss: 0.6934\n"
     ]
    },
    {
     "name": "stderr",
     "output_type": "stream",
     "text": [
      "Epoch 53/100: 100%|██████████| 240/240 [00:18<00:00, 13.18it/s, batch=200, loss=0.6962, lr=0.000438]\n"
     ]
    },
    {
     "name": "stdout",
     "output_type": "stream",
     "text": [
      "Training [53%] Loss: 0.6936\n"
     ]
    },
    {
     "name": "stderr",
     "output_type": "stream",
     "text": [
      "Epoch 54/100: 100%|██████████| 240/240 [00:18<00:00, 12.88it/s, batch=200, loss=0.6896, lr=0.000423]\n"
     ]
    },
    {
     "name": "stdout",
     "output_type": "stream",
     "text": [
      "Training [54%] Loss: 0.6935\n"
     ]
    },
    {
     "name": "stderr",
     "output_type": "stream",
     "text": [
      "Epoch 55/100: 100%|██████████| 240/240 [00:18<00:00, 13.09it/s, batch=200, loss=0.6916, lr=0.000408]\n"
     ]
    },
    {
     "name": "stdout",
     "output_type": "stream",
     "text": [
      "Training [55%] Loss: 0.6933\n"
     ]
    },
    {
     "name": "stderr",
     "output_type": "stream",
     "text": [
      "Epoch 56/100: 100%|██████████| 240/240 [00:18<00:00, 12.63it/s, batch=200, loss=0.6905, lr=0.000393]\n"
     ]
    },
    {
     "name": "stdout",
     "output_type": "stream",
     "text": [
      "Training [56%] Loss: 0.6932\n"
     ]
    },
    {
     "name": "stderr",
     "output_type": "stream",
     "text": [
      "Epoch 57/100: 100%|██████████| 240/240 [00:18<00:00, 12.81it/s, batch=200, loss=0.6864, lr=0.000378]\n"
     ]
    },
    {
     "name": "stdout",
     "output_type": "stream",
     "text": [
      "Training [57%] Loss: 0.6931\n"
     ]
    },
    {
     "name": "stderr",
     "output_type": "stream",
     "text": [
      "Epoch 58/100: 100%|██████████| 240/240 [00:18<00:00, 12.97it/s, batch=200, loss=0.6916, lr=0.000364]\n"
     ]
    },
    {
     "name": "stdout",
     "output_type": "stream",
     "text": [
      "Training [58%] Loss: 0.6933\n"
     ]
    },
    {
     "name": "stderr",
     "output_type": "stream",
     "text": [
      "Epoch 59/100: 100%|██████████| 240/240 [00:18<00:00, 12.73it/s, batch=200, loss=0.6913, lr=0.000349]\n"
     ]
    },
    {
     "name": "stdout",
     "output_type": "stream",
     "text": [
      "Training [59%] Loss: 0.6933\n"
     ]
    },
    {
     "name": "stderr",
     "output_type": "stream",
     "text": [
      "Epoch 60/100: 100%|██████████| 240/240 [00:18<00:00, 13.07it/s, batch=200, loss=0.6963, lr=0.000335]\n"
     ]
    },
    {
     "name": "stdout",
     "output_type": "stream",
     "text": [
      "Training [60%] Loss: 0.6931\n"
     ]
    },
    {
     "name": "stderr",
     "output_type": "stream",
     "text": [
      "Epoch 61/100: 100%|██████████| 240/240 [00:18<00:00, 12.67it/s, batch=200, loss=0.6902, lr=0.000320]\n"
     ]
    },
    {
     "name": "stdout",
     "output_type": "stream",
     "text": [
      "Training [61%] Loss: 0.6929\n"
     ]
    },
    {
     "name": "stderr",
     "output_type": "stream",
     "text": [
      "Epoch 62/100: 100%|██████████| 240/240 [00:18<00:00, 13.00it/s, batch=200, loss=0.6934, lr=0.000306]\n"
     ]
    },
    {
     "name": "stdout",
     "output_type": "stream",
     "text": [
      "Training [62%] Loss: 0.6932\n"
     ]
    },
    {
     "name": "stderr",
     "output_type": "stream",
     "text": [
      "Epoch 63/100: 100%|██████████| 240/240 [00:18<00:00, 12.71it/s, batch=200, loss=0.6879, lr=0.000292]\n"
     ]
    },
    {
     "name": "stdout",
     "output_type": "stream",
     "text": [
      "Training [63%] Loss: 0.6929\n"
     ]
    },
    {
     "name": "stderr",
     "output_type": "stream",
     "text": [
      "Epoch 64/100: 100%|██████████| 240/240 [00:18<00:00, 12.91it/s, batch=200, loss=0.6923, lr=0.000279]\n"
     ]
    },
    {
     "name": "stdout",
     "output_type": "stream",
     "text": [
      "Training [64%] Loss: 0.6935\n"
     ]
    },
    {
     "name": "stderr",
     "output_type": "stream",
     "text": [
      "Epoch 65/100: 100%|██████████| 240/240 [00:18<00:00, 12.91it/s, batch=200, loss=0.6954, lr=0.000265]\n"
     ]
    },
    {
     "name": "stdout",
     "output_type": "stream",
     "text": [
      "Training [65%] Loss: 0.6932\n"
     ]
    },
    {
     "name": "stderr",
     "output_type": "stream",
     "text": [
      "Epoch 66/100: 100%|██████████| 240/240 [00:18<00:00, 12.87it/s, batch=200, loss=0.6962, lr=0.000252]\n"
     ]
    },
    {
     "name": "stdout",
     "output_type": "stream",
     "text": [
      "Training [66%] Loss: 0.6930\n"
     ]
    },
    {
     "name": "stderr",
     "output_type": "stream",
     "text": [
      "Epoch 67/100: 100%|██████████| 240/240 [00:18<00:00, 13.03it/s, batch=200, loss=0.6904, lr=0.000239]\n"
     ]
    },
    {
     "name": "stdout",
     "output_type": "stream",
     "text": [
      "Training [67%] Loss: 0.6932\n"
     ]
    },
    {
     "name": "stderr",
     "output_type": "stream",
     "text": [
      "Epoch 68/100: 100%|██████████| 240/240 [00:18<00:00, 12.65it/s, batch=200, loss=0.6983, lr=0.000226]\n"
     ]
    },
    {
     "name": "stdout",
     "output_type": "stream",
     "text": [
      "Training [68%] Loss: 0.6931\n"
     ]
    },
    {
     "name": "stderr",
     "output_type": "stream",
     "text": [
      "Epoch 69/100: 100%|██████████| 240/240 [00:18<00:00, 13.07it/s, batch=200, loss=0.6904, lr=0.000213]\n"
     ]
    },
    {
     "name": "stdout",
     "output_type": "stream",
     "text": [
      "Training [69%] Loss: 0.6932\n"
     ]
    },
    {
     "name": "stderr",
     "output_type": "stream",
     "text": [
      "Epoch 70/100: 100%|██████████| 240/240 [00:19<00:00, 12.62it/s, batch=200, loss=0.6957, lr=0.000201]\n"
     ]
    },
    {
     "name": "stdout",
     "output_type": "stream",
     "text": [
      "Training [70%] Loss: 0.6935\n"
     ]
    },
    {
     "name": "stderr",
     "output_type": "stream",
     "text": [
      "Epoch 71/100: 100%|██████████| 240/240 [00:18<00:00, 13.19it/s, batch=200, loss=0.6905, lr=0.000189]\n"
     ]
    },
    {
     "name": "stdout",
     "output_type": "stream",
     "text": [
      "Training [71%] Loss: 0.6933\n"
     ]
    },
    {
     "name": "stderr",
     "output_type": "stream",
     "text": [
      "Epoch 72/100: 100%|██████████| 240/240 [00:18<00:00, 12.88it/s, batch=200, loss=0.6931, lr=0.000177]\n"
     ]
    },
    {
     "name": "stdout",
     "output_type": "stream",
     "text": [
      "Training [72%] Loss: 0.6934\n"
     ]
    },
    {
     "name": "stderr",
     "output_type": "stream",
     "text": [
      "Epoch 73/100: 100%|██████████| 240/240 [00:18<00:00, 12.98it/s, batch=200, loss=0.6932, lr=0.000165]\n"
     ]
    },
    {
     "name": "stdout",
     "output_type": "stream",
     "text": [
      "Training [73%] Loss: 0.6934\n"
     ]
    },
    {
     "name": "stderr",
     "output_type": "stream",
     "text": [
      "Epoch 74/100: 100%|██████████| 240/240 [00:18<00:00, 12.93it/s, batch=200, loss=0.6923, lr=0.000154]\n"
     ]
    },
    {
     "name": "stdout",
     "output_type": "stream",
     "text": [
      "Training [74%] Loss: 0.6932\n"
     ]
    },
    {
     "name": "stderr",
     "output_type": "stream",
     "text": [
      "Epoch 75/100: 100%|██████████| 240/240 [00:18<00:00, 12.92it/s, batch=200, loss=0.6930, lr=0.000143]\n"
     ]
    },
    {
     "name": "stdout",
     "output_type": "stream",
     "text": [
      "Training [75%] Loss: 0.6932\n"
     ]
    },
    {
     "name": "stderr",
     "output_type": "stream",
     "text": [
      "Epoch 76/100: 100%|██████████| 240/240 [00:18<00:00, 13.04it/s, batch=200, loss=0.6925, lr=0.000133]\n"
     ]
    },
    {
     "name": "stdout",
     "output_type": "stream",
     "text": [
      "Training [76%] Loss: 0.6931\n"
     ]
    },
    {
     "name": "stderr",
     "output_type": "stream",
     "text": [
      "Epoch 77/100: 100%|██████████| 240/240 [00:18<00:00, 12.93it/s, batch=200, loss=0.6945, lr=0.000122]\n"
     ]
    },
    {
     "name": "stdout",
     "output_type": "stream",
     "text": [
      "Training [77%] Loss: 0.6933\n"
     ]
    },
    {
     "name": "stderr",
     "output_type": "stream",
     "text": [
      "Epoch 78/100: 100%|██████████| 240/240 [00:18<00:00, 13.30it/s, batch=200, loss=0.6931, lr=0.000113]\n"
     ]
    },
    {
     "name": "stdout",
     "output_type": "stream",
     "text": [
      "Training [78%] Loss: 0.6932\n"
     ]
    },
    {
     "name": "stderr",
     "output_type": "stream",
     "text": [
      "Epoch 79/100: 100%|██████████| 240/240 [00:18<00:00, 12.79it/s, batch=200, loss=0.6925, lr=0.000103]\n"
     ]
    },
    {
     "name": "stdout",
     "output_type": "stream",
     "text": [
      "Training [79%] Loss: 0.6930\n"
     ]
    },
    {
     "name": "stderr",
     "output_type": "stream",
     "text": [
      "Epoch 80/100: 100%|██████████| 240/240 [00:18<00:00, 13.05it/s, batch=200, loss=0.6951, lr=0.000094]\n"
     ]
    },
    {
     "name": "stdout",
     "output_type": "stream",
     "text": [
      "Training [80%] Loss: 0.6931\n"
     ]
    },
    {
     "name": "stderr",
     "output_type": "stream",
     "text": [
      "Epoch 81/100: 100%|██████████| 240/240 [00:18<00:00, 12.91it/s, batch=200, loss=0.6944, lr=0.000085]\n"
     ]
    },
    {
     "name": "stdout",
     "output_type": "stream",
     "text": [
      "Training [81%] Loss: 0.6932\n"
     ]
    },
    {
     "name": "stderr",
     "output_type": "stream",
     "text": [
      "Epoch 82/100: 100%|██████████| 240/240 [00:18<00:00, 12.84it/s, batch=200, loss=0.6942, lr=0.000077]\n"
     ]
    },
    {
     "name": "stdout",
     "output_type": "stream",
     "text": [
      "Training [82%] Loss: 0.6932\n"
     ]
    },
    {
     "name": "stderr",
     "output_type": "stream",
     "text": [
      "Epoch 83/100: 100%|██████████| 240/240 [00:18<00:00, 12.94it/s, batch=200, loss=0.6910, lr=0.000069]\n"
     ]
    },
    {
     "name": "stdout",
     "output_type": "stream",
     "text": [
      "Training [83%] Loss: 0.6933\n"
     ]
    },
    {
     "name": "stderr",
     "output_type": "stream",
     "text": [
      "Epoch 84/100: 100%|██████████| 240/240 [00:18<00:00, 12.95it/s, batch=200, loss=0.6925, lr=0.000061]\n"
     ]
    },
    {
     "name": "stdout",
     "output_type": "stream",
     "text": [
      "Training [84%] Loss: 0.6932\n"
     ]
    },
    {
     "name": "stderr",
     "output_type": "stream",
     "text": [
      "Epoch 85/100: 100%|██████████| 240/240 [00:18<00:00, 13.01it/s, batch=200, loss=0.6937, lr=0.000054]\n"
     ]
    },
    {
     "name": "stdout",
     "output_type": "stream",
     "text": [
      "Training [85%] Loss: 0.6931\n"
     ]
    },
    {
     "name": "stderr",
     "output_type": "stream",
     "text": [
      "Epoch 86/100: 100%|██████████| 240/240 [00:18<00:00, 12.76it/s, batch=200, loss=0.6932, lr=0.000048]\n"
     ]
    },
    {
     "name": "stdout",
     "output_type": "stream",
     "text": [
      "Training [86%] Loss: 0.6931\n"
     ]
    },
    {
     "name": "stderr",
     "output_type": "stream",
     "text": [
      "Epoch 87/100: 100%|██████████| 240/240 [00:18<00:00, 13.07it/s, batch=200, loss=0.6955, lr=0.000041]\n"
     ]
    },
    {
     "name": "stdout",
     "output_type": "stream",
     "text": [
      "Training [87%] Loss: 0.6932\n"
     ]
    },
    {
     "name": "stderr",
     "output_type": "stream",
     "text": [
      "Epoch 88/100: 100%|██████████| 240/240 [00:19<00:00, 12.59it/s, batch=200, loss=0.6919, lr=0.000036]\n"
     ]
    },
    {
     "name": "stdout",
     "output_type": "stream",
     "text": [
      "Training [88%] Loss: 0.6930\n"
     ]
    },
    {
     "name": "stderr",
     "output_type": "stream",
     "text": [
      "Epoch 89/100: 100%|██████████| 240/240 [00:18<00:00, 13.04it/s, batch=200, loss=0.6927, lr=0.000030]\n"
     ]
    },
    {
     "name": "stdout",
     "output_type": "stream",
     "text": [
      "Training [89%] Loss: 0.6932\n"
     ]
    },
    {
     "name": "stderr",
     "output_type": "stream",
     "text": [
      "Epoch 90/100: 100%|██████████| 240/240 [00:18<00:00, 12.77it/s, batch=200, loss=0.6939, lr=0.000025]\n"
     ]
    },
    {
     "name": "stdout",
     "output_type": "stream",
     "text": [
      "Training [90%] Loss: 0.6932\n"
     ]
    },
    {
     "name": "stderr",
     "output_type": "stream",
     "text": [
      "Epoch 91/100: 100%|██████████| 240/240 [00:18<00:00, 13.06it/s, batch=200, loss=0.6914, lr=0.000021]\n"
     ]
    },
    {
     "name": "stdout",
     "output_type": "stream",
     "text": [
      "Training [91%] Loss: 0.6933\n"
     ]
    },
    {
     "name": "stderr",
     "output_type": "stream",
     "text": [
      "Epoch 92/100: 100%|██████████| 240/240 [00:18<00:00, 13.02it/s, batch=200, loss=0.6908, lr=0.000017]\n"
     ]
    },
    {
     "name": "stdout",
     "output_type": "stream",
     "text": [
      "Training [92%] Loss: 0.6932\n"
     ]
    },
    {
     "name": "stderr",
     "output_type": "stream",
     "text": [
      "Epoch 93/100: 100%|██████████| 240/240 [00:18<00:00, 12.84it/s, batch=200, loss=0.6906, lr=0.000013]\n"
     ]
    },
    {
     "name": "stdout",
     "output_type": "stream",
     "text": [
      "Training [93%] Loss: 0.6932\n"
     ]
    },
    {
     "name": "stderr",
     "output_type": "stream",
     "text": [
      "Epoch 94/100: 100%|██████████| 240/240 [00:18<00:00, 12.95it/s, batch=200, loss=0.6943, lr=0.000010]\n"
     ]
    },
    {
     "name": "stdout",
     "output_type": "stream",
     "text": [
      "Training [94%] Loss: 0.6931\n"
     ]
    },
    {
     "name": "stderr",
     "output_type": "stream",
     "text": [
      "Epoch 95/100: 100%|██████████| 240/240 [00:19<00:00, 12.62it/s, batch=200, loss=0.6932, lr=0.000007]\n"
     ]
    },
    {
     "name": "stdout",
     "output_type": "stream",
     "text": [
      "Training [95%] Loss: 0.6932\n"
     ]
    },
    {
     "name": "stderr",
     "output_type": "stream",
     "text": [
      "Epoch 96/100: 100%|██████████| 240/240 [00:18<00:00, 13.09it/s, batch=200, loss=0.6931, lr=0.000005]\n"
     ]
    },
    {
     "name": "stdout",
     "output_type": "stream",
     "text": [
      "Training [96%] Loss: 0.6932\n"
     ]
    },
    {
     "name": "stderr",
     "output_type": "stream",
     "text": [
      "Epoch 97/100: 100%|██████████| 240/240 [00:18<00:00, 12.79it/s, batch=200, loss=0.6943, lr=0.000003]\n"
     ]
    },
    {
     "name": "stdout",
     "output_type": "stream",
     "text": [
      "Training [97%] Loss: 0.6933\n"
     ]
    },
    {
     "name": "stderr",
     "output_type": "stream",
     "text": [
      "Epoch 98/100: 100%|██████████| 240/240 [00:20<00:00, 11.80it/s, batch=200, loss=0.6933, lr=0.000002]\n"
     ]
    },
    {
     "name": "stdout",
     "output_type": "stream",
     "text": [
      "Training [98%] Loss: 0.6934\n"
     ]
    },
    {
     "name": "stderr",
     "output_type": "stream",
     "text": [
      "Epoch 99/100: 100%|██████████| 240/240 [00:23<00:00, 10.26it/s, batch=200, loss=0.6949, lr=0.000001]\n"
     ]
    },
    {
     "name": "stdout",
     "output_type": "stream",
     "text": [
      "Training [99%] Loss: 0.6932\n"
     ]
    },
    {
     "name": "stderr",
     "output_type": "stream",
     "text": [
      "Epoch 100/100: 100%|██████████| 240/240 [00:21<00:00, 11.26it/s, batch=200, loss=0.6929, lr=0.000001]\n"
     ]
    },
    {
     "name": "stdout",
     "output_type": "stream",
     "text": [
      "Training [100%] Loss: 0.6931\n",
      "Starting inference on cuda...\n"
     ]
    },
    {
     "name": "stderr",
     "output_type": "stream",
     "text": [
      "                                                            \r"
     ]
    },
    {
     "name": "stdout",
     "output_type": "stream",
     "text": [
      "total samples: 10000\n",
      "target samples: 2000\n",
      "accuracy (labels 0/6 only): 0.5045\n",
      "Iteration 3: Result = 0.5045\n",
      "Starting training on cuda...\n"
     ]
    },
    {
     "name": "stderr",
     "output_type": "stream",
     "text": [
      "Epoch 1/100: 100%|██████████| 240/240 [00:19<00:00, 12.51it/s, batch=200, loss=0.6919, lr=0.000768]\n"
     ]
    },
    {
     "name": "stdout",
     "output_type": "stream",
     "text": [
      "Training [1%] Loss: 0.6934\n"
     ]
    },
    {
     "name": "stderr",
     "output_type": "stream",
     "text": [
      "Epoch 2/100: 100%|██████████| 240/240 [00:21<00:00, 10.99it/s, batch=200, loss=0.6971, lr=0.000767]\n"
     ]
    },
    {
     "name": "stdout",
     "output_type": "stream",
     "text": [
      "Training [2%] Loss: 0.6936\n"
     ]
    },
    {
     "name": "stderr",
     "output_type": "stream",
     "text": [
      "Epoch 3/100: 100%|██████████| 240/240 [00:22<00:00, 10.72it/s, batch=200, loss=0.6860, lr=0.000766]\n"
     ]
    },
    {
     "name": "stdout",
     "output_type": "stream",
     "text": [
      "Training [3%] Loss: 0.6933\n"
     ]
    },
    {
     "name": "stderr",
     "output_type": "stream",
     "text": [
      "Epoch 4/100: 100%|██████████| 240/240 [00:20<00:00, 11.44it/s, batch=200, loss=0.6918, lr=0.000765]\n"
     ]
    },
    {
     "name": "stdout",
     "output_type": "stream",
     "text": [
      "Training [4%] Loss: 0.6936\n"
     ]
    },
    {
     "name": "stderr",
     "output_type": "stream",
     "text": [
      "Epoch 5/100: 100%|██████████| 240/240 [00:20<00:00, 11.78it/s, batch=200, loss=0.6936, lr=0.000764]\n"
     ]
    },
    {
     "name": "stdout",
     "output_type": "stream",
     "text": [
      "Training [5%] Loss: 0.6934\n"
     ]
    },
    {
     "name": "stderr",
     "output_type": "stream",
     "text": [
      "Epoch 6/100: 100%|██████████| 240/240 [00:19<00:00, 12.23it/s, batch=200, loss=0.6946, lr=0.000762]\n"
     ]
    },
    {
     "name": "stdout",
     "output_type": "stream",
     "text": [
      "Training [6%] Loss: 0.6934\n"
     ]
    },
    {
     "name": "stderr",
     "output_type": "stream",
     "text": [
      "Epoch 7/100: 100%|██████████| 240/240 [00:18<00:00, 12.78it/s, batch=200, loss=0.6914, lr=0.000759]\n"
     ]
    },
    {
     "name": "stdout",
     "output_type": "stream",
     "text": [
      "Training [7%] Loss: 0.6935\n"
     ]
    },
    {
     "name": "stderr",
     "output_type": "stream",
     "text": [
      "Epoch 8/100: 100%|██████████| 240/240 [00:18<00:00, 12.73it/s, batch=200, loss=0.6977, lr=0.000756]\n"
     ]
    },
    {
     "name": "stdout",
     "output_type": "stream",
     "text": [
      "Training [8%] Loss: 0.6935\n"
     ]
    },
    {
     "name": "stderr",
     "output_type": "stream",
     "text": [
      "Epoch 9/100: 100%|██████████| 240/240 [00:18<00:00, 13.01it/s, batch=200, loss=0.6919, lr=0.000753]\n"
     ]
    },
    {
     "name": "stdout",
     "output_type": "stream",
     "text": [
      "Training [9%] Loss: 0.6934\n"
     ]
    },
    {
     "name": "stderr",
     "output_type": "stream",
     "text": [
      "Epoch 10/100: 100%|██████████| 240/240 [00:18<00:00, 12.82it/s, batch=200, loss=0.6922, lr=0.000750]\n"
     ]
    },
    {
     "name": "stdout",
     "output_type": "stream",
     "text": [
      "Training [10%] Loss: 0.6931\n"
     ]
    },
    {
     "name": "stderr",
     "output_type": "stream",
     "text": [
      "Epoch 11/100: 100%|██████████| 240/240 [00:18<00:00, 12.93it/s, batch=200, loss=0.6946, lr=0.000746]\n"
     ]
    },
    {
     "name": "stdout",
     "output_type": "stream",
     "text": [
      "Training [11%] Loss: 0.6936\n"
     ]
    },
    {
     "name": "stderr",
     "output_type": "stream",
     "text": [
      "Epoch 12/100: 100%|██████████| 240/240 [00:18<00:00, 12.81it/s, batch=200, loss=0.6950, lr=0.000742]\n"
     ]
    },
    {
     "name": "stdout",
     "output_type": "stream",
     "text": [
      "Training [12%] Loss: 0.6934\n"
     ]
    },
    {
     "name": "stderr",
     "output_type": "stream",
     "text": [
      "Epoch 13/100: 100%|██████████| 240/240 [00:18<00:00, 12.84it/s, batch=200, loss=0.6939, lr=0.000737]\n"
     ]
    },
    {
     "name": "stdout",
     "output_type": "stream",
     "text": [
      "Training [13%] Loss: 0.6933\n"
     ]
    },
    {
     "name": "stderr",
     "output_type": "stream",
     "text": [
      "Epoch 14/100: 100%|██████████| 240/240 [00:18<00:00, 12.99it/s, batch=200, loss=0.6909, lr=0.000732]\n"
     ]
    },
    {
     "name": "stdout",
     "output_type": "stream",
     "text": [
      "Training [14%] Loss: 0.6937\n"
     ]
    },
    {
     "name": "stderr",
     "output_type": "stream",
     "text": [
      "Epoch 15/100: 100%|██████████| 240/240 [00:20<00:00, 11.76it/s, batch=200, loss=0.6904, lr=0.000727]\n"
     ]
    },
    {
     "name": "stdout",
     "output_type": "stream",
     "text": [
      "Training [15%] Loss: 0.6934\n"
     ]
    },
    {
     "name": "stderr",
     "output_type": "stream",
     "text": [
      "Epoch 16/100: 100%|██████████| 240/240 [00:19<00:00, 12.48it/s, batch=200, loss=0.6915, lr=0.000722]\n"
     ]
    },
    {
     "name": "stdout",
     "output_type": "stream",
     "text": [
      "Training [16%] Loss: 0.6935\n"
     ]
    },
    {
     "name": "stderr",
     "output_type": "stream",
     "text": [
      "Epoch 17/100: 100%|██████████| 240/240 [00:18<00:00, 12.68it/s, batch=200, loss=0.6961, lr=0.000716]\n"
     ]
    },
    {
     "name": "stdout",
     "output_type": "stream",
     "text": [
      "Training [17%] Loss: 0.6933\n"
     ]
    },
    {
     "name": "stderr",
     "output_type": "stream",
     "text": [
      "Epoch 18/100: 100%|██████████| 240/240 [00:19<00:00, 12.07it/s, batch=200, loss=0.6935, lr=0.000709]\n"
     ]
    },
    {
     "name": "stdout",
     "output_type": "stream",
     "text": [
      "Training [18%] Loss: 0.6934\n"
     ]
    },
    {
     "name": "stderr",
     "output_type": "stream",
     "text": [
      "Epoch 19/100: 100%|██████████| 240/240 [00:19<00:00, 12.57it/s, batch=200, loss=0.6956, lr=0.000703]\n"
     ]
    },
    {
     "name": "stdout",
     "output_type": "stream",
     "text": [
      "Training [19%] Loss: 0.6933\n"
     ]
    },
    {
     "name": "stderr",
     "output_type": "stream",
     "text": [
      "Epoch 20/100: 100%|██████████| 240/240 [00:19<00:00, 12.20it/s, batch=200, loss=0.6921, lr=0.000696]\n"
     ]
    },
    {
     "name": "stdout",
     "output_type": "stream",
     "text": [
      "Training [20%] Loss: 0.6931\n"
     ]
    },
    {
     "name": "stderr",
     "output_type": "stream",
     "text": [
      "Epoch 21/100: 100%|██████████| 240/240 [00:18<00:00, 12.70it/s, batch=200, loss=0.6937, lr=0.000689]\n"
     ]
    },
    {
     "name": "stdout",
     "output_type": "stream",
     "text": [
      "Training [21%] Loss: 0.6929\n"
     ]
    },
    {
     "name": "stderr",
     "output_type": "stream",
     "text": [
      "Epoch 22/100: 100%|██████████| 240/240 [00:19<00:00, 12.51it/s, batch=200, loss=0.6937, lr=0.000681]\n"
     ]
    },
    {
     "name": "stdout",
     "output_type": "stream",
     "text": [
      "Training [22%] Loss: 0.6934\n"
     ]
    },
    {
     "name": "stderr",
     "output_type": "stream",
     "text": [
      "Epoch 23/100: 100%|██████████| 240/240 [00:18<00:00, 12.66it/s, batch=200, loss=0.6956, lr=0.000673]\n"
     ]
    },
    {
     "name": "stdout",
     "output_type": "stream",
     "text": [
      "Training [23%] Loss: 0.6932\n"
     ]
    },
    {
     "name": "stderr",
     "output_type": "stream",
     "text": [
      "Epoch 24/100: 100%|██████████| 240/240 [00:19<00:00, 12.22it/s, batch=200, loss=0.6945, lr=0.000665]\n"
     ]
    },
    {
     "name": "stdout",
     "output_type": "stream",
     "text": [
      "Training [24%] Loss: 0.6929\n"
     ]
    },
    {
     "name": "stderr",
     "output_type": "stream",
     "text": [
      "Epoch 25/100: 100%|██████████| 240/240 [00:18<00:00, 12.78it/s, batch=200, loss=0.6948, lr=0.000657]\n"
     ]
    },
    {
     "name": "stdout",
     "output_type": "stream",
     "text": [
      "Training [25%] Loss: 0.6934\n"
     ]
    },
    {
     "name": "stderr",
     "output_type": "stream",
     "text": [
      "Epoch 26/100: 100%|██████████| 240/240 [00:18<00:00, 13.17it/s, batch=200, loss=0.6986, lr=0.000648]\n"
     ]
    },
    {
     "name": "stdout",
     "output_type": "stream",
     "text": [
      "Training [26%] Loss: 0.6933\n"
     ]
    },
    {
     "name": "stderr",
     "output_type": "stream",
     "text": [
      "Epoch 27/100: 100%|██████████| 240/240 [00:18<00:00, 12.64it/s, batch=200, loss=0.6927, lr=0.000640]\n"
     ]
    },
    {
     "name": "stdout",
     "output_type": "stream",
     "text": [
      "Training [27%] Loss: 0.6934\n"
     ]
    },
    {
     "name": "stderr",
     "output_type": "stream",
     "text": [
      "Epoch 28/100: 100%|██████████| 240/240 [00:19<00:00, 12.24it/s, batch=200, loss=0.6890, lr=0.000630]\n"
     ]
    },
    {
     "name": "stdout",
     "output_type": "stream",
     "text": [
      "Training [28%] Loss: 0.6933\n"
     ]
    },
    {
     "name": "stderr",
     "output_type": "stream",
     "text": [
      "Epoch 29/100: 100%|██████████| 240/240 [00:20<00:00, 11.91it/s, batch=200, loss=0.6953, lr=0.000621]\n"
     ]
    },
    {
     "name": "stdout",
     "output_type": "stream",
     "text": [
      "Training [29%] Loss: 0.6935\n"
     ]
    },
    {
     "name": "stderr",
     "output_type": "stream",
     "text": [
      "Epoch 30/100: 100%|██████████| 240/240 [00:20<00:00, 11.78it/s, batch=200, loss=0.6940, lr=0.000611]\n"
     ]
    },
    {
     "name": "stdout",
     "output_type": "stream",
     "text": [
      "Training [30%] Loss: 0.6936\n"
     ]
    },
    {
     "name": "stderr",
     "output_type": "stream",
     "text": [
      "Epoch 31/100: 100%|██████████| 240/240 [00:20<00:00, 11.99it/s, batch=200, loss=0.6973, lr=0.000602]\n"
     ]
    },
    {
     "name": "stdout",
     "output_type": "stream",
     "text": [
      "Training [31%] Loss: 0.6933\n"
     ]
    },
    {
     "name": "stderr",
     "output_type": "stream",
     "text": [
      "Epoch 32/100: 100%|██████████| 240/240 [00:20<00:00, 11.47it/s, batch=200, loss=0.7004, lr=0.000592]\n"
     ]
    },
    {
     "name": "stdout",
     "output_type": "stream",
     "text": [
      "Training [32%] Loss: 0.6933\n"
     ]
    },
    {
     "name": "stderr",
     "output_type": "stream",
     "text": [
      "Epoch 33/100: 100%|██████████| 240/240 [00:20<00:00, 11.79it/s, batch=200, loss=0.6951, lr=0.000581]\n"
     ]
    },
    {
     "name": "stdout",
     "output_type": "stream",
     "text": [
      "Training [33%] Loss: 0.6933\n"
     ]
    },
    {
     "name": "stderr",
     "output_type": "stream",
     "text": [
      "Epoch 34/100: 100%|██████████| 240/240 [00:20<00:00, 11.89it/s, batch=200, loss=0.6911, lr=0.000571]\n"
     ]
    },
    {
     "name": "stdout",
     "output_type": "stream",
     "text": [
      "Training [34%] Loss: 0.6934\n"
     ]
    },
    {
     "name": "stderr",
     "output_type": "stream",
     "text": [
      "Epoch 35/100: 100%|██████████| 240/240 [00:21<00:00, 11.31it/s, batch=200, loss=0.6947, lr=0.000560]\n"
     ]
    },
    {
     "name": "stdout",
     "output_type": "stream",
     "text": [
      "Training [35%] Loss: 0.6935\n"
     ]
    },
    {
     "name": "stderr",
     "output_type": "stream",
     "text": [
      "Epoch 36/100: 100%|██████████| 240/240 [00:19<00:00, 12.23it/s, batch=200, loss=0.6883, lr=0.000550]\n"
     ]
    },
    {
     "name": "stdout",
     "output_type": "stream",
     "text": [
      "Training [36%] Loss: 0.6934\n"
     ]
    },
    {
     "name": "stderr",
     "output_type": "stream",
     "text": [
      "Epoch 37/100: 100%|██████████| 240/240 [00:20<00:00, 11.61it/s, batch=200, loss=0.6934, lr=0.000539]\n"
     ]
    },
    {
     "name": "stdout",
     "output_type": "stream",
     "text": [
      "Training [37%] Loss: 0.6932\n"
     ]
    },
    {
     "name": "stderr",
     "output_type": "stream",
     "text": [
      "Epoch 38/100: 100%|██████████| 240/240 [00:19<00:00, 12.53it/s, batch=200, loss=0.6918, lr=0.000527]\n"
     ]
    },
    {
     "name": "stdout",
     "output_type": "stream",
     "text": [
      "Training [38%] Loss: 0.6932\n"
     ]
    },
    {
     "name": "stderr",
     "output_type": "stream",
     "text": [
      "Epoch 39/100: 100%|██████████| 240/240 [00:19<00:00, 12.16it/s, batch=200, loss=0.6984, lr=0.000516]\n"
     ]
    },
    {
     "name": "stdout",
     "output_type": "stream",
     "text": [
      "Training [39%] Loss: 0.6930\n"
     ]
    },
    {
     "name": "stderr",
     "output_type": "stream",
     "text": [
      "Epoch 40/100: 100%|██████████| 240/240 [00:22<00:00, 10.61it/s, batch=200, loss=0.6905, lr=0.000505]\n"
     ]
    },
    {
     "name": "stdout",
     "output_type": "stream",
     "text": [
      "Training [40%] Loss: 0.6930\n"
     ]
    },
    {
     "name": "stderr",
     "output_type": "stream",
     "text": [
      "Epoch 41/100: 100%|██████████| 240/240 [00:21<00:00, 11.02it/s, batch=200, loss=0.6960, lr=0.000493]\n"
     ]
    },
    {
     "name": "stdout",
     "output_type": "stream",
     "text": [
      "Training [41%] Loss: 0.6933\n"
     ]
    },
    {
     "name": "stderr",
     "output_type": "stream",
     "text": [
      "Epoch 42/100: 100%|██████████| 240/240 [00:19<00:00, 12.27it/s, batch=200, loss=0.6924, lr=0.000482]\n"
     ]
    },
    {
     "name": "stdout",
     "output_type": "stream",
     "text": [
      "Training [42%] Loss: 0.6933\n"
     ]
    },
    {
     "name": "stderr",
     "output_type": "stream",
     "text": [
      "Epoch 43/100: 100%|██████████| 240/240 [00:20<00:00, 11.97it/s, batch=200, loss=0.6945, lr=0.000470]\n"
     ]
    },
    {
     "name": "stdout",
     "output_type": "stream",
     "text": [
      "Training [43%] Loss: 0.6933\n"
     ]
    },
    {
     "name": "stderr",
     "output_type": "stream",
     "text": [
      "Epoch 44/100: 100%|██████████| 240/240 [00:20<00:00, 11.83it/s, batch=200, loss=0.6878, lr=0.000458]\n"
     ]
    },
    {
     "name": "stdout",
     "output_type": "stream",
     "text": [
      "Training [44%] Loss: 0.6934\n"
     ]
    },
    {
     "name": "stderr",
     "output_type": "stream",
     "text": [
      "Epoch 45/100: 100%|██████████| 240/240 [00:21<00:00, 11.21it/s, batch=200, loss=0.6963, lr=0.000446]\n"
     ]
    },
    {
     "name": "stdout",
     "output_type": "stream",
     "text": [
      "Training [45%] Loss: 0.6934\n"
     ]
    },
    {
     "name": "stderr",
     "output_type": "stream",
     "text": [
      "Epoch 46/100: 100%|██████████| 240/240 [00:21<00:00, 10.96it/s, batch=200, loss=0.6977, lr=0.000435]\n"
     ]
    },
    {
     "name": "stdout",
     "output_type": "stream",
     "text": [
      "Training [46%] Loss: 0.6934\n"
     ]
    },
    {
     "name": "stderr",
     "output_type": "stream",
     "text": [
      "Epoch 47/100: 100%|██████████| 240/240 [00:20<00:00, 11.81it/s, batch=200, loss=0.6952, lr=0.000423]\n"
     ]
    },
    {
     "name": "stdout",
     "output_type": "stream",
     "text": [
      "Training [47%] Loss: 0.6931\n"
     ]
    },
    {
     "name": "stderr",
     "output_type": "stream",
     "text": [
      "Epoch 48/100: 100%|██████████| 240/240 [00:21<00:00, 11.40it/s, batch=200, loss=0.6868, lr=0.000411]\n"
     ]
    },
    {
     "name": "stdout",
     "output_type": "stream",
     "text": [
      "Training [48%] Loss: 0.6931\n"
     ]
    },
    {
     "name": "stderr",
     "output_type": "stream",
     "text": [
      "Epoch 49/100: 100%|██████████| 240/240 [00:23<00:00, 10.04it/s, batch=200, loss=0.6938, lr=0.000399]\n"
     ]
    },
    {
     "name": "stdout",
     "output_type": "stream",
     "text": [
      "Training [49%] Loss: 0.6931\n"
     ]
    },
    {
     "name": "stderr",
     "output_type": "stream",
     "text": [
      "Epoch 50/100: 100%|██████████| 240/240 [00:27<00:00,  8.86it/s, batch=200, loss=0.6910, lr=0.000386]\n"
     ]
    },
    {
     "name": "stdout",
     "output_type": "stream",
     "text": [
      "Training [50%] Loss: 0.6934\n"
     ]
    },
    {
     "name": "stderr",
     "output_type": "stream",
     "text": [
      "Epoch 51/100: 100%|██████████| 240/240 [00:23<00:00, 10.42it/s, batch=200, loss=0.6930, lr=0.000374]\n"
     ]
    },
    {
     "name": "stdout",
     "output_type": "stream",
     "text": [
      "Training [51%] Loss: 0.6933\n"
     ]
    },
    {
     "name": "stderr",
     "output_type": "stream",
     "text": [
      "Epoch 52/100: 100%|██████████| 240/240 [00:22<00:00, 10.71it/s, batch=200, loss=0.6933, lr=0.000362]\n"
     ]
    },
    {
     "name": "stdout",
     "output_type": "stream",
     "text": [
      "Training [52%] Loss: 0.6935\n"
     ]
    },
    {
     "name": "stderr",
     "output_type": "stream",
     "text": [
      "Epoch 53/100: 100%|██████████| 240/240 [00:22<00:00, 10.70it/s, batch=200, loss=0.6934, lr=0.000350]\n"
     ]
    },
    {
     "name": "stdout",
     "output_type": "stream",
     "text": [
      "Training [53%] Loss: 0.6932\n"
     ]
    },
    {
     "name": "stderr",
     "output_type": "stream",
     "text": [
      "Epoch 54/100: 100%|██████████| 240/240 [00:22<00:00, 10.60it/s, batch=200, loss=0.6924, lr=0.000338]\n"
     ]
    },
    {
     "name": "stdout",
     "output_type": "stream",
     "text": [
      "Training [54%] Loss: 0.6933\n"
     ]
    },
    {
     "name": "stderr",
     "output_type": "stream",
     "text": [
      "Epoch 55/100: 100%|██████████| 240/240 [00:23<00:00, 10.42it/s, batch=200, loss=0.6938, lr=0.000326]\n"
     ]
    },
    {
     "name": "stdout",
     "output_type": "stream",
     "text": [
      "Training [55%] Loss: 0.6933\n"
     ]
    },
    {
     "name": "stderr",
     "output_type": "stream",
     "text": [
      "Epoch 56/100: 100%|██████████| 240/240 [00:23<00:00, 10.14it/s, batch=200, loss=0.6921, lr=0.000315]\n"
     ]
    },
    {
     "name": "stdout",
     "output_type": "stream",
     "text": [
      "Training [56%] Loss: 0.6933\n"
     ]
    },
    {
     "name": "stderr",
     "output_type": "stream",
     "text": [
      "Epoch 57/100: 100%|██████████| 240/240 [00:21<00:00, 11.04it/s, batch=200, loss=0.6954, lr=0.000303]\n"
     ]
    },
    {
     "name": "stdout",
     "output_type": "stream",
     "text": [
      "Training [57%] Loss: 0.6932\n"
     ]
    },
    {
     "name": "stderr",
     "output_type": "stream",
     "text": [
      "Epoch 58/100: 100%|██████████| 240/240 [00:21<00:00, 11.09it/s, batch=200, loss=0.6932, lr=0.000291]\n"
     ]
    },
    {
     "name": "stdout",
     "output_type": "stream",
     "text": [
      "Training [58%] Loss: 0.6931\n"
     ]
    },
    {
     "name": "stderr",
     "output_type": "stream",
     "text": [
      "Epoch 59/100: 100%|██████████| 240/240 [00:20<00:00, 11.62it/s, batch=200, loss=0.6945, lr=0.000279]\n"
     ]
    },
    {
     "name": "stdout",
     "output_type": "stream",
     "text": [
      "Training [59%] Loss: 0.6932\n"
     ]
    },
    {
     "name": "stderr",
     "output_type": "stream",
     "text": [
      "Epoch 60/100: 100%|██████████| 240/240 [00:20<00:00, 11.57it/s, batch=200, loss=0.6983, lr=0.000268]\n"
     ]
    },
    {
     "name": "stdout",
     "output_type": "stream",
     "text": [
      "Training [60%] Loss: 0.6932\n"
     ]
    },
    {
     "name": "stderr",
     "output_type": "stream",
     "text": [
      "Epoch 61/100: 100%|██████████| 240/240 [00:21<00:00, 10.98it/s, batch=200, loss=0.6952, lr=0.000256]\n"
     ]
    },
    {
     "name": "stdout",
     "output_type": "stream",
     "text": [
      "Training [61%] Loss: 0.6932\n"
     ]
    },
    {
     "name": "stderr",
     "output_type": "stream",
     "text": [
      "Epoch 62/100: 100%|██████████| 240/240 [00:23<00:00, 10.20it/s, batch=200, loss=0.6922, lr=0.000245]\n"
     ]
    },
    {
     "name": "stdout",
     "output_type": "stream",
     "text": [
      "Training [62%] Loss: 0.6934\n"
     ]
    },
    {
     "name": "stderr",
     "output_type": "stream",
     "text": [
      "Epoch 63/100: 100%|██████████| 240/240 [00:22<00:00, 10.58it/s, batch=200, loss=0.6896, lr=0.000234]\n"
     ]
    },
    {
     "name": "stdout",
     "output_type": "stream",
     "text": [
      "Training [63%] Loss: 0.6931\n"
     ]
    },
    {
     "name": "stderr",
     "output_type": "stream",
     "text": [
      "Epoch 64/100: 100%|██████████| 240/240 [00:23<00:00, 10.06it/s, batch=200, loss=0.6882, lr=0.000223]\n"
     ]
    },
    {
     "name": "stdout",
     "output_type": "stream",
     "text": [
      "Training [64%] Loss: 0.6931\n"
     ]
    },
    {
     "name": "stderr",
     "output_type": "stream",
     "text": [
      "Epoch 65/100: 100%|██████████| 240/240 [00:22<00:00, 10.68it/s, batch=200, loss=0.6947, lr=0.000212]\n"
     ]
    },
    {
     "name": "stdout",
     "output_type": "stream",
     "text": [
      "Training [65%] Loss: 0.6931\n"
     ]
    },
    {
     "name": "stderr",
     "output_type": "stream",
     "text": [
      "Epoch 66/100: 100%|██████████| 240/240 [00:20<00:00, 11.63it/s, batch=200, loss=0.6928, lr=0.000201]\n"
     ]
    },
    {
     "name": "stdout",
     "output_type": "stream",
     "text": [
      "Training [66%] Loss: 0.6933\n"
     ]
    },
    {
     "name": "stderr",
     "output_type": "stream",
     "text": [
      "Epoch 67/100: 100%|██████████| 240/240 [00:21<00:00, 11.40it/s, batch=200, loss=0.6918, lr=0.000191]\n"
     ]
    },
    {
     "name": "stdout",
     "output_type": "stream",
     "text": [
      "Training [67%] Loss: 0.6932\n"
     ]
    },
    {
     "name": "stderr",
     "output_type": "stream",
     "text": [
      "Epoch 68/100: 100%|██████████| 240/240 [00:22<00:00, 10.74it/s, batch=200, loss=0.6934, lr=0.000181]\n"
     ]
    },
    {
     "name": "stdout",
     "output_type": "stream",
     "text": [
      "Training [68%] Loss: 0.6932\n"
     ]
    },
    {
     "name": "stderr",
     "output_type": "stream",
     "text": [
      "Epoch 69/100: 100%|██████████| 240/240 [00:22<00:00, 10.87it/s, batch=200, loss=0.6927, lr=0.000171]\n"
     ]
    },
    {
     "name": "stdout",
     "output_type": "stream",
     "text": [
      "Training [69%] Loss: 0.6933\n"
     ]
    },
    {
     "name": "stderr",
     "output_type": "stream",
     "text": [
      "Epoch 70/100: 100%|██████████| 240/240 [00:23<00:00, 10.33it/s, batch=200, loss=0.6949, lr=0.000161]\n"
     ]
    },
    {
     "name": "stdout",
     "output_type": "stream",
     "text": [
      "Training [70%] Loss: 0.6933\n"
     ]
    },
    {
     "name": "stderr",
     "output_type": "stream",
     "text": [
      "Epoch 71/100: 100%|██████████| 240/240 [00:22<00:00, 10.82it/s, batch=200, loss=0.6937, lr=0.000151]\n"
     ]
    },
    {
     "name": "stdout",
     "output_type": "stream",
     "text": [
      "Training [71%] Loss: 0.6932\n"
     ]
    },
    {
     "name": "stderr",
     "output_type": "stream",
     "text": [
      "Epoch 72/100: 100%|██████████| 240/240 [00:21<00:00, 11.06it/s, batch=200, loss=0.6948, lr=0.000142]\n"
     ]
    },
    {
     "name": "stdout",
     "output_type": "stream",
     "text": [
      "Training [72%] Loss: 0.6932\n"
     ]
    },
    {
     "name": "stderr",
     "output_type": "stream",
     "text": [
      "Epoch 73/100: 100%|██████████| 240/240 [00:21<00:00, 11.20it/s, batch=200, loss=0.6919, lr=0.000132]\n"
     ]
    },
    {
     "name": "stdout",
     "output_type": "stream",
     "text": [
      "Training [73%] Loss: 0.6932\n"
     ]
    },
    {
     "name": "stderr",
     "output_type": "stream",
     "text": [
      "Epoch 74/100: 100%|██████████| 240/240 [00:21<00:00, 10.91it/s, batch=200, loss=0.6967, lr=0.000123]\n"
     ]
    },
    {
     "name": "stdout",
     "output_type": "stream",
     "text": [
      "Training [74%] Loss: 0.6933\n"
     ]
    },
    {
     "name": "stderr",
     "output_type": "stream",
     "text": [
      "Epoch 75/100: 100%|██████████| 240/240 [00:21<00:00, 11.26it/s, batch=200, loss=0.6922, lr=0.000115]\n"
     ]
    },
    {
     "name": "stdout",
     "output_type": "stream",
     "text": [
      "Training [75%] Loss: 0.6931\n"
     ]
    },
    {
     "name": "stderr",
     "output_type": "stream",
     "text": [
      "Epoch 76/100: 100%|██████████| 240/240 [00:22<00:00, 10.45it/s, batch=200, loss=0.6894, lr=0.000106]\n"
     ]
    },
    {
     "name": "stdout",
     "output_type": "stream",
     "text": [
      "Training [76%] Loss: 0.6931\n"
     ]
    },
    {
     "name": "stderr",
     "output_type": "stream",
     "text": [
      "Epoch 77/100: 100%|██████████| 240/240 [00:22<00:00, 10.61it/s, batch=200, loss=0.6919, lr=0.000098]\n"
     ]
    },
    {
     "name": "stdout",
     "output_type": "stream",
     "text": [
      "Training [77%] Loss: 0.6932\n"
     ]
    },
    {
     "name": "stderr",
     "output_type": "stream",
     "text": [
      "Epoch 78/100: 100%|██████████| 240/240 [00:20<00:00, 11.45it/s, batch=200, loss=0.6966, lr=0.000090]\n"
     ]
    },
    {
     "name": "stdout",
     "output_type": "stream",
     "text": [
      "Training [78%] Loss: 0.6931\n"
     ]
    },
    {
     "name": "stderr",
     "output_type": "stream",
     "text": [
      "Epoch 79/100: 100%|██████████| 240/240 [00:22<00:00, 10.50it/s, batch=200, loss=0.6930, lr=0.000083]\n"
     ]
    },
    {
     "name": "stdout",
     "output_type": "stream",
     "text": [
      "Training [79%] Loss: 0.6930\n"
     ]
    },
    {
     "name": "stderr",
     "output_type": "stream",
     "text": [
      "Epoch 80/100: 100%|██████████| 240/240 [00:22<00:00, 10.52it/s, batch=200, loss=0.6974, lr=0.000075]\n"
     ]
    },
    {
     "name": "stdout",
     "output_type": "stream",
     "text": [
      "Training [80%] Loss: 0.6931\n"
     ]
    },
    {
     "name": "stderr",
     "output_type": "stream",
     "text": [
      "Epoch 81/100: 100%|██████████| 240/240 [00:22<00:00, 10.79it/s, batch=200, loss=0.6950, lr=0.000068]\n"
     ]
    },
    {
     "name": "stdout",
     "output_type": "stream",
     "text": [
      "Training [81%] Loss: 0.6931\n"
     ]
    },
    {
     "name": "stderr",
     "output_type": "stream",
     "text": [
      "Epoch 82/100: 100%|██████████| 240/240 [00:21<00:00, 11.35it/s, batch=200, loss=0.6984, lr=0.000062]\n"
     ]
    },
    {
     "name": "stdout",
     "output_type": "stream",
     "text": [
      "Training [82%] Loss: 0.6930\n"
     ]
    },
    {
     "name": "stderr",
     "output_type": "stream",
     "text": [
      "Epoch 83/100: 100%|██████████| 240/240 [00:19<00:00, 12.01it/s, batch=200, loss=0.6945, lr=0.000055]\n"
     ]
    },
    {
     "name": "stdout",
     "output_type": "stream",
     "text": [
      "Training [83%] Loss: 0.6932\n"
     ]
    },
    {
     "name": "stderr",
     "output_type": "stream",
     "text": [
      "Epoch 84/100: 100%|██████████| 240/240 [00:20<00:00, 11.58it/s, batch=200, loss=0.6939, lr=0.000049]\n"
     ]
    },
    {
     "name": "stdout",
     "output_type": "stream",
     "text": [
      "Training [84%] Loss: 0.6931\n"
     ]
    },
    {
     "name": "stderr",
     "output_type": "stream",
     "text": [
      "Epoch 85/100: 100%|██████████| 240/240 [00:22<00:00, 10.79it/s, batch=200, loss=0.6939, lr=0.000044]\n"
     ]
    },
    {
     "name": "stdout",
     "output_type": "stream",
     "text": [
      "Training [85%] Loss: 0.6931\n"
     ]
    },
    {
     "name": "stderr",
     "output_type": "stream",
     "text": [
      "Epoch 86/100: 100%|██████████| 240/240 [00:23<00:00, 10.32it/s, batch=200, loss=0.6947, lr=0.000038]\n"
     ]
    },
    {
     "name": "stdout",
     "output_type": "stream",
     "text": [
      "Training [86%] Loss: 0.6931\n"
     ]
    },
    {
     "name": "stderr",
     "output_type": "stream",
     "text": [
      "Epoch 87/100: 100%|██████████| 240/240 [00:20<00:00, 11.77it/s, batch=200, loss=0.6920, lr=0.000033]\n"
     ]
    },
    {
     "name": "stdout",
     "output_type": "stream",
     "text": [
      "Training [87%] Loss: 0.6931\n"
     ]
    },
    {
     "name": "stderr",
     "output_type": "stream",
     "text": [
      "Epoch 88/100: 100%|██████████| 240/240 [00:20<00:00, 11.44it/s, batch=200, loss=0.6952, lr=0.000029]\n"
     ]
    },
    {
     "name": "stdout",
     "output_type": "stream",
     "text": [
      "Training [88%] Loss: 0.6931\n"
     ]
    },
    {
     "name": "stderr",
     "output_type": "stream",
     "text": [
      "Epoch 89/100: 100%|██████████| 240/240 [00:21<00:00, 11.37it/s, batch=200, loss=0.6922, lr=0.000024]\n"
     ]
    },
    {
     "name": "stdout",
     "output_type": "stream",
     "text": [
      "Training [89%] Loss: 0.6930\n"
     ]
    },
    {
     "name": "stderr",
     "output_type": "stream",
     "text": [
      "Epoch 90/100: 100%|██████████| 240/240 [00:21<00:00, 11.34it/s, batch=200, loss=0.6936, lr=0.000020]\n"
     ]
    },
    {
     "name": "stdout",
     "output_type": "stream",
     "text": [
      "Training [90%] Loss: 0.6930\n"
     ]
    },
    {
     "name": "stderr",
     "output_type": "stream",
     "text": [
      "Epoch 91/100: 100%|██████████| 240/240 [00:21<00:00, 11.03it/s, batch=200, loss=0.6936, lr=0.000017]\n"
     ]
    },
    {
     "name": "stdout",
     "output_type": "stream",
     "text": [
      "Training [91%] Loss: 0.6928\n"
     ]
    },
    {
     "name": "stderr",
     "output_type": "stream",
     "text": [
      "Epoch 92/100: 100%|██████████| 240/240 [00:21<00:00, 11.07it/s, batch=200, loss=0.6954, lr=0.000014]\n"
     ]
    },
    {
     "name": "stdout",
     "output_type": "stream",
     "text": [
      "Training [92%] Loss: 0.6931\n"
     ]
    },
    {
     "name": "stderr",
     "output_type": "stream",
     "text": [
      "Epoch 93/100: 100%|██████████| 240/240 [00:20<00:00, 11.44it/s, batch=200, loss=0.6955, lr=0.000011]\n"
     ]
    },
    {
     "name": "stdout",
     "output_type": "stream",
     "text": [
      "Training [93%] Loss: 0.6931\n"
     ]
    },
    {
     "name": "stderr",
     "output_type": "stream",
     "text": [
      "Epoch 94/100: 100%|██████████| 240/240 [00:21<00:00, 11.14it/s, batch=200, loss=0.6871, lr=0.000008]\n"
     ]
    },
    {
     "name": "stdout",
     "output_type": "stream",
     "text": [
      "Training [94%] Loss: 0.6932\n"
     ]
    },
    {
     "name": "stderr",
     "output_type": "stream",
     "text": [
      "Epoch 95/100: 100%|██████████| 240/240 [00:20<00:00, 11.44it/s, batch=200, loss=0.6931, lr=0.000006]\n"
     ]
    },
    {
     "name": "stdout",
     "output_type": "stream",
     "text": [
      "Training [95%] Loss: 0.6931\n"
     ]
    },
    {
     "name": "stderr",
     "output_type": "stream",
     "text": [
      "Epoch 96/100: 100%|██████████| 240/240 [00:22<00:00, 10.78it/s, batch=200, loss=0.6931, lr=0.000004]\n"
     ]
    },
    {
     "name": "stdout",
     "output_type": "stream",
     "text": [
      "Training [96%] Loss: 0.6930\n"
     ]
    },
    {
     "name": "stderr",
     "output_type": "stream",
     "text": [
      "Epoch 97/100: 100%|██████████| 240/240 [00:20<00:00, 12.00it/s, batch=200, loss=0.6955, lr=0.000003]\n"
     ]
    },
    {
     "name": "stdout",
     "output_type": "stream",
     "text": [
      "Training [97%] Loss: 0.6930\n"
     ]
    },
    {
     "name": "stderr",
     "output_type": "stream",
     "text": [
      "Epoch 98/100: 100%|██████████| 240/240 [00:19<00:00, 12.50it/s, batch=200, loss=0.6955, lr=0.000002]\n"
     ]
    },
    {
     "name": "stdout",
     "output_type": "stream",
     "text": [
      "Training [98%] Loss: 0.6932\n"
     ]
    },
    {
     "name": "stderr",
     "output_type": "stream",
     "text": [
      "Epoch 99/100: 100%|██████████| 240/240 [00:21<00:00, 11.16it/s, batch=200, loss=0.6944, lr=0.000001]\n"
     ]
    },
    {
     "name": "stdout",
     "output_type": "stream",
     "text": [
      "Training [99%] Loss: 0.6929\n"
     ]
    },
    {
     "name": "stderr",
     "output_type": "stream",
     "text": [
      "Epoch 100/100: 100%|██████████| 240/240 [00:22<00:00, 10.84it/s, batch=200, loss=0.6936, lr=0.000001]\n"
     ]
    },
    {
     "name": "stdout",
     "output_type": "stream",
     "text": [
      "Training [100%] Loss: 0.6932\n",
      "Starting inference on cuda...\n"
     ]
    },
    {
     "name": "stderr",
     "output_type": "stream",
     "text": [
      "                                                            \r"
     ]
    },
    {
     "name": "stdout",
     "output_type": "stream",
     "text": [
      "total samples: 10000\n",
      "target samples: 2000\n",
      "accuracy (labels 0/6 only): 0.5090\n",
      "Iteration 4: Result = 0.5090\n",
      "Starting training on cuda...\n"
     ]
    },
    {
     "name": "stderr",
     "output_type": "stream",
     "text": [
      "Epoch 1/100: 100%|██████████| 240/240 [00:18<00:00, 12.71it/s, batch=200, loss=0.6958, lr=0.000614]\n"
     ]
    },
    {
     "name": "stdout",
     "output_type": "stream",
     "text": [
      "Training [1%] Loss: 0.6934\n"
     ]
    },
    {
     "name": "stderr",
     "output_type": "stream",
     "text": [
      "Epoch 2/100: 100%|██████████| 240/240 [00:19<00:00, 12.42it/s, batch=200, loss=0.6952, lr=0.000614]\n"
     ]
    },
    {
     "name": "stdout",
     "output_type": "stream",
     "text": [
      "Training [2%] Loss: 0.6933\n"
     ]
    },
    {
     "name": "stderr",
     "output_type": "stream",
     "text": [
      "Epoch 3/100: 100%|██████████| 240/240 [00:19<00:00, 12.37it/s, batch=200, loss=0.6857, lr=0.000613]\n"
     ]
    },
    {
     "name": "stdout",
     "output_type": "stream",
     "text": [
      "Training [3%] Loss: 0.6934\n"
     ]
    },
    {
     "name": "stderr",
     "output_type": "stream",
     "text": [
      "Epoch 4/100: 100%|██████████| 240/240 [00:20<00:00, 11.77it/s, batch=200, loss=0.6924, lr=0.000612]\n"
     ]
    },
    {
     "name": "stdout",
     "output_type": "stream",
     "text": [
      "Training [4%] Loss: 0.6933\n"
     ]
    },
    {
     "name": "stderr",
     "output_type": "stream",
     "text": [
      "Epoch 5/100: 100%|██████████| 240/240 [00:22<00:00, 10.56it/s, batch=200, loss=0.6951, lr=0.000611]\n"
     ]
    },
    {
     "name": "stdout",
     "output_type": "stream",
     "text": [
      "Training [5%] Loss: 0.6935\n"
     ]
    },
    {
     "name": "stderr",
     "output_type": "stream",
     "text": [
      "Epoch 6/100: 100%|██████████| 240/240 [00:22<00:00, 10.80it/s, batch=200, loss=0.6939, lr=0.000609]\n"
     ]
    },
    {
     "name": "stdout",
     "output_type": "stream",
     "text": [
      "Training [6%] Loss: 0.6932\n"
     ]
    },
    {
     "name": "stderr",
     "output_type": "stream",
     "text": [
      "Epoch 7/100: 100%|██████████| 240/240 [00:21<00:00, 11.13it/s, batch=200, loss=0.6944, lr=0.000607]\n"
     ]
    },
    {
     "name": "stdout",
     "output_type": "stream",
     "text": [
      "Training [7%] Loss: 0.6935\n"
     ]
    },
    {
     "name": "stderr",
     "output_type": "stream",
     "text": [
      "Epoch 8/100: 100%|██████████| 240/240 [00:21<00:00, 11.00it/s, batch=200, loss=0.6972, lr=0.000605]\n"
     ]
    },
    {
     "name": "stdout",
     "output_type": "stream",
     "text": [
      "Training [8%] Loss: 0.6932\n"
     ]
    },
    {
     "name": "stderr",
     "output_type": "stream",
     "text": [
      "Epoch 9/100: 100%|██████████| 240/240 [00:22<00:00, 10.79it/s, batch=200, loss=0.6875, lr=0.000603]\n"
     ]
    },
    {
     "name": "stdout",
     "output_type": "stream",
     "text": [
      "Training [9%] Loss: 0.6930\n"
     ]
    },
    {
     "name": "stderr",
     "output_type": "stream",
     "text": [
      "Epoch 10/100: 100%|██████████| 240/240 [00:18<00:00, 12.65it/s, batch=200, loss=0.6932, lr=0.000600]\n"
     ]
    },
    {
     "name": "stdout",
     "output_type": "stream",
     "text": [
      "Training [10%] Loss: 0.6930\n"
     ]
    },
    {
     "name": "stderr",
     "output_type": "stream",
     "text": [
      "Epoch 11/100: 100%|██████████| 240/240 [00:19<00:00, 12.58it/s, batch=200, loss=0.6917, lr=0.000597]\n"
     ]
    },
    {
     "name": "stdout",
     "output_type": "stream",
     "text": [
      "Training [11%] Loss: 0.6934\n"
     ]
    },
    {
     "name": "stderr",
     "output_type": "stream",
     "text": [
      "Epoch 12/100: 100%|██████████| 240/240 [00:18<00:00, 12.66it/s, batch=200, loss=0.6919, lr=0.000593]\n"
     ]
    },
    {
     "name": "stdout",
     "output_type": "stream",
     "text": [
      "Training [12%] Loss: 0.6934\n"
     ]
    },
    {
     "name": "stderr",
     "output_type": "stream",
     "text": [
      "Epoch 13/100: 100%|██████████| 240/240 [00:19<00:00, 12.53it/s, batch=200, loss=0.6924, lr=0.000590]\n"
     ]
    },
    {
     "name": "stdout",
     "output_type": "stream",
     "text": [
      "Training [13%] Loss: 0.6931\n"
     ]
    },
    {
     "name": "stderr",
     "output_type": "stream",
     "text": [
      "Epoch 14/100: 100%|██████████| 240/240 [00:18<00:00, 12.73it/s, batch=200, loss=0.6888, lr=0.000586]\n"
     ]
    },
    {
     "name": "stdout",
     "output_type": "stream",
     "text": [
      "Training [14%] Loss: 0.6935\n"
     ]
    },
    {
     "name": "stderr",
     "output_type": "stream",
     "text": [
      "Epoch 15/100: 100%|██████████| 240/240 [00:18<00:00, 12.64it/s, batch=200, loss=0.6965, lr=0.000582]\n"
     ]
    },
    {
     "name": "stdout",
     "output_type": "stream",
     "text": [
      "Training [15%] Loss: 0.6933\n"
     ]
    },
    {
     "name": "stderr",
     "output_type": "stream",
     "text": [
      "Epoch 16/100: 100%|██████████| 240/240 [00:18<00:00, 12.64it/s, batch=200, loss=0.6890, lr=0.000577]\n"
     ]
    },
    {
     "name": "stdout",
     "output_type": "stream",
     "text": [
      "Training [16%] Loss: 0.6933\n"
     ]
    },
    {
     "name": "stderr",
     "output_type": "stream",
     "text": [
      "Epoch 17/100: 100%|██████████| 240/240 [00:19<00:00, 12.52it/s, batch=200, loss=0.6893, lr=0.000572]\n"
     ]
    },
    {
     "name": "stdout",
     "output_type": "stream",
     "text": [
      "Training [17%] Loss: 0.6935\n"
     ]
    },
    {
     "name": "stderr",
     "output_type": "stream",
     "text": [
      "Epoch 18/100: 100%|██████████| 240/240 [00:19<00:00, 12.56it/s, batch=200, loss=0.6877, lr=0.000567]\n"
     ]
    },
    {
     "name": "stdout",
     "output_type": "stream",
     "text": [
      "Training [18%] Loss: 0.6931\n"
     ]
    },
    {
     "name": "stderr",
     "output_type": "stream",
     "text": [
      "Epoch 19/100: 100%|██████████| 240/240 [00:18<00:00, 12.70it/s, batch=200, loss=0.6932, lr=0.000562]\n"
     ]
    },
    {
     "name": "stdout",
     "output_type": "stream",
     "text": [
      "Training [19%] Loss: 0.6933\n"
     ]
    },
    {
     "name": "stderr",
     "output_type": "stream",
     "text": [
      "Epoch 20/100: 100%|██████████| 240/240 [00:22<00:00, 10.89it/s, batch=200, loss=0.6941, lr=0.000557]\n"
     ]
    },
    {
     "name": "stdout",
     "output_type": "stream",
     "text": [
      "Training [20%] Loss: 0.6934\n"
     ]
    },
    {
     "name": "stderr",
     "output_type": "stream",
     "text": [
      "Epoch 21/100: 100%|██████████| 240/240 [00:22<00:00, 10.59it/s, batch=200, loss=0.6934, lr=0.000551]\n"
     ]
    },
    {
     "name": "stdout",
     "output_type": "stream",
     "text": [
      "Training [21%] Loss: 0.6936\n"
     ]
    },
    {
     "name": "stderr",
     "output_type": "stream",
     "text": [
      "Epoch 22/100: 100%|██████████| 240/240 [00:21<00:00, 11.37it/s, batch=200, loss=0.6923, lr=0.000545]\n"
     ]
    },
    {
     "name": "stdout",
     "output_type": "stream",
     "text": [
      "Training [22%] Loss: 0.6934\n"
     ]
    },
    {
     "name": "stderr",
     "output_type": "stream",
     "text": [
      "Epoch 23/100: 100%|██████████| 240/240 [00:21<00:00, 11.30it/s, batch=200, loss=0.6919, lr=0.000539]\n"
     ]
    },
    {
     "name": "stdout",
     "output_type": "stream",
     "text": [
      "Training [23%] Loss: 0.6933\n"
     ]
    },
    {
     "name": "stderr",
     "output_type": "stream",
     "text": [
      "Epoch 24/100: 100%|██████████| 240/240 [00:19<00:00, 12.39it/s, batch=200, loss=0.6998, lr=0.000532]\n"
     ]
    },
    {
     "name": "stdout",
     "output_type": "stream",
     "text": [
      "Training [24%] Loss: 0.6931\n"
     ]
    },
    {
     "name": "stderr",
     "output_type": "stream",
     "text": [
      "Epoch 25/100: 100%|██████████| 240/240 [00:21<00:00, 11.24it/s, batch=200, loss=0.6949, lr=0.000526]\n"
     ]
    },
    {
     "name": "stdout",
     "output_type": "stream",
     "text": [
      "Training [25%] Loss: 0.6933\n"
     ]
    },
    {
     "name": "stderr",
     "output_type": "stream",
     "text": [
      "Epoch 26/100: 100%|██████████| 240/240 [00:21<00:00, 11.21it/s, batch=200, loss=0.6920, lr=0.000519]\n"
     ]
    },
    {
     "name": "stdout",
     "output_type": "stream",
     "text": [
      "Training [26%] Loss: 0.6935\n"
     ]
    },
    {
     "name": "stderr",
     "output_type": "stream",
     "text": [
      "Epoch 27/100: 100%|██████████| 240/240 [00:20<00:00, 11.61it/s, batch=200, loss=0.6948, lr=0.000512]\n"
     ]
    },
    {
     "name": "stdout",
     "output_type": "stream",
     "text": [
      "Training [27%] Loss: 0.6932\n"
     ]
    },
    {
     "name": "stderr",
     "output_type": "stream",
     "text": [
      "Epoch 28/100: 100%|██████████| 240/240 [00:19<00:00, 12.49it/s, batch=200, loss=0.6927, lr=0.000504]\n"
     ]
    },
    {
     "name": "stdout",
     "output_type": "stream",
     "text": [
      "Training [28%] Loss: 0.6935\n"
     ]
    },
    {
     "name": "stderr",
     "output_type": "stream",
     "text": [
      "Epoch 29/100: 100%|██████████| 240/240 [00:18<00:00, 12.67it/s, batch=200, loss=0.6962, lr=0.000497]\n"
     ]
    },
    {
     "name": "stdout",
     "output_type": "stream",
     "text": [
      "Training [29%] Loss: 0.6933\n"
     ]
    },
    {
     "name": "stderr",
     "output_type": "stream",
     "text": [
      "Epoch 30/100: 100%|██████████| 240/240 [00:19<00:00, 12.61it/s, batch=200, loss=0.6952, lr=0.000489]\n"
     ]
    },
    {
     "name": "stdout",
     "output_type": "stream",
     "text": [
      "Training [30%] Loss: 0.6933\n"
     ]
    },
    {
     "name": "stderr",
     "output_type": "stream",
     "text": [
      "Epoch 31/100: 100%|██████████| 240/240 [00:19<00:00, 12.61it/s, batch=200, loss=0.6931, lr=0.000481]\n"
     ]
    },
    {
     "name": "stdout",
     "output_type": "stream",
     "text": [
      "Training [31%] Loss: 0.6933\n"
     ]
    },
    {
     "name": "stderr",
     "output_type": "stream",
     "text": [
      "Epoch 32/100: 100%|██████████| 240/240 [00:18<00:00, 12.73it/s, batch=200, loss=0.6908, lr=0.000473]\n"
     ]
    },
    {
     "name": "stdout",
     "output_type": "stream",
     "text": [
      "Training [32%] Loss: 0.6931\n"
     ]
    },
    {
     "name": "stderr",
     "output_type": "stream",
     "text": [
      "Epoch 33/100: 100%|██████████| 240/240 [00:19<00:00, 12.31it/s, batch=200, loss=0.6908, lr=0.000465]\n"
     ]
    },
    {
     "name": "stdout",
     "output_type": "stream",
     "text": [
      "Training [33%] Loss: 0.6935\n"
     ]
    },
    {
     "name": "stderr",
     "output_type": "stream",
     "text": [
      "Epoch 34/100: 100%|██████████| 240/240 [00:18<00:00, 12.74it/s, batch=200, loss=0.6937, lr=0.000457]\n"
     ]
    },
    {
     "name": "stdout",
     "output_type": "stream",
     "text": [
      "Training [34%] Loss: 0.6932\n"
     ]
    },
    {
     "name": "stderr",
     "output_type": "stream",
     "text": [
      "Epoch 35/100: 100%|██████████| 240/240 [00:19<00:00, 12.47it/s, batch=200, loss=0.6902, lr=0.000448]\n"
     ]
    },
    {
     "name": "stdout",
     "output_type": "stream",
     "text": [
      "Training [35%] Loss: 0.6933\n"
     ]
    },
    {
     "name": "stderr",
     "output_type": "stream",
     "text": [
      "Epoch 36/100: 100%|██████████| 240/240 [00:18<00:00, 12.66it/s, batch=200, loss=0.6945, lr=0.000440]\n"
     ]
    },
    {
     "name": "stdout",
     "output_type": "stream",
     "text": [
      "Training [36%] Loss: 0.6935\n"
     ]
    },
    {
     "name": "stderr",
     "output_type": "stream",
     "text": [
      "Epoch 37/100: 100%|██████████| 240/240 [00:19<00:00, 12.50it/s, batch=200, loss=0.6947, lr=0.000431]\n"
     ]
    },
    {
     "name": "stdout",
     "output_type": "stream",
     "text": [
      "Training [37%] Loss: 0.6933\n"
     ]
    },
    {
     "name": "stderr",
     "output_type": "stream",
     "text": [
      "Epoch 38/100: 100%|██████████| 240/240 [00:19<00:00, 12.61it/s, batch=200, loss=0.6931, lr=0.000422]\n"
     ]
    },
    {
     "name": "stdout",
     "output_type": "stream",
     "text": [
      "Training [38%] Loss: 0.6933\n"
     ]
    },
    {
     "name": "stderr",
     "output_type": "stream",
     "text": [
      "Epoch 39/100: 100%|██████████| 240/240 [00:19<00:00, 12.60it/s, batch=200, loss=0.6922, lr=0.000413]\n"
     ]
    },
    {
     "name": "stdout",
     "output_type": "stream",
     "text": [
      "Training [39%] Loss: 0.6933\n"
     ]
    },
    {
     "name": "stderr",
     "output_type": "stream",
     "text": [
      "Epoch 40/100: 100%|██████████| 240/240 [00:19<00:00, 12.55it/s, batch=200, loss=0.6925, lr=0.000404]\n"
     ]
    },
    {
     "name": "stdout",
     "output_type": "stream",
     "text": [
      "Training [40%] Loss: 0.6931\n"
     ]
    },
    {
     "name": "stderr",
     "output_type": "stream",
     "text": [
      "Epoch 41/100: 100%|██████████| 240/240 [00:19<00:00, 12.58it/s, batch=200, loss=0.6944, lr=0.000395]\n"
     ]
    },
    {
     "name": "stdout",
     "output_type": "stream",
     "text": [
      "Training [41%] Loss: 0.6932\n"
     ]
    },
    {
     "name": "stderr",
     "output_type": "stream",
     "text": [
      "Epoch 42/100: 100%|██████████| 240/240 [00:19<00:00, 12.51it/s, batch=200, loss=0.6921, lr=0.000385]\n"
     ]
    },
    {
     "name": "stdout",
     "output_type": "stream",
     "text": [
      "Training [42%] Loss: 0.6934\n"
     ]
    },
    {
     "name": "stderr",
     "output_type": "stream",
     "text": [
      "Epoch 43/100: 100%|██████████| 240/240 [00:18<00:00, 12.86it/s, batch=200, loss=0.6949, lr=0.000376]\n"
     ]
    },
    {
     "name": "stdout",
     "output_type": "stream",
     "text": [
      "Training [43%] Loss: 0.6933\n"
     ]
    },
    {
     "name": "stderr",
     "output_type": "stream",
     "text": [
      "Epoch 44/100: 100%|██████████| 240/240 [00:18<00:00, 12.70it/s, batch=200, loss=0.6920, lr=0.000367]\n"
     ]
    },
    {
     "name": "stdout",
     "output_type": "stream",
     "text": [
      "Training [44%] Loss: 0.6931\n"
     ]
    },
    {
     "name": "stderr",
     "output_type": "stream",
     "text": [
      "Epoch 45/100: 100%|██████████| 240/240 [00:18<00:00, 12.63it/s, batch=200, loss=0.6950, lr=0.000357]\n"
     ]
    },
    {
     "name": "stdout",
     "output_type": "stream",
     "text": [
      "Training [45%] Loss: 0.6934\n"
     ]
    },
    {
     "name": "stderr",
     "output_type": "stream",
     "text": [
      "Epoch 46/100: 100%|██████████| 240/240 [00:18<00:00, 12.65it/s, batch=200, loss=0.6961, lr=0.000348]\n"
     ]
    },
    {
     "name": "stdout",
     "output_type": "stream",
     "text": [
      "Training [46%] Loss: 0.6932\n"
     ]
    },
    {
     "name": "stderr",
     "output_type": "stream",
     "text": [
      "Epoch 47/100: 100%|██████████| 240/240 [00:19<00:00, 12.59it/s, batch=200, loss=0.6983, lr=0.000338]\n"
     ]
    },
    {
     "name": "stdout",
     "output_type": "stream",
     "text": [
      "Training [47%] Loss: 0.6933\n"
     ]
    },
    {
     "name": "stderr",
     "output_type": "stream",
     "text": [
      "Epoch 48/100: 100%|██████████| 240/240 [00:18<00:00, 12.80it/s, batch=200, loss=0.6962, lr=0.000329]\n"
     ]
    },
    {
     "name": "stdout",
     "output_type": "stream",
     "text": [
      "Training [48%] Loss: 0.6932\n"
     ]
    },
    {
     "name": "stderr",
     "output_type": "stream",
     "text": [
      "Epoch 49/100: 100%|██████████| 240/240 [00:20<00:00, 11.77it/s, batch=200, loss=0.6923, lr=0.000319]\n"
     ]
    },
    {
     "name": "stdout",
     "output_type": "stream",
     "text": [
      "Training [49%] Loss: 0.6934\n"
     ]
    },
    {
     "name": "stderr",
     "output_type": "stream",
     "text": [
      "Epoch 50/100: 100%|██████████| 240/240 [00:20<00:00, 11.54it/s, batch=200, loss=0.6947, lr=0.000309]\n"
     ]
    },
    {
     "name": "stdout",
     "output_type": "stream",
     "text": [
      "Training [50%] Loss: 0.6931\n"
     ]
    },
    {
     "name": "stderr",
     "output_type": "stream",
     "text": [
      "Epoch 51/100: 100%|██████████| 240/240 [00:20<00:00, 11.98it/s, batch=200, loss=0.6933, lr=0.000300]\n"
     ]
    },
    {
     "name": "stdout",
     "output_type": "stream",
     "text": [
      "Training [51%] Loss: 0.6933\n"
     ]
    },
    {
     "name": "stderr",
     "output_type": "stream",
     "text": [
      "Epoch 52/100: 100%|██████████| 240/240 [00:21<00:00, 11.27it/s, batch=200, loss=0.6922, lr=0.000290]\n"
     ]
    },
    {
     "name": "stdout",
     "output_type": "stream",
     "text": [
      "Training [52%] Loss: 0.6933\n"
     ]
    },
    {
     "name": "stderr",
     "output_type": "stream",
     "text": [
      "Epoch 53/100: 100%|██████████| 240/240 [00:19<00:00, 12.22it/s, batch=200, loss=0.6951, lr=0.000280]\n"
     ]
    },
    {
     "name": "stdout",
     "output_type": "stream",
     "text": [
      "Training [53%] Loss: 0.6932\n"
     ]
    },
    {
     "name": "stderr",
     "output_type": "stream",
     "text": [
      "Epoch 54/100: 100%|██████████| 240/240 [00:20<00:00, 11.95it/s, batch=200, loss=0.6969, lr=0.000271]\n"
     ]
    },
    {
     "name": "stdout",
     "output_type": "stream",
     "text": [
      "Training [54%] Loss: 0.6930\n"
     ]
    },
    {
     "name": "stderr",
     "output_type": "stream",
     "text": [
      "Epoch 55/100: 100%|██████████| 240/240 [00:19<00:00, 12.48it/s, batch=200, loss=0.6941, lr=0.000261]\n"
     ]
    },
    {
     "name": "stdout",
     "output_type": "stream",
     "text": [
      "Training [55%] Loss: 0.6934\n"
     ]
    },
    {
     "name": "stderr",
     "output_type": "stream",
     "text": [
      "Epoch 56/100: 100%|██████████| 240/240 [00:19<00:00, 12.46it/s, batch=200, loss=0.6943, lr=0.000252]\n"
     ]
    },
    {
     "name": "stdout",
     "output_type": "stream",
     "text": [
      "Training [56%] Loss: 0.6932\n"
     ]
    },
    {
     "name": "stderr",
     "output_type": "stream",
     "text": [
      "Epoch 57/100: 100%|██████████| 240/240 [00:19<00:00, 12.55it/s, batch=200, loss=0.6925, lr=0.000242]\n"
     ]
    },
    {
     "name": "stdout",
     "output_type": "stream",
     "text": [
      "Training [57%] Loss: 0.6934\n"
     ]
    },
    {
     "name": "stderr",
     "output_type": "stream",
     "text": [
      "Epoch 58/100: 100%|██████████| 240/240 [00:18<00:00, 12.73it/s, batch=200, loss=0.6887, lr=0.000233]\n"
     ]
    },
    {
     "name": "stdout",
     "output_type": "stream",
     "text": [
      "Training [58%] Loss: 0.6929\n"
     ]
    },
    {
     "name": "stderr",
     "output_type": "stream",
     "text": [
      "Epoch 59/100: 100%|██████████| 240/240 [00:19<00:00, 12.52it/s, batch=200, loss=0.6920, lr=0.000224]\n"
     ]
    },
    {
     "name": "stdout",
     "output_type": "stream",
     "text": [
      "Training [59%] Loss: 0.6934\n"
     ]
    },
    {
     "name": "stderr",
     "output_type": "stream",
     "text": [
      "Epoch 60/100: 100%|██████████| 240/240 [00:18<00:00, 12.73it/s, batch=200, loss=0.6894, lr=0.000214]\n"
     ]
    },
    {
     "name": "stdout",
     "output_type": "stream",
     "text": [
      "Training [60%] Loss: 0.6931\n"
     ]
    },
    {
     "name": "stderr",
     "output_type": "stream",
     "text": [
      "Epoch 61/100: 100%|██████████| 240/240 [00:19<00:00, 12.52it/s, batch=200, loss=0.6929, lr=0.000205]\n"
     ]
    },
    {
     "name": "stdout",
     "output_type": "stream",
     "text": [
      "Training [61%] Loss: 0.6934\n"
     ]
    },
    {
     "name": "stderr",
     "output_type": "stream",
     "text": [
      "Epoch 62/100: 100%|██████████| 240/240 [00:18<00:00, 12.73it/s, batch=200, loss=0.6957, lr=0.000196]\n"
     ]
    },
    {
     "name": "stdout",
     "output_type": "stream",
     "text": [
      "Training [62%] Loss: 0.6930\n"
     ]
    },
    {
     "name": "stderr",
     "output_type": "stream",
     "text": [
      "Epoch 63/100: 100%|██████████| 240/240 [00:19<00:00, 12.48it/s, batch=200, loss=0.6925, lr=0.000187]\n"
     ]
    },
    {
     "name": "stdout",
     "output_type": "stream",
     "text": [
      "Training [63%] Loss: 0.6932\n"
     ]
    },
    {
     "name": "stderr",
     "output_type": "stream",
     "text": [
      "Epoch 64/100: 100%|██████████| 240/240 [00:19<00:00, 12.10it/s, batch=200, loss=0.6927, lr=0.000179]\n"
     ]
    },
    {
     "name": "stdout",
     "output_type": "stream",
     "text": [
      "Training [64%] Loss: 0.6933\n"
     ]
    },
    {
     "name": "stderr",
     "output_type": "stream",
     "text": [
      "Epoch 65/100: 100%|██████████| 240/240 [00:18<00:00, 12.66it/s, batch=200, loss=0.6916, lr=0.000170]\n"
     ]
    },
    {
     "name": "stdout",
     "output_type": "stream",
     "text": [
      "Training [65%] Loss: 0.6932\n"
     ]
    },
    {
     "name": "stderr",
     "output_type": "stream",
     "text": [
      "Epoch 66/100: 100%|██████████| 240/240 [00:19<00:00, 12.39it/s, batch=200, loss=0.6939, lr=0.000161]\n"
     ]
    },
    {
     "name": "stdout",
     "output_type": "stream",
     "text": [
      "Training [66%] Loss: 0.6933\n"
     ]
    },
    {
     "name": "stderr",
     "output_type": "stream",
     "text": [
      "Epoch 67/100: 100%|██████████| 240/240 [00:18<00:00, 12.74it/s, batch=200, loss=0.6941, lr=0.000153]\n"
     ]
    },
    {
     "name": "stdout",
     "output_type": "stream",
     "text": [
      "Training [67%] Loss: 0.6932\n"
     ]
    },
    {
     "name": "stderr",
     "output_type": "stream",
     "text": [
      "Epoch 68/100: 100%|██████████| 240/240 [00:19<00:00, 12.61it/s, batch=200, loss=0.6903, lr=0.000145]\n"
     ]
    },
    {
     "name": "stdout",
     "output_type": "stream",
     "text": [
      "Training [68%] Loss: 0.6931\n"
     ]
    },
    {
     "name": "stderr",
     "output_type": "stream",
     "text": [
      "Epoch 69/100: 100%|██████████| 240/240 [00:19<00:00, 12.57it/s, batch=200, loss=0.6920, lr=0.000137]\n"
     ]
    },
    {
     "name": "stdout",
     "output_type": "stream",
     "text": [
      "Training [69%] Loss: 0.6930\n"
     ]
    },
    {
     "name": "stderr",
     "output_type": "stream",
     "text": [
      "Epoch 70/100: 100%|██████████| 240/240 [00:20<00:00, 11.65it/s, batch=200, loss=0.6916, lr=0.000129]\n"
     ]
    },
    {
     "name": "stdout",
     "output_type": "stream",
     "text": [
      "Training [70%] Loss: 0.6933\n"
     ]
    },
    {
     "name": "stderr",
     "output_type": "stream",
     "text": [
      "Epoch 71/100: 100%|██████████| 240/240 [00:20<00:00, 11.71it/s, batch=200, loss=0.6939, lr=0.000121]\n"
     ]
    },
    {
     "name": "stdout",
     "output_type": "stream",
     "text": [
      "Training [71%] Loss: 0.6931\n"
     ]
    },
    {
     "name": "stderr",
     "output_type": "stream",
     "text": [
      "Epoch 72/100: 100%|██████████| 240/240 [00:18<00:00, 12.75it/s, batch=200, loss=0.6910, lr=0.000113]\n"
     ]
    },
    {
     "name": "stdout",
     "output_type": "stream",
     "text": [
      "Training [72%] Loss: 0.6932\n"
     ]
    },
    {
     "name": "stderr",
     "output_type": "stream",
     "text": [
      "Epoch 73/100: 100%|██████████| 240/240 [00:19<00:00, 12.12it/s, batch=200, loss=0.6949, lr=0.000106]\n"
     ]
    },
    {
     "name": "stdout",
     "output_type": "stream",
     "text": [
      "Training [73%] Loss: 0.6933\n"
     ]
    },
    {
     "name": "stderr",
     "output_type": "stream",
     "text": [
      "Epoch 74/100: 100%|██████████| 240/240 [00:21<00:00, 11.17it/s, batch=200, loss=0.6929, lr=0.000099]\n"
     ]
    },
    {
     "name": "stdout",
     "output_type": "stream",
     "text": [
      "Training [74%] Loss: 0.6931\n"
     ]
    },
    {
     "name": "stderr",
     "output_type": "stream",
     "text": [
      "Epoch 75/100: 100%|██████████| 240/240 [00:20<00:00, 11.56it/s, batch=200, loss=0.6927, lr=0.000092]\n"
     ]
    },
    {
     "name": "stdout",
     "output_type": "stream",
     "text": [
      "Training [75%] Loss: 0.6932\n"
     ]
    },
    {
     "name": "stderr",
     "output_type": "stream",
     "text": [
      "Epoch 76/100: 100%|██████████| 240/240 [00:19<00:00, 12.06it/s, batch=200, loss=0.6917, lr=0.000085]\n"
     ]
    },
    {
     "name": "stdout",
     "output_type": "stream",
     "text": [
      "Training [76%] Loss: 0.6931\n"
     ]
    },
    {
     "name": "stderr",
     "output_type": "stream",
     "text": [
      "Epoch 77/100: 100%|██████████| 240/240 [00:19<00:00, 12.42it/s, batch=200, loss=0.6919, lr=0.000079]\n"
     ]
    },
    {
     "name": "stdout",
     "output_type": "stream",
     "text": [
      "Training [77%] Loss: 0.6932\n"
     ]
    },
    {
     "name": "stderr",
     "output_type": "stream",
     "text": [
      "Epoch 78/100: 100%|██████████| 240/240 [00:19<00:00, 12.13it/s, batch=200, loss=0.6913, lr=0.000072]\n"
     ]
    },
    {
     "name": "stdout",
     "output_type": "stream",
     "text": [
      "Training [78%] Loss: 0.6931\n"
     ]
    },
    {
     "name": "stderr",
     "output_type": "stream",
     "text": [
      "Epoch 79/100: 100%|██████████| 240/240 [00:20<00:00, 11.79it/s, batch=200, loss=0.6935, lr=0.000066]\n"
     ]
    },
    {
     "name": "stdout",
     "output_type": "stream",
     "text": [
      "Training [79%] Loss: 0.6933\n"
     ]
    },
    {
     "name": "stderr",
     "output_type": "stream",
     "text": [
      "Epoch 80/100: 100%|██████████| 240/240 [00:20<00:00, 11.84it/s, batch=200, loss=0.6955, lr=0.000060]\n"
     ]
    },
    {
     "name": "stdout",
     "output_type": "stream",
     "text": [
      "Training [80%] Loss: 0.6931\n"
     ]
    },
    {
     "name": "stderr",
     "output_type": "stream",
     "text": [
      "Epoch 81/100: 100%|██████████| 240/240 [00:20<00:00, 11.84it/s, batch=200, loss=0.6927, lr=0.000055]\n"
     ]
    },
    {
     "name": "stdout",
     "output_type": "stream",
     "text": [
      "Training [81%] Loss: 0.6932\n"
     ]
    },
    {
     "name": "stderr",
     "output_type": "stream",
     "text": [
      "Epoch 82/100: 100%|██████████| 240/240 [00:19<00:00, 12.12it/s, batch=200, loss=0.6907, lr=0.000050]\n"
     ]
    },
    {
     "name": "stdout",
     "output_type": "stream",
     "text": [
      "Training [82%] Loss: 0.6932\n"
     ]
    },
    {
     "name": "stderr",
     "output_type": "stream",
     "text": [
      "Epoch 83/100: 100%|██████████| 240/240 [00:19<00:00, 12.24it/s, batch=200, loss=0.6924, lr=0.000045]\n"
     ]
    },
    {
     "name": "stdout",
     "output_type": "stream",
     "text": [
      "Training [83%] Loss: 0.6931\n"
     ]
    },
    {
     "name": "stderr",
     "output_type": "stream",
     "text": [
      "Epoch 84/100: 100%|██████████| 240/240 [00:20<00:00, 11.80it/s, batch=200, loss=0.6924, lr=0.000040]\n"
     ]
    },
    {
     "name": "stdout",
     "output_type": "stream",
     "text": [
      "Training [84%] Loss: 0.6932\n"
     ]
    },
    {
     "name": "stderr",
     "output_type": "stream",
     "text": [
      "Epoch 85/100: 100%|██████████| 240/240 [00:20<00:00, 11.81it/s, batch=200, loss=0.6927, lr=0.000035]\n"
     ]
    },
    {
     "name": "stdout",
     "output_type": "stream",
     "text": [
      "Training [85%] Loss: 0.6932\n"
     ]
    },
    {
     "name": "stderr",
     "output_type": "stream",
     "text": [
      "Epoch 86/100: 100%|██████████| 240/240 [00:20<00:00, 11.43it/s, batch=200, loss=0.6946, lr=0.000031]\n"
     ]
    },
    {
     "name": "stdout",
     "output_type": "stream",
     "text": [
      "Training [86%] Loss: 0.6931\n"
     ]
    },
    {
     "name": "stderr",
     "output_type": "stream",
     "text": [
      "Epoch 87/100: 100%|██████████| 240/240 [00:20<00:00, 11.92it/s, batch=200, loss=0.6924, lr=0.000027]\n"
     ]
    },
    {
     "name": "stdout",
     "output_type": "stream",
     "text": [
      "Training [87%] Loss: 0.6931\n"
     ]
    },
    {
     "name": "stderr",
     "output_type": "stream",
     "text": [
      "Epoch 88/100: 100%|██████████| 240/240 [00:20<00:00, 11.66it/s, batch=200, loss=0.6932, lr=0.000023]\n"
     ]
    },
    {
     "name": "stdout",
     "output_type": "stream",
     "text": [
      "Training [88%] Loss: 0.6931\n"
     ]
    },
    {
     "name": "stderr",
     "output_type": "stream",
     "text": [
      "Epoch 89/100: 100%|██████████| 240/240 [00:19<00:00, 12.21it/s, batch=200, loss=0.6936, lr=0.000020]\n"
     ]
    },
    {
     "name": "stdout",
     "output_type": "stream",
     "text": [
      "Training [89%] Loss: 0.6931\n"
     ]
    },
    {
     "name": "stderr",
     "output_type": "stream",
     "text": [
      "Epoch 90/100: 100%|██████████| 240/240 [00:20<00:00, 11.87it/s, batch=200, loss=0.6928, lr=0.000016]\n"
     ]
    },
    {
     "name": "stdout",
     "output_type": "stream",
     "text": [
      "Training [90%] Loss: 0.6932\n"
     ]
    },
    {
     "name": "stderr",
     "output_type": "stream",
     "text": [
      "Epoch 91/100: 100%|██████████| 240/240 [00:20<00:00, 11.90it/s, batch=200, loss=0.6910, lr=0.000014]\n"
     ]
    },
    {
     "name": "stdout",
     "output_type": "stream",
     "text": [
      "Training [91%] Loss: 0.6933\n"
     ]
    },
    {
     "name": "stderr",
     "output_type": "stream",
     "text": [
      "Epoch 92/100: 100%|██████████| 240/240 [00:20<00:00, 11.55it/s, batch=200, loss=0.6939, lr=0.000011]\n"
     ]
    },
    {
     "name": "stdout",
     "output_type": "stream",
     "text": [
      "Training [92%] Loss: 0.6932\n"
     ]
    },
    {
     "name": "stderr",
     "output_type": "stream",
     "text": [
      "Epoch 93/100: 100%|██████████| 240/240 [00:19<00:00, 12.18it/s, batch=200, loss=0.6927, lr=0.000009]\n"
     ]
    },
    {
     "name": "stdout",
     "output_type": "stream",
     "text": [
      "Training [93%] Loss: 0.6932\n"
     ]
    },
    {
     "name": "stderr",
     "output_type": "stream",
     "text": [
      "Epoch 94/100: 100%|██████████| 240/240 [00:20<00:00, 11.78it/s, batch=200, loss=0.6939, lr=0.000007]\n"
     ]
    },
    {
     "name": "stdout",
     "output_type": "stream",
     "text": [
      "Training [94%] Loss: 0.6932\n"
     ]
    },
    {
     "name": "stderr",
     "output_type": "stream",
     "text": [
      "Epoch 95/100: 100%|██████████| 240/240 [00:19<00:00, 12.23it/s, batch=200, loss=0.6936, lr=0.000005]\n"
     ]
    },
    {
     "name": "stdout",
     "output_type": "stream",
     "text": [
      "Training [95%] Loss: 0.6932\n"
     ]
    },
    {
     "name": "stderr",
     "output_type": "stream",
     "text": [
      "Epoch 96/100: 100%|██████████| 240/240 [00:19<00:00, 12.09it/s, batch=200, loss=0.6926, lr=0.000004]\n"
     ]
    },
    {
     "name": "stdout",
     "output_type": "stream",
     "text": [
      "Training [96%] Loss: 0.6931\n"
     ]
    },
    {
     "name": "stderr",
     "output_type": "stream",
     "text": [
      "Epoch 97/100: 100%|██████████| 240/240 [00:19<00:00, 12.25it/s, batch=200, loss=0.6928, lr=0.000003]\n"
     ]
    },
    {
     "name": "stdout",
     "output_type": "stream",
     "text": [
      "Training [97%] Loss: 0.6931\n"
     ]
    },
    {
     "name": "stderr",
     "output_type": "stream",
     "text": [
      "Epoch 98/100: 100%|██████████| 240/240 [00:19<00:00, 12.55it/s, batch=200, loss=0.6926, lr=0.000002]\n"
     ]
    },
    {
     "name": "stdout",
     "output_type": "stream",
     "text": [
      "Training [98%] Loss: 0.6931\n"
     ]
    },
    {
     "name": "stderr",
     "output_type": "stream",
     "text": [
      "Epoch 99/100: 100%|██████████| 240/240 [00:19<00:00, 12.12it/s, batch=200, loss=0.6926, lr=0.000001]\n"
     ]
    },
    {
     "name": "stdout",
     "output_type": "stream",
     "text": [
      "Training [99%] Loss: 0.6932\n"
     ]
    },
    {
     "name": "stderr",
     "output_type": "stream",
     "text": [
      "Epoch 100/100: 100%|██████████| 240/240 [00:19<00:00, 12.03it/s, batch=200, loss=0.6940, lr=0.000001]\n"
     ]
    },
    {
     "name": "stdout",
     "output_type": "stream",
     "text": [
      "Training [100%] Loss: 0.6932\n",
      "Starting inference on cuda...\n"
     ]
    },
    {
     "name": "stderr",
     "output_type": "stream",
     "text": [
      "                                                            "
     ]
    },
    {
     "name": "stdout",
     "output_type": "stream",
     "text": [
      "total samples: 10000\n",
      "target samples: 2000\n",
      "accuracy (labels 0/6 only): 0.4710\n",
      "Iteration 5: Result = 0.4710\n"
     ]
    },
    {
     "name": "stderr",
     "output_type": "stream",
     "text": [
      "\r"
     ]
    }
   ],
   "source": [
    "result = 0\n",
    "best_result = 0\n",
    "max_y_pred_filename = \"\"\n",
    "best_n = 0\n",
    "n = 0\n",
    "epochs = 100\n",
    "lr = 0.0015\n",
    "loss_history = []\n",
    "\n",
    "while n < 5:\n",
    "    lr = 0.0015 * (0.80**n)\n",
    "    loss_history.extend(train_step(epochs=epochs, lr=lr, weight_decay=batch_size * 1e-6))\n",
    "    y_pred_mapped, y_pred_filename, result = test()\n",
    "    print(f\"Iteration {n+1}: Result = {result:.4f}\")\n",
    "\n",
    "    if result > best_result:\n",
    "        best_result = result\n",
    "        best_n = n\n",
    "        max_y_pred_filename = y_pred_filename\n",
    "\n",
    "    n += 1"
   ]
  },
  {
   "cell_type": "code",
   "execution_count": 30,
   "id": "3873b2d8",
   "metadata": {},
   "outputs": [
    {
     "data": {
      "image/png": "[encoded data removed]",
      "text/plain": [
       "<Figure size 1000x500 with 1 Axes>"
      ]
     },
     "metadata": {},
     "output_type": "display_data"
    },
    {
     "name": "stdout",
     "output_type": "stream",
     "text": [
      "Best result: 0.8880 at iteration 2\n",
      "Prediction saved to y_pred_20250806_180500.csv\n"
     ]
    }
   ],
   "source": [
    "plt_loss_history(loss_history, n, epochs)\n",
    "print(f\"Best result: {best_result:.4f} at iteration {best_n}\")\n",
    "# 전체 10000개 샘플에 대한 예측을 저장 (대회 제출 형식)\n",
    "np.savetxt(y_pred_filename, y_pred_mapped, fmt=\"%d\")\n",
    "print(f\"Prediction saved to {max_y_pred_filename}\")"
   ]
  },
  {
   "cell_type": "code",
   "execution_count": null,
   "id": "87e2afe6",
   "metadata": {},
   "outputs": [],
   "source": []
  }
 ],
 "metadata": {
  "kernelspec": {
   "display_name": "base",
   "language": "python",
   "name": "python3"
  },
  "language_info": {
   "codemirror_mode": {
    "name": "ipython",
    "version": 3
   },
   "file_extension": ".py",
   "mimetype": "text/x-python",
   "name": "python",
   "nbconvert_exporter": "python",
   "pygments_lexer": "ipython3",
   "version": "3.12.7"
  }
 },
 "nbformat": 4,
 "nbformat_minor": 5
}
