{
 "cells": [
  {
   "cell_type": "code",
   "execution_count": 1,
   "id": "995d480f",
   "metadata": {},
   "outputs": [
    {
     "name": "stderr",
     "output_type": "stream",
     "text": [
      "d:\\miniconda3\\Lib\\site-packages\\pennylane\\__init__.py:196: RuntimeWarning: PennyLane is not yet compatible with JAX versions > 0.6.2. You have version 0.7.0 installed. Please downgrade JAX to 0.6.2 to avoid runtime errors using python -m pip install jax~=0.6.0 jaxlib~=0.6.0\n",
      "  warnings.warn(\n"
     ]
    }
   ],
   "source": [
    "import pennylane as qml\n",
    "from pennylane import numpy as np\n",
    "import torch\n",
    "from torch.optim import Adam\n",
    "from torch.nn.parameter import Parameter\n",
    "from torch.nn import NLLLoss\n",
    "from torch.utils.data import Subset\n",
    "from torch.utils.data import DataLoader\n",
    "import torchvision\n",
    "from torch.nn import Module\n",
    "import torch.nn.functional as F\n",
    "from torch.nn import Conv2d, Dropout2d, Linear\n",
    "from torch import cat\n",
    "from tqdm import tqdm\n",
    "from torch.optim.lr_scheduler import CosineAnnealingLR\n",
    "import matplotlib.pyplot as plt\n",
    "from datetime import datetime\n",
    "import pprint"
   ]
  },
  {
   "cell_type": "code",
   "execution_count": 2,
   "id": "96326c26",
   "metadata": {},
   "outputs": [],
   "source": [
    "device = torch.device(\"cuda\" if torch.cuda.is_available() else \"cpu\")\n",
    "\n",
    "\n",
    "transform = torchvision.transforms.Compose([\n",
    "        torchvision.transforms.ToTensor(),\n",
    "        torchvision.transforms.Normalize((0.5,), (0.5,))\n",
    "        ])\n",
    "\n",
    "train_ds = torchvision.datasets.FashionMNIST(\n",
    "    \"./\", train=True, download=True,\n",
    "    transform=transform)\n",
    "\n",
    "test_ds = torchvision.datasets.FashionMNIST(\n",
    "    \"./\", train=False, download=True,\n",
    "    transform=transform)\n",
    "\n",
    "\n",
    "train_mask = (train_ds.targets == 0) | (train_ds.targets == 6)\n",
    "train_idx = torch.where(train_mask)[0]\n",
    "train_ds.targets[train_ds.targets == 6] = 1\n",
    "\n",
    "binary_train_ds = Subset(train_ds, train_idx)\n",
    "train_loader = DataLoader(binary_train_ds, batch_size = 1, shuffle =True)\n",
    "test_loader = DataLoader(test_ds, batch_size=1, shuffle=False)"
   ]
  },
  {
   "cell_type": "code",
   "execution_count": 3,
   "id": "0de2496f",
   "metadata": {},
   "outputs": [
    {
     "data": {
      "text/plain": [
       "BinaryClassifier(\n",
       "  (conv1): Conv2d(1, 4, kernel_size=(5, 5), stride=(1, 1))\n",
       "  (conv2): Conv2d(4, 32, kernel_size=(5, 5), stride=(1, 1))\n",
       "  (dropout): Dropout2d(p=0.5, inplace=False)\n",
       "  (fc1): Linear(in_features=512, out_features=64, bias=True)\n",
       "  (fc2): Linear(in_features=64, out_features=2, bias=True)\n",
       "  (fc3): Linear(in_features=1, out_features=1, bias=True)\n",
       ")"
      ]
     },
     "execution_count": 3,
     "metadata": {},
     "output_type": "execute_result"
    }
   ],
   "source": [
    "torch.set_default_dtype(torch.float64)\n",
    "class BinaryClassifier(Module):\n",
    "    def __init__(self):\n",
    "        super().__init__()\n",
    "        self.conv1 = Conv2d(1, 4, kernel_size=5)\n",
    "        self.conv2 = Conv2d(4, 32, kernel_size=5)\n",
    "        self.dropout = Dropout2d()\n",
    "        self.fc1 = Linear(32 * 4 * 4, 64)\n",
    "        self.fc2 = Linear(64, 2)\n",
    "        self.fc3 = Linear(1, 1)\n",
    "\n",
    "        # Quantum layer\n",
    "        self.q_device = qml.device(\"default.qubit\", wires=2)\n",
    "        self.qnn_params = Parameter(torch.rand(8), requires_grad= True)\n",
    "        self.obs = qml.PauliZ(0) @ qml.PauliZ(1)\n",
    "\n",
    "        @qml.qnode(self.q_device)\n",
    "        def circuit(x):\n",
    "            qml.H(wires=0)\n",
    "            qml.H(wires=1)\n",
    "\n",
    "            qml.RZ(2.*x[0], wires=0)\n",
    "            qml.RZ(2.*x[1], wires=0)\n",
    "\n",
    "            qml.CNOT(wires=[0, 1])\n",
    "            qml.RZ(2.*(torch.pi - x[0])*(torch.pi - x[1]), wires=1)\n",
    "            qml.CNOT(wires=[0, 1])\n",
    "            #------------------------------------------\n",
    "            qml.RY(2.*self.qnn_params[0], wires=0)\n",
    "            qml.RY(2.*self.qnn_params[1], wires=1)\n",
    "            qml.CNOT(wires=[0, 1])\n",
    "            qml.RY(2.*self.qnn_params[2], wires=0)\n",
    "            qml.RY(2.*self.qnn_params[3], wires=1)\n",
    "            qml.CNOT(wires=[1, 0])\n",
    "            qml.RY(2.*self.qnn_params[4], wires=0)\n",
    "            qml.RY(2.*self.qnn_params[5], wires=1)\n",
    "            qml.CNOT(wires=[0, 1])\n",
    "            qml.RY(2.*self.qnn_params[6], wires=0)\n",
    "            qml.RY(2.*self.qnn_params[7], wires=1)\n",
    "\n",
    "            return qml.expval(self.obs)\n",
    "\n",
    "        self.qnn = circuit\n",
    "\n",
    "    def forward(self, x):\n",
    "        x = F.relu(self.conv1(x))\n",
    "        x = F.max_pool2d(x, 2)\n",
    "        x = F.relu(self.conv2(x))\n",
    "        x = F.max_pool2d(x, 2)\n",
    "        x = self.dropout(x)\n",
    "        x = x.view(-1)\n",
    "        x = F.relu(self.fc1(x))\n",
    "        x = self.fc2(x)\n",
    "        x = self.qnn(x).view(1,)  # apply QNN\n",
    "        x = self.fc3(x)\n",
    "        return F.log_softmax(cat((x, 1 - x), -1), -1)\n",
    "    \n",
    "\n",
    "\n",
    "bc = BinaryClassifier()\n",
    "bc.to(device)"
   ]
  },
  {
   "cell_type": "code",
   "execution_count": 4,
   "id": "7359781b",
   "metadata": {},
   "outputs": [
    {
     "name": "stdout",
     "output_type": "stream",
     "text": [
      "{'device_name': 'default.qubit',\n",
      " 'diff_method': 'best',\n",
      " 'errors': {},\n",
      " 'gradient_fn': 'backprop',\n",
      " 'gradient_options': {},\n",
      " 'interface': 'auto',\n",
      " 'level': 'gradient',\n",
      " 'num_device_wires': 2,\n",
      " 'num_observables': 1,\n",
      " 'num_tape_wires': 2,\n",
      " 'num_trainable_params': 8,\n",
      " 'resources': Resources(num_wires=2,\n",
      "                        num_gates=18,\n",
      "                        gate_types=defaultdict(<class 'int'>,\n",
      "                                               {'CNOT': 5,\n",
      "                                                'Hadamard': 2,\n",
      "                                                'RY': 8,\n",
      "                                                'RZ': 3}),\n",
      "                        gate_sizes=defaultdict(<class 'int'>,\n",
      "                                               {1: 13,\n",
      "                                                2: 5}),\n",
      "                        depth=13,\n",
      "                        shots=Shots(total_shots=None, shot_vector=()))}\n",
      "36308\n",
      "✅ 회로 제약 통과 — 학습을 계속합니다\n"
     ]
    }
   ],
   "source": [
    "dummy_x = torch.tensor([0.0, 0.0], dtype=torch.float64)\n",
    "specs = qml.specs(bc.qnn)(dummy_x)\n",
    "total_params = sum(p.numel() for p in bc.parameters() if p.requires_grad)\n",
    "\n",
    "assert specs[\"num_tape_wires\"] <= 8,  \"❌ 큐빗 수 초과\"\n",
    "assert specs['resources'].depth <= 30, \"❌ 회로 깊이 초과\"\n",
    "assert specs[\"num_trainable_params\"]<= 60, \"❌ 학습 퀀텀 파라미터 수 초과\"\n",
    "assert total_params <= 50000, \"❌ 학습 전체 파라미터 수 초과\"\n",
    "\n",
    "pprint.pprint(specs, width=1)\n",
    "print(total_params)\n",
    "print(\"✅ 회로 제약 통과 — 학습을 계속합니다\")"
   ]
  },
  {
   "cell_type": "code",
   "execution_count": 5,
   "id": "cca9da01",
   "metadata": {},
   "outputs": [
    {
     "name": "stdout",
     "output_type": "stream",
     "text": [
      "Starting training on cuda...\n"
     ]
    },
    {
     "name": "stderr",
     "output_type": "stream",
     "text": [
      "                                                                                                       \r"
     ]
    },
    {
     "name": "stdout",
     "output_type": "stream",
     "text": [
      "Training [100%] Loss: 0.5615\n"
     ]
    },
    {
     "data": {
      "image/png": "[encoded data removed]",
      "text/plain": [
       "<Figure size 1000x500 with 1 Axes>"
      ]
     },
     "metadata": {},
     "output_type": "display_data"
    }
   ],
   "source": [
    "optimizer = Adam(bc.parameters(), lr=0.0001)\n",
    "loss_func  = NLLLoss()\n",
    "\n",
    "\n",
    "epochs = 1\n",
    "#scheduler = CosineAnnealingLR(optimizer, T_max=epochs * len(train_loader), eta_min=1e-6)\n",
    "\n",
    "loss_history = []\n",
    "bc.train()\n",
    "\n",
    "\n",
    "\n",
    "print(f\"Starting training on {device}...\")\n",
    "for epoch in range(epochs):\n",
    "    epoch_bar = tqdm(enumerate(train_loader),\n",
    "                     desc=f\"Epoch {epoch+1}/{epochs}\",\n",
    "                     total=len(train_loader),\n",
    "                     leave=False)\n",
    "\n",
    "    total_loss = []\n",
    "    for bidx, (data, target) in epoch_bar:\n",
    "        data = data.to(device)\n",
    "        target = target.to(device)#.flatten().long()\n",
    "\n",
    "        optimizer.zero_grad(set_to_none=True)\n",
    "\n",
    "        output = bc(data)\n",
    "        loss = loss_func(output, target.squeeze())\n",
    "\n",
    "        total_loss.append(loss.item())\n",
    "        loss.backward()\n",
    "        optimizer.step()\n",
    "        #scheduler.step()\n",
    "\n",
    "        if bidx % 100 == 0:\n",
    "            epoch_bar.set_postfix(batch=bidx,\n",
    "                                  loss=f\"{loss.item():.4f}\",\n",
    "                                  lr=f\"{optimizer.param_groups[0]['lr']:.6f}\")\n",
    "\n",
    "    avg_loss = sum(total_loss) / len(total_loss)\n",
    "    loss_history.append(avg_loss)\n",
    "\n",
    "    print(f\"Training [{100.0 * (epoch+1)/epochs:.0f}%] \"\n",
    "          f\"Loss: {avg_loss:.4f}\")\n",
    "\n",
    "plt.figure(figsize=(10, 5))\n",
    "plt.plot(loss_history)\n",
    "plt.title(\"Training Loss History\")\n",
    "plt.xlabel(\"Epoch\")\n",
    "plt.ylabel(\"Loss\")\n",
    "plt.grid(True)\n",
    "plt.show()"
   ]
  },
  {
   "cell_type": "code",
   "execution_count": null,
   "id": "8d535852",
   "metadata": {},
   "outputs": [
    {
     "name": "stdout",
     "output_type": "stream",
     "text": [
      "Starting inference on cuda...\n"
     ]
    },
    {
     "name": "stderr",
     "output_type": "stream",
     "text": [
      "                                                                "
     ]
    },
    {
     "name": "stdout",
     "output_type": "stream",
     "text": [
      "total samples: 10000\n",
      "target samples: 2000\n",
      "accuracy (labels 0/6 only): 0.8070\n"
     ]
    },
    {
     "name": "stderr",
     "output_type": "stream",
     "text": [
      "\r"
     ]
    },
    {
     "ename": "",
     "evalue": "",
     "output_type": "error",
     "traceback": [
      "\u001b[1;31mThe Kernel crashed while executing code in the current cell or a previous cell. \n",
      "\u001b[1;31mPlease review the code in the cell(s) to identify a possible cause of the failure. \n",
      "\u001b[1;31mClick <a href='https://aka.ms/vscodeJupyterKernelCrash'>here</a> for more info. \n",
      "\u001b[1;31mView Jupyter <a href='command:jupyter.viewOutput'>log</a> for further details."
     ]
    }
   ],
   "source": [
    "print(f\"Starting inference on {device}...\")\n",
    "bc.eval()\n",
    "\n",
    "all_preds, all_targets = [], []\n",
    "\n",
    "with torch.no_grad():\n",
    "    for data, target in tqdm(test_loader,\n",
    "                             desc=\"Inference\",\n",
    "                             total=len(test_loader),\n",
    "                             leave=False):\n",
    "        data, target = data.to(device), target.to(device)#.flatten().long()\n",
    "\n",
    "        logits = bc(data)\n",
    "\n",
    "        pred = logits.argmax().view(1)\n",
    "\n",
    "        all_preds.append(pred.cpu())\n",
    "        all_targets.append(target.view(-1).cpu())\n",
    "\n",
    "y_pred = torch.cat(all_preds).numpy().astype(int)\n",
    "y_true = torch.cat(all_targets).numpy().astype(int)\n",
    "\n",
    "\n",
    "\n",
    "# 0·6 라벨만 평가\n",
    "test_mask = (y_true == 0) | (y_true == 6)\n",
    "\n",
    "print(\"total samples:\", len(y_true))\n",
    "print(\"target samples:\", test_mask.sum())\n",
    "\n",
    "# 모델 결과가 1인 것을 6으로 변경\n",
    "y_pred_mapped = np.where(y_pred == 1, 6, y_pred)\n",
    "\n",
    "acc = (y_pred_mapped[test_mask] == y_true[test_mask]).mean()\n",
    "print(f\"accuracy (labels 0/6 only): {acc:.4f}\")\n",
    "\n",
    "# 현재 시각을 \"YYYYMMDD_HHMMSS\" 형식으로 포맷팅\n",
    "now = datetime.now().strftime(\"%Y%m%d_%H%M%S\")\n",
    "\n",
    "# 원본 파일명을 기반으로 새 파일명 생성\n",
    "y_pred_filename = f\"y_pred_{now}.csv\"\n",
    "\n",
    "np.savetxt(y_pred_filename, y_pred_mapped, fmt=\"%d\")"
   ]
  },
  {
   "cell_type": "code",
   "execution_count": null,
   "id": "fa78072d",
   "metadata": {},
   "outputs": [],
   "source": []
  }
 ],
 "metadata": {
  "kernelspec": {
   "display_name": "base",
   "language": "python",
   "name": "python3"
  },
  "language_info": {
   "codemirror_mode": {
    "name": "ipython",
    "version": 3
   },
   "file_extension": ".py",
   "mimetype": "text/x-python",
   "name": "python",
   "nbconvert_exporter": "python",
   "pygments_lexer": "ipython3",
   "version": "3.12.7"
  }
 },
 "nbformat": 4,
 "nbformat_minor": 5
}
